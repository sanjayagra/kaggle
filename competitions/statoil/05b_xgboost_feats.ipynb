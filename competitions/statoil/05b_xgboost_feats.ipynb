{
 "cells": [
  {
   "cell_type": "code",
   "execution_count": 1,
   "metadata": {},
   "outputs": [],
   "source": [
    "import pandas as pd\n",
    "import numpy as np\n",
    "import xgboost as xgb\n",
    "import cv2\n",
    "from random import choice, sample, shuffle, uniform, seed\n",
    "from math import exp, expm1, log1p, log10, log2, sqrt, ceil, floor, isfinite, isnan\n",
    "from itertools import combinations\n",
    "from scipy.stats import kurtosis, skew\n",
    "from scipy.ndimage import laplace, sobel\n",
    "from sklearn.metrics import log_loss\n",
    "from tqdm import tqdm\n",
    "from multiprocessing import Pool\n",
    "import gc"
   ]
  },
  {
   "cell_type": "code",
   "execution_count": 2,
   "metadata": {},
   "outputs": [],
   "source": [
    "def read_json(file):\n",
    "    df = pd.read_json(file)\n",
    "    df['inc_angle'] = df['inc_angle'].replace('na', -1).astype(float)\n",
    "    band1 = np.array([np.array(band).astype(np.float32).reshape(75, 75) for band in df[\"band_1\"]])\n",
    "    band2 = np.array([np.array(band).astype(np.float32).reshape(75, 75) for band in df[\"band_2\"]])\n",
    "    df = df.drop(['band_1', 'band_2'], axis=1)\n",
    "    bands = np.stack((band1, band2,  0.5 * (band1 + band2)), axis=-1)\n",
    "    return df, bands\n",
    "\n",
    "def img_to_stats(paths):\n",
    "    img_id, img = paths[0], paths[1]\n",
    "    np.seterr(divide='ignore', invalid='ignore')\n",
    "    bins = 20\n",
    "    scl_min, scl_max = -50, 50\n",
    "    opt_poly = True\n",
    "    st = []\n",
    "    st_interv = []\n",
    "    hist_interv = []\n",
    "    for i in range(img.shape[2]):\n",
    "        img_sub = np.squeeze(img[:, :, i])\n",
    "        sub_st = []\n",
    "        sub_st += [np.mean(img_sub), np.std(img_sub), np.max(img_sub), np.median(img_sub), np.min(img_sub)]\n",
    "        sub_st += [(sub_st[2] - sub_st[3]), (sub_st[2] - sub_st[4]), (sub_st[3] - sub_st[4])] \n",
    "        sub_st += [(sub_st[-3] / sub_st[1]), (sub_st[-2] / sub_st[1]), (sub_st[-1] / sub_st[1])]\n",
    "        st += sub_st\n",
    "        st_trans = []\n",
    "        st_trans += [laplace(img_sub, mode='reflect', cval=0.0).ravel().var()] #blurr\n",
    "        sobel0 = sobel(img_sub, axis=0, mode='reflect', cval=0.0).ravel().var()\n",
    "        sobel1 = sobel(img_sub, axis=1, mode='reflect', cval=0.0).ravel().var()\n",
    "        st_trans += [sobel0, sobel1]\n",
    "        st_trans += [kurtosis(img_sub.ravel()), skew(img_sub.ravel())]\n",
    "        if opt_poly:\n",
    "            st_interv.append(sub_st)\n",
    "            st += [x * y for x, y in combinations(st_trans, 2)]\n",
    "            st += [x + y for x, y in combinations(st_trans, 2)]\n",
    "            st += [x - y for x, y in combinations(st_trans, 2)]                \n",
    "        hist = list(np.histogram(img_sub, bins=bins, range=(scl_min, scl_max))[0])\n",
    "        hist_interv.append(hist)\n",
    "        st += hist\n",
    "        st += [hist.index(max(hist))]\n",
    "        st += [np.std(hist), np.max(hist), np.median(hist), (np.max(hist) - np.median(hist))]\n",
    "    if opt_poly:\n",
    "        for x, y in combinations(st_interv, 2):\n",
    "            st += [float(x[j]) * float(y[j]) for j in range(len(st_interv[0]))]\n",
    "        for x, y in combinations(hist_interv, 2):\n",
    "            hist_diff = [x[j] * y[j] for j in range(len(hist_interv[0]))]\n",
    "            st += [hist_diff.index(max(hist_diff))]\n",
    "            st += [np.std(hist_diff), np.max(hist_diff)]\n",
    "            st += [np.median(hist_diff),(np.max(hist_diff) - np.median(hist_diff))]\n",
    "    nan = -999\n",
    "    for i in range(len(st)):\n",
    "        if isnan(st[i]) == True:\n",
    "            st[i] = nan\n",
    "    return [img_id, st]\n",
    "\n",
    "\n",
    "def extract_img_stats(paths):\n",
    "    imf_d = {}\n",
    "    p = Pool(2)\n",
    "    ret = p.map(img_to_stats, paths)\n",
    "    for i in tqdm(range(len(ret)), miniters=100):\n",
    "        imf_d[ret[i][0]] = ret[i][1]\n",
    "    ret = []\n",
    "    fdata = [imf_d[i] for i, j in paths]\n",
    "    return np.array(fdata, dtype=np.float32)\n",
    "\n",
    "def process(df, bands):\n",
    "    data = extract_img_stats([(k, v) for k, v in zip(df['id'].tolist(), bands)]); gc.collect()\n",
    "    data = np.concatenate([data, df['inc_angle'].values[:, np.newaxis]], axis=-1); gc.collect()\n",
    "    print(data.shape)\n",
    "    return data"
   ]
  },
  {
   "cell_type": "code",
   "execution_count": 3,
   "metadata": {},
   "outputs": [],
   "source": [
    "columns = [246,46,169,35,163,99,153,170,34,38]\n",
    "names = ['feat_' + str(x) for x in range(len(columns))]"
   ]
  },
  {
   "cell_type": "code",
   "execution_count": 4,
   "metadata": {},
   "outputs": [
    {
     "name": "stderr",
     "output_type": "stream",
     "text": [
      "100%|██████████| 1604/1604 [00:00<00:00, 1485791.43it/s]"
     ]
    },
    {
     "name": "stdout",
     "output_type": "stream",
     "text": [
      "(1604, 247)\n"
     ]
    },
    {
     "name": "stderr",
     "output_type": "stream",
     "text": [
      "\n"
     ]
    }
   ],
   "source": [
    "train, train_bands = read_json('../data/download/train.json')\n",
    "X_train = process(df=train, bands=train_bands)\n",
    "X_train = pd.DataFrame(X_train)[columns]\n",
    "X_train.columns = names\n",
    "train = train[['id','inc_angle']].join(X_train)\n",
    "train.to_csv('../data/train_xgb.csv', index=False)"
   ]
  },
  {
   "cell_type": "code",
   "execution_count": 5,
   "metadata": {},
   "outputs": [
    {
     "name": "stderr",
     "output_type": "stream",
     "text": [
      "100%|██████████| 8424/8424 [00:00<00:00, 1410097.65it/s]\n"
     ]
    },
    {
     "name": "stdout",
     "output_type": "stream",
     "text": [
      "(8424, 247)\n"
     ]
    }
   ],
   "source": [
    "test, test_bands = read_json('../data/download/test.json')\n",
    "X_test = process(df=test, bands=test_bands)\n",
    "X_test = pd.DataFrame(X_test)[columns]\n",
    "X_test.columns = names\n",
    "test = test[['id','inc_angle']].join(X_test)\n",
    "test.to_csv('../data/test_xgb.csv', index=False)"
   ]
  },
  {
   "cell_type": "code",
   "execution_count": null,
   "metadata": {},
   "outputs": [],
   "source": []
  }
 ],
 "metadata": {
  "kernelspec": {
   "display_name": "Python 3",
   "language": "python",
   "name": "python3"
  },
  "language_info": {
   "codemirror_mode": {
    "name": "ipython",
    "version": 3
   },
   "file_extension": ".py",
   "mimetype": "text/x-python",
   "name": "python",
   "nbconvert_exporter": "python",
   "pygments_lexer": "ipython3",
   "version": "3.6.3"
  }
 },
 "nbformat": 4,
 "nbformat_minor": 2
}
