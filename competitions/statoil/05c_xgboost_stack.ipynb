{
 "cells": [
  {
   "cell_type": "code",
   "execution_count": 1,
   "metadata": {},
   "outputs": [],
   "source": [
    "import pandas as pd\n",
    "import numpy as np\n",
    "import xgboost as xgb"
   ]
  },
  {
   "cell_type": "markdown",
   "metadata": {},
   "source": [
    "### data"
   ]
  },
  {
   "cell_type": "code",
   "execution_count": 2,
   "metadata": {},
   "outputs": [],
   "source": [
    "def summary(data, start):\n",
    "    data['mean'] = data.iloc[:,start:start+6].mean(axis=1)\n",
    "    data['median'] = data.iloc[:,start:start+6].median(axis=1)\n",
    "    data['min'] = data.iloc[:,start:start+6].min(axis=1)\n",
    "    data['max'] = data.iloc[:,start:start+6].max(axis=1)\n",
    "    data['diff'] = data['mean'] - data['min']\n",
    "    return data"
   ]
  },
  {
   "cell_type": "code",
   "execution_count": 3,
   "metadata": {},
   "outputs": [
    {
     "name": "stdout",
     "output_type": "stream",
     "text": [
      "(1604, 24)\n"
     ]
    }
   ],
   "source": [
    "train_score = pd.read_csv('../data/train_scores.csv')\n",
    "train_score = summary(train_score, 2).drop('stack', axis=1)\n",
    "train_image = pd.read_csv('../data/train_xgb.csv')\n",
    "train_data = train_score.merge(train_image, on='id')\n",
    "print(train_data.shape)\n",
    "train_matrix = xgb.DMatrix(data=train_data.iloc[:,2:], label=train_data['label'])"
   ]
  },
  {
   "cell_type": "code",
   "execution_count": 4,
   "metadata": {},
   "outputs": [
    {
     "name": "stdout",
     "output_type": "stream",
     "text": [
      "(8424, 23)\n"
     ]
    }
   ],
   "source": [
    "test_score = pd.read_csv('../data/test_scores.csv')\n",
    "test_score = summary(test_score, 2).drop('stack', axis=1)\n",
    "test_image = pd.read_csv('../data/test_xgb.csv')\n",
    "test_data = test_score.merge(test_image, on='id')\n",
    "print(test_data.shape)\n",
    "test_matrix = xgb.DMatrix(data=test_data.iloc[:,1:])"
   ]
  },
  {
   "cell_type": "markdown",
   "metadata": {},
   "source": [
    "### xgboost - cv"
   ]
  },
  {
   "cell_type": "code",
   "execution_count": 5,
   "metadata": {},
   "outputs": [],
   "source": [
    "booster = {}\n",
    "booster['booster'] = 'gbtree'\n",
    "booster['nthread'] = 6\n",
    "booster['max_depth'] = 5\n",
    "booster['min_child_weight'] = 4\n",
    "booster['subsample'] = 0.8\n",
    "booster['colsample_bytree'] = 1.0\n",
    "booster['colsample_bylevel'] = 0.8\n",
    "booster['lambda'] = 4.0\n",
    "booster['alpha'] = 3.0\n",
    "booster['objective'] = 'binary:logistic'\n",
    "booster['eval_metric'] = ['logloss']\n",
    "booster['seed'] = 2017\n",
    "booster['eta'] = 0.01"
   ]
  },
  {
   "cell_type": "code",
   "execution_count": 6,
   "metadata": {},
   "outputs": [],
   "source": [
    "params = {}\n",
    "params['params'] = booster\n",
    "params['dtrain'] = train_matrix\n",
    "params['num_boost_round'] = 3000\n",
    "params['early_stopping_rounds'] = 200\n",
    "params['verbose_eval'] = 400"
   ]
  },
  {
   "cell_type": "code",
   "execution_count": 7,
   "metadata": {},
   "outputs": [
    {
     "name": "stdout",
     "output_type": "stream",
     "text": [
      "[0]\ttrain-logloss:0.685422+6.69669e-05\ttest-logloss:0.685666+0.000257372\n",
      "[400]\ttrain-logloss:0.124171+0.00472596\ttest-logloss:0.164404+0.0260864\n",
      "[800]\ttrain-logloss:0.093035+0.00332345\ttest-logloss:0.150434+0.0289718\n",
      "[1200]\ttrain-logloss:0.0802404+0.00279669\ttest-logloss:0.148112+0.0297278\n",
      "[1600]\ttrain-logloss:0.0723432+0.00251912\ttest-logloss:0.147316+0.0298523\n",
      "[2000]\ttrain-logloss:0.066837+0.00230856\ttest-logloss:0.146955+0.0299523\n"
     ]
    }
   ],
   "source": [
    "x = xgb.cv(**params, nfold=5)"
   ]
  },
  {
   "cell_type": "markdown",
   "metadata": {},
   "source": [
    "### xgboost - model"
   ]
  },
  {
   "cell_type": "code",
   "execution_count": 8,
   "metadata": {},
   "outputs": [
    {
     "data": {
      "text/plain": [
       "[('inc_angle', 1694),\n",
       " ('feat_1', 1245),\n",
       " ('feat_8', 1151),\n",
       " ('feat_5', 902),\n",
       " ('feat_3', 901),\n",
       " ('feat_9', 869),\n",
       " ('feat_2', 833),\n",
       " ('feat_4', 758),\n",
       " ('diff', 718),\n",
       " ('model_6', 718),\n",
       " ('model_5', 595),\n",
       " ('feat_7', 583),\n",
       " ('min', 569),\n",
       " ('max', 543),\n",
       " ('model_4', 512),\n",
       " ('feat_6', 508),\n",
       " ('model_1', 452),\n",
       " ('model_3', 434),\n",
       " ('model_2', 413),\n",
       " ('feat_0', 374),\n",
       " ('median', 260),\n",
       " ('mean', 228)]"
      ]
     },
     "execution_count": 8,
     "metadata": {},
     "output_type": "execute_result"
    }
   ],
   "source": [
    "params = {}\n",
    "params['params'] = booster\n",
    "params['dtrain'] = train_matrix\n",
    "params['num_boost_round'] = 2400\n",
    "model = xgb.train(**params)\n",
    "sorted(model.get_fscore().items(), key=lambda x : x[1], reverse=True)[:30]"
   ]
  },
  {
   "cell_type": "code",
   "execution_count": 9,
   "metadata": {},
   "outputs": [],
   "source": [
    "scores = model.predict(test_matrix)"
   ]
  },
  {
   "cell_type": "code",
   "execution_count": 10,
   "metadata": {},
   "outputs": [
    {
     "name": "stdout",
     "output_type": "stream",
     "text": [
      "(8424, 2)\n"
     ]
    }
   ],
   "source": [
    "submit = test_data[['id']].copy()\n",
    "submit['is_iceberg'] = scores\n",
    "submit.to_csv('../data/xgb_stack.csv', index=False)\n",
    "print(submit.shape)"
   ]
  },
  {
   "cell_type": "code",
   "execution_count": 11,
   "metadata": {},
   "outputs": [
    {
     "data": {
      "text/html": [
       "<div>\n",
       "<style scoped>\n",
       "    .dataframe tbody tr th:only-of-type {\n",
       "        vertical-align: middle;\n",
       "    }\n",
       "\n",
       "    .dataframe tbody tr th {\n",
       "        vertical-align: top;\n",
       "    }\n",
       "\n",
       "    .dataframe thead th {\n",
       "        text-align: right;\n",
       "    }\n",
       "</style>\n",
       "<table border=\"1\" class=\"dataframe\">\n",
       "  <thead>\n",
       "    <tr style=\"text-align: right;\">\n",
       "      <th></th>\n",
       "      <th>id</th>\n",
       "      <th>is_iceberg</th>\n",
       "    </tr>\n",
       "  </thead>\n",
       "  <tbody>\n",
       "    <tr>\n",
       "      <th>0</th>\n",
       "      <td>5941774d</td>\n",
       "      <td>0.005709</td>\n",
       "    </tr>\n",
       "    <tr>\n",
       "      <th>1</th>\n",
       "      <td>4023181e</td>\n",
       "      <td>0.639550</td>\n",
       "    </tr>\n",
       "    <tr>\n",
       "      <th>2</th>\n",
       "      <td>b20200e4</td>\n",
       "      <td>0.003614</td>\n",
       "    </tr>\n",
       "    <tr>\n",
       "      <th>3</th>\n",
       "      <td>e7f018bb</td>\n",
       "      <td>0.995691</td>\n",
       "    </tr>\n",
       "    <tr>\n",
       "      <th>4</th>\n",
       "      <td>4371c8c3</td>\n",
       "      <td>0.088955</td>\n",
       "    </tr>\n",
       "  </tbody>\n",
       "</table>\n",
       "</div>"
      ],
      "text/plain": [
       "         id  is_iceberg\n",
       "0  5941774d    0.005709\n",
       "1  4023181e    0.639550\n",
       "2  b20200e4    0.003614\n",
       "3  e7f018bb    0.995691\n",
       "4  4371c8c3    0.088955"
      ]
     },
     "execution_count": 11,
     "metadata": {},
     "output_type": "execute_result"
    }
   ],
   "source": [
    "submit.head()"
   ]
  },
  {
   "cell_type": "code",
   "execution_count": null,
   "metadata": {},
   "outputs": [],
   "source": []
  }
 ],
 "metadata": {
  "kernelspec": {
   "display_name": "Python 3",
   "language": "python",
   "name": "python3"
  },
  "language_info": {
   "codemirror_mode": {
    "name": "ipython",
    "version": 3
   },
   "file_extension": ".py",
   "mimetype": "text/x-python",
   "name": "python",
   "nbconvert_exporter": "python",
   "pygments_lexer": "ipython3",
   "version": "3.6.3"
  }
 },
 "nbformat": 4,
 "nbformat_minor": 2
}
