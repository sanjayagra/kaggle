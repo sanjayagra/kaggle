{
 "cells": [
  {
   "cell_type": "code",
   "execution_count": 1,
   "metadata": {},
   "outputs": [
    {
     "name": "stderr",
     "output_type": "stream",
     "text": [
      "Using TensorFlow backend.\n",
      "/home/ubuntu/anaconda3/envs/tensorflow_p36/lib/python3.6/importlib/_bootstrap.py:219: RuntimeWarning: compiletime version 3.5 of module 'tensorflow.python.framework.fast_tensor_util' does not match runtime version 3.6\n",
      "  return f(*args, **kwds)\n"
     ]
    }
   ],
   "source": [
    "import pandas as pd\n",
    "import numpy as np\n",
    "from keras.models import Sequential\n",
    "from keras.layers import Dense, Dropout, Flatten, Activation\n",
    "from keras.layers import Conv2D, MaxPooling2D, Input, concatenate\n",
    "from keras.callbacks import EarlyStopping, ModelCheckpoint, ReduceLROnPlateau, CSVLogger\n",
    "from keras.layers.normalization import BatchNormalization\n",
    "from keras.optimizers import Adam, SGD\n",
    "from keras import backend as K\n",
    "from keras.utils.generic_utils import get_custom_objects\n",
    "from keras.models import Model\n",
    "from keras.preprocessing.image import ImageDataGenerator\n",
    "from keras.applications import VGG16\n",
    "\n",
    "def swish(x):\n",
    "    return (K.sigmoid(x) * x)\n",
    "\n",
    "get_custom_objects().update({'swish': Activation(swish)})\n",
    "\n",
    "np.random.seed(2017)"
   ]
  },
  {
   "cell_type": "markdown",
   "metadata": {},
   "source": [
    "### model"
   ]
  },
  {
   "cell_type": "code",
   "execution_count": 2,
   "metadata": {},
   "outputs": [],
   "source": [
    "def define_model(switch, rate):\n",
    "    # inputs\n",
    "    input_1 = Input(shape=(75,75,3), name='image')\n",
    "    input_2 = Input(shape=(1,), name='angle')\n",
    "    angle = Dense(1,)(input_2)\n",
    "    vgg = VGG16(input_tensor=input_1, pooling='max', include_top=False)\n",
    "    for layer in vgg.layers:\n",
    "        layer.trainable = switch\n",
    "    convolve = Dropout(0.3)(vgg.output)\n",
    "    # concatenate\n",
    "    concat = concatenate([convolve, angle])\n",
    "    concat = Dense(512, activation='swish', kernel_initializer='he_normal')(concat)\n",
    "    concat = Dropout(0.2)(concat)\n",
    "    concat = Dense(256, activation='swish', kernel_initializer='he_normal')(concat)\n",
    "    concat = Dropout(0.2)(concat)\n",
    "    predict = Dense(1, activation='sigmoid', kernel_initializer='he_normal')(concat)\n",
    "    # model\n",
    "    model = Model(inputs=[input_1, input_2], output=predict)\n",
    "    optimizer = Adam(lr=rate)\n",
    "    model.compile(loss='binary_crossentropy', optimizer=optimizer, metrics=['accuracy'])\n",
    "    return model"
   ]
  },
  {
   "cell_type": "code",
   "execution_count": 3,
   "metadata": {},
   "outputs": [],
   "source": [
    "params = {}\n",
    "params['horizontal_flip'] = True\n",
    "params['vertical_flip'] = True\n",
    "params['zoom_range'] = 0.3\n",
    "params['rotation_range'] = 5\n",
    "params['width_shift_range'] = 0.1\n",
    "params['height_shift_range'] = 0.1\n",
    "\n",
    "generator = ImageDataGenerator(**params)\n",
    "\n",
    "def dataflow(image, angle, label):\n",
    "    flow_1 = generator.flow(image, label, batch_size=32,seed=2017)\n",
    "    flow_2 = generator.flow(image, angle, batch_size=32,seed=2017)\n",
    "    while True:\n",
    "        tuple_1 = flow_1.next()\n",
    "        tuple_2 = flow_2.next()\n",
    "        yield [tuple_1[0], tuple_2[1]], tuple_1[1]\n",
    "\n",
    "def callbacks(suffix):\n",
    "    stop = EarlyStopping('val_loss', patience=25, mode=\"min\")\n",
    "    path = '../data/data/source_1/model_3/model_{}.hdf5'.format(suffix)\n",
    "    save = ModelCheckpoint(path, save_best_only=True, save_weights_only=True)\n",
    "    logger = CSVLogger('../data/data/source_1/model_3/logger_{}.log'.format(suffix))\n",
    "    reduce = ReduceLROnPlateau(monitor='val_loss', factor=0.5, patience=10, verbose=0, mode='min')\n",
    "    return [stop, save, reduce, logger]"
   ]
  },
  {
   "cell_type": "markdown",
   "metadata": {},
   "source": [
    "### data : fold - 1"
   ]
  },
  {
   "cell_type": "code",
   "execution_count": 4,
   "metadata": {
    "scrolled": false
   },
   "outputs": [
    {
     "name": "stderr",
     "output_type": "stream",
     "text": [
      "/home/ubuntu/anaconda3/envs/tensorflow_p36/lib/python3.6/site-packages/ipykernel/__main__.py:18: UserWarning: Update your `Model` call to the Keras 2 API: `Model(inputs=[<tf.Tenso..., outputs=Tensor(\"de...)`\n"
     ]
    },
    {
     "data": {
      "text/plain": [
       "<keras.callbacks.History at 0x7f382f41e320>"
      ]
     },
     "execution_count": 4,
     "metadata": {},
     "output_type": "execute_result"
    }
   ],
   "source": [
    "train_image = np.load('../data/data/source_1/train/train_images_1.npy')\n",
    "train_angle = np.load('../data/data/source_1/train/train_angles_1.npy')\n",
    "train_label = np.load('../data/data/source_1/train/train_labels_1.npy')\n",
    "test_image = np.load('../data/data/source_1/train/test_images_1.npy')\n",
    "test_angle = np.load('../data/data/source_1/train/test_angles_1.npy')\n",
    "test_label = np.load('../data/data/source_1/train/test_labels_1.npy')\n",
    "train_generator = dataflow(train_image, train_angle, train_label)\n",
    "test_generator = ([test_image, test_angle], test_label)\n",
    "\n",
    "params = {}\n",
    "params['generator'] = train_generator\n",
    "params['validation_data'] = test_generator\n",
    "params['steps_per_epoch'] = 40\n",
    "params['epochs'] = 100\n",
    "params['verbose'] = 0\n",
    "params['callbacks'] = callbacks(1)\n",
    "model_1 = define_model(False, 1e-4)\n",
    "model_1.fit_generator(**params)\n",
    "params['callbacks'] = callbacks(1)\n",
    "model_1 = define_model(True, 5e-5)\n",
    "model_1.load_weights('../data/data/source_1/model_3/model_1.hdf5')\n",
    "model_1.fit_generator(**params)"
   ]
  },
  {
   "cell_type": "markdown",
   "metadata": {},
   "source": [
    "### data : fold - 2"
   ]
  },
  {
   "cell_type": "code",
   "execution_count": 5,
   "metadata": {},
   "outputs": [
    {
     "name": "stderr",
     "output_type": "stream",
     "text": [
      "/home/ubuntu/anaconda3/envs/tensorflow_p36/lib/python3.6/site-packages/ipykernel/__main__.py:18: UserWarning: Update your `Model` call to the Keras 2 API: `Model(inputs=[<tf.Tenso..., outputs=Tensor(\"de...)`\n"
     ]
    },
    {
     "data": {
      "text/plain": [
       "<keras.callbacks.History at 0x7f38373e2a58>"
      ]
     },
     "execution_count": 5,
     "metadata": {},
     "output_type": "execute_result"
    }
   ],
   "source": [
    "train_image = np.load('../data/data/source_1/train/train_images_2.npy')\n",
    "train_angle = np.load('../data/data/source_1/train/train_angles_2.npy')\n",
    "train_label = np.load('../data/data/source_1/train/train_labels_2.npy')\n",
    "test_image = np.load('../data/data/source_1/train/test_images_2.npy')\n",
    "test_angle = np.load('../data/data/source_1/train/test_angles_2.npy')\n",
    "test_label = np.load('../data/data/source_1/train/test_labels_2.npy')\n",
    "train_generator = dataflow(train_image, train_angle, train_label)\n",
    "test_generator = ([test_image, test_angle], test_label)\n",
    "\n",
    "params = {}\n",
    "params['generator'] = train_generator\n",
    "params['validation_data'] = test_generator\n",
    "params['steps_per_epoch'] = 40\n",
    "params['epochs'] = 100\n",
    "params['verbose'] = 0\n",
    "params['callbacks'] = callbacks(2)\n",
    "model_1 = define_model(False, 1e-4)\n",
    "model_1.fit_generator(**params)\n",
    "params['callbacks'] = callbacks(2)\n",
    "model_1 = define_model(True, 5e-5)\n",
    "model_1.load_weights('../data/data/source_1/model_3/model_2.hdf5')\n",
    "model_1.fit_generator(**params)"
   ]
  },
  {
   "cell_type": "markdown",
   "metadata": {},
   "source": [
    "### data : fold - 3"
   ]
  },
  {
   "cell_type": "code",
   "execution_count": 6,
   "metadata": {},
   "outputs": [
    {
     "name": "stderr",
     "output_type": "stream",
     "text": [
      "/home/ubuntu/anaconda3/envs/tensorflow_p36/lib/python3.6/site-packages/ipykernel/__main__.py:18: UserWarning: Update your `Model` call to the Keras 2 API: `Model(inputs=[<tf.Tenso..., outputs=Tensor(\"de...)`\n"
     ]
    },
    {
     "data": {
      "text/plain": [
       "<keras.callbacks.History at 0x7f383c229d68>"
      ]
     },
     "execution_count": 6,
     "metadata": {},
     "output_type": "execute_result"
    }
   ],
   "source": [
    "train_image = np.load('../data/data/source_1/train/train_images_3.npy')\n",
    "train_angle = np.load('../data/data/source_1/train/train_angles_3.npy')\n",
    "train_label = np.load('../data/data/source_1/train/train_labels_3.npy')\n",
    "test_image = np.load('../data/data/source_1/train/test_images_3.npy')\n",
    "test_angle = np.load('../data/data/source_1/train/test_angles_3.npy')\n",
    "test_label = np.load('../data/data/source_1/train/test_labels_3.npy')\n",
    "train_generator = dataflow(train_image, train_angle, train_label)\n",
    "test_generator = ([test_image, test_angle], test_label)\n",
    "\n",
    "params = {}\n",
    "params['generator'] = train_generator\n",
    "params['validation_data'] = test_generator\n",
    "params['steps_per_epoch'] = 40\n",
    "params['epochs'] = 100\n",
    "params['verbose'] = 0\n",
    "params['callbacks'] = callbacks(3)\n",
    "model_1 = define_model(False, 1e-4)\n",
    "model_1.fit_generator(**params)\n",
    "params['callbacks'] = callbacks(3)\n",
    "model_1 = define_model(True, 5e-5)\n",
    "model_1.load_weights('../data/data/source_1/model_3/model_3.hdf5')\n",
    "model_1.fit_generator(**params)"
   ]
  },
  {
   "cell_type": "markdown",
   "metadata": {},
   "source": [
    "### data : fold - 4"
   ]
  },
  {
   "cell_type": "code",
   "execution_count": 7,
   "metadata": {},
   "outputs": [
    {
     "name": "stderr",
     "output_type": "stream",
     "text": [
      "/home/ubuntu/anaconda3/envs/tensorflow_p36/lib/python3.6/site-packages/ipykernel/__main__.py:18: UserWarning: Update your `Model` call to the Keras 2 API: `Model(inputs=[<tf.Tenso..., outputs=Tensor(\"de...)`\n"
     ]
    },
    {
     "data": {
      "text/plain": [
       "<keras.callbacks.History at 0x7f3837ebfb38>"
      ]
     },
     "execution_count": 7,
     "metadata": {},
     "output_type": "execute_result"
    }
   ],
   "source": [
    "train_image = np.load('../data/data/source_1/train/train_images_4.npy')\n",
    "train_angle = np.load('../data/data/source_1/train/train_angles_4.npy')\n",
    "train_label = np.load('../data/data/source_1/train/train_labels_4.npy')\n",
    "test_image = np.load('../data/data/source_1/train/test_images_4.npy')\n",
    "test_angle = np.load('../data/data/source_1/train/test_angles_4.npy')\n",
    "test_label = np.load('../data/data/source_1/train/test_labels_4.npy')\n",
    "train_generator = dataflow(train_image, train_angle, train_label)\n",
    "test_generator = ([test_image, test_angle], test_label)\n",
    "\n",
    "params = {}\n",
    "params['generator'] = train_generator\n",
    "params['validation_data'] = test_generator\n",
    "params['steps_per_epoch'] = 40\n",
    "params['epochs'] = 100\n",
    "params['verbose'] = 0\n",
    "params['callbacks'] = callbacks(4)\n",
    "model_1 = define_model(False, 1e-4)\n",
    "model_1.fit_generator(**params)\n",
    "params['callbacks'] = callbacks(4)\n",
    "model_1 = define_model(True, 5e-5)\n",
    "model_1.load_weights('../data/data/source_1/model_3/model_4.hdf5')\n",
    "model_1.fit_generator(**params)"
   ]
  },
  {
   "cell_type": "markdown",
   "metadata": {},
   "source": [
    "### data : fold - 5"
   ]
  },
  {
   "cell_type": "code",
   "execution_count": 8,
   "metadata": {},
   "outputs": [
    {
     "name": "stderr",
     "output_type": "stream",
     "text": [
      "/home/ubuntu/anaconda3/envs/tensorflow_p36/lib/python3.6/site-packages/ipykernel/__main__.py:18: UserWarning: Update your `Model` call to the Keras 2 API: `Model(inputs=[<tf.Tenso..., outputs=Tensor(\"de...)`\n"
     ]
    },
    {
     "data": {
      "text/plain": [
       "<keras.callbacks.History at 0x7f38358c6278>"
      ]
     },
     "execution_count": 8,
     "metadata": {},
     "output_type": "execute_result"
    }
   ],
   "source": [
    "train_image = np.load('../data/data/source_1/train/train_images_5.npy')\n",
    "train_angle = np.load('../data/data/source_1/train/train_angles_5.npy')\n",
    "train_label = np.load('../data/data/source_1/train/train_labels_5.npy')\n",
    "test_image = np.load('../data/data/source_1/train/test_images_5.npy')\n",
    "test_angle = np.load('../data/data/source_1/train/test_angles_5.npy')\n",
    "test_label = np.load('../data/data/source_1/train/test_labels_5.npy')\n",
    "train_generator = dataflow(train_image, train_angle, train_label)\n",
    "test_generator = ([test_image, test_angle], test_label)\n",
    "\n",
    "params = {}\n",
    "params['generator'] = train_generator\n",
    "params['validation_data'] = test_generator\n",
    "params['steps_per_epoch'] = 40\n",
    "params['epochs'] = 100\n",
    "params['verbose'] = 0\n",
    "params['callbacks'] = callbacks(5)\n",
    "model_1 = define_model(False, 1e-4)\n",
    "model_1.fit_generator(**params)\n",
    "params['callbacks'] = callbacks(5)\n",
    "model_1 = define_model(True, 5e-5)\n",
    "model_1.load_weights('../data/data/source_1/model_3/model_5.hdf5')\n",
    "model_1.fit_generator(**params)"
   ]
  },
  {
   "cell_type": "code",
   "execution_count": null,
   "metadata": {},
   "outputs": [],
   "source": []
  }
 ],
 "metadata": {
  "kernelspec": {
   "display_name": "Environment (conda_tensorflow_p36)",
   "language": "python",
   "name": "conda_tensorflow_p36"
  },
  "language_info": {
   "codemirror_mode": {
    "name": "ipython",
    "version": 3
   },
   "file_extension": ".py",
   "mimetype": "text/x-python",
   "name": "python",
   "nbconvert_exporter": "python",
   "pygments_lexer": "ipython3",
   "version": "3.6.3"
  }
 },
 "nbformat": 4,
 "nbformat_minor": 2
}
