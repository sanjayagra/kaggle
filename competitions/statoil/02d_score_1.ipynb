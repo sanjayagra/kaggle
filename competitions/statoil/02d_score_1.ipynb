{
 "cells": [
  {
   "cell_type": "code",
   "execution_count": 1,
   "metadata": {},
   "outputs": [
    {
     "name": "stderr",
     "output_type": "stream",
     "text": [
      "Using TensorFlow backend.\n",
      "/home/ubuntu/anaconda3/envs/tensorflow_p36/lib/python3.6/importlib/_bootstrap.py:219: RuntimeWarning: compiletime version 3.5 of module 'tensorflow.python.framework.fast_tensor_util' does not match runtime version 3.6\n",
      "  return f(*args, **kwds)\n"
     ]
    }
   ],
   "source": [
    "import pandas as pd\n",
    "import numpy as np\n",
    "from keras.models import Sequential\n",
    "from keras.layers import Dense, Dropout, Flatten, Activation\n",
    "from keras.layers import Conv2D, MaxPooling2D, Input, concatenate\n",
    "from keras.layers import GlobalAveragePooling2D, GlobalMaxPooling2D\n",
    "from keras.callbacks import EarlyStopping, ModelCheckpoint, ReduceLROnPlateau, CSVLogger\n",
    "from keras.layers.normalization import BatchNormalization\n",
    "from keras.optimizers import Adam, SGD\n",
    "from keras import backend as K\n",
    "from keras.utils.generic_utils import get_custom_objects\n",
    "from keras.models import Model\n",
    "from keras.preprocessing.image import ImageDataGenerator\n",
    "from sklearn.metrics import log_loss\n",
    "from functools import reduce\n",
    "\n",
    "def swish(x):\n",
    "    return (K.sigmoid(x) * x)\n",
    "\n",
    "get_custom_objects().update({'swish': Activation(swish)})\n",
    "\n",
    "np.random.seed(2017)"
   ]
  },
  {
   "cell_type": "code",
   "execution_count": 2,
   "metadata": {},
   "outputs": [],
   "source": [
    "def define_model():\n",
    "    # inputs\n",
    "    input_1 = Input(shape=(75,75,3), name='image')\n",
    "    input_2 = Input(shape=(1,), name='angle')\n",
    "    angle = Dense(1,)(input_2)\n",
    "    # convolution\n",
    "    convolve = Conv2D(64, kernel_size=(3, 3), padding='same')(input_1)\n",
    "    convolve = BatchNormalization()(convolve)\n",
    "    convolve = Activation('swish')(convolve)\n",
    "    convolve = MaxPooling2D(pool_size=(2, 2), strides=(2, 2))(convolve)\n",
    "    convolve = Conv2D(128, kernel_size=(3, 3), padding='same')(convolve)\n",
    "    convolve = BatchNormalization()(convolve)\n",
    "    convolve = Activation('swish')(convolve)\n",
    "    convolve = MaxPooling2D(pool_size=(2, 2), strides=(2, 2))(convolve)\n",
    "    convolve = Conv2D(256, kernel_size=(3, 3), padding='same')(convolve)\n",
    "    convolve = BatchNormalization()(convolve)\n",
    "    convolve = Activation('swish')(convolve)\n",
    "    convolve = Conv2D(256, kernel_size=(3, 3), padding='same')(convolve)\n",
    "    convolve = BatchNormalization()(convolve)\n",
    "    convolve = Activation('swish')(convolve)\n",
    "    convolve = MaxPooling2D(pool_size=(2, 2), strides=(2, 2))(convolve)\n",
    "    convolve = Conv2D(512, kernel_size=(3, 3), padding='same')(convolve)\n",
    "    convolve = BatchNormalization()(convolve)\n",
    "    convolve = Activation('swish')(convolve)\n",
    "    convolve = Conv2D(512, kernel_size=(3, 3), padding='same')(convolve)\n",
    "    convolve = BatchNormalization()(convolve)\n",
    "    convolve = Activation('swish')(convolve)\n",
    "    convolve = MaxPooling2D(pool_size=(2, 2), strides=(2, 2))(convolve)\n",
    "    convolve = Flatten()(convolve)\n",
    "    convolve = Dropout(0.3)(convolve)\n",
    "    # concatenate\n",
    "    concat = concatenate([convolve, angle])\n",
    "    concat = Dense(512, activation='swish', kernel_initializer='he_normal')(concat)\n",
    "    concat = Dropout(0.3)(concat)\n",
    "    concat = Dense(256, activation='swish', kernel_initializer='he_normal')(concat)\n",
    "    concat = Dropout(0.3)(concat)\n",
    "    predict = Dense(1, activation='sigmoid', kernel_initializer='he_normal')(concat)\n",
    "    # model\n",
    "    model = Model(inputs=[input_1, input_2], output=predict)\n",
    "    optimizer = Adam(lr=1e-4)\n",
    "    model.compile(loss='binary_crossentropy', optimizer=optimizer, metrics=['accuracy'])\n",
    "    return model"
   ]
  },
  {
   "cell_type": "markdown",
   "metadata": {},
   "source": [
    "### test score"
   ]
  },
  {
   "cell_type": "code",
   "execution_count": 3,
   "metadata": {},
   "outputs": [],
   "source": [
    "test_image = np.load('../data/data/source_2/score/images.npy')\n",
    "test_angle = np.load('../data/data/source_2/score/angles.npy')\n",
    "test_ids = np.load('../data/data/source_2/score/ids.npy')\n",
    "test_generator = [test_image, test_angle]"
   ]
  },
  {
   "cell_type": "code",
   "execution_count": 4,
   "metadata": {},
   "outputs": [],
   "source": [
    "def score(suffix):\n",
    "    model = define_model()\n",
    "    path = '../data/data/source_2/model_1/model_{}.hdf5'.format(suffix)\n",
    "    model.load_weights(path)\n",
    "    score = model.predict(test_generator)\n",
    "    K.clear_session()\n",
    "    return score"
   ]
  },
  {
   "cell_type": "code",
   "execution_count": 5,
   "metadata": {},
   "outputs": [
    {
     "name": "stderr",
     "output_type": "stream",
     "text": [
      "/home/ubuntu/anaconda3/envs/tensorflow_p36/lib/python3.6/site-packages/ipykernel/__main__.py:39: UserWarning: Update your `Model` call to the Keras 2 API: `Model(inputs=[<tf.Tenso..., outputs=Tensor(\"de...)`\n"
     ]
    },
    {
     "name": "stdout",
     "output_type": "stream",
     "text": [
      "score file: (8424, 2)\n"
     ]
    }
   ],
   "source": [
    "model_1 = pd.Series(score(1)[:,0], name='model_1')\n",
    "model_2 = pd.Series(score(2)[:,0], name='model_2')\n",
    "model_3 = pd.Series(score(3)[:,0], name='model_3')\n",
    "model_4 = pd.Series(score(4)[:,0], name='model_4')\n",
    "model_5 = pd.Series(score(5)[:,0], name='model_5')\n",
    "ids = pd.Series(test_ids, name='id')\n",
    "scores = pd.DataFrame([ids, model_1, model_2, model_3, model_4, model_5])\n",
    "scores = scores.T\n",
    "scores['is_iceberg'] = scores.iloc[:,1:].mean(axis=1)\n",
    "scores = scores[['id','is_iceberg']]\n",
    "print('score file:', scores.shape)"
   ]
  },
  {
   "cell_type": "code",
   "execution_count": 6,
   "metadata": {},
   "outputs": [
    {
     "data": {
      "text/html": [
       "<div>\n",
       "<style scoped>\n",
       "    .dataframe tbody tr th:only-of-type {\n",
       "        vertical-align: middle;\n",
       "    }\n",
       "\n",
       "    .dataframe tbody tr th {\n",
       "        vertical-align: top;\n",
       "    }\n",
       "\n",
       "    .dataframe thead th {\n",
       "        text-align: right;\n",
       "    }\n",
       "</style>\n",
       "<table border=\"1\" class=\"dataframe\">\n",
       "  <thead>\n",
       "    <tr style=\"text-align: right;\">\n",
       "      <th></th>\n",
       "      <th>id</th>\n",
       "      <th>is_iceberg</th>\n",
       "    </tr>\n",
       "  </thead>\n",
       "  <tbody>\n",
       "    <tr>\n",
       "      <th>0</th>\n",
       "      <td>5941774d</td>\n",
       "      <td>0.018251</td>\n",
       "    </tr>\n",
       "    <tr>\n",
       "      <th>1</th>\n",
       "      <td>4023181e</td>\n",
       "      <td>0.988309</td>\n",
       "    </tr>\n",
       "    <tr>\n",
       "      <th>2</th>\n",
       "      <td>b20200e4</td>\n",
       "      <td>0.235232</td>\n",
       "    </tr>\n",
       "    <tr>\n",
       "      <th>3</th>\n",
       "      <td>e7f018bb</td>\n",
       "      <td>0.998084</td>\n",
       "    </tr>\n",
       "    <tr>\n",
       "      <th>4</th>\n",
       "      <td>4371c8c3</td>\n",
       "      <td>0.683242</td>\n",
       "    </tr>\n",
       "  </tbody>\n",
       "</table>\n",
       "</div>"
      ],
      "text/plain": [
       "         id  is_iceberg\n",
       "0  5941774d    0.018251\n",
       "1  4023181e    0.988309\n",
       "2  b20200e4    0.235232\n",
       "3  e7f018bb    0.998084\n",
       "4  4371c8c3    0.683242"
      ]
     },
     "execution_count": 6,
     "metadata": {},
     "output_type": "execute_result"
    }
   ],
   "source": [
    "scores.head()"
   ]
  },
  {
   "cell_type": "code",
   "execution_count": 7,
   "metadata": {},
   "outputs": [],
   "source": [
    "scores.to_csv('../data/submit/baseline_v2.csv', index=False)"
   ]
  },
  {
   "cell_type": "markdown",
   "metadata": {},
   "source": [
    "### train score"
   ]
  },
  {
   "cell_type": "code",
   "execution_count": 10,
   "metadata": {},
   "outputs": [],
   "source": [
    "def score(suffix):\n",
    "    test_image = np.load('../data/data/source_2/train/test_images_{}.npy'.format(suffix))\n",
    "    test_angle = np.load('../data/data/source_2/train/test_angles_{}.npy'.format(suffix))\n",
    "    test_ids = np.load('../data/data/source_2/train/test_ids_{}.npy'.format(suffix))\n",
    "    test_labels = np.load('../data/data/source_2/train/test_labels_{}.npy'.format(suffix))\n",
    "    test_generator = [test_image, test_angle]\n",
    "    model = define_model()\n",
    "    path = '../data/data/source_2/model_1/model_{}.hdf5'.format(suffix)\n",
    "    model.load_weights(path)\n",
    "    data = pd.DataFrame(model.predict(test_generator)[:,0], columns=['score'])\n",
    "    K.clear_session()\n",
    "    data['id'] = test_ids\n",
    "    data['label'] = test_labels\n",
    "    data['score'] = np.clip(data['score'], 0.0001,0.9999)\n",
    "    print('log loss:', log_loss(data['label'], data['score']))\n",
    "    return data[['id','label','score']]"
   ]
  },
  {
   "cell_type": "code",
   "execution_count": 11,
   "metadata": {},
   "outputs": [
    {
     "name": "stderr",
     "output_type": "stream",
     "text": [
      "/home/ubuntu/anaconda3/envs/tensorflow_p36/lib/python3.6/site-packages/ipykernel/__main__.py:39: UserWarning: Update your `Model` call to the Keras 2 API: `Model(inputs=[<tf.Tenso..., outputs=Tensor(\"de...)`\n"
     ]
    },
    {
     "name": "stdout",
     "output_type": "stream",
     "text": [
      "log loss: 0.206454083554\n",
      "log loss: 0.183990525117\n",
      "log loss: 0.19365249061\n",
      "log loss: 0.173740566984\n",
      "log loss: 0.170570664514\n",
      "log loss: 0.18571148194\n"
     ]
    }
   ],
   "source": [
    "crossfolds = []\n",
    "\n",
    "for i in range(5):\n",
    "    crossfolds.append(score(i+1))\n",
    "    \n",
    "crossfolds = reduce(lambda x,y : x.append(y), crossfolds)\n",
    "print('log loss:', log_loss(crossfolds['label'], crossfolds['score']))"
   ]
  },
  {
   "cell_type": "code",
   "execution_count": 12,
   "metadata": {},
   "outputs": [
    {
     "data": {
      "text/html": [
       "<div>\n",
       "<style scoped>\n",
       "    .dataframe tbody tr th:only-of-type {\n",
       "        vertical-align: middle;\n",
       "    }\n",
       "\n",
       "    .dataframe tbody tr th {\n",
       "        vertical-align: top;\n",
       "    }\n",
       "\n",
       "    .dataframe thead th {\n",
       "        text-align: right;\n",
       "    }\n",
       "</style>\n",
       "<table border=\"1\" class=\"dataframe\">\n",
       "  <thead>\n",
       "    <tr style=\"text-align: right;\">\n",
       "      <th></th>\n",
       "      <th>id</th>\n",
       "      <th>label</th>\n",
       "      <th>score</th>\n",
       "    </tr>\n",
       "  </thead>\n",
       "  <tbody>\n",
       "    <tr>\n",
       "      <th>0</th>\n",
       "      <td>dfd5f913</td>\n",
       "      <td>0</td>\n",
       "      <td>0.011012</td>\n",
       "    </tr>\n",
       "    <tr>\n",
       "      <th>1</th>\n",
       "      <td>525ab75c</td>\n",
       "      <td>0</td>\n",
       "      <td>0.017317</td>\n",
       "    </tr>\n",
       "    <tr>\n",
       "      <th>2</th>\n",
       "      <td>161a6860</td>\n",
       "      <td>0</td>\n",
       "      <td>0.000100</td>\n",
       "    </tr>\n",
       "    <tr>\n",
       "      <th>3</th>\n",
       "      <td>86730f0d</td>\n",
       "      <td>1</td>\n",
       "      <td>0.722004</td>\n",
       "    </tr>\n",
       "    <tr>\n",
       "      <th>4</th>\n",
       "      <td>a210f335</td>\n",
       "      <td>0</td>\n",
       "      <td>0.002879</td>\n",
       "    </tr>\n",
       "  </tbody>\n",
       "</table>\n",
       "</div>"
      ],
      "text/plain": [
       "         id  label     score\n",
       "0  dfd5f913      0  0.011012\n",
       "1  525ab75c      0  0.017317\n",
       "2  161a6860      0  0.000100\n",
       "3  86730f0d      1  0.722004\n",
       "4  a210f335      0  0.002879"
      ]
     },
     "execution_count": 12,
     "metadata": {},
     "output_type": "execute_result"
    }
   ],
   "source": [
    "crossfolds.head()"
   ]
  },
  {
   "cell_type": "code",
   "execution_count": 13,
   "metadata": {},
   "outputs": [],
   "source": [
    "crossfolds.to_csv('../data/model/baseline_v2.csv', index=False)"
   ]
  },
  {
   "cell_type": "code",
   "execution_count": null,
   "metadata": {},
   "outputs": [],
   "source": []
  }
 ],
 "metadata": {
  "kernelspec": {
   "display_name": "Environment (conda_tensorflow_p36)",
   "language": "python",
   "name": "conda_tensorflow_p36"
  },
  "language_info": {
   "codemirror_mode": {
    "name": "ipython",
    "version": 3
   },
   "file_extension": ".py",
   "mimetype": "text/x-python",
   "name": "python",
   "nbconvert_exporter": "python",
   "pygments_lexer": "ipython3",
   "version": "3.6.3"
  }
 },
 "nbformat": 4,
 "nbformat_minor": 2
}
