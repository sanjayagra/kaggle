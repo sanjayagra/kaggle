{
 "cells": [
  {
   "cell_type": "code",
   "execution_count": 1,
   "metadata": {},
   "outputs": [],
   "source": [
    "import pandas as pd\n",
    "import numpy as np\n",
    "from sklearn.model_selection import StratifiedKFold"
   ]
  },
  {
   "cell_type": "code",
   "execution_count": 2,
   "metadata": {},
   "outputs": [],
   "source": [
    "def normalize(array):\n",
    "    array = (array - array.mean()) / array.std()\n",
    "    return array\n",
    "\n",
    "def convert_image(dataframe):\n",
    "    images =[]\n",
    "    for i, row in dataframe.iterrows():\n",
    "        horizontal = np.array(row['band_1']).reshape(75,75)\n",
    "        vertical = np.array(row['band_2']).reshape(75,75)\n",
    "        transform1 = np.fabs(np.subtract(vertical,horizontal))\n",
    "        transform2 = np.maximum(vertical,horizontal)\n",
    "        transform3 = np.minimum(vertical,horizontal)\n",
    "        \n",
    "        collect = []\n",
    "        collect += [normalize(transform1)]\n",
    "        collect += [normalize(transform2)]\n",
    "        collect += [normalize(transform3)]\n",
    "        images.append(np.dstack(collect))\n",
    "    return np.array(images)"
   ]
  },
  {
   "cell_type": "markdown",
   "metadata": {},
   "source": [
    "### train data - folds"
   ]
  },
  {
   "cell_type": "code",
   "execution_count": 3,
   "metadata": {},
   "outputs": [
    {
     "name": "stdout",
     "output_type": "stream",
     "text": [
      "data: (1604, 5)\n"
     ]
    }
   ],
   "source": [
    "data = pd.read_json('../data/download/train.json')\n",
    "print('data:', data.shape)\n",
    "images = convert_image(data[['band_1','band_2']])\n",
    "angles = pd.to_numeric(data['inc_angle'],errors='coerce')\n",
    "fill_value = np.mean(angles)\n",
    "angles.fillna(value=fill_value, inplace=True)\n",
    "min_value = angles.min()\n",
    "max_value = angles.max()\n",
    "angles = (angles - min_value) / (max_value - min_value)\n",
    "labels = np.array(data['is_iceberg'].values)\n",
    "ids = np.array(data['id'].values)"
   ]
  },
  {
   "cell_type": "code",
   "execution_count": 4,
   "metadata": {},
   "outputs": [
    {
     "name": "stdout",
     "output_type": "stream",
     "text": [
      "fold: 1\n",
      "images: (1282, 75, 75, 3) (322, 75, 75, 3)\n",
      "angles: (1282,) (322,)\n",
      "labels: (1282,) (322,)\n",
      "ids: (1282,) (322,)\n",
      "fold: 2\n",
      "images: (1283, 75, 75, 3) (321, 75, 75, 3)\n",
      "angles: (1283,) (321,)\n",
      "labels: (1283,) (321,)\n",
      "ids: (1283,) (321,)\n",
      "fold: 3\n",
      "images: (1283, 75, 75, 3) (321, 75, 75, 3)\n",
      "angles: (1283,) (321,)\n",
      "labels: (1283,) (321,)\n",
      "ids: (1283,) (321,)\n",
      "fold: 4\n",
      "images: (1284, 75, 75, 3) (320, 75, 75, 3)\n",
      "angles: (1284,) (320,)\n",
      "labels: (1284,) (320,)\n",
      "ids: (1284,) (320,)\n",
      "fold: 5\n",
      "images: (1284, 75, 75, 3) (320, 75, 75, 3)\n",
      "angles: (1284,) (320,)\n",
      "labels: (1284,) (320,)\n",
      "ids: (1284,) (320,)\n"
     ]
    }
   ],
   "source": [
    "folds = StratifiedKFold(n_splits=5,random_state=2017, shuffle=True)\n",
    "\n",
    "suffix = 1\n",
    "\n",
    "for train, test in folds.split(X=images, y=labels):\n",
    "    print('fold:', suffix)\n",
    "    train_images = images[train]\n",
    "    test_images = images[test]\n",
    "    train_angles = angles[train]\n",
    "    test_angles = angles[test]\n",
    "    train_labels = labels[train]\n",
    "    test_labels = labels[test]\n",
    "    train_ids = ids[train]\n",
    "    test_ids = ids[test]\n",
    "    print('images:', train_images.shape, test_images.shape)\n",
    "    print('angles:', train_angles.shape, test_angles.shape)\n",
    "    print('labels:', train_labels.shape, test_labels.shape)\n",
    "    print('ids:', train_ids.shape, test_ids.shape)\n",
    "    np.save('../data/data/source_1/train/train_images_{}'.format(suffix), train_images)\n",
    "    np.save('../data/data/source_1/train/test_images_{}'.format(suffix), test_images)\n",
    "    np.save('../data/data/source_1/train/train_labels_{}'.format(suffix), train_labels)\n",
    "    np.save('../data/data/source_1/train/test_labels_{}'.format(suffix), test_labels)\n",
    "    np.save('../data/data/source_1/train/train_angles_{}'.format(suffix), train_angles)\n",
    "    np.save('../data/data/source_1/train/test_angles_{}'.format(suffix), test_angles)\n",
    "    np.save('../data/data/source_1/train/train_ids_{}'.format(suffix), train_ids)\n",
    "    np.save('../data/data/source_1/train/test_ids_{}'.format(suffix), test_ids)\n",
    "    suffix += 1"
   ]
  },
  {
   "cell_type": "markdown",
   "metadata": {},
   "source": [
    "### test data"
   ]
  },
  {
   "cell_type": "code",
   "execution_count": 5,
   "metadata": {},
   "outputs": [
    {
     "name": "stdout",
     "output_type": "stream",
     "text": [
      "data: (8424, 4)\n",
      "images: (8424, 75, 75, 3)\n",
      "angles: (8424,)\n",
      "ids: (8424,)\n"
     ]
    }
   ],
   "source": [
    "data = pd.read_json('../data/download/test.json')\n",
    "print('data:', data.shape)\n",
    "images = convert_image(data[['band_1','band_2']])\n",
    "angles = pd.to_numeric(data['inc_angle'],errors='coerce')\n",
    "angles.fillna(value=fill_value, inplace=True)\n",
    "angles = (angles - min_value) / (max_value - min_value)\n",
    "ids = np.array(data['id'].values)\n",
    "np.save('../data/data/source_1/score/images', images)\n",
    "np.save('../data/data/source_1/score/angles', angles)\n",
    "np.save('../data/data/source_1/score/ids', ids)\n",
    "print('images:', images.shape)\n",
    "print('angles:', angles.shape)\n",
    "print('ids:', ids.shape)"
   ]
  },
  {
   "cell_type": "code",
   "execution_count": null,
   "metadata": {},
   "outputs": [],
   "source": []
  }
 ],
 "metadata": {
  "kernelspec": {
   "display_name": "Python 3",
   "language": "python",
   "name": "python3"
  },
  "language_info": {
   "codemirror_mode": {
    "name": "ipython",
    "version": 3
   },
   "file_extension": ".py",
   "mimetype": "text/x-python",
   "name": "python",
   "nbconvert_exporter": "python",
   "pygments_lexer": "ipython3",
   "version": "3.6.3"
  }
 },
 "nbformat": 4,
 "nbformat_minor": 2
}
