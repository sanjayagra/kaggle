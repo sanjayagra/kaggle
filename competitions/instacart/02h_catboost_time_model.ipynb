{
 "cells": [
  {
   "cell_type": "code",
   "execution_count": 1,
   "metadata": {},
   "outputs": [
    {
     "name": "stderr",
     "output_type": "stream",
     "text": [
      "/home/ubuntu/.software/anaonda3/lib/python3.6/importlib/_bootstrap.py:205: RuntimeWarning: compiletime version 3.5 of module '_catboost' does not match runtime version 3.6\n",
      "  return f(*args, **kwds)\n"
     ]
    }
   ],
   "source": [
    "import pandas as pd\n",
    "import numpy as np\n",
    "from catboost import CatBoostClassifier, Pool\n",
    "from sklearn.metrics import roc_curve, auc, log_loss"
   ]
  },
  {
   "cell_type": "code",
   "execution_count": 2,
   "metadata": {
    "collapsed": true
   },
   "outputs": [],
   "source": [
    "data = pd.read_csv('../data/catboost/data/train_data.csv')\n",
    "train_data = data[data['eval_set'] != 'test']\n",
    "valid_data = data[data['eval_set'] == 'test']"
   ]
  },
  {
   "cell_type": "code",
   "execution_count": 3,
   "metadata": {
    "collapsed": true
   },
   "outputs": [],
   "source": [
    "train_features = np.array(train_data.iloc[:,3:])\n",
    "train_label = train_data['reordered'].values\n",
    "cat_features = [0,1,2,3,4]"
   ]
  },
  {
   "cell_type": "code",
   "execution_count": 4,
   "metadata": {
    "collapsed": true
   },
   "outputs": [],
   "source": [
    "valid_features = np.array(valid_data.iloc[:,3:])\n",
    "valid_label = valid_data['reordered'].values\n",
    "cat_features = [0,1,2,3,4]"
   ]
  },
  {
   "cell_type": "code",
   "execution_count": 5,
   "metadata": {
    "collapsed": true
   },
   "outputs": [],
   "source": [
    "params = {}\n",
    "params['iterations'] = 50\n",
    "params['learning_rate'] = 0.03\n",
    "params['depth'] = 6\n",
    "params['random_seed'] = 108\n",
    "params['thread_count'] = 7\n",
    "params['auto_stop_pval'] = 10"
   ]
  },
  {
   "cell_type": "code",
   "execution_count": 6,
   "metadata": {
    "collapsed": true
   },
   "outputs": [],
   "source": [
    "model = CatBoostClassifier(**params)"
   ]
  },
  {
   "cell_type": "code",
   "execution_count": 7,
   "metadata": {},
   "outputs": [
    {
     "name": "stdout",
     "output_type": "stream",
     "text": [
      "Borders generated\n",
      "0:\tlearn 0.6643654948passed: 12.5 sec\ttotal: 20.1s\tremaining: 16m 23s\n",
      "1:\tlearn 0.6378139829passed: 11.8 sec\ttotal: 31.8s\tremaining: 12m 44s\n",
      "2:\tlearn 0.6130992592passed: 10.4 sec\ttotal: 42.2s\tremaining: 11m 1s\n",
      "3:\tlearn 0.5904114135passed: 9.07 sec\ttotal: 51.3s\tremaining: 9m 49s\n",
      "4:\tlearn 0.5695103152passed: 10.6 sec\ttotal: 1m 1s\tremaining: 9m 17s\n",
      "5:\tlearn 0.5498353759passed: 10.5 sec\ttotal: 1m 12s\tremaining: 8m 51s\n",
      "6:\tlearn 0.5316690748passed: 9.74 sec\ttotal: 1m 22s\tremaining: 8m 24s\n",
      "7:\tlearn 0.5153317626passed: 10.1 sec\ttotal: 1m 32s\tremaining: 8m 4s\n",
      "8:\tlearn 0.5003660109passed: 9.41 sec\ttotal: 1m 41s\tremaining: 7m 43s\n",
      "9:\tlearn 0.4861329128passed: 9.7 sec\ttotal: 1m 51s\tremaining: 7m 25s\n",
      "10:\tlearn 0.4730264301passed: 10.6 sec\ttotal: 2m 1s\tremaining: 7m 12s\n",
      "11:\tlearn 0.4607463623passed: 9.75 sec\ttotal: 2m 11s\tremaining: 6m 57s\n",
      "12:\tlearn 0.4498254161passed: 11.5 sec\ttotal: 2m 23s\tremaining: 6m 47s\n",
      "13:\tlearn 0.4397043574passed: 10.6 sec\ttotal: 2m 33s\tremaining: 6m 35s\n",
      "14:\tlearn 0.4300207889passed: 9.06 sec\ttotal: 2m 42s\tremaining: 6m 20s\n",
      "15:\tlearn 0.4210612452passed: 10.5 sec\ttotal: 2m 53s\tremaining: 6m 8s\n",
      "16:\tlearn 0.4127936967passed: 10.7 sec\ttotal: 3m 4s\tremaining: 5m 57s\n",
      "17:\tlearn 0.4051962651passed: 11 sec\ttotal: 3m 15s\tremaining: 5m 46s\n",
      "18:\tlearn 0.3984517782passed: 12 sec\ttotal: 3m 27s\tremaining: 5m 37s\n",
      "19:\tlearn 0.3917825559passed: 10.4 sec\ttotal: 3m 37s\tremaining: 5m 26s\n",
      "20:\tlearn 0.3857812539passed: 11.5 sec\ttotal: 3m 48s\tremaining: 5m 16s\n",
      "21:\tlearn 0.3803921758passed: 12.1 sec\ttotal: 4m 1s\tremaining: 5m 6s\n",
      "22:\tlearn 0.3753102219passed: 10.6 sec\ttotal: 4m 11s\tremaining: 4m 55s\n",
      "23:\tlearn 0.3706066618passed: 12.3 sec\ttotal: 4m 23s\tremaining: 4m 45s\n",
      "24:\tlearn 0.366089346passed: 10.5 sec\ttotal: 4m 34s\tremaining: 4m 34s\n",
      "25:\tlearn 0.3620513564passed: 11.1 sec\ttotal: 4m 45s\tremaining: 4m 23s\n",
      "26:\tlearn 0.3581253785passed: 10.2 sec\ttotal: 4m 55s\tremaining: 4m 11s\n",
      "27:\tlearn 0.3545075559passed: 9.67 sec\ttotal: 5m 5s\tremaining: 3m 59s\n",
      "28:\tlearn 0.3511595496passed: 12.5 sec\ttotal: 5m 17s\tremaining: 3m 50s\n",
      "29:\tlearn 0.3480815432passed: 11.4 sec\ttotal: 5m 29s\tremaining: 3m 39s\n",
      "30:\tlearn 0.3452141705passed: 9.31 sec\ttotal: 5m 38s\tremaining: 3m 27s\n",
      "31:\tlearn 0.342378446passed: 11.3 sec\ttotal: 5m 49s\tremaining: 3m 16s\n",
      "32:\tlearn 0.3398656361passed: 11.3 sec\ttotal: 6m 1s\tremaining: 3m 6s\n",
      "33:\tlearn 0.3374282843passed: 11.2 sec\ttotal: 6m 12s\tremaining: 2m 55s\n",
      "34:\tlearn 0.3352350826passed: 9.01 sec\ttotal: 6m 21s\tremaining: 2m 43s\n",
      "35:\tlearn 0.333187648passed: 10.8 sec\ttotal: 6m 32s\tremaining: 2m 32s\n",
      "36:\tlearn 0.3312305169passed: 12.4 sec\ttotal: 6m 44s\tremaining: 2m 22s\n",
      "37:\tlearn 0.3294095529passed: 11.1 sec\ttotal: 6m 55s\tremaining: 2m 11s\n",
      "38:\tlearn 0.3277122544passed: 10.7 sec\ttotal: 7m 6s\tremaining: 2m\n",
      "39:\tlearn 0.3262005383passed: 6.06 sec\ttotal: 7m 12s\tremaining: 1m 48s\n",
      "40:\tlearn 0.3247295512passed: 12 sec\ttotal: 7m 24s\tremaining: 1m 37s\n",
      "41:\tlearn 0.3234133316passed: 12.7 sec\ttotal: 7m 37s\tremaining: 1m 27s\n",
      "42:\tlearn 0.3220998943passed: 10.9 sec\ttotal: 7m 48s\tremaining: 1m 16s\n",
      "43:\tlearn 0.320896831passed: 11.5 sec\ttotal: 7m 59s\tremaining: 1m 5s\n",
      "44:\tlearn 0.3197104223passed: 10 sec\ttotal: 8m 9s\tremaining: 54.4s\n",
      "45:\tlearn 0.3186398469passed: 11.1 sec\ttotal: 8m 20s\tremaining: 43.5s\n",
      "46:\tlearn 0.317698261passed: 11.5 sec\ttotal: 8m 32s\tremaining: 32.7s\n",
      "47:\tlearn 0.3167780313passed: 11.3 sec\ttotal: 8m 43s\tremaining: 21.8s\n",
      "48:\tlearn 0.3158852889passed: 10.5 sec\ttotal: 8m 53s\tremaining: 10.9s\n",
      "49:\tlearn 0.3150250936passed: 10.5 sec\ttotal: 9m 4s\tremaining: 0us\n"
     ]
    },
    {
     "data": {
      "text/plain": [
       "<catboost.core.CatBoostClassifier at 0x7fef051327b8>"
      ]
     },
     "execution_count": 7,
     "metadata": {},
     "output_type": "execute_result"
    }
   ],
   "source": [
    "model.fit(train_features, train_label, cat_features, verbose=True)"
   ]
  },
  {
   "cell_type": "code",
   "execution_count": 8,
   "metadata": {
    "collapsed": true
   },
   "outputs": [],
   "source": [
    "predictions = model.predict_proba(valid_features)"
   ]
  },
  {
   "cell_type": "code",
   "execution_count": 9,
   "metadata": {},
   "outputs": [
    {
     "data": {
      "text/plain": [
       "0.40596999563743741"
      ]
     },
     "execution_count": 9,
     "metadata": {},
     "output_type": "execute_result"
    }
   ],
   "source": [
    "fpr, tpr, thresh = roc_curve(valid_label, predictions[:,1])\n",
    "2*auc(fpr,tpr) - 1"
   ]
  },
  {
   "cell_type": "code",
   "execution_count": 10,
   "metadata": {
    "collapsed": true
   },
   "outputs": [],
   "source": [
    "data = pd.read_csv('../data/catboost/data/score_data.csv')\n",
    "features = np.array(data.iloc[:,3:])\n",
    "label = data['reordered'].values"
   ]
  },
  {
   "cell_type": "code",
   "execution_count": 11,
   "metadata": {
    "collapsed": true
   },
   "outputs": [],
   "source": [
    "predictions = model.predict_proba(features)"
   ]
  },
  {
   "cell_type": "code",
   "execution_count": 12,
   "metadata": {},
   "outputs": [
    {
     "data": {
      "text/plain": [
       "0.38296142475877715"
      ]
     },
     "execution_count": 12,
     "metadata": {},
     "output_type": "execute_result"
    }
   ],
   "source": [
    "fpr, tpr, thresh = roc_curve(label, predictions[:,1])\n",
    "2*auc(fpr,tpr) - 1"
   ]
  },
  {
   "cell_type": "code",
   "execution_count": 13,
   "metadata": {},
   "outputs": [
    {
     "name": "stderr",
     "output_type": "stream",
     "text": [
      "/home/ubuntu/.software/anaonda3/lib/python3.6/site-packages/ipykernel_launcher.py:2: SettingWithCopyWarning: \n",
      "A value is trying to be set on a copy of a slice from a DataFrame.\n",
      "Try using .loc[row_indexer,col_indexer] = value instead\n",
      "\n",
      "See the caveats in the documentation: http://pandas.pydata.org/pandas-docs/stable/indexing.html#indexing-view-versus-copy\n",
      "  \n"
     ]
    }
   ],
   "source": [
    "driver = data[['user_id','product_id']]\n",
    "driver['catboost'] = predictions[:,1]"
   ]
  },
  {
   "cell_type": "code",
   "execution_count": 14,
   "metadata": {
    "collapsed": true
   },
   "outputs": [],
   "source": [
    "driver.to_csv('../data/catboost/catboost.csv', index=False)"
   ]
  },
  {
   "cell_type": "code",
   "execution_count": null,
   "metadata": {
    "collapsed": true
   },
   "outputs": [],
   "source": []
  }
 ],
 "metadata": {
  "kernelspec": {
   "display_name": "Python 3",
   "language": "python",
   "name": "python3"
  },
  "language_info": {
   "codemirror_mode": {
    "name": "ipython",
    "version": 3
   },
   "file_extension": ".py",
   "mimetype": "text/x-python",
   "name": "python",
   "nbconvert_exporter": "python",
   "pygments_lexer": "ipython3",
   "version": "3.6.1"
  }
 },
 "nbformat": 4,
 "nbformat_minor": 2
}
