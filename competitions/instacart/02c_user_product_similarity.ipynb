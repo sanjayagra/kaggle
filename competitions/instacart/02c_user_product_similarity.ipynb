{
 "cells": [
  {
   "cell_type": "code",
   "execution_count": 1,
   "metadata": {
    "collapsed": true
   },
   "outputs": [],
   "source": [
    "import pandas as pd\n",
    "import numpy as np\n",
    "import xgboost as xgb\n",
    "from sklearn.metrics import roc_curve, auc"
   ]
  },
  {
   "cell_type": "code",
   "execution_count": 2,
   "metadata": {
    "collapsed": true
   },
   "outputs": [],
   "source": [
    "prod_vecs = pd.read_csv('../data/gensim/prodvecs.csv')\n",
    "user_vecs = pd.read_csv('../data/gensim/uservecs.csv')"
   ]
  },
  {
   "cell_type": "code",
   "execution_count": null,
   "metadata": {
    "collapsed": true
   },
   "outputs": [],
   "source": [
    "train_data = pd.read_csv('../data/model/dependent/dependent_n_2.csv')\n",
    "valid_data = pd.read_csv('../data/model/dependent/dependent_n_1.csv')"
   ]
  },
  {
   "cell_type": "code",
   "execution_count": null,
   "metadata": {
    "collapsed": true
   },
   "outputs": [],
   "source": [
    "train_data = train_data.merge(prod_vecs, on='product_id', how='inner')\n",
    "train_data = train_data.merge(user_vecs, on='user_id', how='inner')\n",
    "valid_data = valid_data.merge(prod_vecs, on='product_id', how='inner')\n",
    "valid_data = valid_data.merge(user_vecs, on='user_id', how='inner')"
   ]
  },
  {
   "cell_type": "code",
   "execution_count": null,
   "metadata": {
    "collapsed": true
   },
   "outputs": [],
   "source": [
    "train_matrix = xgb.DMatrix(label=train_data['reordered'], data=train_data.iloc[:,4:])\n",
    "valid_matrix = xgb.DMatrix(label=valid_data['reordered'], data=valid_data.iloc[:,4:])"
   ]
  },
  {
   "cell_type": "code",
   "execution_count": null,
   "metadata": {
    "collapsed": true
   },
   "outputs": [],
   "source": [
    "del train_data\n",
    "del valid_data"
   ]
  },
  {
   "cell_type": "markdown",
   "metadata": {},
   "source": [
    "### train"
   ]
  },
  {
   "cell_type": "code",
   "execution_count": null,
   "metadata": {
    "collapsed": true
   },
   "outputs": [],
   "source": [
    "params = {}\n",
    "params['booster'] = 'gbtree'\n",
    "params['nthread'] = 6\n",
    "params['eta'] = 0.1\n",
    "params['max_depth'] = 12\n",
    "params['subsample'] = 0.75\n",
    "params['colsample_bytree'] = 1.0\n",
    "params['colsample_bylevel'] = 0.9\n",
    "params['objective'] = 'binary:logistic'\n",
    "params['base_score'] = 0.10\n",
    "params['eval_metric'] = 'auc'\n",
    "params['seed'] = 108\n",
    "\n",
    "model_params = {}\n",
    "model_params['params'] = params\n",
    "model_params['num_boost_round'] = 400\n",
    "model_params['dtrain'] = train_matrix\n",
    "model_params['evals'] = [(train_matrix, 'train'), (valid_matrix, 'valid')]\n",
    "model_params['verbose_eval'] = 100"
   ]
  },
  {
   "cell_type": "code",
   "execution_count": null,
   "metadata": {},
   "outputs": [],
   "source": [
    "model = xgb.train(**model_params)"
   ]
  },
  {
   "cell_type": "code",
   "execution_count": null,
   "metadata": {
    "collapsed": true
   },
   "outputs": [],
   "source": [
    "model.save_model('../data/gensim/xgb.model')"
   ]
  },
  {
   "cell_type": "code",
   "execution_count": null,
   "metadata": {
    "collapsed": true
   },
   "outputs": [],
   "source": [
    "del train_matrix\n",
    "del valid_matrix"
   ]
  },
  {
   "cell_type": "markdown",
   "metadata": {},
   "source": [
    "### score"
   ]
  },
  {
   "cell_type": "code",
   "execution_count": 3,
   "metadata": {},
   "outputs": [],
   "source": [
    "model = xgb.Booster({'nthread':4})\n",
    "model.load_model('../data/gensim/xgb.model')"
   ]
  },
  {
   "cell_type": "code",
   "execution_count": 4,
   "metadata": {},
   "outputs": [
    {
     "name": "stdout",
     "output_type": "stream",
     "text": [
      "48.29\n"
     ]
    }
   ],
   "source": [
    "score_data = pd.read_csv('../data/model/dependent/dependent_n_1.csv')\n",
    "score_data = score_data.merge(prod_vecs, on='product_id', how='inner')\n",
    "score_data = score_data.merge(user_vecs, on='user_id', how='inner')\n",
    "score_matrix = xgb.DMatrix(label=score_data['reordered'], data=score_data.iloc[:,4:])\n",
    "predict = model.predict(score_matrix)\n",
    "score_data['xgb_w2v_score'] = predict\n",
    "del score_matrix\n",
    "fpr, tpr, thresholds = roc_curve(score_data['reordered'],score_data['xgb_w2v_score'])\n",
    "print(round(100*(2*auc(fpr,tpr) - 1),2))\n",
    "score_data = score_data[['user_id','product_id','xgb_w2v_score']]\n",
    "score_data = score_data.to_csv('../data/gensim/xgb_w2_score_n_1.csv', index=False)\n",
    "del score_data"
   ]
  },
  {
   "cell_type": "code",
   "execution_count": null,
   "metadata": {},
   "outputs": [],
   "source": [
    "score_data = pd.read_csv('../data/model/dependent/dependent_n.csv')\n",
    "score_data = score_data.merge(prod_vecs, on='product_id', how='inner')\n",
    "score_data = score_data.merge(user_vecs, on='user_id', how='inner')\n",
    "score_matrix = xgb.DMatrix(label=score_data['reordered'], data=score_data.iloc[:,4:])\n",
    "predict = model.predict(score_matrix)\n",
    "score_data['xgb_w2v_score'] = predict\n",
    "del score_matrix\n",
    "check = score_data[score_data['eval_set'] != 'test']\n",
    "fpr, tpr, thresholds = roc_curve(check['reordered'],check['xgb_w2v_score'])\n",
    "print(round(100*(2*auc(fpr,tpr) - 1),2))\n",
    "score_data = score_data[['user_id','product_id','xgb_w2v_score']]\n",
    "score_data = score_data.to_csv('../data/gensim/xgb_w2_score_n.csv', index=False)\n",
    "del score_data"
   ]
  },
  {
   "cell_type": "code",
   "execution_count": null,
   "metadata": {
    "collapsed": true
   },
   "outputs": [],
   "source": []
  }
 ],
 "metadata": {
  "kernelspec": {
   "display_name": "Python 3",
   "language": "python",
   "name": "python3"
  },
  "language_info": {
   "codemirror_mode": {
    "name": "ipython",
    "version": 3
   },
   "file_extension": ".py",
   "mimetype": "text/x-python",
   "name": "python",
   "nbconvert_exporter": "python",
   "pygments_lexer": "ipython3",
   "version": "3.6.1"
  }
 },
 "nbformat": 4,
 "nbformat_minor": 2
}
