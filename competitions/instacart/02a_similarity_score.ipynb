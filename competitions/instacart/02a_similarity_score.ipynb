{
 "cells": [
  {
   "cell_type": "code",
   "execution_count": 1,
   "metadata": {
    "collapsed": true
   },
   "outputs": [],
   "source": [
    "import pandas as pd\n",
    "import numpy as np\n",
    "import csv\n",
    "from sklearn.metrics import roc_curve, auc\n",
    "from scipy.sparse import coo_matrix\n",
    "from implicit.nearest_neighbours import BM25Recommender, bm25_weight\n",
    "from implicit.nearest_neighbours import CosineRecommender\n",
    "from implicit.nearest_neighbours import TFIDFRecommender"
   ]
  },
  {
   "cell_type": "code",
   "execution_count": 2,
   "metadata": {},
   "outputs": [
    {
     "name": "stdout",
     "output_type": "stream",
     "text": [
      "(34010012, 6)\n",
      "(30462420, 8)\n"
     ]
    },
    {
     "data": {
      "text/html": [
       "<div>\n",
       "<style>\n",
       "    .dataframe thead tr:only-child th {\n",
       "        text-align: right;\n",
       "    }\n",
       "\n",
       "    .dataframe thead th {\n",
       "        text-align: left;\n",
       "    }\n",
       "\n",
       "    .dataframe tbody tr th {\n",
       "        vertical-align: top;\n",
       "    }\n",
       "</style>\n",
       "<table border=\"1\" class=\"dataframe\">\n",
       "  <thead>\n",
       "    <tr style=\"text-align: right;\">\n",
       "      <th></th>\n",
       "      <th>user_id</th>\n",
       "      <th>product_id</th>\n",
       "      <th>reordered</th>\n",
       "    </tr>\n",
       "  </thead>\n",
       "  <tbody>\n",
       "    <tr>\n",
       "      <th>0</th>\n",
       "      <td>1</td>\n",
       "      <td>196</td>\n",
       "      <td>9</td>\n",
       "    </tr>\n",
       "    <tr>\n",
       "      <th>1</th>\n",
       "      <td>1</td>\n",
       "      <td>10258</td>\n",
       "      <td>8</td>\n",
       "    </tr>\n",
       "    <tr>\n",
       "      <th>2</th>\n",
       "      <td>1</td>\n",
       "      <td>10326</td>\n",
       "      <td>1</td>\n",
       "    </tr>\n",
       "    <tr>\n",
       "      <th>3</th>\n",
       "      <td>1</td>\n",
       "      <td>12427</td>\n",
       "      <td>9</td>\n",
       "    </tr>\n",
       "    <tr>\n",
       "      <th>4</th>\n",
       "      <td>1</td>\n",
       "      <td>13032</td>\n",
       "      <td>2</td>\n",
       "    </tr>\n",
       "  </tbody>\n",
       "</table>\n",
       "</div>"
      ],
      "text/plain": [
       "  user_id product_id  reordered\n",
       "0       1        196          9\n",
       "1       1      10258          8\n",
       "2       1      10326          1\n",
       "3       1      12427          9\n",
       "4       1      13032          2"
      ]
     },
     "execution_count": 2,
     "metadata": {},
     "output_type": "execute_result"
    }
   ],
   "source": [
    "order_products = pd.read_csv('../data/driver/driver_order_products.csv')\n",
    "print(order_products.shape)\n",
    "orders = pd.read_csv('../data/driver/driver_order.csv')[['user_id','order_id','counter']]\n",
    "orders = orders[orders['counter'] > 2]\n",
    "order_products = orders.merge(order_products, on=['order_id'], how='inner')\n",
    "print(order_products.shape)\n",
    "data = order_products.groupby(['user_id','product_id'])['reordered'].count().reset_index()\n",
    "data['user_id'] = data['user_id'].astype(str)\n",
    "data['product_id'] = data['product_id'].astype(str)\n",
    "data.head()"
   ]
  },
  {
   "cell_type": "code",
   "execution_count": 3,
   "metadata": {
    "collapsed": true
   },
   "outputs": [],
   "source": [
    "data['user_id'] = data['user_id'].astype(\"category\")\n",
    "data['product_id'] = data['product_id'].astype(\"category\")\n",
    "data['reordered'] = data['reordered'].astype(float)\n",
    "matrix = coo_matrix((data['reordered'],(data['product_id'].cat.codes.copy(), data['user_id'].cat.codes.copy())))"
   ]
  },
  {
   "cell_type": "code",
   "execution_count": 4,
   "metadata": {
    "collapsed": true
   },
   "outputs": [],
   "source": [
    "products = pd.read_csv('../data/driver/driver_product.csv')\n",
    "lookup = products.set_index('product_id')['department_id'].to_dict()\n",
    "dir_mapping = dict(enumerate(data['product_id'].cat.categories))\n",
    "inv_mapping = {v:k for k,v in dir_mapping.items()}\n",
    "\n",
    "def accuracy(key, values):\n",
    "    key = lookup[int(key)]\n",
    "    correct = 0.\n",
    "    for value in values:\n",
    "        if lookup[int(dir_mapping[value[0]])] == key:\n",
    "            correct += 1\n",
    "    return correct / len(values)"
   ]
  },
  {
   "cell_type": "code",
   "execution_count": 5,
   "metadata": {
    "collapsed": true
   },
   "outputs": [],
   "source": [
    "sample = np.random.choice(products['product_id'].astype(str).values,10)"
   ]
  },
  {
   "cell_type": "markdown",
   "metadata": {},
   "source": [
    "### model"
   ]
  },
  {
   "cell_type": "code",
   "execution_count": 6,
   "metadata": {
    "collapsed": true
   },
   "outputs": [],
   "source": [
    "model1 = TFIDFRecommender()\n",
    "model2 = CosineRecommender()\n",
    "model3 = BM25Recommender(K=100, K1=1.2, B=0.75)\n",
    "model1.fit(matrix)\n",
    "model2.fit(matrix)\n",
    "model3.fit(matrix)"
   ]
  },
  {
   "cell_type": "code",
   "execution_count": 7,
   "metadata": {},
   "outputs": [
    {
     "name": "stdout",
     "output_type": "stream",
     "text": [
      "score:  [ 0.25  0.15]\n",
      "score:  [ 0.25  0.16]\n",
      "score:  [ 0.38  0.23]\n"
     ]
    }
   ],
   "source": [
    "for model in [model1, model2, model3]:\n",
    "    scores = [accuracy(x ,model.similar_items(inv_mapping[x], N=10)) for x in sample]\n",
    "    print('score: ', np.round([np.mean(scores), np.std(scores)],2))"
   ]
  },
  {
   "cell_type": "markdown",
   "metadata": {},
   "source": [
    "### scores"
   ]
  },
  {
   "cell_type": "code",
   "execution_count": 8,
   "metadata": {},
   "outputs": [
    {
     "name": "stdout",
     "output_type": "stream",
     "text": [
      "206209 49653\n"
     ]
    }
   ],
   "source": [
    "user_mapping = dict(enumerate(data['user_id'].cat.categories))\n",
    "product_mapping = dict(enumerate(data['product_id'].cat.categories))\n",
    "inv_mapping = {v:k for k,v in user_mapping.items()}\n",
    "\n",
    "print(len(user_mapping), len(product_mapping))\n",
    "\n",
    "def recommend(userid, user_items, score_items, similarity):\n",
    "    liked_vector = user_items[inv_mapping[userid]]\n",
    "    recommendations = liked_vector.dot(similarity)\n",
    "    recommendations = sorted(zip(recommendations.indices, recommendations.data))\n",
    "    scores = []\n",
    "    for item in recommendations:\n",
    "        if product_mapping[item[0]] in score_items:\n",
    "            scores += [[userid, product_mapping[item[0]], item[1]]]\n",
    "    return scores"
   ]
  },
  {
   "cell_type": "code",
   "execution_count": 10,
   "metadata": {
    "collapsed": true
   },
   "outputs": [],
   "source": [
    "evaluate = matrix.T.tocsr()"
   ]
  },
  {
   "cell_type": "code",
   "execution_count": 11,
   "metadata": {
    "collapsed": true
   },
   "outputs": [],
   "source": [
    "driver = pd.read_csv('../data/model/dependent/dependent_n.csv')[['user_id','product_id']]\n",
    "driver = driver.astype(str)\n",
    "driver = driver.groupby('user_id')['product_id'].apply(list).reset_index()"
   ]
  },
  {
   "cell_type": "code",
   "execution_count": 12,
   "metadata": {
    "collapsed": true
   },
   "outputs": [],
   "source": [
    "def score(model):\n",
    "    scores = []\n",
    "    i = 0\n",
    "    for user, product in zip(driver['user_id'], driver['product_id']):\n",
    "        i += 1\n",
    "        scores += recommend(str(user),evaluate, product, model.similarity)\n",
    "        if max(i,1) % 100000 == 0:\n",
    "            print(i, 'users scored...')\n",
    "    return scores"
   ]
  },
  {
   "cell_type": "code",
   "execution_count": 13,
   "metadata": {
    "scrolled": true
   },
   "outputs": [
    {
     "name": "stdout",
     "output_type": "stream",
     "text": [
      "100000 users scored...\n",
      "200000 users scored...\n",
      "100000 users scored...\n",
      "200000 users scored...\n",
      "100000 users scored...\n",
      "200000 users scored...\n"
     ]
    }
   ],
   "source": [
    "tfidf_scores = pd.DataFrame(score(model1), columns = ['user_id', 'product_id', 'tfifd_score'])\n",
    "cosine_scores = pd.DataFrame(score(model2), columns = ['user_id', 'product_id', 'cosine_score'])\n",
    "bm25_scores = pd.DataFrame(score(model3), columns = ['user_id', 'product_id', 'bm25_score'])"
   ]
  },
  {
   "cell_type": "code",
   "execution_count": 14,
   "metadata": {},
   "outputs": [
    {
     "name": "stdout",
     "output_type": "stream",
     "text": [
      "(13165343, 5)\n"
     ]
    }
   ],
   "source": [
    "similarity_score = tfidf_scores.merge(cosine_scores, on=['user_id', 'product_id'], how='outer')\n",
    "similarity_score = similarity_score.merge(bm25_scores, on=['user_id', 'product_id'], how='outer')\n",
    "similarity_score = similarity_score.fillna(0.)\n",
    "print(similarity_score.shape)"
   ]
  },
  {
   "cell_type": "code",
   "execution_count": 15,
   "metadata": {
    "collapsed": true
   },
   "outputs": [],
   "source": [
    "similarity_score.to_csv('../data/similarity/similarity_score.csv', index=False)"
   ]
  },
  {
   "cell_type": "markdown",
   "metadata": {},
   "source": [
    "### performance"
   ]
  },
  {
   "cell_type": "code",
   "execution_count": 16,
   "metadata": {},
   "outputs": [
    {
     "name": "stdout",
     "output_type": "stream",
     "text": [
      "feat: tfifd_score auc: 32.92\n",
      "feat: cosine_score auc: 32.66\n",
      "feat: bm25_score auc: 23.34\n"
     ]
    }
   ],
   "source": [
    "target = pd.read_csv('../data/model/dependent/dependent_n.csv')\n",
    "similarity_score = pd.read_csv('../data/similarity/similarity_score.csv')\n",
    "target = target.merge(similarity_score, on=['user_id','product_id'], how='inner')\n",
    "target = target[target['eval_set'] != ' test']\n",
    "\n",
    "for feat in similarity_score.columns[2:]:\n",
    "    fpr, tpr, thresholds = roc_curve(target['reordered'], target[feat])\n",
    "    print('feat:', feat, 'auc:', round(100*(2*auc(fpr,tpr) - 1),2))"
   ]
  },
  {
   "cell_type": "code",
   "execution_count": null,
   "metadata": {
    "collapsed": true
   },
   "outputs": [],
   "source": []
  }
 ],
 "metadata": {
  "kernelspec": {
   "display_name": "Python 3",
   "language": "python",
   "name": "python3"
  },
  "language_info": {
   "codemirror_mode": {
    "name": "ipython",
    "version": 3
   },
   "file_extension": ".py",
   "mimetype": "text/x-python",
   "name": "python",
   "nbconvert_exporter": "python",
   "pygments_lexer": "ipython3",
   "version": "3.6.1"
  }
 },
 "nbformat": 4,
 "nbformat_minor": 2
}
