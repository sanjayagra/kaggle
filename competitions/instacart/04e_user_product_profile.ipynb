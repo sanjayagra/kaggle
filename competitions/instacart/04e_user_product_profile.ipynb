{
 "cells": [
  {
   "cell_type": "code",
   "execution_count": 1,
   "metadata": {
    "collapsed": true
   },
   "outputs": [],
   "source": [
    "import pandas as pd\n",
    "import numpy as np\n",
    "from sklearn.metrics import roc_curve, auc\n",
    "import warnings\n",
    "warnings.simplefilter('ignore')"
   ]
  },
  {
   "cell_type": "code",
   "execution_count": 2,
   "metadata": {
    "collapsed": true
   },
   "outputs": [],
   "source": [
    "orders = pd.read_csv('../data/driver/driver_order.csv')\n",
    "history = pd.read_csv('../data/driver/driver_order_products.csv')\n",
    "history = history.merge(orders, on='order_id', how='inner')\n",
    "history = history[history['counter'] > 1]\n",
    "del orders"
   ]
  },
  {
   "cell_type": "markdown",
   "metadata": {},
   "source": [
    "### count"
   ]
  },
  {
   "cell_type": "code",
   "execution_count": 3,
   "metadata": {
    "collapsed": true
   },
   "outputs": [],
   "source": [
    "def aggregation(level, prefix):\n",
    "    data =  history.groupby(level)['order_id'].count().reset_index()\n",
    "    data.columns = level + [prefix + 'cnt']\n",
    "    return data"
   ]
  },
  {
   "cell_type": "code",
   "execution_count": 4,
   "metadata": {
    "collapsed": true
   },
   "outputs": [],
   "source": [
    "user_total = history.groupby(['user_id'])['order_id'].count().reset_index()\n",
    "user_total.columns = ['user_id','tot_cnt']\n",
    "user_order = history.groupby(['user_id'])['order_id'].apply(pd.Series.nunique).reset_index()\n",
    "user_order.columns = ['user_id','tot_ord']\n",
    "user_prd = aggregation(['user_id','product_id','aisle_id','department_id'],'usr_prd_')\n",
    "user_ais = aggregation(['user_id','aisle_id'],'usr_ais_')\n",
    "user_dep = aggregation(['user_id','department_id'],'usr_dep_')\n",
    "user_hist = user_prd.merge(user_ais, on=['user_id','aisle_id'], how='inner')\n",
    "user_hist = user_hist.merge(user_dep, on=['user_id','department_id'], how='inner')\n",
    "user_hist = user_hist.drop(['aisle_id','department_id'], axis=1)\n",
    "user_hist = user_hist.merge(user_total, on=['user_id'], how='inner')\n",
    "user_hist = user_hist.merge(user_order, on=['user_id'], how='inner')\n",
    "user_hist['usr_prd_perc_cnt'] = user_hist['usr_prd_cnt'] / user_hist['tot_cnt']\n",
    "user_hist['usr_ais_perc_cnt'] = user_hist['usr_ais_cnt'] / user_hist['tot_cnt']\n",
    "user_hist['usr_prd_perc_ord'] = (user_hist['usr_prd_cnt']- 1) / (user_hist['tot_ord'] - 1)\n",
    "user_hist['usr_ais_perc_ord'] = (user_hist['usr_ais_cnt']- 1) / (user_hist['tot_ord'] - 1)\n",
    "user_hist = user_hist.drop(['tot_cnt','tot_ord'], axis=1)"
   ]
  },
  {
   "cell_type": "markdown",
   "metadata": {},
   "source": [
    "### reorder rate"
   ]
  },
  {
   "cell_type": "code",
   "execution_count": 5,
   "metadata": {},
   "outputs": [],
   "source": [
    "reorder_rate = history.groupby(['user_id','product_id']).agg({'reordered':'sum','order_id':'count'})\n",
    "reorder_rate = reorder_rate.reset_index()\n",
    "reorder_rate.columns = ['user_id','product_id','reorders','count']\n",
    "reorder_rate['usr_prd_rd_rt'] = reorder_rate['reorders'] / reorder_rate['count'] \n",
    "reorder_rate = reorder_rate.drop('count', axis=1)"
   ]
  },
  {
   "cell_type": "markdown",
   "metadata": {},
   "source": [
    "### order since"
   ]
  },
  {
   "cell_type": "code",
   "execution_count": 6,
   "metadata": {
    "collapsed": true
   },
   "outputs": [],
   "source": [
    "def aggregation(level, prefix):\n",
    "    data =  history.groupby(level)['order_number'].max().reset_index()\n",
    "    data.columns = level + [prefix + 'lst_ord']\n",
    "    return data"
   ]
  },
  {
   "cell_type": "code",
   "execution_count": 7,
   "metadata": {
    "collapsed": true
   },
   "outputs": [],
   "source": [
    "user_order = history.groupby('user_id')['order_number'].max().reset_index()\n",
    "user_order.columns = ['user_id','last_order']\n",
    "user_prd = aggregation(['user_id','product_id','aisle_id','department_id'],'usr_prd_')\n",
    "user_ais = aggregation(['user_id','aisle_id'],'usr_ais_')\n",
    "user_dep = aggregation(['user_id','department_id'],'usr_dep_')\n",
    "user_last = user_prd.merge(user_ais, on=['user_id','aisle_id'], how='inner')\n",
    "user_last = user_last.merge(user_dep, on=['user_id','department_id'], how='inner')\n",
    "user_last = user_last.drop(['aisle_id','department_id'], axis=1)\n",
    "user_last = user_last.merge(user_order, on=['user_id'], how='inner')\n",
    "user_last['usr_prd_lst_ord'] = user_last['last_order'] - user_last['usr_prd_lst_ord'] \n",
    "user_last['usr_ais_lst_ord'] = user_last['last_order'] - user_last['usr_ais_lst_ord']\n",
    "user_last['usr_prd_lst_ratio'] = user_last['usr_prd_lst_ord'] / user_last['last_order']\n",
    "user_last = user_last.drop(['last_order','usr_dep_lst_ord'],axis=1)"
   ]
  },
  {
   "cell_type": "markdown",
   "metadata": {},
   "source": [
    "### days since"
   ]
  },
  {
   "cell_type": "code",
   "execution_count": 8,
   "metadata": {
    "collapsed": true
   },
   "outputs": [],
   "source": [
    "orders = pd.read_csv('../data/driver/driver_order.csv')\n",
    "orders = orders.sort_values(by=['user_id','counter'])\n",
    "orders['days_shift'] = orders.groupby(['user_id'])['days_since_prior_order'].shift(1)\n",
    "orders = orders[orders['counter'] > 1]\n",
    "orders['cum_days'] = orders.groupby(['user_id'])['days_shift'].cumsum()\n",
    "orders = orders[['order_id','user_id','cum_days']]\n",
    "history = pd.read_csv('../data/driver/driver_order_products.csv')\n",
    "history = history.merge(orders, on='order_id', how='inner')\n",
    "history = history[['user_id','product_id','aisle_id','cum_days']]\n",
    "user_prd_days = history.groupby(['user_id','product_id','aisle_id'])['cum_days'].min().reset_index()\n",
    "user_prd_days.columns = ['user_id','product_id','aisle_id','usr_prd_lstdy']\n",
    "user_ais_days = history.groupby(['user_id','aisle_id'])['cum_days'].min().reset_index()\n",
    "user_ais_days.columns = ['user_id','aisle_id','usr_ais_lstdy']\n",
    "user_days = user_prd_days.merge(user_ais_days, on=['user_id','aisle_id'], how='inner')\n",
    "user_days = user_days.drop(['aisle_id'],axis=1)"
   ]
  },
  {
   "cell_type": "markdown",
   "metadata": {},
   "source": [
    "### order rate since first order"
   ]
  },
  {
   "cell_type": "code",
   "execution_count": 9,
   "metadata": {},
   "outputs": [],
   "source": [
    "orders = pd.read_csv('../data/driver/driver_order.csv')\n",
    "history = pd.read_csv('../data/driver/driver_order_products.csv')\n",
    "history = history.merge(orders, on='order_id', how='inner')\n",
    "history = history[history['counter'] > 1]\n",
    "driver = history[['user_id','product_id']].drop_duplicates()\n",
    "del orders\n",
    "user_prd_frst = history.groupby(['user_id','product_id'])['order_number'].min().reset_index()\n",
    "user_prd_frst = user_prd_frst.rename(columns={'order_number':'first_order'})\n",
    "user_ord = history.groupby(['user_id'])['order_number'].max().reset_index()\n",
    "user_ord = user_ord.rename(columns={'order_number':'usr_order'})\n",
    "history = history[['user_id','product_id','order_number']]\n",
    "history = history.merge(user_prd_frst, on=['user_id','product_id'], how='inner')\n",
    "history = history.merge(user_ord, on=['user_id'], how='inner')\n",
    "history = history[history['order_number'] > history['first_order']]\n",
    "history = history.groupby(['user_id','product_id','usr_order','first_order'])['order_number'].count()\n",
    "history = history.reset_index().rename(columns={'order_number':'ord_count'})\n",
    "user_prd_frst_ord = history\n",
    "user_prd_frst_ord['max_poss'] = user_prd_frst_ord['usr_order'] - user_prd_frst_ord['first_order']\n",
    "user_prd_frst_ord['actual'] = user_prd_frst_ord['ord_count'] - 1\n",
    "user_prd_frst_ord['usr_prd_fs_ord'] = user_prd_frst_ord['actual'] / user_prd_frst_ord['max_poss'] \n",
    "user_prd_frst_ord = user_prd_frst_ord[['user_id','product_id','usr_prd_fs_ord']]\n",
    "user_prd_frst_ord = driver.merge(user_prd_frst_ord, on=['user_id','product_id'], how='left')\n",
    "user_prd_frst_ord = user_prd_frst_ord.fillna(0)"
   ]
  },
  {
   "cell_type": "markdown",
   "metadata": {},
   "source": [
    "### add to cart order"
   ]
  },
  {
   "cell_type": "code",
   "execution_count": 10,
   "metadata": {
    "collapsed": true
   },
   "outputs": [],
   "source": [
    "orders = pd.read_csv('../data/driver/driver_order.csv')\n",
    "history = pd.read_csv('../data/driver/driver_order_products.csv')\n",
    "history = history.merge(orders, on='order_id', how='inner')\n",
    "history = history[history['counter'] > 1]\n",
    "del orders\n",
    "add_to_cart = history.groupby(['user_id','product_id'])['add_to_cart_order'].agg(np.median)\n",
    "add_to_cart = add_to_cart.reset_index().rename(columns={'add_to_cart_order':'usr_prd_adct'})\n",
    "user_add_crt = history[['user_id','product_id']].drop_duplicates()\n",
    "user_add_crt = user_add_crt.merge(add_to_cart, on=['user_id','product_id'], how='left')"
   ]
  },
  {
   "cell_type": "markdown",
   "metadata": {},
   "source": [
    "### delta time"
   ]
  },
  {
   "cell_type": "code",
   "execution_count": 11,
   "metadata": {
    "collapsed": true
   },
   "outputs": [],
   "source": [
    "history = pd.read_csv('../data/driver/driver_order_products.csv')\n",
    "driver = pd.read_csv('../data/driver/driver_order.csv')\n",
    "history = history.merge(driver, on='order_id', how='inner')\n",
    "dependent = driver[driver['counter'] == 1][['user_id','order_hour_of_day']]\n",
    "history = history[history['counter'] > 1]\n",
    "last_order = history.groupby(['user_id','product_id'])['order_number'].max().reset_index()\n",
    "last_order = history.merge(last_order, on=['user_id','product_id'], how='inner')\n",
    "last_order = last_order[last_order['order_number_x'] == last_order['order_number_y']]\n",
    "last_order = last_order[['user_id','product_id','order_hour_of_day']]\n",
    "current_order = dependent[['user_id','order_hour_of_day']].drop_duplicates()\n",
    "current_order = last_order.merge(current_order, on=['user_id'], how='inner')\n",
    "current_order['diff_hod'] = current_order['order_hour_of_day_x'] - current_order['order_hour_of_day_y']\n",
    "current_order['diff_hod'] = current_order['diff_hod'].map(lambda x : min(abs(x),24-abs(x)))\n",
    "time_delta = current_order[['user_id','product_id','diff_hod']]"
   ]
  },
  {
   "cell_type": "markdown",
   "metadata": {},
   "source": [
    "### merge records"
   ]
  },
  {
   "cell_type": "code",
   "execution_count": 12,
   "metadata": {},
   "outputs": [
    {
     "name": "stdout",
     "output_type": "stream",
     "text": [
      "(13398053, 9) (13398053, 5) (13398053, 4)\n",
      "(13398053, 3) (13398053, 3) (13398053, 3)\n",
      "(13398053, 4)\n"
     ]
    }
   ],
   "source": [
    "print(user_hist.shape, user_last.shape, user_days.shape)\n",
    "print(user_prd_frst_ord.shape, time_delta.shape, user_add_crt.shape)\n",
    "print(reorder_rate.shape)"
   ]
  },
  {
   "cell_type": "code",
   "execution_count": 13,
   "metadata": {
    "collapsed": true
   },
   "outputs": [],
   "source": [
    "user_hist = user_hist.merge(user_last, on=['user_id','product_id'], how='left')\n",
    "user_hist = user_hist.merge(user_days, on=['user_id','product_id'], how='left')\n",
    "user_hist = user_hist.merge(user_prd_frst_ord, on=['user_id','product_id'], how='left')\n",
    "user_hist = user_hist.merge(time_delta, on=['user_id','product_id'], how='left')\n",
    "user_hist = user_hist.merge(user_add_crt, on=['user_id','product_id'], how='left')\n",
    "user_hist = user_hist.merge(reorder_rate, on=['user_id','product_id'], how='left')\n",
    "user_hist.to_csv('../data/profile/user_product_profile.csv', index=False)"
   ]
  },
  {
   "cell_type": "code",
   "execution_count": 16,
   "metadata": {
    "collapsed": true
   },
   "outputs": [],
   "source": [
    "target = pd.read_csv('../data/model/dependent/dependent_n.csv')\n",
    "target = target.merge(user_hist, on=['user_id','product_id'], how='left')\n",
    "target = target[target['eval_set'] != 'test']"
   ]
  },
  {
   "cell_type": "code",
   "execution_count": 17,
   "metadata": {},
   "outputs": [
    {
     "name": "stdout",
     "output_type": "stream",
     "text": [
      "feat: usr_prd_cnt auc: 42.12\n",
      "feat: usr_ais_cnt auc: 16.81\n",
      "feat: usr_dep_cnt auc: 5.94\n",
      "feat: usr_prd_perc_cnt auc: 48.14\n",
      "feat: usr_ais_perc_cnt auc: 30.2\n",
      "feat: usr_prd_perc_ord auc: 47.61\n",
      "feat: usr_ais_perc_ord auc: 30.32\n",
      "feat: usr_prd_lst_ord auc: -53.85\n",
      "feat: usr_ais_lst_ord auc: -34.48\n",
      "feat: usr_prd_lst_ratio auc: -49.7\n",
      "feat: usr_prd_lstdy auc: -49.4\n",
      "feat: usr_ais_lstdy auc: -25.28\n",
      "feat: usr_prd_fs_ord auc: 38.76\n",
      "feat: diff_hod auc: -2.76\n",
      "feat: usr_prd_adct auc: -9.86\n",
      "feat: reorders auc: 42.1\n",
      "feat: usr_prd_rd_rt auc: 41.7\n"
     ]
    }
   ],
   "source": [
    "target = target.fillna(0.)\n",
    "\n",
    "for feat in user_hist.columns[2:]:\n",
    "    fpr, tpr, thresholds = roc_curve(target['reordered'].astype(int), target[feat])\n",
    "    print('feat:', feat, 'auc:', round(100*(2*auc(fpr,tpr) - 1),2))"
   ]
  },
  {
   "cell_type": "code",
   "execution_count": null,
   "metadata": {
    "collapsed": true
   },
   "outputs": [],
   "source": []
  }
 ],
 "metadata": {
  "kernelspec": {
   "display_name": "Python 3",
   "language": "python",
   "name": "python3"
  },
  "language_info": {
   "codemirror_mode": {
    "name": "ipython",
    "version": 3
   },
   "file_extension": ".py",
   "mimetype": "text/x-python",
   "name": "python",
   "nbconvert_exporter": "python",
   "pygments_lexer": "ipython3",
   "version": "3.6.1"
  }
 },
 "nbformat": 4,
 "nbformat_minor": 2
}
