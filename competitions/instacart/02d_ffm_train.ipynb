{
 "cells": [
  {
   "cell_type": "code",
   "execution_count": 1,
   "metadata": {
    "collapsed": true
   },
   "outputs": [],
   "source": [
    "import pandas as pd\n",
    "import numpy as np\n",
    "from joblib import Parallel, delayed\n",
    "pd.options.mode.chained_assignment = None"
   ]
  },
  {
   "cell_type": "markdown",
   "metadata": {},
   "source": [
    "### dependent data"
   ]
  },
  {
   "cell_type": "code",
   "execution_count": 2,
   "metadata": {
    "collapsed": true
   },
   "outputs": [],
   "source": [
    "orders = pd.read_csv('../data/driver/driver_order.csv').drop(['eval_set'], axis=1)\n",
    "history = pd.read_csv('../data/driver/driver_order_products.csv')\n",
    "products = pd.read_csv('../data/driver/driver_product.csv')\n",
    "features = ['eval_set','reordered','user_id','product_id','aisle_id','department_id']\n",
    "features += ['order_dow','order_hour_of_day','order_number','days_since_prior_order']\n",
    "dependent = pd.read_csv('../data/model/dependent/dependent_n_1.csv')\n",
    "orders = orders[orders['counter'] == 2] \n",
    "dependent = dependent.merge(orders, on=['user_id'], how='inner')\n",
    "dependent = dependent.merge(products, on=['product_id'], how='inner')\n",
    "dependent = dependent[features]\n",
    "dependent['days_since_prior_order'] = dependent['days_since_prior_order'].astype(int)"
   ]
  },
  {
   "cell_type": "markdown",
   "metadata": {},
   "source": [
    "### features"
   ]
  },
  {
   "cell_type": "code",
   "execution_count": 3,
   "metadata": {
    "collapsed": true
   },
   "outputs": [],
   "source": [
    "orders = pd.read_csv('../data/driver/driver_order.csv').drop(['eval_set'], axis=1)\n",
    "history = pd.read_csv('../data/driver/driver_order_products.csv')\n",
    "products = pd.read_csv('../data/driver/driver_product.csv')\n",
    "history = orders.merge(history, on='order_id')\n",
    "independent = history[history['counter'] > 2]"
   ]
  },
  {
   "cell_type": "code",
   "execution_count": 4,
   "metadata": {
    "collapsed": true
   },
   "outputs": [],
   "source": [
    "user_product = independent.groupby(['user_id','product_id'])['order_id'].count().reset_index()\n",
    "user_product = user_product.rename(columns={'order_id' : 'prd_cnt'})\n",
    "user_product['prd_cnt'] = user_product['prd_cnt'].clip_upper(10)"
   ]
  },
  {
   "cell_type": "code",
   "execution_count": 5,
   "metadata": {
    "collapsed": true
   },
   "outputs": [],
   "source": [
    "user_aisle = independent.groupby(['user_id','aisle_id'])['order_id'].count().reset_index()\n",
    "user_aisle = user_aisle.rename(columns={'order_id' : 'ais_cnt'})\n",
    "user_aisle['ais_cnt'] = user_aisle['ais_cnt'].clip_upper(20)"
   ]
  },
  {
   "cell_type": "code",
   "execution_count": 6,
   "metadata": {
    "collapsed": true
   },
   "outputs": [],
   "source": [
    "user_dept = independent.groupby(['user_id','department_id'])['order_id'].count().reset_index()\n",
    "user_dept = user_dept.rename(columns={'order_id' : 'dep_cnt'})\n",
    "user_dept['dep_cnt'] = user_dept['dep_cnt'].clip_upper(30)"
   ]
  },
  {
   "cell_type": "code",
   "execution_count": 7,
   "metadata": {
    "collapsed": true
   },
   "outputs": [],
   "source": [
    "order_since = independent.groupby(['user_id','product_id'])['counter'].min().reset_index()\n",
    "order_since['counter'] = order_since['counter'] - 2\n",
    "order_since['counter'] = order_since['counter'].clip_upper(15)\n",
    "order_since = order_since.rename(columns={'counter':'ordn_snc'})"
   ]
  },
  {
   "cell_type": "code",
   "execution_count": 8,
   "metadata": {
    "collapsed": true
   },
   "outputs": [],
   "source": [
    "indep_orders = orders[orders['counter'] >= 2]\n",
    "indep_orders['days'] = indep_orders.groupby(['user_id'])['days_since_prior_order'].shift(1)\n",
    "indep_orders = indep_orders[indep_orders['counter'] > 2]\n",
    "indep_orders['cum_days'] = indep_orders.groupby(['user_id'])['days'].cumsum()\n",
    "indep_orders = independent.merge(indep_orders[['order_id','cum_days']], on='order_id')\n",
    "days_since = indep_orders.groupby(['user_id','product_id'])['cum_days'].min().reset_index()\n",
    "days_since['cum_days'] = days_since['cum_days'].clip_upper(120)\n",
    "days_since = days_since.rename(columns={'cum_days':'prd_dysc'})\n",
    "del indep_orders"
   ]
  },
  {
   "cell_type": "code",
   "execution_count": 10,
   "metadata": {},
   "outputs": [],
   "source": [
    "last5 = independent[independent['counter'] <= 7]\n",
    "last5['counter'] = last5['counter'] - 2\n",
    "last5 = last5.groupby(['user_id','product_id'])['order_id'].count().reset_index()\n",
    "last5 = last5.rename(columns={'order_id':'last5'})"
   ]
  },
  {
   "cell_type": "markdown",
   "metadata": {},
   "source": [
    "### merge files"
   ]
  },
  {
   "cell_type": "code",
   "execution_count": 11,
   "metadata": {
    "collapsed": true
   },
   "outputs": [],
   "source": [
    "del independent\n",
    "dependent = dependent.merge(user_product, on=['user_id','product_id'], how='left')\n",
    "del user_product\n",
    "dependent = dependent.merge(user_aisle, on=['user_id','aisle_id'], how='left')\n",
    "del user_aisle\n",
    "dependent = dependent.merge(user_dept, on=['user_id','department_id'], how='left')\n",
    "del user_dept\n",
    "dependent = dependent.merge(order_since, on=['user_id','product_id'], how='left')\n",
    "del order_since\n",
    "dependent = dependent.merge(days_since, on=['user_id','product_id'], how='left')\n",
    "del days_since\n",
    "dependent = dependent.merge(last5, on=['user_id','product_id'], how='left')\n",
    "del last5\n",
    "dependent['reordered'] = dependent['reordered'].astype(int)\n",
    "dependent = dependent.fillna(0)"
   ]
  },
  {
   "cell_type": "markdown",
   "metadata": {},
   "source": [
    "### ffm format"
   ]
  },
  {
   "cell_type": "code",
   "execution_count": 12,
   "metadata": {
    "collapsed": true
   },
   "outputs": [],
   "source": [
    "values = pd.DataFrame([])\n",
    "    \n",
    "def value_map(variable, field):\n",
    "    global dependent\n",
    "    temp = dependent[[variable]].drop_duplicates()\n",
    "    temp['feature'] = variable\n",
    "    temp['value'] = temp[variable]\n",
    "    temp['field'] = field\n",
    "    global values\n",
    "    values = values.append(temp[['feature','value','field']])\n",
    "    return None\n",
    "\n",
    "value_map('order_dow',1)\n",
    "value_map('order_hour_of_day',1)\n",
    "value_map('order_number',2)\n",
    "value_map('days_since_prior_order',2)\n",
    "value_map('prd_cnt',3)\n",
    "value_map('ais_cnt',3)\n",
    "value_map('dep_cnt',3)\n",
    "value_map('ordn_snc',4)\n",
    "value_map('prd_dysc',4)\n",
    "value_map('last5',4)\n",
    "value_map('department_id',5)\n",
    "value_map('aisle_id',5)\n",
    "value_map('product_id',5)\n",
    "value_map('user_id',6)\n",
    "\n",
    "values['value'] = values['value'].astype(int)\n",
    "values = values.reset_index(drop=True)\n",
    "values['index'] = values.index + 1\n",
    "\n",
    "values.to_csv('../data/ffm/value_map.csv', index=False)"
   ]
  },
  {
   "cell_type": "code",
   "execution_count": 13,
   "metadata": {
    "collapsed": true
   },
   "outputs": [],
   "source": [
    "fields = values[['feature','field']].drop_duplicates()\n",
    "fields = fields.set_index('feature')['field'].to_dict()"
   ]
  },
  {
   "cell_type": "code",
   "execution_count": 14,
   "metadata": {
    "collapsed": true
   },
   "outputs": [],
   "source": [
    "index = {}\n",
    "\n",
    "for field in fields.keys():\n",
    "    temp = values[values['feature'] == field][['value','index']]\n",
    "    index[field] = temp.set_index('value')['index'].to_dict()"
   ]
  },
  {
   "cell_type": "code",
   "execution_count": 15,
   "metadata": {
    "collapsed": true
   },
   "outputs": [],
   "source": [
    "def libsvm_format(x):\n",
    "    if x.index.values[0] % 1000000 == 0:\n",
    "        print(x.index.values[0], 'rows done..')\n",
    "    string = ''\n",
    "    string += str(int(x['reordered'].values[0])) + ' '\n",
    "    global fields\n",
    "    for field in fields.keys():\n",
    "        string += str(fields[field]) + ':'\n",
    "        global index\n",
    "        _value = x[field].values[0]\n",
    "        _index = index[field][_value]\n",
    "        string += str(_index) + ':'\n",
    "        string += '1' + ' '\n",
    "    output = []\n",
    "    output += [x['eval_set'].values[0]]\n",
    "    output += [x['user_id'].values[0]]\n",
    "    output += [x['product_id'].values[0]]\n",
    "    output += [x['reordered'].values[0]]\n",
    "    output += [string.strip()]\n",
    "    return output"
   ]
  },
  {
   "cell_type": "code",
   "execution_count": 16,
   "metadata": {},
   "outputs": [
    {
     "name": "stdout",
     "output_type": "stream",
     "text": [
      "(12628967, 16)\n"
     ]
    }
   ],
   "source": [
    "print(dependent.shape)"
   ]
  },
  {
   "cell_type": "code",
   "execution_count": 17,
   "metadata": {
    "collapsed": true
   },
   "outputs": [],
   "source": [
    "dependent = dependent.groupby(['eval_set', 'user_id','product_id'])"
   ]
  },
  {
   "cell_type": "code",
   "execution_count": 18,
   "metadata": {},
   "outputs": [
    {
     "name": "stdout",
     "output_type": "stream",
     "text": [
      "12000000 rows done..\n",
      "5000000 rows done..\n",
      "7000000 rows done..\n",
      "2000000 rows done..\n",
      "3000000 rows done..\n",
      "6000000 rows done..\n",
      "9000000 rows done..\n",
      "10000000 rows done..\n",
      "11000000 rows done..\n",
      "8000000 rows done..\n",
      "1000000 rows done..\n",
      "0 rows done..\n",
      "4000000 rows done..\n",
      "(12628967, 5)\n"
     ]
    }
   ],
   "source": [
    "results = Parallel(n_jobs=2)(delayed(libsvm_format)(grp.copy()) for _, grp in dependent)\n",
    "results = pd.DataFrame(results, columns=['eval_set','user_id','product_id','reordered','data'])\n",
    "print(results.shape)"
   ]
  },
  {
   "cell_type": "code",
   "execution_count": 19,
   "metadata": {
    "collapsed": true
   },
   "outputs": [],
   "source": [
    "results[['data']].to_csv('../data/ffm/data/ffm_train', index=False, header=None)"
   ]
  },
  {
   "cell_type": "code",
   "execution_count": 20,
   "metadata": {
    "collapsed": true
   },
   "outputs": [],
   "source": [
    "results[['eval_set','user_id','product_id','reordered']].to_csv('../data/ffm/data/ffm_train_driver.csv', index=False)"
   ]
  },
  {
   "cell_type": "code",
   "execution_count": null,
   "metadata": {
    "collapsed": true
   },
   "outputs": [],
   "source": []
  }
 ],
 "metadata": {
  "kernelspec": {
   "display_name": "Python 3",
   "language": "python",
   "name": "python3"
  },
  "language_info": {
   "codemirror_mode": {
    "name": "ipython",
    "version": 3
   },
   "file_extension": ".py",
   "mimetype": "text/x-python",
   "name": "python",
   "nbconvert_exporter": "python",
   "pygments_lexer": "ipython3",
   "version": "3.6.1"
  }
 },
 "nbformat": 4,
 "nbformat_minor": 2
}
