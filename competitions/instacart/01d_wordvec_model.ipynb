{
 "cells": [
  {
   "cell_type": "code",
   "execution_count": 1,
   "metadata": {},
   "outputs": [
    {
     "name": "stderr",
     "output_type": "stream",
     "text": [
      "Using Theano backend.\n"
     ]
    }
   ],
   "source": [
    "import pandas as pd\n",
    "import numpy as np\n",
    "from gensim.models import doc2vec, word2vec, keyedvectors\n",
    "pd.set_option('chained_assignment',None)"
   ]
  },
  {
   "cell_type": "markdown",
   "metadata": {},
   "source": [
    "### corpus"
   ]
  },
  {
   "cell_type": "code",
   "execution_count": 2,
   "metadata": {},
   "outputs": [
    {
     "name": "stdout",
     "output_type": "stream",
     "text": [
      "(34010012, 5) (3421083, 2) (34010012, 6)\n"
     ]
    },
    {
     "data": {
      "text/html": [
       "<div>\n",
       "<style>\n",
       "    .dataframe thead tr:only-child th {\n",
       "        text-align: right;\n",
       "    }\n",
       "\n",
       "    .dataframe thead th {\n",
       "        text-align: left;\n",
       "    }\n",
       "\n",
       "    .dataframe tbody tr th {\n",
       "        vertical-align: top;\n",
       "    }\n",
       "</style>\n",
       "<table border=\"1\" class=\"dataframe\">\n",
       "  <thead>\n",
       "    <tr style=\"text-align: right;\">\n",
       "      <th></th>\n",
       "      <th>order_id</th>\n",
       "      <th>user_id</th>\n",
       "      <th>product_id</th>\n",
       "      <th>aisle_id</th>\n",
       "      <th>department_id</th>\n",
       "      <th>add_to_cart_order</th>\n",
       "    </tr>\n",
       "  </thead>\n",
       "  <tbody>\n",
       "    <tr>\n",
       "      <th>18590058</th>\n",
       "      <td>1</td>\n",
       "      <td>112108</td>\n",
       "      <td>49302</td>\n",
       "      <td>120</td>\n",
       "      <td>16</td>\n",
       "      <td>1</td>\n",
       "    </tr>\n",
       "    <tr>\n",
       "      <th>18590059</th>\n",
       "      <td>1</td>\n",
       "      <td>112108</td>\n",
       "      <td>11109</td>\n",
       "      <td>108</td>\n",
       "      <td>16</td>\n",
       "      <td>2</td>\n",
       "    </tr>\n",
       "    <tr>\n",
       "      <th>18590060</th>\n",
       "      <td>1</td>\n",
       "      <td>112108</td>\n",
       "      <td>10246</td>\n",
       "      <td>83</td>\n",
       "      <td>4</td>\n",
       "      <td>3</td>\n",
       "    </tr>\n",
       "    <tr>\n",
       "      <th>18590061</th>\n",
       "      <td>1</td>\n",
       "      <td>112108</td>\n",
       "      <td>49683</td>\n",
       "      <td>83</td>\n",
       "      <td>4</td>\n",
       "      <td>4</td>\n",
       "    </tr>\n",
       "    <tr>\n",
       "      <th>18590062</th>\n",
       "      <td>1</td>\n",
       "      <td>112108</td>\n",
       "      <td>43633</td>\n",
       "      <td>95</td>\n",
       "      <td>15</td>\n",
       "      <td>5</td>\n",
       "    </tr>\n",
       "  </tbody>\n",
       "</table>\n",
       "</div>"
      ],
      "text/plain": [
       "          order_id  user_id  product_id  aisle_id  department_id  \\\n",
       "18590058         1   112108       49302       120             16   \n",
       "18590059         1   112108       11109       108             16   \n",
       "18590060         1   112108       10246        83              4   \n",
       "18590061         1   112108       49683        83              4   \n",
       "18590062         1   112108       43633        95             15   \n",
       "\n",
       "          add_to_cart_order  \n",
       "18590058                  1  \n",
       "18590059                  2  \n",
       "18590060                  3  \n",
       "18590061                  4  \n",
       "18590062                  5  "
      ]
     },
     "execution_count": 2,
     "metadata": {},
     "output_type": "execute_result"
    }
   ],
   "source": [
    "order_products = pd.read_csv('../data/driver/driver_order_products.csv').drop('reordered',axis=1)\n",
    "orders = pd.read_csv('../data/driver/driver_order.csv')[['order_id','user_id']]\n",
    "data = orders.merge(order_products, on='order_id')\n",
    "data = data.sort_values(by=['order_id','add_to_cart_order'])\n",
    "print(order_products.shape, orders.shape, data.shape)\n",
    "data.head()"
   ]
  },
  {
   "cell_type": "code",
   "execution_count": 3,
   "metadata": {},
   "outputs": [
    {
     "data": {
      "text/html": [
       "<div>\n",
       "<style>\n",
       "    .dataframe thead tr:only-child th {\n",
       "        text-align: right;\n",
       "    }\n",
       "\n",
       "    .dataframe thead th {\n",
       "        text-align: left;\n",
       "    }\n",
       "\n",
       "    .dataframe tbody tr th {\n",
       "        vertical-align: top;\n",
       "    }\n",
       "</style>\n",
       "<table border=\"1\" class=\"dataframe\">\n",
       "  <thead>\n",
       "    <tr style=\"text-align: right;\">\n",
       "      <th></th>\n",
       "      <th>user_id</th>\n",
       "      <th>order_id</th>\n",
       "      <th>product_id</th>\n",
       "    </tr>\n",
       "  </thead>\n",
       "  <tbody>\n",
       "    <tr>\n",
       "      <th>0</th>\n",
       "      <td>1</td>\n",
       "      <td>431534</td>\n",
       "      <td>p_196,p_12427,p_10258,p_25133,p_10326,p_17122,...</td>\n",
       "    </tr>\n",
       "    <tr>\n",
       "      <th>1</th>\n",
       "      <td>1</td>\n",
       "      <td>473747</td>\n",
       "      <td>p_196,p_12427,p_10258,p_25133,p_30450</td>\n",
       "    </tr>\n",
       "    <tr>\n",
       "      <th>2</th>\n",
       "      <td>1</td>\n",
       "      <td>550135</td>\n",
       "      <td>p_196,p_10258,p_12427,p_25133,p_13032</td>\n",
       "    </tr>\n",
       "    <tr>\n",
       "      <th>3</th>\n",
       "      <td>1</td>\n",
       "      <td>1187899</td>\n",
       "      <td>p_196,p_25133,p_38928,p_26405,p_39657,p_10258,...</td>\n",
       "    </tr>\n",
       "    <tr>\n",
       "      <th>4</th>\n",
       "      <td>1</td>\n",
       "      <td>2254736</td>\n",
       "      <td>p_196,p_12427,p_10258,p_25133,p_26405</td>\n",
       "    </tr>\n",
       "  </tbody>\n",
       "</table>\n",
       "</div>"
      ],
      "text/plain": [
       "   user_id  order_id                                         product_id\n",
       "0        1    431534  p_196,p_12427,p_10258,p_25133,p_10326,p_17122,...\n",
       "1        1    473747              p_196,p_12427,p_10258,p_25133,p_30450\n",
       "2        1    550135              p_196,p_10258,p_12427,p_25133,p_13032\n",
       "3        1   1187899  p_196,p_25133,p_38928,p_26405,p_39657,p_10258,...\n",
       "4        1   2254736              p_196,p_12427,p_10258,p_25133,p_26405"
      ]
     },
     "execution_count": 3,
     "metadata": {},
     "output_type": "execute_result"
    }
   ],
   "source": [
    "prefix = np.array(['p_'] * data.shape[0])\n",
    "data['product_id'] = np.core.defchararray.add(prefix, data['product_id'].values.astype(np.str))\n",
    "data = data[['order_id','user_id','product_id']]\n",
    "data = data.groupby(['user_id','order_id'])['product_id'].apply(','.join).reset_index()\n",
    "data.head()"
   ]
  },
  {
   "cell_type": "markdown",
   "metadata": {},
   "source": [
    "### wordvec model"
   ]
  },
  {
   "cell_type": "code",
   "execution_count": 17,
   "metadata": {},
   "outputs": [],
   "source": [
    "corpus = []\n",
    "\n",
    "for line in list(data['product_id'].values):\n",
    "    corpus += [line.split(',')]"
   ]
  },
  {
   "cell_type": "code",
   "execution_count": 6,
   "metadata": {
    "collapsed": true
   },
   "outputs": [],
   "source": [
    "products = pd.read_csv('../data/driver/driver_product.csv')\n",
    "lookup = products.set_index('product_id')['department_id'].to_dict()\n",
    "\n",
    "def accuracy(key, values):\n",
    "    key = lookup[int(key[2:])]\n",
    "    correct = 0.\n",
    "    for value in values:\n",
    "        try:\n",
    "            if lookup[int(value[0][2:])] == key:\n",
    "                correct += 1\n",
    "        except KeyError:\n",
    "            pass\n",
    "    return correct / len(values)    "
   ]
  },
  {
   "cell_type": "code",
   "execution_count": 22,
   "metadata": {},
   "outputs": [
    {
     "name": "stdout",
     "output_type": "stream",
     "text": [
      "start score: 0.0782\n",
      "alpha: 0.1 score: [ 0.4   0.33]\n",
      "alpha: 0.095 score: [ 0.44  0.34]\n",
      "alpha: 0.0902 score: [ 0.46  0.34]\n",
      "alpha: 0.0857 score: [ 0.47  0.34]\n",
      "alpha: 0.0815 score: [ 0.48  0.35]\n",
      "alpha: 0.0774 score: [ 0.48  0.35]\n",
      "alpha: 0.0735 score: [ 0.49  0.35]\n"
     ]
    }
   ],
   "source": [
    "#### params = {}\n",
    "params['size'] = 16\n",
    "params['window'] = 3 #tuned\n",
    "params['min_count'] = 0\n",
    "params['sample'] = 1e-3 #tuned\n",
    "params['negative'] = 20\n",
    "params['workers'] = 4\n",
    "params['hs'] = 0\n",
    "params['seed'] = 108\n",
    "\n",
    "model = word2vec.Word2Vec(**params, iter=1)\n",
    "model.build_vocab(corpus)\n",
    "\n",
    "words = list(model.wv.vocab.keys())\n",
    "sample = np.random.choice(words,5000)\n",
    "score = np.mean([accuracy(x ,model.most_similar([x])) for x in sample])\n",
    "print('start score:', score)\n",
    "\n",
    "alpha = 0.1\n",
    "\n",
    "for epoch in range(7):\n",
    "    model.train(corpus, total_examples=model.corpus_count, epochs=1, start_alpha=alpha, end_alpha=alpha)\n",
    "    scores = [accuracy(x ,model.most_similar([x])) for x in sample]\n",
    "    print('alpha:', round(alpha,4),'score:', np.round([np.mean(scores), np.std(scores)],2))\n",
    "    alpha = alpha * 0.95"
   ]
  },
  {
   "cell_type": "code",
   "execution_count": 23,
   "metadata": {
    "collapsed": true
   },
   "outputs": [],
   "source": [
    "model.wv.save_word2vec_format('../data/gensim/wordvectors1.txt', binary=False)"
   ]
  },
  {
   "cell_type": "code",
   "execution_count": 24,
   "metadata": {},
   "outputs": [
    {
     "name": "stdout",
     "output_type": "stream",
     "text": [
      "(49686, 17)\n"
     ]
    }
   ],
   "source": [
    "wordvecs = pd.read_csv('../data/gensim/wordvectors1.txt', sep=' ', header = None, skiprows=1)\n",
    "wordvecs.columns = ['id'] + ['pv_' + str(x) for x in range(16)]\n",
    "prodvecs = wordvecs[wordvecs['id'].str[:2] == 'p_']\n",
    "prodvecs['product_id'] = prodvecs['id'].map(lambda x : int(x.split('_')[1]))\n",
    "prodvecs = prodvecs.groupby('product_id').mean().reset_index()\n",
    "prodvecs.columns = ['product_id'] + ['prdwv_' + str(x) for x in range(16)]\n",
    "print(prodvecs.shape)\n",
    "prodvecs.to_csv('../data/gensim/prodvecs1.csv', index=False)"
   ]
  },
  {
   "cell_type": "code",
   "execution_count": null,
   "metadata": {
    "collapsed": true
   },
   "outputs": [],
   "source": []
  }
 ],
 "metadata": {
  "kernelspec": {
   "display_name": "Python 3",
   "language": "python",
   "name": "python3"
  },
  "language_info": {
   "codemirror_mode": {
    "name": "ipython",
    "version": 3
   },
   "file_extension": ".py",
   "mimetype": "text/x-python",
   "name": "python",
   "nbconvert_exporter": "python",
   "pygments_lexer": "ipython3",
   "version": "3.6.1"
  }
 },
 "nbformat": 4,
 "nbformat_minor": 2
}
