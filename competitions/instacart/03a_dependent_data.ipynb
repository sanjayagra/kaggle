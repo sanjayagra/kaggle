{
 "cells": [
  {
   "cell_type": "code",
   "execution_count": 1,
   "metadata": {
    "collapsed": true
   },
   "outputs": [],
   "source": [
    "import pandas as pd\n",
    "import numpy as np"
   ]
  },
  {
   "cell_type": "code",
   "execution_count": 2,
   "metadata": {},
   "outputs": [
    {
     "name": "stdout",
     "output_type": "stream",
     "text": [
      "(34010012, 6)\n",
      "(34010012, 13)\n"
     ]
    }
   ],
   "source": [
    "users = pd.read_csv('../data/driver/driver_user.csv')\n",
    "orders = pd.read_csv('../data/driver/driver_order.csv').drop('eval_set',axis=1)\n",
    "products = pd.read_csv('../data/driver/driver_order_products.csv')\n",
    "print(products.shape)\n",
    "products = products.merge(orders, on='order_id', how='inner')\n",
    "products = products.merge(users, on='user_id', how='inner')\n",
    "print(products.shape)"
   ]
  },
  {
   "cell_type": "code",
   "execution_count": 3,
   "metadata": {
    "collapsed": true
   },
   "outputs": [],
   "source": [
    "def target(cutoff):\n",
    "    candidate = products[products['counter'] > cutoff][['user_id','product_id','eval_set']]\n",
    "    nones = users[['user_id','eval_set']]\n",
    "    nones['product_id'] = [0] * users.shape[0]\n",
    "    candidate = candidate.append(nones).drop_duplicates()\n",
    "    dependent = products[products['counter'] == cutoff][['user_id','product_id','reordered']]\n",
    "    data = candidate.merge(dependent, on=['user_id','product_id'], how='left', indicator=True)\n",
    "    data['reordered'] = data['reordered'].fillna(0)\n",
    "    print('reorder rate', data[data['eval_set'] != 'test']['reordered'].mean())\n",
    "    data = data[['user_id','product_id','eval_set','reordered']]\n",
    "    return data"
   ]
  },
  {
   "cell_type": "code",
   "execution_count": 4,
   "metadata": {},
   "outputs": [
    {
     "name": "stdout",
     "output_type": "stream",
     "text": [
      "reorder rate 0.09730869743558757\n"
     ]
    }
   ],
   "source": [
    "dependent_n = target(1)\n",
    "dependent_n.to_csv('../data/model/dependent/dependent_n.csv', index=False)"
   ]
  },
  {
   "cell_type": "code",
   "execution_count": 5,
   "metadata": {},
   "outputs": [
    {
     "name": "stdout",
     "output_type": "stream",
     "text": [
      "reorder rate 0.1002565018360897\n"
     ]
    }
   ],
   "source": [
    "dependent_n_1 = target(2)\n",
    "dependent_n_1.to_csv('../data/model/dependent/dependent_n_1.csv', index=False)"
   ]
  },
  {
   "cell_type": "code",
   "execution_count": 6,
   "metadata": {},
   "outputs": [
    {
     "name": "stdout",
     "output_type": "stream",
     "text": [
      "reorder rate 0.10302258083552847\n"
     ]
    }
   ],
   "source": [
    "dependent_n_2 = target(3)\n",
    "dependent_n_2.to_csv('../data/model/dependent/dependent_n_2.csv', index=False)"
   ]
  }
 ],
 "metadata": {
  "kernelspec": {
   "display_name": "Python 3",
   "language": "python",
   "name": "python3"
  },
  "language_info": {
   "codemirror_mode": {
    "name": "ipython",
    "version": 3
   },
   "file_extension": ".py",
   "mimetype": "text/x-python",
   "name": "python",
   "nbconvert_exporter": "python",
   "pygments_lexer": "ipython3",
   "version": "3.6.1"
  }
 },
 "nbformat": 4,
 "nbformat_minor": 2
}
