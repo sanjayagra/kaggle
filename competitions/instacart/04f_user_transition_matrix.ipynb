{
 "cells": [
  {
   "cell_type": "code",
   "execution_count": 1,
   "metadata": {
    "collapsed": true
   },
   "outputs": [],
   "source": [
    "import pandas as pd\n",
    "import numpy as np\n",
    "from sklearn.metrics import roc_curve, auc\n",
    "pd.options.mode.chained_assignment = None"
   ]
  },
  {
   "cell_type": "markdown",
   "metadata": {},
   "source": [
    "### user product transitions"
   ]
  },
  {
   "cell_type": "code",
   "execution_count": 2,
   "metadata": {
    "collapsed": true
   },
   "outputs": [],
   "source": [
    "transition = pd.read_csv('../data/similarity/transition_matrix.csv')\n",
    "orders = pd.read_csv('../data/driver/driver_order.csv')\n",
    "dependent = pd.read_csv('../data/model/dependent/dependent_n.csv')\n",
    "history = pd.read_csv('../data/driver/driver_order_products.csv')\n",
    "prior = pd.read_csv('../data/profile/product_brrc_profile.csv')[['product_id','prd_post']]\n",
    "history = history.merge(orders, on='order_id')\n",
    "history = history[history['counter'] > 1]"
   ]
  },
  {
   "cell_type": "code",
   "execution_count": 3,
   "metadata": {},
   "outputs": [],
   "source": [
    "state = history[history['counter'] <= 6][['order_id','user_id','product_id','counter']]\n",
    "state['counter'] = state['counter'] - 1\n",
    "state = dependent.merge(state, on=['user_id','product_id'], how='outer',indicator=True)\n",
    "state = state[['order_id','user_id','product_id','counter']]\n",
    "state = state.pivot_table(index=['user_id','product_id'], columns='counter', values='order_id', aggfunc='count')\n",
    "state = state.reset_index()\n",
    "state.columns = ['user_id','product_id','1','2','3','4','5']\n",
    "state = state.fillna(0.)\n",
    "none = dependent[['user_id','product_id']].drop_duplicates()\n",
    "none = none.merge(state[['user_id','product_id']], on =['user_id','product_id'], how = 'left', indicator=True)\n",
    "none = none[none['_merge'] == 'left_only'][['user_id','product_id']]\n",
    "none['1'] = 0\n",
    "none['2'] = 0\n",
    "none['3'] = 0\n",
    "none['4'] = 0\n",
    "none['5'] = 0\n",
    "state = state.append(none)\n",
    "transition_1 = transition[['product_id','1','mc1']].drop_duplicates()\n",
    "transition_2 = transition[['product_id','1','2','mc2']].drop_duplicates()\n",
    "transition_3 = transition[['product_id','1','2','3','mc3']].drop_duplicates()\n",
    "transition_4 = transition[['product_id','1','2','3','4','mc4']].drop_duplicates()\n",
    "transition_5 = transition[['product_id','1','2','3','4','5','mc5']].drop_duplicates()\n",
    "user_transition = state.merge(transition_1, on=['product_id','1'], how='left')\n",
    "user_transition = user_transition.merge(transition_2, on=['product_id','1','2'], how='left')\n",
    "user_transition = user_transition.merge(transition_3, on=['product_id','1','2','3'], how='left')\n",
    "user_transition = user_transition.merge(transition_4, on=['product_id','1','2','3','4'], how='left')\n",
    "user_transition = user_transition.merge(transition_5, on=['product_id','1','2','3','4','5'], how='left')\n",
    "user_transition['usr_prd_l1'] = user_transition['1']\n",
    "user_transition['usr_prd_l2'] = user_transition['usr_prd_l1'] + user_transition['2']\n",
    "user_transition['usr_prd_l3'] = user_transition['usr_prd_l2'] + user_transition['3']\n",
    "user_transition['usr_prd_l4'] = user_transition['usr_prd_l3'] + user_transition['4']\n",
    "user_transition['usr_prd_l5'] = user_transition['usr_prd_l4'] + user_transition['5']\n",
    "user_transition = user_transition.merge(prior, on='product_id', how='inner')\n",
    "user_transition['mcrt1'] = user_transition['mc1'] / user_transition['prd_post'].clip_lower(1e-5)\n",
    "user_transition['mcrt2'] = user_transition['mc2'] / user_transition['prd_post'].clip_lower(1e-5)\n",
    "user_transition['mcrt3'] = user_transition['mc3'] / user_transition['prd_post'].clip_lower(1e-5)\n",
    "user_transition['mcrt4'] = user_transition['mc4'] / user_transition['prd_post'].clip_lower(1e-5)\n",
    "user_transition['mcrt5'] = user_transition['mc5'] / user_transition['prd_post'].clip_lower(1e-5)\n",
    "user_transition = user_transition.drop(['1','2','3','4','5','prd_post'], axis=1)\n",
    "user_transition.to_csv('../data/profile/user_product_transition.csv',index=False)"
   ]
  },
  {
   "cell_type": "code",
   "execution_count": 4,
   "metadata": {},
   "outputs": [
    {
     "name": "stdout",
     "output_type": "stream",
     "text": [
      "feat: mc1 auc: 47.81\n",
      "feat: mc2 auc: 53.06\n",
      "feat: mc3 auc: 55.31\n",
      "feat: mc4 auc: 55.86\n",
      "feat: mc5 auc: 55.51\n",
      "feat: usr_prd_l1 auc: 31.61\n",
      "feat: usr_prd_l2 auc: 43.2\n",
      "feat: usr_prd_l3 auc: 48.92\n",
      "feat: usr_prd_l4 auc: 51.78\n",
      "feat: usr_prd_l5 auc: 53.28\n",
      "feat: mcrt1 auc: 27.76\n",
      "feat: mcrt2 auc: 40.66\n",
      "feat: mcrt3 auc: 46.01\n",
      "feat: mcrt4 auc: 47.54\n",
      "feat: mcrt5 auc: 47.5\n"
     ]
    }
   ],
   "source": [
    "target = pd.read_csv('../data/model/dependent/dependent_n.csv')\n",
    "user_transition = pd.read_csv('../data/profile/user_product_transition.csv')\n",
    "user_transition = user_transition.fillna(0)\n",
    "target = target.merge(user_transition, on=['user_id','product_id'], how='inner')\n",
    "target = target[target['eval_set'] != ' test']\n",
    "\n",
    "for feat in user_transition.columns[2:]:\n",
    "    fpr, tpr, thresholds = roc_curve(target['reordered'], target[feat])\n",
    "    print('feat:', feat, 'auc:', round(100*(2*auc(fpr,tpr) - 1),2))"
   ]
  },
  {
   "cell_type": "code",
   "execution_count": null,
   "metadata": {
    "collapsed": true
   },
   "outputs": [],
   "source": []
  }
 ],
 "metadata": {
  "kernelspec": {
   "display_name": "Python 3",
   "language": "python",
   "name": "python3"
  },
  "language_info": {
   "codemirror_mode": {
    "name": "ipython",
    "version": 3
   },
   "file_extension": ".py",
   "mimetype": "text/x-python",
   "name": "python",
   "nbconvert_exporter": "python",
   "pygments_lexer": "ipython3",
   "version": "3.6.1"
  }
 },
 "nbformat": 4,
 "nbformat_minor": 2
}
