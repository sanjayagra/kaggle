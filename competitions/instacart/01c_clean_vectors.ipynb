{
 "cells": [
  {
   "cell_type": "code",
   "execution_count": 1,
   "metadata": {
    "collapsed": true
   },
   "outputs": [],
   "source": [
    "import pandas as pd\n",
    "import numpy as np\n",
    "pd.set_option('chained_assignment',None)"
   ]
  },
  {
   "cell_type": "code",
   "execution_count": 2,
   "metadata": {},
   "outputs": [
    {
     "name": "stdout",
     "output_type": "stream",
     "text": [
      "(206209, 17)\n"
     ]
    }
   ],
   "source": [
    "docvecs = pd.read_csv('../data/gensim/docvectors.txt', sep=' ', header = None, skiprows=1)\n",
    "docvecs.columns = ['id'] + ['uv_' + str(x) for x in range(16)]\n",
    "uservecs = docvecs[docvecs['id'].str[:5] == '*dt_u']\n",
    "uservecs['user_id'] = uservecs['id'].map(lambda x : int(x.split('_')[2]))\n",
    "uservecs = uservecs.drop('id',axis=1)\n",
    "uservecs = uservecs.groupby('user_id').mean().reset_index()\n",
    "uservecs.columns = ['user_id'] + ['usrwv_' + str(x) for x in range(16)]\n",
    "print(uservecs.shape)"
   ]
  },
  {
   "cell_type": "code",
   "execution_count": 3,
   "metadata": {},
   "outputs": [
    {
     "name": "stdout",
     "output_type": "stream",
     "text": [
      "(49686, 17)\n"
     ]
    }
   ],
   "source": []
  },
  {
   "cell_type": "code",
   "execution_count": 4,
   "metadata": {
    "collapsed": true
   },
   "outputs": [],
   "source": [
    "uservecs.to_csv('../data/gensim/uservecs.csv', index=False)\n"
   ]
  }
 ],
 "metadata": {
  "kernelspec": {
   "display_name": "Python 3",
   "language": "python",
   "name": "python3"
  },
  "language_info": {
   "codemirror_mode": {
    "name": "ipython",
    "version": 3
   },
   "file_extension": ".py",
   "mimetype": "text/x-python",
   "name": "python",
   "nbconvert_exporter": "python",
   "pygments_lexer": "ipython3",
   "version": "3.6.1"
  }
 },
 "nbformat": 4,
 "nbformat_minor": 2
}
