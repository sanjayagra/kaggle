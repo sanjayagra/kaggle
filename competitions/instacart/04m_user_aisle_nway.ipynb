{
 "cells": [
  {
   "cell_type": "code",
   "execution_count": 1,
   "metadata": {
    "collapsed": true
   },
   "outputs": [],
   "source": [
    "import pandas as pd\n",
    "import numpy as np"
   ]
  },
  {
   "cell_type": "code",
   "execution_count": 2,
   "metadata": {
    "collapsed": true
   },
   "outputs": [],
   "source": [
    "dependent = pd.read_csv('../data/model/dependent/dependent_n.csv')\n",
    "orders = pd.read_csv('../data/driver/driver_order.csv')\n",
    "history = pd.read_csv('../data/driver/driver_order_products.csv')\n",
    "aisles = pd.read_csv('../data/driver/driver_product.csv')[['product_id','aisle_id']]\n",
    "driver = pd.read_csv('../data/profile/user_product_profile.csv')\n",
    "driver = driver[['user_id','product_id','usr_ais_cnt']]\n",
    "dependent = dependent[['user_id','product_id']]\n",
    "target = orders[orders['counter'] == 1]\n",
    "orders = orders[orders['counter'] > 1]\n",
    "history = history.merge(orders, on='order_id', how='inner')\n",
    "target = dependent.merge(target, on=['user_id'], how='inner')"
   ]
  },
  {
   "cell_type": "code",
   "execution_count": 3,
   "metadata": {},
   "outputs": [
    {
     "name": "stdout",
     "output_type": "stream",
     "text": [
      "(13398053, 8)\n"
     ]
    }
   ],
   "source": [
    "target = target.merge(aisles, on='product_id')\n",
    "target = target.merge(driver, on=['user_id','product_id'])\n",
    "features = ['user_id','product_id','aisle_id','order_dow','order_hour_of_day']\n",
    "features += ['days_since_prior_order','order_number','usr_ais_cnt']\n",
    "target = target[features]\n",
    "print(target.shape)"
   ]
  },
  {
   "cell_type": "code",
   "execution_count": 4,
   "metadata": {
    "collapsed": true
   },
   "outputs": [],
   "source": [
    "aggregate = {'order_id':'count'}"
   ]
  },
  {
   "cell_type": "code",
   "execution_count": 5,
   "metadata": {
    "collapsed": true
   },
   "outputs": [],
   "source": [
    "usr_ais_dow = history.groupby(['user_id','aisle_id','order_dow']).agg(aggregate).reset_index()\n",
    "usr_ais_dow = usr_ais_dow.rename(columns={'order_id':'usr_ais_dow_cnt'})"
   ]
  },
  {
   "cell_type": "code",
   "execution_count": 6,
   "metadata": {
    "collapsed": true
   },
   "outputs": [],
   "source": [
    "history['order_hour_of_day'], hour = pd.qcut(history['order_hour_of_day'], 10, retbins=True, labels=False)\n",
    "usr_ais_hod = history.groupby(['user_id','aisle_id','order_hour_of_day']).agg(aggregate).reset_index()\n",
    "usr_ais_hod = usr_ais_hod.rename(columns={'order_id':'usr_ais_hod_cnt'})"
   ]
  },
  {
   "cell_type": "code",
   "execution_count": 7,
   "metadata": {
    "collapsed": true
   },
   "outputs": [],
   "source": [
    "history['days_since_prior_order'], days = pd.qcut(history['days_since_prior_order'], 7, retbins=True, labels=False)\n",
    "usr_ais_dysc = history.groupby(['user_id','aisle_id','days_since_prior_order']).agg(aggregate).reset_index()\n",
    "usr_ais_dysc = usr_ais_dysc.rename(columns={'order_id':'usr_ais_dysc_cnt'})"
   ]
  },
  {
   "cell_type": "code",
   "execution_count": 8,
   "metadata": {
    "collapsed": true
   },
   "outputs": [],
   "source": [
    "target['order_hour_of_day'] = pd.cut(target['order_hour_of_day'], bins=hour, labels=False, include_lowest=True)\n",
    "target['days_since_prior_order'] = pd.cut(target['days_since_prior_order'], bins=days, labels=False, include_lowest=True)"
   ]
  },
  {
   "cell_type": "code",
   "execution_count": 9,
   "metadata": {
    "collapsed": true
   },
   "outputs": [],
   "source": [
    "del history\n",
    "del orders\n",
    "del dependent"
   ]
  },
  {
   "cell_type": "code",
   "execution_count": 10,
   "metadata": {
    "collapsed": true
   },
   "outputs": [],
   "source": [
    "target = target.merge(usr_ais_dow, on=['user_id','aisle_id','order_dow'], how='left')\n",
    "target = target.merge(usr_ais_hod, on=['user_id','aisle_id','order_hour_of_day'], how='left')\n",
    "target = target.merge(usr_ais_dysc, on=['user_id','aisle_id','days_since_prior_order'], how='left')"
   ]
  },
  {
   "cell_type": "code",
   "execution_count": 11,
   "metadata": {
    "collapsed": true
   },
   "outputs": [],
   "source": [
    "target = target.drop(['order_dow','order_hour_of_day','days_since_prior_order','order_number'], axis=1)"
   ]
  },
  {
   "cell_type": "code",
   "execution_count": 12,
   "metadata": {},
   "outputs": [],
   "source": [
    "target['usrais2way1'] = target['usr_ais_dow_cnt'] / target['usr_ais_cnt'] \n",
    "target['usrais2way2'] = target['usr_ais_hod_cnt'] / target['usr_ais_cnt'] \n",
    "target['usrais2way3'] = target['usr_ais_dysc_cnt'] / target['usr_ais_cnt']"
   ]
  },
  {
   "cell_type": "code",
   "execution_count": 13,
   "metadata": {
    "collapsed": true
   },
   "outputs": [],
   "source": [
    "target = target.drop(['aisle_id','usr_ais_cnt'], axis=1)"
   ]
  },
  {
   "cell_type": "code",
   "execution_count": 14,
   "metadata": {},
   "outputs": [
    {
     "data": {
      "text/html": [
       "<div>\n",
       "<style>\n",
       "    .dataframe thead tr:only-child th {\n",
       "        text-align: right;\n",
       "    }\n",
       "\n",
       "    .dataframe thead th {\n",
       "        text-align: left;\n",
       "    }\n",
       "\n",
       "    .dataframe tbody tr th {\n",
       "        vertical-align: top;\n",
       "    }\n",
       "</style>\n",
       "<table border=\"1\" class=\"dataframe\">\n",
       "  <thead>\n",
       "    <tr style=\"text-align: right;\">\n",
       "      <th></th>\n",
       "      <th>user_id</th>\n",
       "      <th>product_id</th>\n",
       "      <th>usr_ais_dow_cnt</th>\n",
       "      <th>usr_ais_hod_cnt</th>\n",
       "      <th>usr_ais_dysc_cnt</th>\n",
       "      <th>usrais2way1</th>\n",
       "      <th>usrais2way2</th>\n",
       "      <th>usrais2way3</th>\n",
       "    </tr>\n",
       "  </thead>\n",
       "  <tbody>\n",
       "    <tr>\n",
       "      <th>0</th>\n",
       "      <td>112108</td>\n",
       "      <td>14947</td>\n",
       "      <td>NaN</td>\n",
       "      <td>1.0</td>\n",
       "      <td>NaN</td>\n",
       "      <td>NaN</td>\n",
       "      <td>0.250000</td>\n",
       "      <td>NaN</td>\n",
       "    </tr>\n",
       "    <tr>\n",
       "      <th>1</th>\n",
       "      <td>18194</td>\n",
       "      <td>14947</td>\n",
       "      <td>4.0</td>\n",
       "      <td>6.0</td>\n",
       "      <td>5.0</td>\n",
       "      <td>0.117647</td>\n",
       "      <td>0.176471</td>\n",
       "      <td>0.147059</td>\n",
       "    </tr>\n",
       "    <tr>\n",
       "      <th>2</th>\n",
       "      <td>88772</td>\n",
       "      <td>14947</td>\n",
       "      <td>1.0</td>\n",
       "      <td>NaN</td>\n",
       "      <td>1.0</td>\n",
       "      <td>1.000000</td>\n",
       "      <td>NaN</td>\n",
       "      <td>1.000000</td>\n",
       "    </tr>\n",
       "    <tr>\n",
       "      <th>3</th>\n",
       "      <td>193635</td>\n",
       "      <td>14947</td>\n",
       "      <td>NaN</td>\n",
       "      <td>2.0</td>\n",
       "      <td>NaN</td>\n",
       "      <td>NaN</td>\n",
       "      <td>0.200000</td>\n",
       "      <td>NaN</td>\n",
       "    </tr>\n",
       "    <tr>\n",
       "      <th>4</th>\n",
       "      <td>18783</td>\n",
       "      <td>14947</td>\n",
       "      <td>3.0</td>\n",
       "      <td>2.0</td>\n",
       "      <td>3.0</td>\n",
       "      <td>0.096774</td>\n",
       "      <td>0.064516</td>\n",
       "      <td>0.096774</td>\n",
       "    </tr>\n",
       "  </tbody>\n",
       "</table>\n",
       "</div>"
      ],
      "text/plain": [
       "   user_id  product_id  usr_ais_dow_cnt  usr_ais_hod_cnt  usr_ais_dysc_cnt  \\\n",
       "0   112108       14947              NaN              1.0               NaN   \n",
       "1    18194       14947              4.0              6.0               5.0   \n",
       "2    88772       14947              1.0              NaN               1.0   \n",
       "3   193635       14947              NaN              2.0               NaN   \n",
       "4    18783       14947              3.0              2.0               3.0   \n",
       "\n",
       "   usrais2way1  usrais2way2  usrais2way3  \n",
       "0          NaN     0.250000          NaN  \n",
       "1     0.117647     0.176471     0.147059  \n",
       "2     1.000000          NaN     1.000000  \n",
       "3          NaN     0.200000          NaN  \n",
       "4     0.096774     0.064516     0.096774  "
      ]
     },
     "execution_count": 14,
     "metadata": {},
     "output_type": "execute_result"
    }
   ],
   "source": [
    "target.head()"
   ]
  },
  {
   "cell_type": "code",
   "execution_count": null,
   "metadata": {
    "collapsed": true
   },
   "outputs": [],
   "source": [
    "target.to_csv('../data/profile/user_aisle_2way.csv', index=False)"
   ]
  },
  {
   "cell_type": "code",
   "execution_count": null,
   "metadata": {},
   "outputs": [],
   "source": [
    "target.shape"
   ]
  },
  {
   "cell_type": "code",
   "execution_count": null,
   "metadata": {
    "collapsed": true
   },
   "outputs": [],
   "source": []
  }
 ],
 "metadata": {
  "kernelspec": {
   "display_name": "Python 3",
   "language": "python",
   "name": "python3"
  },
  "language_info": {
   "codemirror_mode": {
    "name": "ipython",
    "version": 3
   },
   "file_extension": ".py",
   "mimetype": "text/x-python",
   "name": "python",
   "nbconvert_exporter": "python",
   "pygments_lexer": "ipython3",
   "version": "3.6.1"
  }
 },
 "nbformat": 4,
 "nbformat_minor": 2
}
