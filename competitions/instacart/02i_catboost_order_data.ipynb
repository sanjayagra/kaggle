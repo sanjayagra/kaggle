{
 "cells": [
  {
   "cell_type": "code",
   "execution_count": 1,
   "metadata": {
    "collapsed": true
   },
   "outputs": [],
   "source": [
    "import pandas as pd\n",
    "import numpy as np\n",
    "pd.options.mode.chained_assignment = None"
   ]
  },
  {
   "cell_type": "markdown",
   "metadata": {},
   "source": [
    "### train data"
   ]
  },
  {
   "cell_type": "code",
   "execution_count": 2,
   "metadata": {},
   "outputs": [],
   "source": [
    "orders = pd.read_csv('../data/driver/driver_order.csv')\n",
    "history = pd.read_csv('../data/driver/driver_order_products.csv')\n",
    "history = history.merge(orders, on='order_id', how='inner')\n",
    "history = history[history['counter'] > 2]\n",
    "order_pattern = history[history['counter'] <= 12]\n",
    "order_pattern['counter'] = order_pattern['counter'] - 3\n",
    "order_pattern = order_pattern[['order_id','user_id','product_id','aisle_id','department_id','counter']]\n",
    "index = ['user_id','product_id','aisle_id','department_id']\n",
    "columns = ['counter']\n",
    "values = ['order_id']\n",
    "order_pattern = order_pattern.pivot_table(index=index, columns=columns, values=values, aggfunc='count').reset_index()\n",
    "order_pattern.columns = [\"_\".join((str(j),str(i))) for i,j in order_pattern.columns]\n",
    "del history\n",
    "del orders"
   ]
  },
  {
   "cell_type": "code",
   "execution_count": 3,
   "metadata": {
    "collapsed": true
   },
   "outputs": [],
   "source": [
    "orders = pd.read_csv('../data/driver/driver_order.csv')\n",
    "orders = orders[['order_id','user_id','counter','days_since_prior_order']]\n",
    "orders = orders[orders['counter'] > 1]\n",
    "orders['days'] = orders.groupby('user_id')['days_since_prior_order'].shift(1)\n",
    "orders = orders[orders['counter'] > 2]\n",
    "orders['days'] = orders.groupby('user_id')['days'].cumsum()\n",
    "history = pd.read_csv('../data/driver/driver_order_products.csv')\n",
    "history = history.merge(orders, on='order_id', how='inner')\n",
    "history = history[['user_id','product_id','days','counter']]\n",
    "order_days = history.copy()\n",
    "min_counter = order_days.groupby(['user_id','product_id'])['counter'].min().reset_index()\n",
    "min_counter = min_counter.rename(columns={'counter':'min_counter'})\n",
    "order_days = order_days.merge(min_counter, on=['user_id','product_id'])\n",
    "order_days['counter'] = order_days['counter'] - order_days['min_counter']\n",
    "order_days = order_days[order_days['counter'] <= 9]\n",
    "index = ['user_id','product_id']\n",
    "columns = ['counter']\n",
    "values = ['days']\n",
    "order_days = order_days.pivot_table(index=index, columns=columns, values=values).reset_index()\n",
    "order_days.columns = [\"_\".join((str(j),str(i))) for i,j in order_days.columns]\n",
    "del history\n",
    "del orders"
   ]
  },
  {
   "cell_type": "code",
   "execution_count": 4,
   "metadata": {
    "collapsed": true
   },
   "outputs": [],
   "source": [
    "order_pattern = order_pattern.rename(columns={'_user_id':'user_id','_product_id':'product_id'})\n",
    "order_days = order_days.rename(columns={'_user_id':'user_id','_product_id':'product_id'})"
   ]
  },
  {
   "cell_type": "code",
   "execution_count": 5,
   "metadata": {
    "collapsed": true
   },
   "outputs": [],
   "source": [
    "dependent = pd.read_csv('../data/model/dependent/dependent_n_1.csv')"
   ]
  },
  {
   "cell_type": "code",
   "execution_count": 6,
   "metadata": {
    "collapsed": true
   },
   "outputs": [],
   "source": [
    "dependent = dependent[['user_id','eval_set','reordered','product_id']]"
   ]
  },
  {
   "cell_type": "code",
   "execution_count": 7,
   "metadata": {
    "collapsed": true
   },
   "outputs": [],
   "source": [
    "dependent = dependent.merge(order_pattern, on=['user_id','product_id'])\n",
    "dependent = dependent.merge(order_days, on=['user_id','product_id'])"
   ]
  },
  {
   "cell_type": "code",
   "execution_count": 8,
   "metadata": {
    "collapsed": true
   },
   "outputs": [],
   "source": [
    "dependent.to_csv('../data/catboost/data/train_data1.csv', index=False)"
   ]
  },
  {
   "cell_type": "markdown",
   "metadata": {},
   "source": [
    "### score data"
   ]
  },
  {
   "cell_type": "code",
   "execution_count": 9,
   "metadata": {
    "collapsed": true
   },
   "outputs": [],
   "source": [
    "orders = pd.read_csv('../data/driver/driver_order.csv')\n",
    "history = pd.read_csv('../data/driver/driver_order_products.csv')\n",
    "history = history.merge(orders, on='order_id', how='inner')\n",
    "history = history[history['counter'] > 1]\n",
    "order_pattern = history[history['counter'] <= 11]\n",
    "order_pattern['counter'] = order_pattern['counter'] - 2\n",
    "order_pattern = order_pattern[['order_id','user_id','product_id','aisle_id','department_id','counter']]\n",
    "index = ['user_id','product_id','aisle_id','department_id']\n",
    "columns = ['counter']\n",
    "values = ['order_id']\n",
    "order_pattern = order_pattern.pivot_table(index=index, columns=columns, values=values, aggfunc='count').reset_index()\n",
    "order_pattern.columns = [\"_\".join((str(j),str(i))) for i,j in order_pattern.columns]\n",
    "del history\n",
    "del orders"
   ]
  },
  {
   "cell_type": "code",
   "execution_count": 10,
   "metadata": {
    "collapsed": true
   },
   "outputs": [],
   "source": [
    "orders = pd.read_csv('../data/driver/driver_order.csv')\n",
    "orders = orders[['order_id','user_id','counter','days_since_prior_order']]\n",
    "orders = orders[orders['counter'] > 0]\n",
    "orders['days'] = orders.groupby('user_id')['days_since_prior_order'].shift(1)\n",
    "orders = orders[orders['counter'] > 1]\n",
    "orders['days'] = orders.groupby('user_id')['days'].cumsum()\n",
    "history = pd.read_csv('../data/driver/driver_order_products.csv')\n",
    "history = history.merge(orders, on='order_id', how='inner')\n",
    "history = history[['user_id','product_id','days','counter']]\n",
    "order_days = history.copy()\n",
    "min_counter = order_days.groupby(['user_id','product_id'])['counter'].min().reset_index()\n",
    "min_counter = min_counter.rename(columns={'counter':'min_counter'})\n",
    "order_days = order_days.merge(min_counter, on=['user_id','product_id'])\n",
    "order_days['counter'] = order_days['counter'] - order_days['min_counter']\n",
    "order_days = order_days[order_days['counter'] <= 9]\n",
    "index = ['user_id','product_id']\n",
    "columns = ['counter']\n",
    "values = ['days']\n",
    "order_days = order_days.pivot_table(index=index, columns=columns, values=values).reset_index()\n",
    "order_days.columns = [\"_\".join((str(j),str(i))) for i,j in order_days.columns]\n",
    "del history\n",
    "del orders"
   ]
  },
  {
   "cell_type": "code",
   "execution_count": 11,
   "metadata": {
    "collapsed": true
   },
   "outputs": [],
   "source": [
    "order_pattern = order_pattern.rename(columns={'_user_id':'user_id','_product_id':'product_id'})\n",
    "order_days = order_days.rename(columns={'_user_id':'user_id','_product_id':'product_id'})"
   ]
  },
  {
   "cell_type": "code",
   "execution_count": 12,
   "metadata": {
    "collapsed": true
   },
   "outputs": [],
   "source": [
    "dependent = pd.read_csv('../data/model/dependent/dependent_n.csv')"
   ]
  },
  {
   "cell_type": "code",
   "execution_count": 13,
   "metadata": {
    "collapsed": true
   },
   "outputs": [],
   "source": [
    "dependent = dependent[['user_id','eval_set','reordered','product_id']]"
   ]
  },
  {
   "cell_type": "code",
   "execution_count": 14,
   "metadata": {
    "collapsed": true
   },
   "outputs": [],
   "source": [
    "dependent = dependent.merge(order_pattern, on=['user_id','product_id'])\n",
    "dependent = dependent.merge(order_days, on=['user_id','product_id'])"
   ]
  },
  {
   "cell_type": "code",
   "execution_count": 15,
   "metadata": {
    "collapsed": true
   },
   "outputs": [],
   "source": [
    "dependent.to_csv('../data/catboost/data/score_data1.csv', index=False)"
   ]
  },
  {
   "cell_type": "code",
   "execution_count": null,
   "metadata": {
    "collapsed": true
   },
   "outputs": [],
   "source": []
  }
 ],
 "metadata": {
  "kernelspec": {
   "display_name": "Python 3",
   "language": "python",
   "name": "python3"
  },
  "language_info": {
   "codemirror_mode": {
    "name": "ipython",
    "version": 3
   },
   "file_extension": ".py",
   "mimetype": "text/x-python",
   "name": "python",
   "nbconvert_exporter": "python",
   "pygments_lexer": "ipython3",
   "version": "3.6.1"
  }
 },
 "nbformat": 4,
 "nbformat_minor": 2
}
