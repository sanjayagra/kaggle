{
 "cells": [
  {
   "cell_type": "code",
   "execution_count": 1,
   "metadata": {
    "collapsed": true
   },
   "outputs": [],
   "source": [
    "import numpy as np\n",
    "import pandas as pd\n",
    "from multiprocessing import Pool"
   ]
  },
  {
   "cell_type": "code",
   "execution_count": 2,
   "metadata": {
    "collapsed": true
   },
   "outputs": [],
   "source": [
    "def f1_full(y_true, y_pred):\n",
    "    return np.mean([f1_score(x, y) for x, y in zip(y_true, y_pred)])"
   ]
  },
  {
   "cell_type": "code",
   "execution_count": 3,
   "metadata": {
    "collapsed": true
   },
   "outputs": [],
   "source": [
    "def f1_score(y_true, y_pred):\n",
    "    y_true = set(y_true)\n",
    "    y_pred = set(y_pred)\n",
    "    cross_size = len(y_true & y_pred)\n",
    "    if cross_size == 0: return 0.\n",
    "    p = cross_size / len(y_pred)\n",
    "    r = cross_size / len(y_true)\n",
    "    return 2 * p * r / (p + r)"
   ]
  },
  {
   "cell_type": "code",
   "execution_count": 4,
   "metadata": {
    "collapsed": true
   },
   "outputs": [],
   "source": [
    "class F1Optimizer():\n",
    "    \n",
    "    def __init__(self):\n",
    "        pass\n",
    "\n",
    "    @staticmethod\n",
    "    def get_expectations(P, pNone=None):\n",
    "        expectations = []\n",
    "        P = np.sort(P)[::-1]\n",
    "\n",
    "        n = np.array(P).shape[0]\n",
    "        DP_C = np.zeros((n + 2, n + 1))\n",
    "        if pNone is None:\n",
    "            pNone = (1.0 - P).prod()\n",
    "\n",
    "        DP_C[0][0] = 1.0\n",
    "        for j in range(1, n):\n",
    "            DP_C[0][j] = (1.0 - P[j - 1]) * DP_C[0, j - 1]\n",
    "\n",
    "        for i in range(1, n + 1):\n",
    "            DP_C[i, i] = DP_C[i - 1, i - 1] * P[i - 1]\n",
    "            for j in range(i + 1, n + 1):\n",
    "                DP_C[i, j] = P[j - 1] * DP_C[i - 1, j - 1] + (1.0 - P[j - 1]) * DP_C[i, j - 1]\n",
    "\n",
    "        DP_S = np.zeros((2 * n + 1,))\n",
    "        DP_SNone = np.zeros((2 * n + 1,))\n",
    "        for i in range(1, 2 * n + 1):\n",
    "            DP_S[i] = 1. / (1. * i)\n",
    "            DP_SNone[i] = 1. / (1. * i + 1)\n",
    "        for k in range(n + 1)[::-1]:\n",
    "            f1 = 0\n",
    "            f1None = 0\n",
    "            for k1 in range(n + 1):\n",
    "                f1 += 2 * k1 * DP_C[k1][k] * DP_S[k + k1]\n",
    "                f1None += 2 * k1 * DP_C[k1][k] * DP_SNone[k + k1]\n",
    "            for i in range(1, 2 * k - 1):\n",
    "                DP_S[i] = (1 - P[k - 1]) * DP_S[i] + P[k - 1] * DP_S[i + 1]\n",
    "                DP_SNone[i] = (1 - P[k - 1]) * DP_SNone[i] + P[k - 1] * DP_SNone[i + 1]\n",
    "            expectations.append([f1None + 2 * pNone / (2 + k), f1])\n",
    "\n",
    "        return np.array(expectations[::-1]).T\n",
    "\n",
    "    @staticmethod\n",
    "    def maximize_expectation(args):\n",
    "        user = args[0]\n",
    "        P = args[1]\n",
    "        pNone = args[2]\n",
    "        expectations = F1Optimizer.get_expectations(P, pNone)\n",
    "        ix_max = np.unravel_index(expectations.argmax(), expectations.shape)\n",
    "        max_f1 = expectations[ix_max]\n",
    "        predNone = True if ix_max[0] == 0 else False\n",
    "        best_k = ix_max[1]\n",
    "        return user, best_k, predNone, max_f1\n",
    "\n",
    "    @staticmethod\n",
    "    def _F1(tp, fp, fn):\n",
    "        return 2 * tp / (2 * tp + fp + fn)\n",
    "\n",
    "    @staticmethod\n",
    "    def _Fbeta(tp, fp, fn, beta=1.0):\n",
    "        beta_squared = beta ** 2\n",
    "        return (1.0 + beta_squared) * tp / ((1.0 + beta_squared) * tp + fp + beta_squared * fn)"
   ]
  },
  {
   "cell_type": "code",
   "execution_count": 5,
   "metadata": {
    "collapsed": true
   },
   "outputs": [],
   "source": [
    "def append(products, none):\n",
    "    if none == True:\n",
    "        return [0] + products\n",
    "    else:\n",
    "        return products"
   ]
  },
  {
   "cell_type": "code",
   "execution_count": 6,
   "metadata": {
    "collapsed": true
   },
   "outputs": [],
   "source": [
    "optim = F1Optimizer().maximize_expectation"
   ]
  },
  {
   "cell_type": "markdown",
   "metadata": {},
   "source": [
    "### validation data"
   ]
  },
  {
   "cell_type": "code",
   "execution_count": 7,
   "metadata": {
    "collapsed": true
   },
   "outputs": [],
   "source": [
    "data = pd.read_csv('../data/model/score/score_n.csv')\n",
    "data = data.sort_values(by=['user_id','score'], ascending = [True,False])\n",
    "data = data[data['eval_set'] == 'valid']\n",
    "not_none = data[data['product_id'] != 0]\n",
    "none = data[data['product_id'] == 0]"
   ]
  },
  {
   "cell_type": "code",
   "execution_count": 8,
   "metadata": {
    "collapsed": true
   },
   "outputs": [],
   "source": [
    "list_not_none = not_none.groupby('user_id')['score'].apply(list).reset_index()\n",
    "list_none = none[['user_id','score']].rename(columns={'score':'none'})\n",
    "list_not_none = list_not_none.merge(list_none, on='user_id', how='inner')\n",
    "list_not_none = list_not_none.to_records(index=False)\n",
    "list_not_none = list(list_not_none)"
   ]
  },
  {
   "cell_type": "code",
   "execution_count": 9,
   "metadata": {
    "collapsed": true
   },
   "outputs": [],
   "source": [
    "pool = Pool(31)\n",
    "results = pool.map(optim, list_not_none)"
   ]
  },
  {
   "cell_type": "code",
   "execution_count": null,
   "metadata": {
    "collapsed": true
   },
   "outputs": [],
   "source": [
    "thresholds = pd.DataFrame(results, columns=['user_id','cutoff','none','f1'])\n",
    "thresholds = not_none.merge(thresholds, on='user_id', how='left')\n",
    "thresholds['rank'] = thresholds.groupby('user_id')['score'].rank(ascending=False)\n",
    "thresholds = thresholds[thresholds['rank'] <= thresholds['cutoff']]\n",
    "thresholds = thresholds.groupby(['user_id','none'])['product_id'].apply(list)\n",
    "thresholds = thresholds.reset_index()"
   ]
  },
  {
   "cell_type": "code",
   "execution_count": null,
   "metadata": {
    "collapsed": true
   },
   "outputs": [],
   "source": [
    "thresholds['product_id'] = thresholds.apply(lambda x : append(x['product_id'], x['none']), axis=1)\n",
    "thresholds = thresholds[['user_id','product_id']].rename(columns={'product_id':'predicted'})\n",
    "actuals = data[data['reordered'] == 1]\n",
    "actuals = actuals.groupby('user_id')['product_id'].apply(list).reset_index()\n",
    "actuals = actuals.rename(columns={'product_id':'actuals'})\n",
    "actuals = actuals.merge(thresholds, on='user_id', how='left')\n",
    "actuals['predicted'] = actuals['predicted'].map(lambda x : [0] if np.isnan(x).any() else x)"
   ]
  },
  {
   "cell_type": "code",
   "execution_count": null,
   "metadata": {},
   "outputs": [],
   "source": [
    "print(f1_full(actuals['actuals'],actuals['predicted']))"
   ]
  },
  {
   "cell_type": "markdown",
   "metadata": {},
   "source": [
    "### scoring data"
   ]
  },
  {
   "cell_type": "code",
   "execution_count": null,
   "metadata": {},
   "outputs": [],
   "source": [
    "data = pd.read_csv('../data/model/score/score_n.csv')\n",
    "data = data.sort_values(by=['user_id','score'], ascending = [True,False])\n",
    "data = data[data['eval_set'] == 'test']\n",
    "not_none = data[data['product_id'] != 0]\n",
    "none = data[data['product_id'] == 0]\n",
    "list_not_none = not_none.groupby('user_id')['score'].apply(list).reset_index()\n",
    "list_none = none[['user_id','score']].rename(columns={'score':'none'})\n",
    "list_not_none = list_not_none.merge(list_none, on='user_id', how='inner')\n",
    "list_not_none = list_not_none.to_records(index=False)\n",
    "list_not_none = list(list_not_none)\n",
    "print(len(list_not_none))"
   ]
  },
  {
   "cell_type": "code",
   "execution_count": null,
   "metadata": {
    "collapsed": true
   },
   "outputs": [],
   "source": [
    "pool = Pool(63)\n",
    "results = pool.map(optim, list_not_none)"
   ]
  },
  {
   "cell_type": "code",
   "execution_count": null,
   "metadata": {},
   "outputs": [],
   "source": [
    "thresholds = pd.DataFrame(results, columns=['user_id','cutoff','none','f1'])\n",
    "thresholds = not_none.merge(thresholds, on='user_id', how='left')\n",
    "thresholds['rank'] = thresholds.groupby('user_id')['score'].rank(ascending=False)\n",
    "thresholds = thresholds[thresholds['rank'] <= thresholds['cutoff']]\n",
    "thresholds = thresholds.groupby(['user_id','none'])['product_id'].apply(list)\n",
    "thresholds = thresholds.reset_index()\n",
    "thresholds['product_id'] = thresholds.apply(lambda x : append(x['product_id'], x['none']), axis=1)\n",
    "thresholds = thresholds[['user_id','product_id']].rename(columns={'product_id':'predicted'})\n",
    "actuals = data[['user_id']].drop_duplicates()\n",
    "actuals = actuals.merge(thresholds, on='user_id', how='left')\n",
    "actuals['predicted'] = actuals['predicted'].map(lambda x : [0] if np.isnan(x).any() else x)\n",
    "actuals['predicted'] = actuals['predicted'].map(lambda x : [str(y) for y in x])\n",
    "actuals['predicted'] = actuals['predicted'].map(lambda y : ['None' if x == '0' else x for x in y])\n",
    "actuals['products'] = actuals['predicted'].map(lambda x : ' '.join([str(y) for y in x]))\n",
    "orders = pd.read_csv('../data/driver/driver_order.csv')\n",
    "orders = orders[orders['eval_set'] == 'test'][['order_id','user_id']]\n",
    "score = orders.merge(actuals, on='user_id', how='inner').drop('user_id',axis=1)\n",
    "score[['order_id','products']].to_csv('../data/model/submission/submit_v4.csv', index=False)\n",
    "print(score.shape)"
   ]
  },
  {
   "cell_type": "code",
   "execution_count": null,
   "metadata": {},
   "outputs": [],
   "source": [
    "score[['order_id','products']].head()"
   ]
  },
  {
   "cell_type": "code",
   "execution_count": null,
   "metadata": {
    "collapsed": true
   },
   "outputs": [],
   "source": []
  }
 ],
 "metadata": {
  "kernelspec": {
   "display_name": "Python 3",
   "language": "python",
   "name": "python3"
  },
  "language_info": {
   "codemirror_mode": {
    "name": "ipython",
    "version": 3
   },
   "file_extension": ".py",
   "mimetype": "text/x-python",
   "name": "python",
   "nbconvert_exporter": "python",
   "pygments_lexer": "ipython3",
   "version": "3.6.1"
  }
 },
 "nbformat": 4,
 "nbformat_minor": 2
}
