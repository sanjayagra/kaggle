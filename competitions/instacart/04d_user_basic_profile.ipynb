{
 "cells": [
  {
   "cell_type": "code",
   "execution_count": 1,
   "metadata": {
    "collapsed": true
   },
   "outputs": [],
   "source": [
    "import pandas as pd\n",
    "import numpy as np\n",
    "from sklearn.metrics import roc_curve, auc"
   ]
  },
  {
   "cell_type": "code",
   "execution_count": 2,
   "metadata": {},
   "outputs": [
    {
     "name": "stdout",
     "output_type": "stream",
     "text": [
      "(34010012, 6)\n",
      "(32616793, 12)\n"
     ]
    }
   ],
   "source": [
    "orders = pd.read_csv('../data/driver/driver_order.csv')\n",
    "orders = orders[orders['counter'] > 1]\n",
    "products = pd.read_csv('../data/driver/driver_order_products.csv')\n",
    "print(products.shape)\n",
    "products = products.merge(orders, on='order_id', how='inner')\n",
    "products = products.drop(['eval_set'], axis=1)\n",
    "print(products.shape)"
   ]
  },
  {
   "cell_type": "code",
   "execution_count": 3,
   "metadata": {
    "collapsed": true
   },
   "outputs": [],
   "source": [
    "aggregate = {}\n",
    "aggregate['reordered'] = np.sum\n",
    "aggregate['counter'] = np.count_nonzero\n",
    "aggregate['order_id'] = pd.Series.nunique\n",
    "aggregate['product_id'] = pd.Series.nunique\n",
    "aggregate['aisle_id'] = pd.Series.nunique\n",
    "aggregate['department_id'] = pd.Series.nunique\n",
    "aggregate['days_since_prior_order'] = np.median\n",
    "user_common = products.groupby('user_id').agg(aggregate).reset_index()\n",
    "features  = ['usr_sum_rdr', 'usr_cnt_prd', 'usr_cnt_ord','usr_cds_prd']\n",
    "features +=['usr_cds_ais','usr_cds_dep','usr_med_dysc']\n",
    "user_common.columns = ['user_id'] + features"
   ]
  },
  {
   "cell_type": "code",
   "execution_count": 4,
   "metadata": {
    "collapsed": true
   },
   "outputs": [],
   "source": [
    "cart_length = products.groupby(['user_id','order_id'])['product_id'].count().reset_index()\n",
    "cart_length = cart_length.groupby(['user_id'])['product_id'].mean().reset_index()\n",
    "cart_length = cart_length.rename(columns={'product_id':'cartlen'})"
   ]
  },
  {
   "cell_type": "code",
   "execution_count": 5,
   "metadata": {
    "collapsed": true
   },
   "outputs": [],
   "source": [
    "cart_diverse = products.groupby(['user_id','order_id'])['aisle_id'].apply(pd.Series.nunique).reset_index()\n",
    "cart_diverse = cart_diverse.groupby(['user_id'])['aisle_id'].mean().reset_index()\n",
    "cart_diverse = cart_diverse.rename(columns={'aisle_id':'cartdiv'})"
   ]
  },
  {
   "cell_type": "code",
   "execution_count": 6,
   "metadata": {
    "collapsed": true
   },
   "outputs": [],
   "source": [
    "avg_reorder = products.groupby(['user_id','order_id'])['reordered'].mean().reset_index()\n",
    "avg_reorder = avg_reorder.groupby(['user_id'])['reordered'].mean().reset_index()\n",
    "avg_reorder = avg_reorder.rename(columns={'reordered':'usr_avg_rdr'})"
   ]
  },
  {
   "cell_type": "code",
   "execution_count": 7,
   "metadata": {
    "collapsed": true
   },
   "outputs": [],
   "source": [
    "lag_reorder = pd.read_csv('../data/model/dependent/dependent_n_1.csv')\n",
    "lag_reorder = lag_reorder.groupby('user_id')['reordered'].mean().reset_index()\n",
    "lag_reorder = lag_reorder.rename(columns={'reordered':'usr_lag_rdr'})"
   ]
  },
  {
   "cell_type": "code",
   "execution_count": 8,
   "metadata": {
    "collapsed": true
   },
   "outputs": [],
   "source": [
    "user_profile = pd.read_csv('../data/driver/driver_user.csv')\n",
    "user_profile = user_profile.merge(user_common, on='user_id',  how='left')\n",
    "user_profile = user_profile.merge(cart_length, on='user_id', how='left')\n",
    "user_profile = user_profile.merge(cart_diverse, on='user_id', how='left')\n",
    "user_profile = user_profile.merge(avg_reorder, on='user_id', how='left')\n",
    "user_profile = user_profile.merge(lag_reorder, on='user_id', how='left')"
   ]
  },
  {
   "cell_type": "code",
   "execution_count": 9,
   "metadata": {
    "collapsed": true
   },
   "outputs": [],
   "source": [
    "user_profile.to_csv('../data/profile/user_profile.csv', index=False)"
   ]
  },
  {
   "cell_type": "code",
   "execution_count": 10,
   "metadata": {},
   "outputs": [
    {
     "name": "stdout",
     "output_type": "stream",
     "text": [
      "feat: usr_sum_rdr auc: -10.91\n",
      "feat: usr_cnt_prd auc: -14.45\n",
      "feat: usr_cnt_ord auc: -19.81\n",
      "feat: usr_cds_prd auc: -19.95\n",
      "feat: usr_cds_ais auc: -19.44\n",
      "feat: usr_cds_dep auc: -18.54\n",
      "feat: usr_med_dysc auc: 13.25\n",
      "feat: cartlen auc: 7.58\n",
      "feat: cartdiv auc: 7.06\n",
      "feat: usr_avg_rdr auc: -0.94\n",
      "feat: usr_lag_rdr auc: 27.71\n"
     ]
    }
   ],
   "source": [
    "target = pd.read_csv('../data/model/dependent/dependent_n.csv')\n",
    "target = target.merge(user_profile, on='user_id', how='inner')\n",
    "\n",
    "for feat in user_profile.columns[2:]:\n",
    "    fpr, tpr, thresholds = roc_curve(target['reordered'], target[feat])\n",
    "    print('feat:', feat, 'auc:', round(100*(2*auc(fpr,tpr) - 1),2))"
   ]
  },
  {
   "cell_type": "code",
   "execution_count": null,
   "metadata": {
    "collapsed": true
   },
   "outputs": [],
   "source": []
  }
 ],
 "metadata": {
  "kernelspec": {
   "display_name": "Python 3",
   "language": "python",
   "name": "python3"
  },
  "language_info": {
   "codemirror_mode": {
    "name": "ipython",
    "version": 3
   },
   "file_extension": ".py",
   "mimetype": "text/x-python",
   "name": "python",
   "nbconvert_exporter": "python",
   "pygments_lexer": "ipython3",
   "version": "3.6.1"
  }
 },
 "nbformat": 4,
 "nbformat_minor": 2
}
