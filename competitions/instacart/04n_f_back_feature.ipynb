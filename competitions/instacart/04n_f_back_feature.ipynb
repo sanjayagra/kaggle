{
 "cells": [
  {
   "cell_type": "code",
   "execution_count": 1,
   "metadata": {
    "collapsed": true
   },
   "outputs": [],
   "source": [
    "import pandas as pd\n",
    "import numpy as np\n",
    "pd.options.mode.chained_assignment=None"
   ]
  },
  {
   "cell_type": "code",
   "execution_count": 2,
   "metadata": {
    "collapsed": true
   },
   "outputs": [],
   "source": [
    "orders = pd.read_csv('../data/driver/driver_order.csv')\n",
    "history = pd.read_csv('../data/driver/driver_order_products.csv')\n",
    "priors = pd.read_csv('../data/profile/product_brrc_profile.csv')\n",
    "priors = priors[['product_id','prd_post']]\n",
    "history = history.merge(orders, on='order_id', how='inner')\n",
    "history = history[history['counter'] > 1]"
   ]
  },
  {
   "cell_type": "code",
   "execution_count": 3,
   "metadata": {
    "collapsed": true
   },
   "outputs": [],
   "source": [
    "def get_order(counter):\n",
    "    order = history[history['counter'] == counter]\n",
    "    order = order.groupby('user_id')['product_id'].apply(list).reset_index()\n",
    "    order.columns = ['user_id'] + ['order_' + str(counter)]\n",
    "    print(order.shape)\n",
    "    return order"
   ]
  },
  {
   "cell_type": "code",
   "execution_count": 4,
   "metadata": {},
   "outputs": [
    {
     "name": "stdout",
     "output_type": "stream",
     "text": [
      "(206209, 2)\n",
      "(206209, 2)\n",
      "(206209, 2)\n"
     ]
    }
   ],
   "source": [
    "order2 = get_order(2)\n",
    "order3 = get_order(3)\n",
    "order4 = get_order(4)"
   ]
  },
  {
   "cell_type": "code",
   "execution_count": 5,
   "metadata": {
    "collapsed": true
   },
   "outputs": [],
   "source": [
    "def f1_score(y_true, y_pred):\n",
    "    y_true = set(y_true)\n",
    "    y_pred = set(y_pred)\n",
    "    cross_size = len(y_true & y_pred)\n",
    "    if cross_size == 0: return 0.\n",
    "    p = cross_size / len(y_pred)\n",
    "    r = cross_size / len(y_true)\n",
    "    return 2 * p * r / (p + r)"
   ]
  },
  {
   "cell_type": "code",
   "execution_count": 6,
   "metadata": {
    "collapsed": true
   },
   "outputs": [],
   "source": [
    "def f1_full(y_true, y_pred):\n",
    "    return [f1_score(x, y) for x, y in zip(y_true, y_pred)]"
   ]
  },
  {
   "cell_type": "code",
   "execution_count": 7,
   "metadata": {
    "collapsed": true
   },
   "outputs": [],
   "source": [
    "def get_fscore(data1, data2, order1, order2, feature):\n",
    "    data = data1.merge(data2, on='user_id', how='left')\n",
    "    data[feature] = f1_full(data[order1], data[order2])\n",
    "    return data[['user_id',feature]]"
   ]
  },
  {
   "cell_type": "code",
   "execution_count": 8,
   "metadata": {},
   "outputs": [],
   "source": [
    "f1_23 = get_fscore(order2, order3, 'order_2', 'order_3', 'fscore_23')\n",
    "f1_34 = get_fscore(order3, order4, 'order_3', 'order_4', 'fscore_34')\n",
    "f1_24 = get_fscore(order2, order4, 'order_2', 'order_4', 'fscore_24')"
   ]
  },
  {
   "cell_type": "code",
   "execution_count": 9,
   "metadata": {},
   "outputs": [],
   "source": [
    "fscore = f1_23.merge(f1_34, on='user_id')\n",
    "fscore = fscore.merge(f1_24, on='user_id')"
   ]
  },
  {
   "cell_type": "code",
   "execution_count": 13,
   "metadata": {},
   "outputs": [],
   "source": [
    "fscore['fmean'] = np.mean([fscore['fscore_23'], fscore['fscore_34'], fscore['fscore_24']], axis=0)"
   ]
  },
  {
   "cell_type": "code",
   "execution_count": 14,
   "metadata": {},
   "outputs": [
    {
     "data": {
      "text/html": [
       "<div>\n",
       "<style>\n",
       "    .dataframe thead tr:only-child th {\n",
       "        text-align: right;\n",
       "    }\n",
       "\n",
       "    .dataframe thead th {\n",
       "        text-align: left;\n",
       "    }\n",
       "\n",
       "    .dataframe tbody tr th {\n",
       "        vertical-align: top;\n",
       "    }\n",
       "</style>\n",
       "<table border=\"1\" class=\"dataframe\">\n",
       "  <thead>\n",
       "    <tr style=\"text-align: right;\">\n",
       "      <th></th>\n",
       "      <th>user_id</th>\n",
       "      <th>fscore_23</th>\n",
       "      <th>fscore_34</th>\n",
       "      <th>fscore_24</th>\n",
       "      <th>fmean</th>\n",
       "    </tr>\n",
       "  </thead>\n",
       "  <tbody>\n",
       "    <tr>\n",
       "      <th>0</th>\n",
       "      <td>1</td>\n",
       "      <td>0.666667</td>\n",
       "      <td>1.000000</td>\n",
       "      <td>0.666667</td>\n",
       "      <td>0.777778</td>\n",
       "    </tr>\n",
       "    <tr>\n",
       "      <th>1</th>\n",
       "      <td>2</td>\n",
       "      <td>0.000000</td>\n",
       "      <td>0.000000</td>\n",
       "      <td>0.400000</td>\n",
       "      <td>0.133333</td>\n",
       "    </tr>\n",
       "    <tr>\n",
       "      <th>2</th>\n",
       "      <td>3</td>\n",
       "      <td>0.545455</td>\n",
       "      <td>0.545455</td>\n",
       "      <td>0.500000</td>\n",
       "      <td>0.530303</td>\n",
       "    </tr>\n",
       "    <tr>\n",
       "      <th>3</th>\n",
       "      <td>4</td>\n",
       "      <td>0.285714</td>\n",
       "      <td>0.000000</td>\n",
       "      <td>0.000000</td>\n",
       "      <td>0.095238</td>\n",
       "    </tr>\n",
       "    <tr>\n",
       "      <th>4</th>\n",
       "      <td>5</td>\n",
       "      <td>0.352941</td>\n",
       "      <td>0.285714</td>\n",
       "      <td>0.476190</td>\n",
       "      <td>0.371615</td>\n",
       "    </tr>\n",
       "  </tbody>\n",
       "</table>\n",
       "</div>"
      ],
      "text/plain": [
       "   user_id  fscore_23  fscore_34  fscore_24     fmean\n",
       "0        1   0.666667   1.000000   0.666667  0.777778\n",
       "1        2   0.000000   0.000000   0.400000  0.133333\n",
       "2        3   0.545455   0.545455   0.500000  0.530303\n",
       "3        4   0.285714   0.000000   0.000000  0.095238\n",
       "4        5   0.352941   0.285714   0.476190  0.371615"
      ]
     },
     "execution_count": 14,
     "metadata": {},
     "output_type": "execute_result"
    }
   ],
   "source": [
    "fscore.head()"
   ]
  },
  {
   "cell_type": "code",
   "execution_count": 15,
   "metadata": {
    "collapsed": true
   },
   "outputs": [],
   "source": [
    "fscore.to_csv('../data/profile/user_fscore_profile.csv', index=False)"
   ]
  },
  {
   "cell_type": "code",
   "execution_count": null,
   "metadata": {
    "collapsed": true
   },
   "outputs": [],
   "source": []
  }
 ],
 "metadata": {
  "kernelspec": {
   "display_name": "Python 3",
   "language": "python",
   "name": "python3"
  },
  "language_info": {
   "codemirror_mode": {
    "name": "ipython",
    "version": 3
   },
   "file_extension": ".py",
   "mimetype": "text/x-python",
   "name": "python",
   "nbconvert_exporter": "python",
   "pygments_lexer": "ipython3",
   "version": "3.6.1"
  }
 },
 "nbformat": 4,
 "nbformat_minor": 2
}
