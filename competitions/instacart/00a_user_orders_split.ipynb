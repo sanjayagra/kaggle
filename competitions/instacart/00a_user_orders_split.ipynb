{
 "cells": [
  {
   "cell_type": "code",
   "execution_count": 2,
   "metadata": {
    "collapsed": true
   },
   "outputs": [],
   "source": [
    "import pandas as pd\n",
    "import numpy as np"
   ]
  },
  {
   "cell_type": "markdown",
   "metadata": {},
   "source": [
    "### user split"
   ]
  },
  {
   "cell_type": "code",
   "execution_count": 2,
   "metadata": {},
   "outputs": [
    {
     "name": "stdout",
     "output_type": "stream",
     "text": [
      "train    104993\n",
      "test      75000\n",
      "valid     26216\n",
      "Name: eval_set, dtype: int64\n"
     ]
    }
   ],
   "source": [
    "def holdout(user_id, eval_set):\n",
    "    if eval_set == 'train':\n",
    "        if user_id % 10 >= 8:\n",
    "            return 'valid'\n",
    "        else:\n",
    "            return eval_set\n",
    "    else:\n",
    "        return eval_set\n",
    "    \n",
    "users = pd.read_csv('../data/download/orders.csv')[['user_id','eval_set']]\n",
    "users = users[users['eval_set'] != 'prior']\n",
    "users = users.drop_duplicates()\n",
    "users['eval_set'] = users.apply(lambda x : holdout(x['user_id'], x['eval_set']), axis=1)\n",
    "print(users['eval_set'].value_counts())\n",
    "users.to_csv('../data/driver/driver_user.csv', index=False)"
   ]
  },
  {
   "cell_type": "markdown",
   "metadata": {},
   "source": [
    "### order history"
   ]
  },
  {
   "cell_type": "code",
   "execution_count": null,
   "metadata": {},
   "outputs": [],
   "source": [
    "orders = pd.read_csv('../data/download/orders.csv')\n",
    "orders = orders.sort_values(['user_id', 'order_number'], ascending = [True, False])\n",
    "orders['counter'] = orders.groupby('user_id')['order_number'].rank(ascending=False)\n",
    "orders = orders.sort_values(by=['user_id','counter'], ascending=[True,True])\n",
    "print(orders.shape)\n",
    "orders.to_csv('../data/driver/driver_order.csv', index=False)"
   ]
  },
  {
   "cell_type": "markdown",
   "metadata": {},
   "source": [
    "### product"
   ]
  },
  {
   "cell_type": "code",
   "execution_count": 4,
   "metadata": {},
   "outputs": [
    {
     "name": "stdout",
     "output_type": "stream",
     "text": [
      "(49689, 3)\n"
     ]
    }
   ],
   "source": [
    "products = pd.read_csv('../data/download/products.csv').drop('product_name',axis=1)\n",
    "products = products.append(pd.DataFrame([[0,-1,-1]], columns=products.columns))\n",
    "products = products.sort_values(by=['product_id'])\n",
    "print(products.shape)\n",
    "products.to_csv('../data/driver/driver_product.csv', index=False)"
   ]
  },
  {
   "cell_type": "markdown",
   "metadata": {},
   "source": [
    "### ordered_products"
   ]
  },
  {
   "cell_type": "code",
   "execution_count": 5,
   "metadata": {},
   "outputs": [
    {
     "name": "stdout",
     "output_type": "stream",
     "text": [
      "(33819106, 4)\n",
      "(3214874, 1) (190906, 4)\n",
      "(34010012, 6)\n"
     ]
    }
   ],
   "source": [
    "order_prior = pd.read_csv('../data/download/order_products__prior.csv')\n",
    "order_train = pd.read_csv('../data/download/order_products__train.csv')\n",
    "order_prods = order_prior.append(order_train)\n",
    "print(order_prods.shape)\n",
    "none_candidate = pd.read_csv('../data/download/orders.csv')\n",
    "none_candidate = none_candidate[none_candidate['order_number'] > 1][['order_id']]\n",
    "none_orders = order_prods.groupby('order_id')['reordered'].max().reset_index()\n",
    "none_orders = none_orders[none_orders['reordered'] == 0][['order_id']]\n",
    "none_orders = none_orders.merge(none_candidate, on='order_id', how='inner')\n",
    "none_orders['product_id'] = [0] * none_orders.shape[0]\n",
    "none_orders['add_to_cart_order'] = [0] * none_orders.shape[0]\n",
    "none_orders['reordered'] = [1] * none_orders.shape[0]\n",
    "print(none_candidate.shape, none_orders.shape)\n",
    "order_prods = order_prods.append(none_orders).sort_values(by=['order_id', 'add_to_cart_order'])\n",
    "order_prods = order_prods.reset_index(drop=True)\n",
    "order_prods = order_prods.merge(products, on=['product_id'], how = 'inner')\n",
    "columns = ['order_id', 'product_id', 'aisle_id', 'department_id']\n",
    "columns += ['add_to_cart_order','reordered']\n",
    "order_prods = order_prods[columns]\n",
    "order_prods = order_prods.sort_values(by=['order_id','add_to_cart_order'])\n",
    "print(order_prods.shape)\n",
    "order_prods.to_csv('../data/driver/driver_order_products.csv', index=False)"
   ]
  }
 ],
 "metadata": {
  "kernelspec": {
   "display_name": "Python 3",
   "language": "python",
   "name": "python3"
  },
  "language_info": {
   "codemirror_mode": {
    "name": "ipython",
    "version": 3
   },
   "file_extension": ".py",
   "mimetype": "text/x-python",
   "name": "python",
   "nbconvert_exporter": "python",
   "pygments_lexer": "ipython3",
   "version": "3.6.1"
  }
 },
 "nbformat": 4,
 "nbformat_minor": 2
}
