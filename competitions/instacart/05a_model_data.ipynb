{
 "cells": [
  {
   "cell_type": "code",
   "execution_count": 1,
   "metadata": {
    "collapsed": true
   },
   "outputs": [],
   "source": [
    "import pandas as pd\n",
    "import numpy as np"
   ]
  },
  {
   "cell_type": "code",
   "execution_count": 2,
   "metadata": {},
   "outputs": [
    {
     "name": "stdout",
     "output_type": "stream",
     "text": [
      "(13514162, 2)\n"
     ]
    }
   ],
   "source": [
    "dependent = pd.read_csv('../data/model/dependent/dependent_n.csv')[['user_id','product_id']]\n",
    "print(dependent.shape)"
   ]
  },
  {
   "cell_type": "code",
   "execution_count": 3,
   "metadata": {
    "collapsed": true
   },
   "outputs": [],
   "source": [
    "def merge(file, key):\n",
    "    data = pd.read_csv(file)\n",
    "    global dependent\n",
    "    dependent = dependent.merge(data, on=key, how='left')\n",
    "    print(data.shape, dependent.shape)\n",
    "    del data\n",
    "    return None"
   ]
  },
  {
   "cell_type": "code",
   "execution_count": 4,
   "metadata": {},
   "outputs": [
    {
     "name": "stdout",
     "output_type": "stream",
     "text": [
      "(206209, 2) (13514162, 3)\n",
      "(13514162, 3) (13514162, 4)\n",
      "(13514162, 3) (13514162, 5)\n",
      "(13165343, 5) (13514162, 8)\n",
      "(13514162, 3) (13514162, 9)\n",
      "(9289313, 3) (13514162, 10)\n"
     ]
    }
   ],
   "source": [
    "merge('../data/gensim/cluster_user.csv', ['user_id'])\n",
    "merge('../data/gensim/xgb_w2_score_n.csv', ['user_id','product_id'])\n",
    "merge('../data/ffm/ffm_score.csv', ['user_id','product_id'])\n",
    "merge('../data/similarity/similarity_score.csv', ['user_id','product_id'])\n",
    "merge('../data/catboost/catboost.csv', ['user_id','product_id'])\n",
    "merge('../data/catboost/catboost1.csv', ['user_id','product_id'])"
   ]
  },
  {
   "cell_type": "code",
   "execution_count": 5,
   "metadata": {},
   "outputs": [
    {
     "name": "stdout",
     "output_type": "stream",
     "text": [
      "(49689, 28) (13514162, 37)\n",
      "(49653, 4) (13514162, 40)\n",
      "(49689, 3) (13514162, 42)\n"
     ]
    }
   ],
   "source": [
    "merge('../data/profile/product_basic_profile.csv', ['product_id'])\n",
    "merge('../data/profile/product_brrc_profile.csv', ['product_id'])\n",
    "merge('../data/profile/product_time_profile.csv', ['product_id'])"
   ]
  },
  {
   "cell_type": "code",
   "execution_count": 6,
   "metadata": {},
   "outputs": [
    {
     "name": "stdout",
     "output_type": "stream",
     "text": [
      "(206209, 13) (13514162, 54)\n",
      "(206209, 2) (13514162, 55)\n",
      "(206209, 5) (13514162, 59)\n"
     ]
    }
   ],
   "source": [
    "merge('../data/profile/user_profile.csv', ['user_id'])\n",
    "merge('../data/profile/user_brrc_profile.csv', ['user_id'])\n",
    "merge('../data/profile/user_fscore_profile.csv', ['user_id'])"
   ]
  },
  {
   "cell_type": "code",
   "execution_count": 7,
   "metadata": {},
   "outputs": [
    {
     "name": "stdout",
     "output_type": "stream",
     "text": [
      "(13398053, 19) (13514162, 76)\n",
      "(13514120, 17) (13514162, 91)\n",
      "(13398053, 13) (13514162, 102)\n",
      "(13398053, 8) (13514162, 108)\n",
      "(13398053, 9) (13514162, 115)\n"
     ]
    }
   ],
   "source": [
    "merge('../data/profile/user_product_profile.csv', ['user_id','product_id'])\n",
    "merge('../data/profile/user_product_transition.csv', ['user_id','product_id'])\n",
    "merge('../data/profile/user_product_time.csv', ['user_id','product_id'])\n",
    "merge('../data/profile/user_product_curr_seq.csv', ['user_id','product_id'])\n",
    "merge('../data/profile/user_product_max_seq.csv', ['user_id','product_id'])"
   ]
  },
  {
   "cell_type": "code",
   "execution_count": 8,
   "metadata": {},
   "outputs": [
    {
     "name": "stdout",
     "output_type": "stream",
     "text": [
      "(13514120, 6) (13514162, 119)\n",
      "(13514162, 5) (13514162, 122)\n",
      "(13514162, 10) (13514162, 130)\n"
     ]
    }
   ],
   "source": [
    "merge('../data/profile/interaction_profile.csv', ['user_id','product_id'])\n",
    "merge('../data/profile/user_2way.csv', ['user_id','product_id'])\n",
    "merge('../data/profile/product_2way.csv', ['user_id','product_id'])"
   ]
  },
  {
   "cell_type": "code",
   "execution_count": 9,
   "metadata": {
    "collapsed": true
   },
   "outputs": [],
   "source": [
    "orders = pd.read_csv('../data/driver/driver_order.csv')\n",
    "orders = orders[orders['counter'] == 1]\n",
    "orders = orders[['user_id','order_number','order_dow','order_hour_of_day','days_since_prior_order']]"
   ]
  },
  {
   "cell_type": "code",
   "execution_count": 10,
   "metadata": {},
   "outputs": [
    {
     "name": "stdout",
     "output_type": "stream",
     "text": [
      "(206209, 5) (13514162, 134)\n"
     ]
    }
   ],
   "source": [
    "dependent = dependent.merge(orders, on='user_id', how='left')\n",
    "print(orders.shape, dependent.shape)"
   ]
  },
  {
   "cell_type": "code",
   "execution_count": 11,
   "metadata": {
    "collapsed": true
   },
   "outputs": [],
   "source": [
    "dependent['ratio1'] = dependent['usr_prd_lstdy'] / dependent['usr_ais_lstdy'].clip_lower(1)\n",
    "dependent['ratio2'] = dependent['usr_prd_lstdy'] / dependent['days_since_prior_order'].clip_lower(1)\n",
    "dependent['ratio3'] = dependent['usr_prd_lstdy'] / dependent['usr_prd_lst_ord'].clip_lower(1)\n",
    "dependent['ratio4'] = dependent['usr_prd_lstdy'] / dependent['prd_med_dydiff'].clip_lower(1)\n",
    "dependent['ratio5'] = dependent['usr_sum_rdr'] / dependent['usr_cds_prd']\n",
    "dependent['ratio6'] = dependent['days_since_prior_order'] / dependent['usr_med_dysc'].clip_lower(1)\n",
    "dependent['ratio7'] = dependent['prd_post'] * dependent['usr_post']\n",
    "dependent['ratio8'] = dependent['prd_med_addcrt'] / dependent['cartlen']\n",
    "dependent['ratio9'] = dependent['usr_prd_adct']  / dependent['cartlen']\n",
    "dependent['ratio10'] = dependent['cartdiv']  / dependent['cartlen']\n",
    "dependent['ratio11'] = dependent['usr_prd_lst_ord'] / dependent['usr_cnt_ord']"
   ]
  },
  {
   "cell_type": "code",
   "execution_count": 12,
   "metadata": {
    "collapsed": true
   },
   "outputs": [],
   "source": [
    "dependent.to_csv('../data/model/independent/independent_n.csv', index=False)"
   ]
  },
  {
   "cell_type": "code",
   "execution_count": 13,
   "metadata": {},
   "outputs": [
    {
     "data": {
      "text/plain": [
       "(13514162, 145)"
      ]
     },
     "execution_count": 13,
     "metadata": {},
     "output_type": "execute_result"
    }
   ],
   "source": [
    "dependent.shape"
   ]
  },
  {
   "cell_type": "code",
   "execution_count": null,
   "metadata": {
    "collapsed": true
   },
   "outputs": [],
   "source": []
  }
 ],
 "metadata": {
  "kernelspec": {
   "display_name": "Python 3",
   "language": "python",
   "name": "python3"
  },
  "language_info": {
   "codemirror_mode": {
    "name": "ipython",
    "version": 3
   },
   "file_extension": ".py",
   "mimetype": "text/x-python",
   "name": "python",
   "nbconvert_exporter": "python",
   "pygments_lexer": "ipython3",
   "version": "3.6.1"
  }
 },
 "nbformat": 4,
 "nbformat_minor": 2
}
