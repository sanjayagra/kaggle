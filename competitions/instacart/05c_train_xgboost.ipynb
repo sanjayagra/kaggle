{
 "cells": [
  {
   "cell_type": "code",
   "execution_count": 1,
   "metadata": {
    "collapsed": true
   },
   "outputs": [],
   "source": [
    "import pandas as pd\n",
    "import numpy as np\n",
    "import xgboost as xgb"
   ]
  },
  {
   "cell_type": "code",
   "execution_count": 2,
   "metadata": {},
   "outputs": [
    {
     "name": "stdout",
     "output_type": "stream",
     "text": [
      "(13514162, 4) (13514162, 145)\n",
      "(6879915, 146) (1725955, 146)\n"
     ]
    }
   ],
   "source": [
    "dependent = pd.read_csv('../data/model/dependent/dependent_n.csv')\n",
    "independent = pd.read_csv('../data/model/independent/independent_n.csv')\n",
    "print(dependent.shape, independent.shape)\n",
    "data = dependent.merge(independent, on=['user_id','product_id','eval_set'], how='inner')\n",
    "del dependent, independent\n",
    "train_data = data[data['eval_set'] == 'train']\n",
    "valid_data = data[data['eval_set'] == 'valid']\n",
    "del data\n",
    "print(train_data.shape, valid_data.shape)"
   ]
  },
  {
   "cell_type": "code",
   "execution_count": 3,
   "metadata": {
    "collapsed": true
   },
   "outputs": [],
   "source": [
    "train_matrix = xgb.DMatrix(data = train_data.iloc[:,4:], label = train_data.iloc[:,3])\n",
    "del train_data\n",
    "valid_matrix = xgb.DMatrix(data = valid_data.iloc[:,4:], label = valid_data.iloc[:,3])\n",
    "del valid_data"
   ]
  },
  {
   "cell_type": "code",
   "execution_count": 4,
   "metadata": {
    "collapsed": true
   },
   "outputs": [],
   "source": [
    "booster = {}\n",
    "booster['booster'] = 'gbtree'\n",
    "booster['nthread'] = 63\n",
    "booster['max_depth'] = 10\n",
    "booster['min_child_weight'] = 10\n",
    "booster['subsample'] = 0.8\n",
    "booster['colsample_bytree'] = 1.0\n",
    "booster['colsample_bylevel'] = 0.9\n",
    "booster['lambda'] = 1.0\n",
    "booster['alpha'] = 0.0\n",
    "booster['objective'] = 'binary:logistic'\n",
    "booster['eval_metric'] = ['logloss']\n",
    "booster['base_score'] = 0.1\n",
    "booster['seed'] = 108"
   ]
  },
  {
   "cell_type": "code",
   "execution_count": 5,
   "metadata": {
    "collapsed": true
   },
   "outputs": [],
   "source": [
    "params = {}\n",
    "params['params'] = booster\n",
    "params['dtrain'] = train_matrix\n",
    "params['num_boost_round'] = 2000\n",
    "params['evals'] = [(train_matrix,'train_matrix'),(valid_matrix,'valid_matrix')]\n",
    "params['early_stopping_rounds'] = 10\n",
    "params['verbose_eval'] = 150\n",
    "params['callbacks'] = [xgb.callback.reset_learning_rate([0.02] * 2000)]"
   ]
  },
  {
   "cell_type": "code",
   "execution_count": 6,
   "metadata": {},
   "outputs": [
    {
     "name": "stdout",
     "output_type": "stream",
     "text": [
      "[0]\ttrain_matrix-logloss:0.315511\tvalid_matrix-logloss:0.31418\n",
      "Multiple eval metrics have been passed: 'valid_matrix-logloss' will be used for early stopping.\n",
      "\n",
      "Will train until valid_matrix-logloss hasn't improved in 10 rounds.\n",
      "[150]\ttrain_matrix-logloss:0.23888\tvalid_matrix-logloss:0.241151\n",
      "[300]\ttrain_matrix-logloss:0.235049\tvalid_matrix-logloss:0.239996\n",
      "[450]\ttrain_matrix-logloss:0.232357\tvalid_matrix-logloss:0.239756\n",
      "[600]\ttrain_matrix-logloss:0.230004\tvalid_matrix-logloss:0.239644\n",
      "Stopping. Best iteration:\n",
      "[662]\ttrain_matrix-logloss:0.229128\tvalid_matrix-logloss:0.239615\n",
      "\n"
     ]
    }
   ],
   "source": [
    "model = xgb.train(**params)"
   ]
  },
  {
   "cell_type": "code",
   "execution_count": 7,
   "metadata": {
    "collapsed": true
   },
   "outputs": [],
   "source": [
    "model.save_model('../data/model/xgb_binary.model')"
   ]
  },
  {
   "cell_type": "code",
   "execution_count": 8,
   "metadata": {},
   "outputs": [
    {
     "data": {
      "text/plain": [
       "[('usr_lag_rdr', 7970),\n",
       " ('ratio6', 7818),\n",
       " ('ratio10', 7733),\n",
       " ('likelihood_days', 6827),\n",
       " ('ratio9', 6714),\n",
       " ('usr_post', 6691),\n",
       " ('usr_label', 6602),\n",
       " ('bm25_score', 6434),\n",
       " ('fscore_23', 6401),\n",
       " ('fscore_24', 6124),\n",
       " ('fscore_34', 6100),\n",
       " ('usr_dysc_cnt', 5949),\n",
       " ('usr_avg_rdr', 5941),\n",
       " ('xgb_w2v_score', 5884),\n",
       " ('usr_dow_cnt', 5878),\n",
       " ('ratio4', 5821),\n",
       " ('fmean', 5751),\n",
       " ('ratio7', 5670),\n",
       " ('prd_dysc_int', 5490),\n",
       " ('order_hour_of_day', 5339),\n",
       " ('usr_hod_cnt', 5305),\n",
       " ('cartdiv', 5276),\n",
       " ('prd2way2', 5032),\n",
       " ('cartlen', 4793),\n",
       " ('prd2way1', 4754),\n",
       " ('prd_ordn_int', 4753),\n",
       " ('usr_med_dysc', 4752),\n",
       " ('ffm', 4505),\n",
       " ('prd_ais_post_rt', 4495),\n",
       " ('diff_hod', 4468),\n",
       " ('ratio5', 4348),\n",
       " ('usr_cds_ais', 4336),\n",
       " ('usr_ais_perc_cnt', 4230),\n",
       " ('usr_dep_cnt', 4128),\n",
       " ('catboost1', 4076),\n",
       " ('usr_cds_prd', 4063),\n",
       " ('prd2way3', 4051),\n",
       " ('ratio3', 4030),\n",
       " ('ratio2', 4009),\n",
       " ('ratio8', 3974),\n",
       " ('prd2way4', 3950),\n",
       " ('mcrt1', 3890),\n",
       " ('max_tfidf', 3809),\n",
       " ('decay', 3786),\n",
       " ('days_since_prior_order', 3759),\n",
       " ('usr_ais_perc_ord', 3753),\n",
       " ('prd_differ', 3681),\n",
       " ('usr_ais_lstdy', 3500),\n",
       " ('score_seq4', 3468),\n",
       " ('ratio1', 3439)]"
      ]
     },
     "execution_count": 8,
     "metadata": {},
     "output_type": "execute_result"
    }
   ],
   "source": [
    "sorted(model.get_fscore().items(), key=lambda x : x[1], reverse=True)[:50]"
   ]
  },
  {
   "cell_type": "code",
   "execution_count": 9,
   "metadata": {},
   "outputs": [
    {
     "data": {
      "text/plain": [
       "{'best_iteration': '662',\n",
       " 'best_msg': '[662]\\ttrain_matrix-logloss:0.229128\\tvalid_matrix-logloss:0.239615',\n",
       " 'best_score': '0.239615'}"
      ]
     },
     "execution_count": 9,
     "metadata": {},
     "output_type": "execute_result"
    }
   ],
   "source": [
    "model.attributes()"
   ]
  },
  {
   "cell_type": "code",
   "execution_count": null,
   "metadata": {
    "collapsed": true
   },
   "outputs": [],
   "source": []
  }
 ],
 "metadata": {
  "kernelspec": {
   "display_name": "Python 3",
   "language": "python",
   "name": "python3"
  },
  "language_info": {
   "codemirror_mode": {
    "name": "ipython",
    "version": 3
   },
   "file_extension": ".py",
   "mimetype": "text/x-python",
   "name": "python",
   "nbconvert_exporter": "python",
   "pygments_lexer": "ipython3",
   "version": "3.6.1"
  }
 },
 "nbformat": 4,
 "nbformat_minor": 2
}
