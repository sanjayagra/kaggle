{
 "cells": [
  {
   "cell_type": "code",
   "execution_count": 1,
   "metadata": {
    "collapsed": true
   },
   "outputs": [],
   "source": [
    "import pandas as pd\n",
    "import numpy as np"
   ]
  },
  {
   "cell_type": "code",
   "execution_count": 2,
   "metadata": {
    "collapsed": true
   },
   "outputs": [],
   "source": [
    "dependent = pd.read_csv('../data/model/dependent/dependent_n.csv')\n",
    "dependent = dependent[['user_id','product_id']]\n",
    "orders = pd.read_csv('../data/driver/driver_order.csv')\n",
    "target = orders[orders['counter'] == 1]\n",
    "orders = orders[orders['counter'] > 1]\n",
    "products = pd.read_csv('../data/profile/user_product_profile.csv')\n",
    "products = products[['user_id','product_id','usr_prd_cnt']]\n",
    "history = pd.read_csv('../data/driver/driver_order_products.csv')\n",
    "history = history.merge(orders, on='order_id', how='inner')\n",
    "target = dependent.merge(target, on=['user_id'], how='inner')"
   ]
  },
  {
   "cell_type": "code",
   "execution_count": 3,
   "metadata": {},
   "outputs": [
    {
     "name": "stdout",
     "output_type": "stream",
     "text": [
      "(13398053, 7)\n"
     ]
    }
   ],
   "source": [
    "target = target[['user_id','product_id','order_dow','order_hour_of_day','days_since_prior_order','order_number']]\n",
    "target = target.merge(products, on=['user_id','product_id'])\n",
    "print(target.shape)"
   ]
  },
  {
   "cell_type": "code",
   "execution_count": 4,
   "metadata": {
    "collapsed": true
   },
   "outputs": [],
   "source": [
    "aggregate = {'order_id':'count'}"
   ]
  },
  {
   "cell_type": "code",
   "execution_count": 5,
   "metadata": {},
   "outputs": [],
   "source": [
    "usr_prd_dow = history.groupby(['user_id','product_id','order_dow']).agg(aggregate).reset_index()\n",
    "usr_prd_dow = usr_prd_dow.rename(columns={'order_id':'usr_prd_dow_cnt'})"
   ]
  },
  {
   "cell_type": "code",
   "execution_count": 6,
   "metadata": {
    "collapsed": true
   },
   "outputs": [],
   "source": [
    "history['order_hour_of_day'], hour = pd.qcut(history['order_hour_of_day'], 10, retbins=True, labels=False)\n",
    "usr_prd_hod = history.groupby(['user_id','product_id','order_hour_of_day']).agg(aggregate).reset_index()\n",
    "usr_prd_hod = usr_prd_hod.rename(columns={'order_id':'usr_prd_hod_cnt'})"
   ]
  },
  {
   "cell_type": "code",
   "execution_count": 7,
   "metadata": {},
   "outputs": [],
   "source": [
    "history['days_since_prior_order'], days = pd.qcut(history['days_since_prior_order'], 7, retbins=True, labels=False)\n",
    "usr_prd_dysc = history.groupby(['user_id','product_id','days_since_prior_order']).agg(aggregate).reset_index()\n",
    "usr_prd_dysc = usr_prd_dysc.rename(columns={'order_id':'usr_prd_dysc_cnt'})"
   ]
  },
  {
   "cell_type": "code",
   "execution_count": 8,
   "metadata": {
    "collapsed": true
   },
   "outputs": [],
   "source": [
    "target['order_hour_of_day'] = pd.cut(target['order_hour_of_day'], bins=hour, labels=False, include_lowest=True)\n",
    "target['days_since_prior_order'] = pd.cut(target['days_since_prior_order'], bins=days, labels=False, include_lowest=True)"
   ]
  },
  {
   "cell_type": "code",
   "execution_count": 9,
   "metadata": {
    "collapsed": true
   },
   "outputs": [],
   "source": [
    "del history\n",
    "del orders\n",
    "del dependent"
   ]
  },
  {
   "cell_type": "code",
   "execution_count": 10,
   "metadata": {
    "collapsed": true
   },
   "outputs": [],
   "source": [
    "target = target.merge(usr_prd_dow, on=['user_id','product_id','order_dow'], how='left')\n",
    "target = target.merge(usr_prd_hod, on=['user_id','product_id','order_hour_of_day'], how='left')\n",
    "target = target.merge(usr_prd_dysc, on=['user_id','product_id','days_since_prior_order'], how='left')"
   ]
  },
  {
   "cell_type": "code",
   "execution_count": 11,
   "metadata": {
    "collapsed": true
   },
   "outputs": [],
   "source": [
    "target = target.drop(['order_dow','order_hour_of_day','days_since_prior_order','order_number'], axis=1)"
   ]
  },
  {
   "cell_type": "code",
   "execution_count": 12,
   "metadata": {},
   "outputs": [],
   "source": [
    "target['usrprd2way1'] = target['usr_prd_dow_cnt'] / target['usr_prd_cnt'] \n",
    "target['usrprd2way2'] = target['usr_prd_hod_cnt'] / target['usr_prd_cnt'] \n",
    "target['usrprd2way3'] = target['usr_prd_dysc_cnt'] / target['usr_prd_cnt']"
   ]
  },
  {
   "cell_type": "code",
   "execution_count": 13,
   "metadata": {
    "collapsed": true
   },
   "outputs": [],
   "source": [
    "target = target.drop(['usr_prd_cnt'], axis=1)"
   ]
  },
  {
   "cell_type": "code",
   "execution_count": 14,
   "metadata": {},
   "outputs": [
    {
     "data": {
      "text/html": [
       "<div>\n",
       "<style>\n",
       "    .dataframe thead tr:only-child th {\n",
       "        text-align: right;\n",
       "    }\n",
       "\n",
       "    .dataframe thead th {\n",
       "        text-align: left;\n",
       "    }\n",
       "\n",
       "    .dataframe tbody tr th {\n",
       "        vertical-align: top;\n",
       "    }\n",
       "</style>\n",
       "<table border=\"1\" class=\"dataframe\">\n",
       "  <thead>\n",
       "    <tr style=\"text-align: right;\">\n",
       "      <th></th>\n",
       "      <th>user_id</th>\n",
       "      <th>product_id</th>\n",
       "      <th>usr_prd_dow_cnt</th>\n",
       "      <th>usr_prd_hod_cnt</th>\n",
       "      <th>usr_prd_dysc_cnt</th>\n",
       "      <th>usrprd2way1</th>\n",
       "      <th>usrprd2way2</th>\n",
       "      <th>usrprd2way3</th>\n",
       "    </tr>\n",
       "  </thead>\n",
       "  <tbody>\n",
       "    <tr>\n",
       "      <th>0</th>\n",
       "      <td>112108</td>\n",
       "      <td>14947</td>\n",
       "      <td>NaN</td>\n",
       "      <td>1.0</td>\n",
       "      <td>NaN</td>\n",
       "      <td>NaN</td>\n",
       "      <td>0.333333</td>\n",
       "      <td>NaN</td>\n",
       "    </tr>\n",
       "    <tr>\n",
       "      <th>1</th>\n",
       "      <td>112108</td>\n",
       "      <td>5707</td>\n",
       "      <td>NaN</td>\n",
       "      <td>1.0</td>\n",
       "      <td>NaN</td>\n",
       "      <td>NaN</td>\n",
       "      <td>0.500000</td>\n",
       "      <td>NaN</td>\n",
       "    </tr>\n",
       "    <tr>\n",
       "      <th>2</th>\n",
       "      <td>112108</td>\n",
       "      <td>44632</td>\n",
       "      <td>NaN</td>\n",
       "      <td>NaN</td>\n",
       "      <td>NaN</td>\n",
       "      <td>NaN</td>\n",
       "      <td>NaN</td>\n",
       "      <td>NaN</td>\n",
       "    </tr>\n",
       "    <tr>\n",
       "      <th>3</th>\n",
       "      <td>112108</td>\n",
       "      <td>30881</td>\n",
       "      <td>NaN</td>\n",
       "      <td>NaN</td>\n",
       "      <td>NaN</td>\n",
       "      <td>NaN</td>\n",
       "      <td>NaN</td>\n",
       "      <td>NaN</td>\n",
       "    </tr>\n",
       "    <tr>\n",
       "      <th>4</th>\n",
       "      <td>112108</td>\n",
       "      <td>43633</td>\n",
       "      <td>NaN</td>\n",
       "      <td>NaN</td>\n",
       "      <td>NaN</td>\n",
       "      <td>NaN</td>\n",
       "      <td>NaN</td>\n",
       "      <td>NaN</td>\n",
       "    </tr>\n",
       "  </tbody>\n",
       "</table>\n",
       "</div>"
      ],
      "text/plain": [
       "   user_id  product_id  usr_prd_dow_cnt  usr_prd_hod_cnt  usr_prd_dysc_cnt  \\\n",
       "0   112108       14947              NaN              1.0               NaN   \n",
       "1   112108        5707              NaN              1.0               NaN   \n",
       "2   112108       44632              NaN              NaN               NaN   \n",
       "3   112108       30881              NaN              NaN               NaN   \n",
       "4   112108       43633              NaN              NaN               NaN   \n",
       "\n",
       "   usrprd2way1  usrprd2way2  usrprd2way3  \n",
       "0          NaN     0.333333          NaN  \n",
       "1          NaN     0.500000          NaN  \n",
       "2          NaN          NaN          NaN  \n",
       "3          NaN          NaN          NaN  \n",
       "4          NaN          NaN          NaN  "
      ]
     },
     "execution_count": 14,
     "metadata": {},
     "output_type": "execute_result"
    }
   ],
   "source": [
    "target.head()"
   ]
  },
  {
   "cell_type": "code",
   "execution_count": 16,
   "metadata": {
    "collapsed": true
   },
   "outputs": [],
   "source": [
    "target.to_csv('../data/profile/user_product_2way.csv', index=False)"
   ]
  },
  {
   "cell_type": "code",
   "execution_count": 17,
   "metadata": {},
   "outputs": [
    {
     "data": {
      "text/plain": [
       "(13398053, 8)"
      ]
     },
     "execution_count": 17,
     "metadata": {},
     "output_type": "execute_result"
    }
   ],
   "source": [
    "target.shape"
   ]
  },
  {
   "cell_type": "code",
   "execution_count": null,
   "metadata": {
    "collapsed": true
   },
   "outputs": [],
   "source": []
  }
 ],
 "metadata": {
  "kernelspec": {
   "display_name": "Python 3",
   "language": "python",
   "name": "python3"
  },
  "language_info": {
   "codemirror_mode": {
    "name": "ipython",
    "version": 3
   },
   "file_extension": ".py",
   "mimetype": "text/x-python",
   "name": "python",
   "nbconvert_exporter": "python",
   "pygments_lexer": "ipython3",
   "version": "3.6.1"
  }
 },
 "nbformat": 4,
 "nbformat_minor": 2
}
