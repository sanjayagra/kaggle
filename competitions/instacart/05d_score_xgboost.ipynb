{
 "cells": [
  {
   "cell_type": "code",
   "execution_count": 1,
   "metadata": {
    "collapsed": true
   },
   "outputs": [],
   "source": [
    "import pandas as pd\n",
    "import numpy as np\n",
    "import xgboost as xgb\n",
    "from sklearn.metrics import roc_curve, auc, log_loss\n",
    "pd.options.mode.chained_assignment = None"
   ]
  },
  {
   "cell_type": "code",
   "execution_count": 2,
   "metadata": {
    "collapsed": true
   },
   "outputs": [],
   "source": [
    "model = xgb.Booster({'nthread':31})\n",
    "model.load_model('../data/model/xgb_binary.model')"
   ]
  },
  {
   "cell_type": "code",
   "execution_count": 3,
   "metadata": {},
   "outputs": [
    {
     "name": "stdout",
     "output_type": "stream",
     "text": [
      "(13514162, 4) (13514162, 145)\n"
     ]
    }
   ],
   "source": [
    "dependent = pd.read_csv('../data/model/dependent/dependent_n.csv')\n",
    "independent = pd.read_csv('../data/model/independent/independent_n.csv')\n",
    "print(dependent.shape, independent.shape)\n",
    "data = dependent.merge(independent, on=['user_id','product_id','eval_set'], how='inner')\n",
    "del dependent, independent\n",
    "data = data[data['eval_set'] != 'train']\n",
    "matrix = xgb.DMatrix(data = data.iloc[:,4:], label = data.iloc[:,3])"
   ]
  },
  {
   "cell_type": "code",
   "execution_count": 4,
   "metadata": {
    "collapsed": true
   },
   "outputs": [],
   "source": [
    "data = data[['user_id','product_id','reordered','eval_set']]"
   ]
  },
  {
   "cell_type": "code",
   "execution_count": 5,
   "metadata": {
    "collapsed": true
   },
   "outputs": [],
   "source": [
    "predict = model.predict(matrix)\n",
    "data['score'] = predict"
   ]
  },
  {
   "cell_type": "code",
   "execution_count": 6,
   "metadata": {},
   "outputs": [
    {
     "name": "stdout",
     "output_type": "stream",
     "text": [
      "0.680872682118 0.239617108809\n"
     ]
    }
   ],
   "source": [
    "y_true = data[data['eval_set'] == 'valid']['reordered']\n",
    "y_pred = data[data['eval_set'] == 'valid']['score']\n",
    "fpr, tpr, thresholds = roc_curve(y_true, y_pred)\n",
    "print(2*auc(fpr,tpr) - 1, log_loss(y_true, y_pred))"
   ]
  },
  {
   "cell_type": "code",
   "execution_count": 7,
   "metadata": {
    "collapsed": true
   },
   "outputs": [],
   "source": [
    "data.to_csv('../data/model/score/score_n.csv', index=False)"
   ]
  },
  {
   "cell_type": "code",
   "execution_count": null,
   "metadata": {
    "collapsed": true
   },
   "outputs": [],
   "source": []
  }
 ],
 "metadata": {
  "kernelspec": {
   "display_name": "Python 3",
   "language": "python",
   "name": "python3"
  },
  "language_info": {
   "codemirror_mode": {
    "name": "ipython",
    "version": 3
   },
   "file_extension": ".py",
   "mimetype": "text/x-python",
   "name": "python",
   "nbconvert_exporter": "python",
   "pygments_lexer": "ipython3",
   "version": "3.6.1"
  }
 },
 "nbformat": 4,
 "nbformat_minor": 2
}
