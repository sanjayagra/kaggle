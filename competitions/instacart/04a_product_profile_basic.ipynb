{
 "cells": [
  {
   "cell_type": "code",
   "execution_count": 1,
   "metadata": {},
   "outputs": [],
   "source": [
    "import pandas as pd\n",
    "import numpy as np\n",
    "from sklearn.metrics import roc_curve, auc\n",
    "from sklearn.feature_extraction.text import CountVectorizer, TfidfTransformer\n",
    "vectorizer = CountVectorizer()\n",
    "tfidf = TfidfTransformer(norm=\"l2\", smooth_idf=True)"
   ]
  },
  {
   "cell_type": "code",
   "execution_count": 2,
   "metadata": {},
   "outputs": [
    {
     "name": "stdout",
     "output_type": "stream",
     "text": [
      "(32616793, 13)\n"
     ]
    }
   ],
   "source": [
    "product_profile = pd.read_csv('../data/driver/driver_product.csv')\n",
    "names = pd.read_csv('../data/download/products.csv')[['product_id','product_name']]\n",
    "orders = pd.read_csv('../data/driver/driver_order.csv')\n",
    "orders = orders[orders['counter'] > 1]\n",
    "products = pd.read_csv('../data/driver/driver_order_products.csv')\n",
    "users = pd.read_csv('../data/driver/driver_user.csv')\n",
    "products = products.merge(orders, on='order_id', how='inner').drop('eval_set',axis=1)\n",
    "products = products.merge(users, on='user_id', how='inner')\n",
    "print(products.shape)"
   ]
  },
  {
   "cell_type": "code",
   "execution_count": 3,
   "metadata": {
    "collapsed": true
   },
   "outputs": [],
   "source": [
    "def common_profile(data, level, prefix):\n",
    "    aggregate = {}\n",
    "    aggregate['reordered'] = [np.sum, np.mean]\n",
    "    aggregate['order_id'] = pd.Series.nunique\n",
    "    aggregate['user_id'] = pd.Series.nunique\n",
    "    aggregate['order_number'] = np.median\n",
    "    aggregate['add_to_cart_order'] = np.median\n",
    "    data = data.groupby(level).agg(aggregate).reset_index()\n",
    "    features = ['sum_rdr', 'avg_rdr','cds_ord','cds_usr','med_ordn' ,'med_addcrt']\n",
    "    data.columns = [level] + [prefix + x for x in features]\n",
    "    data[prefix + 'rt_ord_usr'] = data[prefix + 'cds_ord'] / data[prefix + 'cds_usr']\n",
    "    return data"
   ]
  },
  {
   "cell_type": "code",
   "execution_count": 4,
   "metadata": {
    "collapsed": true
   },
   "outputs": [],
   "source": [
    "common_product = common_profile(products,'product_id','prd_')\n",
    "common_department = common_profile(products,'department_id','dep_')\n",
    "common_aisle = common_profile(products,'aisle_id','ais_')"
   ]
  },
  {
   "cell_type": "code",
   "execution_count": 5,
   "metadata": {
    "collapsed": true
   },
   "outputs": [],
   "source": [
    "prod_last_order = products.groupby(['user_id','product_id'])['order_number'].max().reset_index()\n",
    "user_last_order = products.groupby(['user_id'])['order_number'].max().reset_index()\n",
    "prod_last_order.columns = ['user_id','product_id','prod_last_order']\n",
    "user_last_order.columns = ['user_id','user_last_order']\n",
    "affinity = prod_last_order.merge(user_last_order, on='user_id')\n",
    "affinity['order_since'] = affinity['user_last_order'] - affinity['prod_last_order']\n",
    "prod_affinity = affinity.groupby('product_id')['order_since'].apply(np.median).reset_index()\n",
    "prod_affinity.columns = ['product_id','product_affinity']"
   ]
  },
  {
   "cell_type": "code",
   "execution_count": 6,
   "metadata": {
    "collapsed": true
   },
   "outputs": [],
   "source": [
    "def clean_string(name):\n",
    "    name = name.replace('-',' ')\n",
    "    name = name.replace('&',' ')\n",
    "    name = name.replace(\"'N\",' ')\n",
    "    string = name.split()\n",
    "    string = [''.join(filter(str.isalpha,x.lower())) for x in string]\n",
    "    return ' '.join(string)"
   ]
  },
  {
   "cell_type": "code",
   "execution_count": 7,
   "metadata": {},
   "outputs": [],
   "source": [
    "prod_name = names.copy()\n",
    "prod_name['length'] = prod_name['product_name'].map(lambda x : len(x))\n",
    "prod_name['words'] = prod_name['product_name'].map(lambda x : len(x.split()))\n",
    "prod_name['organic'] = prod_name['product_name'].map(lambda x : 1 if 'organic' in x.lower() else 0)\n",
    "clean_name = prod_name['product_name'].map(clean_string)\n",
    "clean_name = list(prod_name['product_name'].map(clean_string))\n",
    "vec_name = vectorizer.fit_transform(clean_name)\n",
    "vec_idf = tfidf.fit_transform(vec_name)\n",
    "vec_idf = vec_idf.todense()\n",
    "prod_name['mean_tfidf'] = vec_idf.sum(axis=1)\n",
    "prod_name['mean_tfidf'] = prod_name['mean_tfidf'] / prod_name['length']\n",
    "prod_name['max_tfidf'] = vec_idf.max(axis=1)\n",
    "prod_name = prod_name.drop('product_name',axis=1)"
   ]
  },
  {
   "cell_type": "code",
   "execution_count": 8,
   "metadata": {
    "collapsed": true
   },
   "outputs": [],
   "source": [
    "product_profile = product_profile.merge(common_product, on='product_id', how='left')\n",
    "product_profile = product_profile.merge(common_department, on='department_id', how='left')\n",
    "product_profile = product_profile.merge(common_aisle, on='aisle_id', how='left')\n",
    "product_profile = product_profile.merge(prod_affinity, on='product_id', how='left')\n",
    "product_profile = product_profile.merge(prod_name, on='product_id', how='left')\n",
    "product_profile = product_profile.fillna(0.)\n",
    "product_profile = product_profile.drop(['department_id', 'aisle_id'], axis=1)\n",
    "product_profile.to_csv('../data/profile/product_basic_profile.csv', index=False)"
   ]
  },
  {
   "cell_type": "code",
   "execution_count": 9,
   "metadata": {},
   "outputs": [
    {
     "name": "stdout",
     "output_type": "stream",
     "text": [
      "feat: prd_sum_rdr auc: 22.3\n",
      "feat: prd_avg_rdr auc: 30.65\n",
      "feat: prd_cds_ord auc: 19.85\n",
      "feat: prd_cds_usr auc: 16.04\n",
      "feat: prd_med_ordn auc: 10.45\n",
      "feat: prd_med_addcrt auc: -20.07\n",
      "feat: prd_rt_ord_usr auc: 31.92\n",
      "feat: dep_sum_rdr auc: 16.99\n",
      "feat: dep_avg_rdr auc: 18.16\n",
      "feat: dep_cds_ord auc: 16.41\n",
      "feat: dep_cds_usr auc: 15.16\n",
      "feat: dep_med_ordn auc: 13.55\n",
      "feat: dep_med_addcrt auc: -14.98\n",
      "feat: dep_rt_ord_usr auc: 16.58\n",
      "feat: ais_sum_rdr auc: 19.28\n",
      "feat: ais_avg_rdr auc: 23.75\n",
      "feat: ais_cds_ord auc: 17.75\n",
      "feat: ais_cds_usr auc: 14.93\n",
      "feat: ais_med_ordn auc: 12.9\n",
      "feat: ais_med_addcrt auc: -16.04\n",
      "feat: ais_rt_ord_usr auc: 20.79\n",
      "feat: product_affinity auc: -29.62\n",
      "feat: length auc: -4.54\n",
      "feat: words auc: -4.18\n",
      "feat: organic auc: 3.89\n",
      "feat: mean_tfidf auc: 4.13\n",
      "feat: max_tfidf auc: 6.43\n"
     ]
    }
   ],
   "source": [
    "target = pd.read_csv('../data/model/dependent/dependent_n.csv')\n",
    "target = target.merge(product_profile, on='product_id', how='inner')\n",
    "\n",
    "for feat in product_profile.columns[1:]:\n",
    "    fpr, tpr, thresholds = roc_curve(target['reordered'], target[feat])\n",
    "    print('feat:', feat, 'auc:', round(100*(2*auc(fpr,tpr) - 1),2))"
   ]
  },
  {
   "cell_type": "code",
   "execution_count": null,
   "metadata": {},
   "outputs": [],
   "source": []
  },
  {
   "cell_type": "code",
   "execution_count": null,
   "metadata": {
    "collapsed": true
   },
   "outputs": [],
   "source": []
  }
 ],
 "metadata": {
  "kernelspec": {
   "display_name": "Python 3",
   "language": "python",
   "name": "python3"
  },
  "language_info": {
   "codemirror_mode": {
    "name": "ipython",
    "version": 3
   },
   "file_extension": ".py",
   "mimetype": "text/x-python",
   "name": "python",
   "nbconvert_exporter": "python",
   "pygments_lexer": "ipython3",
   "version": "3.6.1"
  }
 },
 "nbformat": 4,
 "nbformat_minor": 2
}
