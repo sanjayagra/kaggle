{
 "cells": [
  {
   "cell_type": "code",
   "execution_count": 1,
   "metadata": {
    "collapsed": true
   },
   "outputs": [],
   "source": [
    "import pandas as pd\n",
    "import numpy as np\n",
    "from sklearn.metrics import roc_curve, auc"
   ]
  },
  {
   "cell_type": "code",
   "execution_count": 2,
   "metadata": {},
   "outputs": [],
   "source": [
    "dependent = pd.read_csv('../data/model/dependent/dependent_n.csv')\n",
    "orders = pd.read_csv('../data/driver/driver_order.csv')\n",
    "products = pd.read_csv('../data/profile/product_basic_profile.csv')\n",
    "history = pd.read_csv('../data/driver/driver_order_products.csv')\n",
    "aisles = pd.read_csv('../data/driver/driver_product.csv')[['product_id','aisle_id']]\n",
    "dependent = dependent[['user_id','product_id']]\n",
    "target = orders[orders['counter'] == 1]\n",
    "orders = orders[orders['counter'] > 1]\n",
    "products = products[['product_id','ais_sum_rdr']]\n",
    "history = history.merge(orders, on='order_id', how='inner')\n",
    "target = dependent.merge(target, on=['user_id'], how='inner')"
   ]
  },
  {
   "cell_type": "code",
   "execution_count": 3,
   "metadata": {},
   "outputs": [
    {
     "name": "stdout",
     "output_type": "stream",
     "text": [
      "(13514162, 8)\n"
     ]
    }
   ],
   "source": [
    "target = target.merge(aisles, on='product_id')\n",
    "target = target.merge(products, on='product_id')\n",
    "features = ['user_id','product_id','aisle_id','order_dow','order_hour_of_day']\n",
    "features += ['days_since_prior_order','order_number','ais_sum_rdr']\n",
    "target = target[features]\n",
    "print(target.shape)"
   ]
  },
  {
   "cell_type": "code",
   "execution_count": 4,
   "metadata": {
    "collapsed": true
   },
   "outputs": [],
   "source": [
    "aggregate = {'order_id':'count'}"
   ]
  },
  {
   "cell_type": "code",
   "execution_count": 5,
   "metadata": {
    "collapsed": true
   },
   "outputs": [],
   "source": [
    "ais_dow = history.groupby(['aisle_id','order_dow']).agg(aggregate).reset_index()\n",
    "ais_dow = ais_dow.rename(columns={'order_id':'ais_dow_cnt'})"
   ]
  },
  {
   "cell_type": "code",
   "execution_count": 6,
   "metadata": {
    "collapsed": true
   },
   "outputs": [],
   "source": [
    "history['order_hour_of_day'], hour = pd.qcut(history['order_hour_of_day'], 10, retbins=True, labels=False)\n",
    "ais_hod = history.groupby(['aisle_id','order_hour_of_day']).agg(aggregate).reset_index()\n",
    "ais_hod = ais_hod.rename(columns={'order_id':'ais_hod_cnt'})"
   ]
  },
  {
   "cell_type": "code",
   "execution_count": 7,
   "metadata": {
    "collapsed": true
   },
   "outputs": [],
   "source": [
    "history['days_since_prior_order'], days = pd.qcut(history['days_since_prior_order'], 5, retbins=True, labels=False)\n",
    "ais_dysc = history.groupby(['aisle_id','days_since_prior_order']).agg(aggregate).reset_index()\n",
    "ais_dysc = ais_dysc.rename(columns={'order_id':'ais_dysc_cnt'})"
   ]
  },
  {
   "cell_type": "code",
   "execution_count": 8,
   "metadata": {
    "collapsed": true
   },
   "outputs": [],
   "source": [
    "history['order_number'], orders = pd.qcut(history['order_number'], 10, retbins=True, labels=False)\n",
    "ais_ordn = history.groupby(['aisle_id','order_number']).agg(aggregate).reset_index()\n",
    "ais_ordn = ais_ordn.rename(columns={'order_id':'ais_ordn_cnt'})"
   ]
  },
  {
   "cell_type": "code",
   "execution_count": 9,
   "metadata": {
    "collapsed": true
   },
   "outputs": [],
   "source": [
    "target['order_hour_of_day'] = pd.cut(target['order_hour_of_day'], bins=hour, labels=False, include_lowest=True)\n",
    "target['days_since_prior_order'] = pd.cut(target['days_since_prior_order'], bins=days, labels=False, include_lowest=True)\n",
    "target['order_number'] = pd.cut(target['order_number'], bins=orders, labels=False, include_lowest=True)"
   ]
  },
  {
   "cell_type": "code",
   "execution_count": 10,
   "metadata": {
    "collapsed": true
   },
   "outputs": [],
   "source": [
    "target = target.merge(ais_dow, on=['aisle_id','order_dow'], how='left')\n",
    "target = target.merge(ais_hod, on=['aisle_id','order_hour_of_day'], how='left')\n",
    "target = target.merge(ais_dysc, on=['aisle_id','days_since_prior_order'], how='left')\n",
    "target = target.merge(ais_ordn, on=['aisle_id','order_number'], how='left')"
   ]
  },
  {
   "cell_type": "code",
   "execution_count": 11,
   "metadata": {
    "collapsed": true
   },
   "outputs": [],
   "source": [
    "target = target.drop(['aisle_id','order_dow','order_hour_of_day','days_since_prior_order','order_number'], axis=1)"
   ]
  },
  {
   "cell_type": "code",
   "execution_count": 14,
   "metadata": {},
   "outputs": [],
   "source": [
    "target['ais2way1'] = target['ais_dow_cnt'] / (target['ais_sum_rdr'] + 1)\n",
    "target['ais2way2'] = target['ais_hod_cnt'] / (target['ais_sum_rdr'] + 1)\n",
    "target['ais2way3'] = target['ais_dysc_cnt'] / (target['ais_sum_rdr'] + 1)\n",
    "target['ais2way4'] = target['ais_ordn_cnt'] / (target['ais_sum_rdr'] + 1)"
   ]
  },
  {
   "cell_type": "code",
   "execution_count": 15,
   "metadata": {
    "collapsed": true
   },
   "outputs": [],
   "source": [
    "target = target.drop(['ais_sum_rdr'], axis=1)"
   ]
  },
  {
   "cell_type": "code",
   "execution_count": null,
   "metadata": {
    "collapsed": true
   },
   "outputs": [],
   "source": [
    "target.to_csv('../data/profile/aisle_2way.csv', index=False)"
   ]
  },
  {
   "cell_type": "code",
   "execution_count": null,
   "metadata": {},
   "outputs": [],
   "source": [
    "target.shape"
   ]
  },
  {
   "cell_type": "code",
   "execution_count": null,
   "metadata": {
    "collapsed": true
   },
   "outputs": [],
   "source": []
  }
 ],
 "metadata": {
  "kernelspec": {
   "display_name": "Python 3",
   "language": "python",
   "name": "python3"
  },
  "language_info": {
   "codemirror_mode": {
    "name": "ipython",
    "version": 3
   },
   "file_extension": ".py",
   "mimetype": "text/x-python",
   "name": "python",
   "nbconvert_exporter": "python",
   "pygments_lexer": "ipython3",
   "version": "3.6.1"
  }
 },
 "nbformat": 4,
 "nbformat_minor": 2
}
