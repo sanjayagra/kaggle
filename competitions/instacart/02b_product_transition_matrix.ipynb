{
 "cells": [
  {
   "cell_type": "code",
   "execution_count": 1,
   "metadata": {
    "collapsed": true
   },
   "outputs": [],
   "source": [
    "import pandas as pd\n",
    "import numpy as np\n",
    "pd.options.mode.chained_assignment=None"
   ]
  },
  {
   "cell_type": "code",
   "execution_count": 2,
   "metadata": {
    "collapsed": true
   },
   "outputs": [],
   "source": [
    "orders = pd.read_csv('../data/driver/driver_order.csv')\n",
    "history = pd.read_csv('../data/driver/driver_order_products.csv')\n",
    "priors = pd.read_csv('../data/profile/product_brrc_profile.csv')\n",
    "priors = priors[['product_id','prd_post']]\n",
    "history = history.merge(orders, on='order_id', how='inner')\n",
    "history = history[history['counter'] > 1]"
   ]
  },
  {
   "cell_type": "markdown",
   "metadata": {},
   "source": [
    "### product transitions"
   ]
  },
  {
   "cell_type": "code",
   "execution_count": 3,
   "metadata": {
    "collapsed": true
   },
   "outputs": [],
   "source": [
    "def barreca(posterior,prior,n,k=75,f=5):\n",
    "    factor = np.exp(min(n-k,1000)/f)\n",
    "    factor = factor / (factor + 1)\n",
    "    if np.isnan(factor):\n",
    "        factor = 1.\n",
    "    return factor * posterior + (1 - factor) * prior"
   ]
  },
  {
   "cell_type": "code",
   "execution_count": 4,
   "metadata": {
    "collapsed": true
   },
   "outputs": [],
   "source": [
    "def get_dependent(counter):\n",
    "    candidate = history[history['counter'] >= counter + 1]\n",
    "    candidate = candidate[['user_id','product_id']].drop_duplicates()\n",
    "    actuals = history[history['counter'] == counter]\n",
    "    actuals = actuals[['user_id','product_id']]\n",
    "    data = candidate.merge(actuals, on=['user_id','product_id'], how='left', indicator=True)\n",
    "    data['reordered'] = data['_merge'].map(lambda x : 1 if x == 'both' else 0)\n",
    "    return data[['user_id','product_id','reordered']]"
   ]
  },
  {
   "cell_type": "code",
   "execution_count": 5,
   "metadata": {
    "collapsed": true
   },
   "outputs": [],
   "source": [
    "def transition_matrix(dim, counter):\n",
    "    if counter % 5 == 0:\n",
    "        print(counter, 'status completed...')\n",
    "    independent = history[history['counter'] >= counter + 1]\n",
    "    independent = independent[independent['counter'] <= counter + dim]\n",
    "    independent['counter'] = independent['counter'] - [counter] * independent.shape[0]\n",
    "    independent['counter'] = independent['counter'].astype(str)\n",
    "    independent = independent[['order_id','user_id','product_id','counter']]\n",
    "    index = ['user_id','product_id']\n",
    "    independent = independent.pivot_table(index=index, columns=['counter'], values=['order_id'], aggfunc='count')\n",
    "    independent.columns = independent.columns.droplevel(0)\n",
    "    independent = independent.fillna(0).reset_index()\n",
    "    dependent = get_dependent(counter)\n",
    "    data = dependent.merge(independent, on=['user_id','product_id'], how='outer', indicator=True)\n",
    "    data = data.drop('_merge',axis=1)\n",
    "    data = data.fillna(0)\n",
    "    index = ['product_id'] + [str(x) for x in range(1,dim+1)]\n",
    "    data = data.pivot_table(index=index, columns='reordered', values='user_id', aggfunc='count')\n",
    "    data = data.reset_index().fillna(0)\n",
    "    data['positive'] = data[1]\n",
    "    data['negative'] = data[0]\n",
    "    data = data.drop([0,1],axis=1)\n",
    "    return data"
   ]
  },
  {
   "cell_type": "code",
   "execution_count": 6,
   "metadata": {},
   "outputs": [
    {
     "name": "stdout",
     "output_type": "stream",
     "text": [
      "5 status completed...\n",
      "10 status completed...\n",
      "15 status completed...\n",
      "20 status completed...\n",
      "25 status completed...\n"
     ]
    }
   ],
   "source": [
    "transition_21 = pd.DataFrame([])\n",
    "for status in range(2,30):\n",
    "    transition_21 = transition_21.append(transition_matrix(1,status))\n",
    "transition_21 = transition_21.groupby(['product_id','1']).sum().reset_index()\n",
    "transition_21['post'] = transition_21['positive']/(transition_21['positive'] + transition_21['negative'])\n",
    "transition_21['supp'] = transition_21['positive'] + transition_21['negative']\n",
    "transition_21 = transition_21.merge(priors, on='product_id', how='inner')\n",
    "transition_21['mc1'] = transition_21.apply(lambda x : barreca(x['post'], x['prd_post'], x['supp']), axis=1)\n",
    "transition_21 = transition_21[['product_id','1','mc1']] "
   ]
  },
  {
   "cell_type": "code",
   "execution_count": 7,
   "metadata": {},
   "outputs": [
    {
     "name": "stdout",
     "output_type": "stream",
     "text": [
      "5 status completed...\n",
      "10 status completed...\n",
      "15 status completed...\n",
      "20 status completed...\n",
      "25 status completed...\n"
     ]
    }
   ],
   "source": [
    "transition_22 = pd.DataFrame([])\n",
    "for status in range(2,30):\n",
    "    transition_22 = transition_22.append(transition_matrix(2,status))\n",
    "transition_22 = transition_22.groupby(['product_id','1','2']).sum().reset_index()\n",
    "transition_22['post'] = transition_22['positive']/(transition_22['positive'] + transition_22['negative'])\n",
    "transition_22['supp'] = transition_22['positive'] + transition_22['negative']\n",
    "transition_22 = transition_22.merge(priors, on='product_id', how='inner')\n",
    "transition_22['mc2'] = transition_22.apply(lambda x : barreca(x['post'], x['prd_post'], x['supp']), axis=1)\n",
    "transition_22 = transition_22[['product_id','1','2','mc2']]"
   ]
  },
  {
   "cell_type": "code",
   "execution_count": 8,
   "metadata": {},
   "outputs": [
    {
     "name": "stdout",
     "output_type": "stream",
     "text": [
      "5 status completed...\n",
      "10 status completed...\n",
      "15 status completed...\n",
      "20 status completed...\n",
      "25 status completed...\n"
     ]
    }
   ],
   "source": [
    "transition_23 = pd.DataFrame([])\n",
    "for status in range(2,30):\n",
    "    transition_23 = transition_23.append(transition_matrix(3,status))\n",
    "transition_23 = transition_23.groupby(['product_id','1','2','3']).sum().reset_index()\n",
    "transition_23['post'] = transition_23['positive']/(transition_23['positive'] + transition_23['negative'])\n",
    "transition_23['supp'] = transition_23['positive'] + transition_23['negative']\n",
    "transition_23 = transition_23.merge(priors, on='product_id', how='inner')\n",
    "transition_23['mc3'] = transition_23.apply(lambda x : barreca(x['post'], x['prd_post'], x['supp']), axis=1)\n",
    "transition_23 = transition_23[['product_id','1','2','3','mc3']]"
   ]
  },
  {
   "cell_type": "code",
   "execution_count": 9,
   "metadata": {},
   "outputs": [
    {
     "name": "stdout",
     "output_type": "stream",
     "text": [
      "5 status completed...\n",
      "10 status completed...\n",
      "15 status completed...\n",
      "20 status completed...\n",
      "25 status completed...\n"
     ]
    }
   ],
   "source": [
    "transition_24 = pd.DataFrame([])\n",
    "for status in range(2,30):\n",
    "    transition_24 = transition_24.append(transition_matrix(4,status))\n",
    "transition_24 = transition_24.groupby(['product_id','1','2','3','4']).sum().reset_index()\n",
    "transition_24['post'] = transition_24['positive']/(transition_24['positive'] + transition_24['negative'])\n",
    "transition_24['supp'] = transition_24['positive'] + transition_24['negative']\n",
    "transition_24 = transition_24.merge(priors, on='product_id', how='inner')\n",
    "transition_24['mc4'] = transition_24.apply(lambda x : barreca(x['post'], x['prd_post'], x['supp']), axis=1)\n",
    "transition_24 = transition_24[['product_id','1','2','3','4','mc4']]"
   ]
  },
  {
   "cell_type": "code",
   "execution_count": 10,
   "metadata": {},
   "outputs": [
    {
     "name": "stdout",
     "output_type": "stream",
     "text": [
      "5 status completed...\n",
      "10 status completed...\n",
      "15 status completed...\n",
      "20 status completed...\n",
      "25 status completed...\n"
     ]
    }
   ],
   "source": [
    "transition_25 = pd.DataFrame([])\n",
    "for status in range(2,30):\n",
    "    transition_25 = transition_25.append(transition_matrix(5,status))\n",
    "transition_25 = transition_25.groupby(['product_id','1','2','3','4','5']).sum().reset_index()\n",
    "transition_25['post'] = transition_25['positive']/(transition_25['positive'] + transition_25['negative'])\n",
    "transition_25['supp'] = transition_25['positive'] + transition_25['negative']\n",
    "transition_25 = transition_25.merge(priors, on='product_id', how='inner')\n",
    "transition_25['mc5'] = transition_25.apply(lambda x : barreca(x['post'], x['prd_post'], x['supp']), axis=1)\n",
    "transition_25 = transition_25[['product_id','1','2','3','4','5','mc5']]"
   ]
  },
  {
   "cell_type": "code",
   "execution_count": 11,
   "metadata": {
    "collapsed": true
   },
   "outputs": [],
   "source": [
    "transition = transition_25.merge(transition_24, on=['product_id','1','2','3','4'], how='outer')\n",
    "transition = transition.merge(transition_23, on=['product_id','1','2','3'], how='outer')\n",
    "transition = transition.merge(transition_22, on=['product_id','1','2'], how='outer')\n",
    "transition = transition.merge(transition_21, on=['product_id','1'], how='outer')\n",
    "transition['1'] = transition['1'].fillna(0) \n",
    "transition['2'] = transition['2'].fillna(0)\n",
    "transition['3'] = transition['3'].fillna(0) \n",
    "transition['4'] = transition['4'].fillna(0) \n",
    "transition['5'] = transition['5'].fillna(0) \n",
    "transition.to_csv('../data/similarity/transition_matrix.csv', index=False)"
   ]
  },
  {
   "cell_type": "code",
   "execution_count": null,
   "metadata": {
    "collapsed": true
   },
   "outputs": [],
   "source": []
  }
 ],
 "metadata": {
  "kernelspec": {
   "display_name": "Python 3",
   "language": "python",
   "name": "python3"
  },
  "language_info": {
   "codemirror_mode": {
    "name": "ipython",
    "version": 3
   },
   "file_extension": ".py",
   "mimetype": "text/x-python",
   "name": "python",
   "nbconvert_exporter": "python",
   "pygments_lexer": "ipython3",
   "version": "3.6.1"
  }
 },
 "nbformat": 4,
 "nbformat_minor": 2
}
