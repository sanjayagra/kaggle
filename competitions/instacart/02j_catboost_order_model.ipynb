{
 "cells": [
  {
   "cell_type": "code",
   "execution_count": 4,
   "metadata": {
    "collapsed": true
   },
   "outputs": [],
   "source": [
    "import pandas as pd\n",
    "import numpy as np\n",
    "from catboost import CatBoostClassifier, Pool\n",
    "from sklearn.metrics import roc_curve, auc, log_loss"
   ]
  },
  {
   "cell_type": "code",
   "execution_count": 5,
   "metadata": {
    "collapsed": true
   },
   "outputs": [],
   "source": [
    "data = pd.read_csv('../data/catboost/data/train_data1.csv')\n",
    "train_data = data[data['eval_set'] != 'test']\n",
    "valid_data = data[data['eval_set'] == 'test']"
   ]
  },
  {
   "cell_type": "code",
   "execution_count": 8,
   "metadata": {
    "collapsed": true
   },
   "outputs": [],
   "source": [
    "train_features = np.array(train_data.iloc[:,3:])\n",
    "train_label = train_data['reordered'].values\n",
    "cat_features = [0,1,2]"
   ]
  },
  {
   "cell_type": "code",
   "execution_count": 9,
   "metadata": {
    "collapsed": true
   },
   "outputs": [],
   "source": [
    "valid_features = np.array(valid_data.iloc[:,3:])\n",
    "valid_label = valid_data['reordered'].values\n",
    "cat_features = [0,1,2]"
   ]
  },
  {
   "cell_type": "code",
   "execution_count": 10,
   "metadata": {
    "collapsed": true
   },
   "outputs": [],
   "source": [
    "params = {}\n",
    "params['iterations'] = 50\n",
    "params['learning_rate'] = 0.03\n",
    "params['depth'] = 6\n",
    "params['random_seed'] = 108\n",
    "params['thread_count'] = 7\n",
    "params['auto_stop_pval'] = 10"
   ]
  },
  {
   "cell_type": "code",
   "execution_count": 11,
   "metadata": {
    "collapsed": true
   },
   "outputs": [],
   "source": [
    "model = CatBoostClassifier(**params)"
   ]
  },
  {
   "cell_type": "code",
   "execution_count": 12,
   "metadata": {},
   "outputs": [
    {
     "name": "stdout",
     "output_type": "stream",
     "text": [
      "Borders generated\n",
      "0:\tlearn 0.6689203758passed: 6.07 sec\ttotal: 5m 45s\tremaining: 4h 42m\n",
      "1:\tlearn 0.6461972467passed: 6.19 sec\ttotal: 5m 51s\tremaining: 2h 20m 36s\n",
      "2:\tlearn 0.625033109passed: 5.19 sec\ttotal: 5m 56s\tremaining: 1h 33m 8s\n",
      "3:\tlearn 0.6058615472passed: 5.43 sec\ttotal: 6m 2s\tremaining: 1h 9m 24s\n",
      "4:\tlearn 0.5879741224passed: 5.31 sec\ttotal: 6m 7s\tremaining: 55m 7s\n",
      "5:\tlearn 0.5711978244passed: 5.65 sec\ttotal: 6m 13s\tremaining: 45m 36s\n",
      "6:\tlearn 0.5560914795passed: 6.23 sec\ttotal: 6m 19s\tremaining: 38m 50s\n",
      "7:\tlearn 0.5417919034passed: 6.04 sec\ttotal: 6m 25s\tremaining: 33m 43s\n",
      "8:\tlearn 0.5286838781passed: 5.2 sec\ttotal: 6m 30s\tremaining: 29m 39s\n",
      "9:\tlearn 0.5165469067passed: 5.6 sec\ttotal: 6m 36s\tremaining: 26m 24s\n",
      "10:\tlearn 0.505243332passed: 5.04 sec\ttotal: 6m 41s\tremaining: 23m 42s\n",
      "11:\tlearn 0.4948499978passed: 6.74 sec\ttotal: 6m 47s\tremaining: 21m 31s\n",
      "12:\tlearn 0.4852307201passed: 5.64 sec\ttotal: 6m 53s\tremaining: 19m 37s\n",
      "13:\tlearn 0.4762752111passed: 5.89 sec\ttotal: 6m 59s\tremaining: 17m 58s\n",
      "14:\tlearn 0.467949687passed: 6.02 sec\ttotal: 7m 5s\tremaining: 16m 32s\n",
      "15:\tlearn 0.460116307passed: 5.2 sec\ttotal: 7m 10s\tremaining: 15m 15s\n",
      "16:\tlearn 0.4528152859passed: 5.79 sec\ttotal: 7m 16s\tremaining: 14m 7s\n",
      "17:\tlearn 0.4463241012passed: 6.19 sec\ttotal: 7m 22s\tremaining: 13m 6s\n",
      "18:\tlearn 0.4401476274passed: 6 sec\ttotal: 7m 28s\tremaining: 12m 12s\n",
      "19:\tlearn 0.4344368054passed: 6.47 sec\ttotal: 7m 35s\tremaining: 11m 22s\n",
      "20:\tlearn 0.4290989411passed: 5.92 sec\ttotal: 7m 41s\tremaining: 10m 36s\n",
      "21:\tlearn 0.4241236278passed: 5.46 sec\ttotal: 7m 46s\tremaining: 9m 53s\n",
      "22:\tlearn 0.4194609101passed: 5.68 sec\ttotal: 7m 52s\tremaining: 9m 14s\n",
      "23:\tlearn 0.4153013147passed: 5.29 sec\ttotal: 7m 57s\tremaining: 8m 37s\n",
      "24:\tlearn 0.4112510699passed: 5.94 sec\ttotal: 8m 3s\tremaining: 8m 3s\n",
      "25:\tlearn 0.4074803828passed: 5.41 sec\ttotal: 8m 8s\tremaining: 7m 31s\n",
      "26:\tlearn 0.404201639passed: 5.92 sec\ttotal: 8m 14s\tremaining: 7m 1s\n",
      "27:\tlearn 0.4010388292passed: 5.58 sec\ttotal: 8m 20s\tremaining: 6m 33s\n",
      "28:\tlearn 0.3979706806passed: 5.21 sec\ttotal: 8m 25s\tremaining: 6m 6s\n",
      "29:\tlearn 0.39511323passed: 5.77 sec\ttotal: 8m 31s\tremaining: 5m 40s\n",
      "30:\tlearn 0.3924759716passed: 5.44 sec\ttotal: 8m 36s\tremaining: 5m 16s\n",
      "31:\tlearn 0.3900158805passed: 5.95 sec\ttotal: 8m 42s\tremaining: 4m 54s\n",
      "32:\tlearn 0.3876527412passed: 6.24 sec\ttotal: 8m 48s\tremaining: 4m 32s\n",
      "33:\tlearn 0.3855822724passed: 6.22 sec\ttotal: 8m 55s\tremaining: 4m 11s\n",
      "34:\tlearn 0.3835786512passed: 6.32 sec\ttotal: 9m 1s\tremaining: 3m 52s\n",
      "35:\tlearn 0.3816798911passed: 5.64 sec\ttotal: 9m 7s\tremaining: 3m 32s\n",
      "36:\tlearn 0.3798899756passed: 5.68 sec\ttotal: 9m 12s\tremaining: 3m 14s\n",
      "37:\tlearn 0.3782470516passed: 6.05 sec\ttotal: 9m 18s\tremaining: 2m 56s\n",
      "38:\tlearn 0.3766659348passed: 5.44 sec\ttotal: 9m 24s\tremaining: 2m 39s\n",
      "39:\tlearn 0.3751944065passed: 6.17 sec\ttotal: 9m 30s\tremaining: 2m 22s\n",
      "40:\tlearn 0.3738497664passed: 6.13 sec\ttotal: 9m 36s\tremaining: 2m 6s\n",
      "41:\tlearn 0.3727421015passed: 5.72 sec\ttotal: 9m 42s\tremaining: 1m 50s\n",
      "42:\tlearn 0.37156189passed: 6.09 sec\ttotal: 9m 48s\tremaining: 1m 35s\n",
      "43:\tlearn 0.3704326727passed: 6.11 sec\ttotal: 9m 54s\tremaining: 1m 21s\n",
      "44:\tlearn 0.3693388092passed: 6.18 sec\ttotal: 10m\tremaining: 1m 6s\n",
      "45:\tlearn 0.3684381825passed: 5.96 sec\ttotal: 10m 6s\tremaining: 52.8s\n",
      "46:\tlearn 0.3674570455passed: 5.57 sec\ttotal: 10m 12s\tremaining: 39.1s\n",
      "47:\tlearn 0.3665556954passed: 5.79 sec\ttotal: 10m 18s\tremaining: 25.8s\n",
      "48:\tlearn 0.3656986896passed: 6.12 sec\ttotal: 10m 24s\tremaining: 12.7s\n",
      "49:\tlearn 0.3648999732passed: 5.37 sec\ttotal: 10m 29s\tremaining: 0us\n"
     ]
    },
    {
     "data": {
      "text/plain": [
       "<catboost.core.CatBoostClassifier at 0x7fc32c2eaa20>"
      ]
     },
     "execution_count": 12,
     "metadata": {},
     "output_type": "execute_result"
    }
   ],
   "source": [
    "model.fit(train_features, train_label, cat_features, verbose=True)"
   ]
  },
  {
   "cell_type": "code",
   "execution_count": 13,
   "metadata": {
    "collapsed": true
   },
   "outputs": [],
   "source": [
    "predictions = model.predict_proba(valid_features)"
   ]
  },
  {
   "cell_type": "code",
   "execution_count": 14,
   "metadata": {},
   "outputs": [
    {
     "data": {
      "text/plain": [
       "0.49834976847589707"
      ]
     },
     "execution_count": 14,
     "metadata": {},
     "output_type": "execute_result"
    }
   ],
   "source": [
    "fpr, tpr, thresh = roc_curve(valid_label, predictions[:,1])\n",
    "2*auc(fpr,tpr) - 1"
   ]
  },
  {
   "cell_type": "code",
   "execution_count": 15,
   "metadata": {
    "collapsed": true
   },
   "outputs": [],
   "source": [
    "data = pd.read_csv('../data/catboost/data/score_data1.csv')\n",
    "features = np.array(data.iloc[:,3:])\n",
    "label = data['reordered'].values"
   ]
  },
  {
   "cell_type": "code",
   "execution_count": 16,
   "metadata": {
    "collapsed": true
   },
   "outputs": [],
   "source": [
    "predictions = model.predict_proba(features)"
   ]
  },
  {
   "cell_type": "code",
   "execution_count": 17,
   "metadata": {},
   "outputs": [
    {
     "data": {
      "text/plain": [
       "0.47921359936064722"
      ]
     },
     "execution_count": 17,
     "metadata": {},
     "output_type": "execute_result"
    }
   ],
   "source": [
    "fpr, tpr, thresh = roc_curve(label, predictions[:,1])\n",
    "2*auc(fpr,tpr) - 1"
   ]
  },
  {
   "cell_type": "code",
   "execution_count": 19,
   "metadata": {},
   "outputs": [
    {
     "name": "stderr",
     "output_type": "stream",
     "text": [
      "/home/ubuntu/.software/anaonda3/lib/python3.6/site-packages/ipykernel_launcher.py:2: SettingWithCopyWarning: \n",
      "A value is trying to be set on a copy of a slice from a DataFrame.\n",
      "Try using .loc[row_indexer,col_indexer] = value instead\n",
      "\n",
      "See the caveats in the documentation: http://pandas.pydata.org/pandas-docs/stable/indexing.html#indexing-view-versus-copy\n",
      "  \n"
     ]
    }
   ],
   "source": [
    "driver = data[['user_id','product_id']]\n",
    "driver['catboost1'] = predictions[:,1]"
   ]
  },
  {
   "cell_type": "code",
   "execution_count": null,
   "metadata": {},
   "outputs": [],
   "source": [
    "driver.to_csv('../data/catboost/catboost1.csv', index=False)"
   ]
  },
  {
   "cell_type": "code",
   "execution_count": null,
   "metadata": {
    "collapsed": true
   },
   "outputs": [],
   "source": []
  }
 ],
 "metadata": {
  "kernelspec": {
   "display_name": "Python 3",
   "language": "python",
   "name": "python3"
  },
  "language_info": {
   "codemirror_mode": {
    "name": "ipython",
    "version": 3
   },
   "file_extension": ".py",
   "mimetype": "text/x-python",
   "name": "python",
   "nbconvert_exporter": "python",
   "pygments_lexer": "ipython3",
   "version": "3.6.1"
  }
 },
 "nbformat": 4,
 "nbformat_minor": 2
}
