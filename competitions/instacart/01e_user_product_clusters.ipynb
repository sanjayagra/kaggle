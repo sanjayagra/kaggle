{
 "cells": [
  {
   "cell_type": "code",
   "execution_count": 1,
   "metadata": {},
   "outputs": [],
   "source": [
    "import pandas as pd\n",
    "import numpy as np\n",
    "from sklearn.cluster import KMeans\n",
    "from scipy.stats import fisher_exact"
   ]
  },
  {
   "cell_type": "markdown",
   "metadata": {},
   "source": [
    "### products"
   ]
  },
  {
   "cell_type": "code",
   "execution_count": 2,
   "metadata": {
    "collapsed": true
   },
   "outputs": [],
   "source": [
    "data = pd.read_csv('../data/gensim/prodvecs.csv')"
   ]
  },
  {
   "cell_type": "code",
   "execution_count": 3,
   "metadata": {},
   "outputs": [],
   "source": [
    "model = KMeans(n_clusters = 30, precompute_distances = True, n_init=10, n_jobs = 4)\n",
    "model.fit(data.iloc[:,1:])\n",
    "data['prd_label'] = model.predict(data.iloc[:,1:])\n",
    "data[['product_id','prd_label']].to_csv('../data/gensim/cluster_product.csv', index=False)"
   ]
  },
  {
   "cell_type": "code",
   "execution_count": 6,
   "metadata": {},
   "outputs": [],
   "source": [
    "labels = data[['product_id','prd_label']]\n",
    "dep = pd.read_csv('../data/model/dependent/dependent_n.csv')\n",
    "dep = dep.merge(labels, on='product_id', how='inner')\n",
    "cluster = pd.get_dummies(data=dep['prd_label'], prefix='prd_cls')\n",
    "dep = dep.join(cluster)\n",
    "dep =dep[dep['eval_set'] == 'valid']"
   ]
  },
  {
   "cell_type": "code",
   "execution_count": 7,
   "metadata": {},
   "outputs": [
    {
     "name": "stdout",
     "output_type": "stream",
     "text": [
      "prd_cls_28 124148 14992 1.3093\n",
      "prd_cls_23 44449 2356 0.5154\n",
      "prd_cls_10 60128 4476 0.7436\n",
      "prd_cls_3 281430 37296 1.5477\n",
      "prd_cls_0 379096 29065 0.7274\n"
     ]
    }
   ],
   "source": [
    "for feat in reversed(['prd_cls_' + str(x) for x in range(30)]):\n",
    "    oddsratio = pd.crosstab(dep[feat], dep['reordered']).reset_index(drop=True)\n",
    "    oddsratio = np.mat(oddsratio)\n",
    "    cross  = oddsratio[1,1]\n",
    "    oddsratio = (oddsratio[0,0]*oddsratio[1,1]) / (oddsratio[1,0]*oddsratio[0,1])\n",
    "    if cross > 2000 and (oddsratio < 0.80 or oddsratio > 1.2):\n",
    "        print(feat, dep[feat].sum(), cross, round(oddsratio,4))"
   ]
  },
  {
   "cell_type": "markdown",
   "metadata": {},
   "source": [
    "### user clusters"
   ]
  },
  {
   "cell_type": "code",
   "execution_count": 8,
   "metadata": {
    "collapsed": true
   },
   "outputs": [],
   "source": [
    "data = pd.read_csv('../data/gensim/uservecs.csv')"
   ]
  },
  {
   "cell_type": "code",
   "execution_count": 9,
   "metadata": {},
   "outputs": [],
   "source": [
    "model = KMeans(n_clusters = 50, precompute_distances = True, n_init=10, n_jobs = 4)\n",
    "model.fit(data.iloc[:,1:])\n",
    "data['usr_label'] = model.predict(data.iloc[:,1:])\n",
    "data[['user_id','usr_label']].to_csv('../data/gensim/cluster_user.csv', index=False)"
   ]
  },
  {
   "cell_type": "code",
   "execution_count": 10,
   "metadata": {
    "collapsed": true
   },
   "outputs": [],
   "source": [
    "labels = data[['user_id','usr_label']]\n",
    "dep = pd.read_csv('../data/model/dependent/dependent_n.csv')\n",
    "dep = dep.merge(labels, on='user_id', how='inner')\n",
    "cluster = pd.get_dummies(data=dep['usr_label'], prefix='prd_cls')\n",
    "dep = dep.join(cluster)\n",
    "dep =dep[dep['eval_set'] == 'valid']"
   ]
  },
  {
   "cell_type": "code",
   "execution_count": 11,
   "metadata": {},
   "outputs": [
    {
     "name": "stdout",
     "output_type": "stream",
     "text": [
      "prd_cls_47 14152 1624 1.2116\n",
      "prd_cls_41 41439 3206 0.7782\n",
      "prd_cls_33 56822 6911 1.3046\n",
      "prd_cls_28 40862 2886 0.704\n",
      "prd_cls_27 25667 1959 0.7683\n",
      "prd_cls_23 33446 2408 0.7199\n",
      "prd_cls_17 25119 2898 1.2207\n",
      "prd_cls_10 43501 5089 1.2436\n",
      "prd_cls_9 7230 1500 2.4557\n",
      "prd_cls_5 30236 4483 1.6415\n",
      "prd_cls_4 44400 5512 1.3336\n"
     ]
    }
   ],
   "source": [
    "for feat in reversed(['prd_cls_' + str(x) for x in range(50)]):\n",
    "    oddsratio = pd.crosstab(dep[feat], dep['reordered']).reset_index(drop=True)\n",
    "    oddsratio = np.mat(oddsratio)\n",
    "    cross  = oddsratio[1,1]\n",
    "    oddsratio = (oddsratio[0,0]*oddsratio[1,1]) / (oddsratio[1,0]*oddsratio[0,1])\n",
    "    if cross > 1000 and (oddsratio <= 0.80 or oddsratio >= 1.2):\n",
    "        print(feat, dep[feat].sum(), cross, round(oddsratio,4))"
   ]
  },
  {
   "cell_type": "code",
   "execution_count": null,
   "metadata": {
    "collapsed": true
   },
   "outputs": [],
   "source": []
  }
 ],
 "metadata": {
  "kernelspec": {
   "display_name": "Python 3",
   "language": "python",
   "name": "python3"
  },
  "language_info": {
   "codemirror_mode": {
    "name": "ipython",
    "version": 3
   },
   "file_extension": ".py",
   "mimetype": "text/x-python",
   "name": "python",
   "nbconvert_exporter": "python",
   "pygments_lexer": "ipython3",
   "version": "3.6.1"
  }
 },
 "nbformat": 4,
 "nbformat_minor": 2
}
