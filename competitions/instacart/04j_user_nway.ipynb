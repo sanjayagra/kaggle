{
 "cells": [
  {
   "cell_type": "code",
   "execution_count": 1,
   "metadata": {
    "collapsed": true
   },
   "outputs": [],
   "source": [
    "import pandas as pd\n",
    "import numpy as np\n",
    "from sklearn.metrics import roc_curve, auc"
   ]
  },
  {
   "cell_type": "code",
   "execution_count": null,
   "metadata": {
    "collapsed": true
   },
   "outputs": [],
   "source": [
    "dependent = pd.read_csv('../data/model/dependent/dependent_n.csv')\n",
    "dependent = dependent[['user_id','product_id']]\n",
    "orders = pd.read_csv('../data/driver/driver_order.csv')\n",
    "target = orders[orders['counter'] == 1]\n",
    "orders = orders[orders['counter'] > 1]\n",
    "users = pd.read_csv('../data/profile/user_profile.csv')\n",
    "users = users[['user_id','usr_cnt_ord']]\n",
    "target = dependent.merge(target, on=['user_id'], how='inner')"
   ]
  },
  {
   "cell_type": "code",
   "execution_count": null,
   "metadata": {},
   "outputs": [],
   "source": [
    "target = target[['user_id','product_id','order_dow','order_hour_of_day','days_since_prior_order','order_number']]\n",
    "target = target.merge(users, on='user_id')\n",
    "print(target.shape)"
   ]
  },
  {
   "cell_type": "code",
   "execution_count": null,
   "metadata": {
    "collapsed": true
   },
   "outputs": [],
   "source": [
    "aggregate = {'order_id': 'count'}"
   ]
  },
  {
   "cell_type": "code",
   "execution_count": null,
   "metadata": {
    "collapsed": true
   },
   "outputs": [],
   "source": [
    "usr_dow = orders.groupby(['user_id','order_dow']).agg(aggregate).reset_index()\n",
    "usr_dow = usr_dow.rename(columns={'order_id':'usr_dow_cnt'})"
   ]
  },
  {
   "cell_type": "code",
   "execution_count": null,
   "metadata": {
    "collapsed": true
   },
   "outputs": [],
   "source": [
    "orders['order_hour_of_day'], hour = pd.qcut(orders['order_hour_of_day'], 10, retbins=True, labels=False)\n",
    "usr_hod = orders.groupby(['user_id','order_hour_of_day']).agg(aggregate).reset_index()\n",
    "usr_hod = usr_hod.rename(columns={'order_id':'usr_hod_cnt'})"
   ]
  },
  {
   "cell_type": "code",
   "execution_count": null,
   "metadata": {
    "collapsed": true
   },
   "outputs": [],
   "source": [
    "orders['days_since_prior_order'], days = pd.qcut(orders['days_since_prior_order'], 5, retbins=True, labels=False)\n",
    "usr_dysc = orders.groupby(['user_id','days_since_prior_order']).agg(aggregate).reset_index()\n",
    "usr_dysc = usr_dysc.rename(columns={'order_id':'usr_dysc_cnt'})"
   ]
  },
  {
   "cell_type": "code",
   "execution_count": null,
   "metadata": {
    "collapsed": true
   },
   "outputs": [],
   "source": [
    "target['order_hour_of_day'] = pd.cut(target['order_hour_of_day'], bins=hour, labels=False, include_lowest=True)\n",
    "target['days_since_prior_order'] = pd.cut(target['days_since_prior_order'], bins=days, labels=False, include_lowest=True)"
   ]
  },
  {
   "cell_type": "code",
   "execution_count": null,
   "metadata": {
    "collapsed": true
   },
   "outputs": [],
   "source": [
    "target = target.merge(usr_dow, on=['user_id','order_dow'], how='left')\n",
    "target = target.merge(usr_hod, on=['user_id','order_hour_of_day'], how='left')\n",
    "target = target.merge(usr_dysc, on=['user_id','days_since_prior_order'], how='left')"
   ]
  },
  {
   "cell_type": "code",
   "execution_count": null,
   "metadata": {
    "collapsed": true
   },
   "outputs": [],
   "source": [
    "target = target.drop(['order_dow','order_hour_of_day','days_since_prior_order','order_number'], axis=1)"
   ]
  },
  {
   "cell_type": "code",
   "execution_count": null,
   "metadata": {
    "collapsed": true
   },
   "outputs": [],
   "source": [
    "target = target.drop(['usr_cnt_ord'], axis=1)"
   ]
  },
  {
   "cell_type": "code",
   "execution_count": null,
   "metadata": {
    "collapsed": true
   },
   "outputs": [],
   "source": [
    "target.to_csv('../data/profile/user_2way.csv', index=False)"
   ]
  },
  {
   "cell_type": "code",
   "execution_count": null,
   "metadata": {},
   "outputs": [],
   "source": [
    "target.shape"
   ]
  },
  {
   "cell_type": "code",
   "execution_count": null,
   "metadata": {
    "collapsed": true
   },
   "outputs": [],
   "source": []
  }
 ],
 "metadata": {
  "kernelspec": {
   "display_name": "Python 3",
   "language": "python",
   "name": "python3"
  },
  "language_info": {
   "codemirror_mode": {
    "name": "ipython",
    "version": 3
   },
   "file_extension": ".py",
   "mimetype": "text/x-python",
   "name": "python",
   "nbconvert_exporter": "python",
   "pygments_lexer": "ipython3",
   "version": "3.6.1"
  }
 },
 "nbformat": 4,
 "nbformat_minor": 2
}
