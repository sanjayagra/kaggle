{
 "cells": [
  {
   "cell_type": "code",
   "execution_count": 1,
   "metadata": {},
   "outputs": [
    {
     "name": "stderr",
     "output_type": "stream",
     "text": [
      "Using Theano backend.\n"
     ]
    }
   ],
   "source": [
    "import pandas as pd\n",
    "import numpy as np\n",
    "import seaborn as sns\n",
    "import matplotlib.pyplot as plt\n",
    "from gensim.models import doc2vec, word2vec\n",
    "pd.set_option('chained_assignment',None)"
   ]
  },
  {
   "cell_type": "code",
   "execution_count": 2,
   "metadata": {
    "collapsed": true
   },
   "outputs": [],
   "source": [
    "def map_user(user_id, order_id):\n",
    "    if user_id in users:\n",
    "        if order_id % 2 == 0:\n",
    "            return 'u_' + str(user_id) + '_even'\n",
    "        else:\n",
    "            return 'u_' + str(user_id) + '_odd'\n",
    "    else:\n",
    "        return 'u_' + str(user_id)"
   ]
  },
  {
   "cell_type": "code",
   "execution_count": 4,
   "metadata": {
    "collapsed": true
   },
   "outputs": [],
   "source": [
    "orders = pd.read_csv('../data/driver/driver_order.csv')\n",
    "orders = orders[['order_id','user_id']]\n",
    "users = orders.groupby('user_id')['order_id'].apply(pd.Series.nunique).reset_index()\n",
    "users = users[users['order_id'] >= 20]\n",
    "users = users[users['user_id'] % 100 <= 3] \n",
    "users = users['user_id'].values\n",
    "orders['user'] = orders.apply(lambda x : map_user(x['user_id'], x['order_id']), axis=1)"
   ]
  },
  {
   "cell_type": "code",
   "execution_count": 6,
   "metadata": {},
   "outputs": [
    {
     "name": "stdout",
     "output_type": "stream",
     "text": [
      "(3421083, 3) (34010012, 5)\n",
      "(34010012, 7)\n"
     ]
    },
    {
     "data": {
      "text/html": [
       "<div>\n",
       "<style>\n",
       "    .dataframe thead tr:only-child th {\n",
       "        text-align: right;\n",
       "    }\n",
       "\n",
       "    .dataframe thead th {\n",
       "        text-align: left;\n",
       "    }\n",
       "\n",
       "    .dataframe tbody tr th {\n",
       "        vertical-align: top;\n",
       "    }\n",
       "</style>\n",
       "<table border=\"1\" class=\"dataframe\">\n",
       "  <thead>\n",
       "    <tr style=\"text-align: right;\">\n",
       "      <th></th>\n",
       "      <th>user</th>\n",
       "      <th>order_id</th>\n",
       "      <th>product</th>\n",
       "    </tr>\n",
       "  </thead>\n",
       "  <tbody>\n",
       "    <tr>\n",
       "      <th>0</th>\n",
       "      <td>u_1</td>\n",
       "      <td>431534</td>\n",
       "      <td>p_196,a_77,d_7,p_12427,a_23,d_19,p_10258,a_117...</td>\n",
       "    </tr>\n",
       "    <tr>\n",
       "      <th>1</th>\n",
       "      <td>u_1</td>\n",
       "      <td>473747</td>\n",
       "      <td>p_196,a_77,d_7,p_12427,a_23,d_19,p_10258,a_117...</td>\n",
       "    </tr>\n",
       "    <tr>\n",
       "      <th>2</th>\n",
       "      <td>u_1</td>\n",
       "      <td>550135</td>\n",
       "      <td>p_196,a_77,d_7,p_10258,a_117,d_19,p_12427,a_23...</td>\n",
       "    </tr>\n",
       "    <tr>\n",
       "      <th>3</th>\n",
       "      <td>u_1</td>\n",
       "      <td>1187899</td>\n",
       "      <td>p_196,a_77,d_7,p_25133,a_21,d_16,p_38928,a_120...</td>\n",
       "    </tr>\n",
       "    <tr>\n",
       "      <th>4</th>\n",
       "      <td>u_1</td>\n",
       "      <td>2254736</td>\n",
       "      <td>p_196,a_77,d_7,p_12427,a_23,d_19,p_10258,a_117...</td>\n",
       "    </tr>\n",
       "  </tbody>\n",
       "</table>\n",
       "</div>"
      ],
      "text/plain": [
       "  user  order_id                                            product\n",
       "0  u_1    431534  p_196,a_77,d_7,p_12427,a_23,d_19,p_10258,a_117...\n",
       "1  u_1    473747  p_196,a_77,d_7,p_12427,a_23,d_19,p_10258,a_117...\n",
       "2  u_1    550135  p_196,a_77,d_7,p_10258,a_117,d_19,p_12427,a_23...\n",
       "3  u_1   1187899  p_196,a_77,d_7,p_25133,a_21,d_16,p_38928,a_120...\n",
       "4  u_1   2254736  p_196,a_77,d_7,p_12427,a_23,d_19,p_10258,a_117..."
      ]
     },
     "execution_count": 6,
     "metadata": {},
     "output_type": "execute_result"
    }
   ],
   "source": [
    "order_products = pd.read_csv('../data/driver/driver_order_products.csv').drop('reordered',axis=1)\n",
    "print(orders.shape, order_products.shape)\n",
    "data = orders.merge(order_products, on='order_id')\n",
    "print(data.shape)\n",
    "data = data.sort_values(by=['order_id','add_to_cart_order'])\n",
    "prefix = np.array(['p_'] * data.shape[0])\n",
    "data['product_id'] = np.core.defchararray.add(prefix, data['product_id'].values.astype(np.str))\n",
    "prefix = np.array(['d_'] * data.shape[0])\n",
    "data['department_id'] = np.core.defchararray.add(prefix, data['department_id'].values.astype(np.str))\n",
    "prefix = np.array(['a_'] * data.shape[0])\n",
    "data['aisle_id'] = np.core.defchararray.add(prefix, data['aisle_id'].values.astype(np.str))\n",
    "sep = [','] * data.shape[0]\n",
    "data['product'] = data['product_id'] + sep + data['aisle_id'] + sep + data['department_id']\n",
    "data = data[['order_id','user','product']]\n",
    "data = data.groupby(['user','order_id'])['product'].apply(','.join).reset_index()\n",
    "data.head()"
   ]
  },
  {
   "cell_type": "markdown",
   "metadata": {},
   "source": [
    "### docvec model"
   ]
  },
  {
   "cell_type": "code",
   "execution_count": 7,
   "metadata": {
    "collapsed": true
   },
   "outputs": [],
   "source": [
    "corpus = []\n",
    "\n",
    "for user, line in zip(data['user'].values, data['product'].values):\n",
    "    corpus += [doc2vec.TaggedDocument(words = line.split(','), tags = [user])]"
   ]
  },
  {
   "cell_type": "code",
   "execution_count": 9,
   "metadata": {
    "collapsed": true
   },
   "outputs": [],
   "source": [
    "params = {}\n",
    "params['size'] = 16 # tuned\n",
    "params['window'] = 8 # tuned\n",
    "params['min_count'] = 0 # static\n",
    "params['sample'] = 1e-3 # tuned\n",
    "params['negative'] = 20\n",
    "params['workers'] = 8\n",
    "params['hs'] = 0\n",
    "params['seed'] = 108\n",
    "\n",
    "model = doc2vec.Doc2Vec(**params, iter=1)\n",
    "model.build_vocab(corpus)\n",
    "\n",
    "model.intersect_word2vec_format('../data/gensim/wordvectors.txt', lockf=0.0)"
   ]
  },
  {
   "cell_type": "code",
   "execution_count": 10,
   "metadata": {
    "collapsed": true
   },
   "outputs": [],
   "source": [
    "def accuracy():\n",
    "    scores = []\n",
    "    for user in users:\n",
    "            u1 = 'u_' + str(user) + '_even'\n",
    "            u2 = 'u_' + str(user) + '_odd'\n",
    "            scores += [model.docvecs.similarity(u1,u2)]\n",
    "    return np.round([np.mean(scores), np.std(scores)], 2)"
   ]
  },
  {
   "cell_type": "code",
   "execution_count": null,
   "metadata": {},
   "outputs": [
    {
     "name": "stdout",
     "output_type": "stream",
     "text": [
      "start score: [-0.    0.25]\n",
      "alpha: 0.1 score: [ 0.89  0.06]\n",
      "alpha: 0.095 score: [ 0.93  0.04]\n",
      "alpha: 0.0902 score: [ 0.94  0.03]\n",
      "alpha: 0.0857 score: [ 0.95  0.02]\n",
      "alpha: 0.0815 score: [ 0.96  0.02]\n"
     ]
    }
   ],
   "source": [
    "print('start score:', accuracy())\n",
    "\n",
    "alpha = 0.1\n",
    "\n",
    "for epoch in range(5):\n",
    "    model.train(corpus, total_examples=model.corpus_count, epochs=1, start_alpha=alpha, end_alpha=alpha)\n",
    "    print('alpha:', round(alpha,4), 'score:', accuracy())\n",
    "    alpha = alpha * 0.95"
   ]
  },
  {
   "cell_type": "code",
   "execution_count": null,
   "metadata": {
    "collapsed": true
   },
   "outputs": [],
   "source": [
    "model.save_word2vec_format('../data/gensim/docvectors.txt', binary=False, doctag_vec=True, word_vec=False, prefix='')"
   ]
  },
  {
   "cell_type": "code",
   "execution_count": null,
   "metadata": {},
   "outputs": [
    {
     "name": "stdout",
     "output_type": "stream",
     "text": [
      "(206209, 17)\n"
     ]
    }
   ],
   "source": [
    "docvecs = pd.read_csv('../data/gensim/docvectors.txt', sep=' ', header = None, skiprows=1)\n",
    "docvecs.columns = ['id'] + ['uv_' + str(x) for x in range(16)]\n",
    "uservecs = docvecs[docvecs['id'].str[:5] == '*dt_u']\n",
    "uservecs['user_id'] = uservecs['id'].map(lambda x : int(x.split('_')[2]))\n",
    "uservecs = uservecs.drop('id',axis=1)\n",
    "uservecs = uservecs.groupby('user_id').mean().reset_index()\n",
    "uservecs.columns = ['user_id'] + ['usrwv_' + str(x) for x in range(16)]\n",
    "print(uservecs.shape)\n",
    "uservecs.to_csv('../data/gensim/uservecs.csv', index=False)"
   ]
  },
  {
   "cell_type": "code",
   "execution_count": null,
   "metadata": {
    "collapsed": true
   },
   "outputs": [],
   "source": []
  }
 ],
 "metadata": {
  "kernelspec": {
   "display_name": "Python 3",
   "language": "python",
   "name": "python3"
  },
  "language_info": {
   "codemirror_mode": {
    "name": "ipython",
    "version": 3
   },
   "file_extension": ".py",
   "mimetype": "text/x-python",
   "name": "python",
   "nbconvert_exporter": "python",
   "pygments_lexer": "ipython3",
   "version": "3.6.1"
  }
 },
 "nbformat": 4,
 "nbformat_minor": 2
}
