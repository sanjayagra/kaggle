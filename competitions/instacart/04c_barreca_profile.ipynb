{
 "cells": [
  {
   "cell_type": "code",
   "execution_count": 1,
   "metadata": {
    "collapsed": true
   },
   "outputs": [],
   "source": [
    "import pandas as pd\n",
    "import numpy as np\n",
    "from sklearn.metrics import roc_curve, auc"
   ]
  },
  {
   "cell_type": "code",
   "execution_count": 2,
   "metadata": {},
   "outputs": [
    {
     "name": "stdout",
     "output_type": "stream",
     "text": [
      "(34010012, 6)\n",
      "(34010012, 13)\n"
     ]
    }
   ],
   "source": [
    "users = pd.read_csv('../data/driver/driver_user.csv')\n",
    "orders = pd.read_csv('../data/driver/driver_order.csv').drop('eval_set',axis=1)\n",
    "products = pd.read_csv('../data/driver/driver_order_products.csv')\n",
    "print(products.shape)\n",
    "products = products.merge(orders, on='order_id', how='inner')\n",
    "products = products.merge(users, on='user_id', how='inner')\n",
    "print(products.shape)"
   ]
  },
  {
   "cell_type": "code",
   "execution_count": 3,
   "metadata": {
    "collapsed": true
   },
   "outputs": [],
   "source": [
    "def barreca(posterior, n,k,f, prior=0.10):\n",
    "    factor = np.exp((n-k)/f)\n",
    "    factor = factor / (factor + 1)\n",
    "    if np.isnan(factor):\n",
    "        factor = 1.\n",
    "    return factor * posterior + (1 - factor) * prior"
   ]
  },
  {
   "cell_type": "code",
   "execution_count": 4,
   "metadata": {
    "collapsed": true
   },
   "outputs": [],
   "source": [
    "def target(cutoff):\n",
    "    candidate = products[products['counter'] > cutoff][['user_id','product_id','aisle_id','eval_set']]\n",
    "    nones = candidate[['user_id','eval_set']].drop_duplicates()\n",
    "    nones['product_id'] = [0] * nones.shape[0]\n",
    "    candidate = candidate.append(nones).drop_duplicates()\n",
    "    dependent = products[products['counter'] == cutoff][['user_id','product_id','reordered']]\n",
    "    user_list = list(set(dependent['user_id']))\n",
    "    data = candidate.merge(dependent, on=['user_id','product_id'], how='left', indicator=True)\n",
    "    data = data[data['user_id'].isin(user_list)]\n",
    "    data['reordered'] = data['reordered'].fillna(0)\n",
    "    data = data[['user_id','product_id','aisle_id','eval_set','reordered']]\n",
    "    return data"
   ]
  },
  {
   "cell_type": "code",
   "execution_count": 5,
   "metadata": {
    "collapsed": true
   },
   "outputs": [],
   "source": [
    "def cumulative(counters, groupby):\n",
    "    for counter in counters:\n",
    "        if counter % 5 == 0:\n",
    "            print(counter, 'status completed...')\n",
    "        status = target(counter)\n",
    "        reorder = status.groupby(groupby)['reordered'].sum().reset_index()\n",
    "        potential = status.groupby(groupby)['reordered'].count().reset_index()\n",
    "        reorder = reorder.rename(columns={'reordered':'sum'})\n",
    "        potential = potential.rename(columns={'reordered':'count'})\n",
    "        grouped = reorder.merge(potential, on=groupby, how='inner')\n",
    "        grouped['counter'] = [counter] * grouped.shape[0]\n",
    "        global cumulative_df\n",
    "        cumulative_df = cumulative_df.append(grouped)\n",
    "    return None"
   ]
  },
  {
   "cell_type": "code",
   "execution_count": 6,
   "metadata": {},
   "outputs": [
    {
     "name": "stdout",
     "output_type": "stream",
     "text": [
      "5 status completed...\n",
      "10 status completed...\n",
      "15 status completed...\n",
      "20 status completed...\n",
      "25 status completed...\n"
     ]
    }
   ],
   "source": [
    "cumulative_df = pd.DataFrame()\n",
    "cumulative(range(2,30),'aisle_id')\n",
    "aggregate = {}\n",
    "aggregate['sum'] = 'sum'\n",
    "aggregate['count'] = 'sum'\n",
    "aisle = cumulative_df.groupby(['aisle_id']).agg(aggregate).reset_index()\n",
    "aisle['ais_post'] = aisle['sum'] / aisle['count']\n",
    "aisle = aisle.drop(['sum','count'],axis=1)"
   ]
  },
  {
   "cell_type": "code",
   "execution_count": 8,
   "metadata": {},
   "outputs": [
    {
     "name": "stdout",
     "output_type": "stream",
     "text": [
      "5 status completed...\n",
      "10 status completed...\n",
      "15 status completed...\n",
      "20 status completed...\n",
      "25 status completed...\n"
     ]
    }
   ],
   "source": [
    "cumulative_df = pd.DataFrame()\n",
    "cumulative(range(2,30),['product_id','aisle_id'])\n",
    "aggregate = {}\n",
    "aggregate['sum'] = 'sum'\n",
    "aggregate['count'] = 'sum'\n",
    "product = cumulative_df.groupby(['product_id','aisle_id']).agg(aggregate).reset_index()\n",
    "product['prd_post'] = product['sum'] / product['count']\n",
    "product = product.drop(['sum','count'],axis=1)\n",
    "product = product.merge(aisle, on='aisle_id', how='inner')\n",
    "product['prd_ais_post_rt'] = product['prd_post'] / product['ais_post']\n",
    "product = product.drop(['aisle_id'], axis=1)"
   ]
  },
  {
   "cell_type": "code",
   "execution_count": 9,
   "metadata": {},
   "outputs": [
    {
     "name": "stdout",
     "output_type": "stream",
     "text": [
      "5 status completed...\n",
      "10 status completed...\n",
      "15 status completed...\n",
      "20 status completed...\n",
      "25 status completed...\n"
     ]
    }
   ],
   "source": [
    "cumulative_df = pd.DataFrame()\n",
    "cumulative(range(2,30),'user_id')\n",
    "aggregate = {}\n",
    "aggregate['sum'] = 'sum'\n",
    "aggregate['count'] = 'sum'\n",
    "user = cumulative_df.groupby('user_id').agg(aggregate).reset_index()\n",
    "user['usr_post'] = user['sum'] / user['count']\n",
    "user = user.drop(['sum','count'],axis=1)"
   ]
  },
  {
   "cell_type": "code",
   "execution_count": 10,
   "metadata": {},
   "outputs": [],
   "source": [
    "product.to_csv('../data/profile/product_brrc_profile.csv', index=False)\n",
    "user.to_csv('../data/profile/user_brrc_profile.csv', index=False)"
   ]
  },
  {
   "cell_type": "code",
   "execution_count": 11,
   "metadata": {
    "collapsed": true
   },
   "outputs": [],
   "source": [
    "dependent = pd.read_csv('../data/model/dependent/dependent_n.csv')"
   ]
  },
  {
   "cell_type": "code",
   "execution_count": 12,
   "metadata": {
    "collapsed": true
   },
   "outputs": [],
   "source": [
    "dependent = dependent.merge(user, on='user_id', how='inner')\n",
    "dependent = dependent.merge(product, on='product_id', how='inner')"
   ]
  },
  {
   "cell_type": "code",
   "execution_count": 13,
   "metadata": {},
   "outputs": [],
   "source": [
    "dependent['interact'] = dependent['usr_post'] * dependent['prd_post']"
   ]
  },
  {
   "cell_type": "code",
   "execution_count": 14,
   "metadata": {},
   "outputs": [
    {
     "data": {
      "text/plain": [
       "0.34049553962749557"
      ]
     },
     "execution_count": 14,
     "metadata": {},
     "output_type": "execute_result"
    }
   ],
   "source": [
    "fpr,tpr,thresholds = roc_curve(dependent['reordered'], dependent['prd_post'])\n",
    "2*auc(fpr,tpr) - 1"
   ]
  },
  {
   "cell_type": "code",
   "execution_count": 15,
   "metadata": {},
   "outputs": [
    {
     "data": {
      "text/plain": [
       "0.31885078917727561"
      ]
     },
     "execution_count": 15,
     "metadata": {},
     "output_type": "execute_result"
    }
   ],
   "source": [
    "fpr,tpr,thresholds = roc_curve(dependent['reordered'], dependent['usr_post'])\n",
    "2*auc(fpr,tpr) - 1"
   ]
  },
  {
   "cell_type": "code",
   "execution_count": 16,
   "metadata": {},
   "outputs": [
    {
     "data": {
      "text/plain": [
       "0.44061551974131019"
      ]
     },
     "execution_count": 16,
     "metadata": {},
     "output_type": "execute_result"
    }
   ],
   "source": [
    "fpr,tpr,thresholds = roc_curve(dependent['reordered'], dependent['interact'])\n",
    "2*auc(fpr,tpr) - 1"
   ]
  },
  {
   "cell_type": "code",
   "execution_count": null,
   "metadata": {
    "collapsed": true
   },
   "outputs": [],
   "source": []
  }
 ],
 "metadata": {
  "kernelspec": {
   "display_name": "Python 3",
   "language": "python",
   "name": "python3"
  },
  "language_info": {
   "codemirror_mode": {
    "name": "ipython",
    "version": 3
   },
   "file_extension": ".py",
   "mimetype": "text/x-python",
   "name": "python",
   "nbconvert_exporter": "python",
   "pygments_lexer": "ipython3",
   "version": "3.6.1"
  }
 },
 "nbformat": 4,
 "nbformat_minor": 2
}
