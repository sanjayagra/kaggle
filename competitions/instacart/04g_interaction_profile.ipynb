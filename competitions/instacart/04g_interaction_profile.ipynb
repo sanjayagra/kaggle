{
 "cells": [
  {
   "cell_type": "code",
   "execution_count": 1,
   "metadata": {
    "collapsed": true
   },
   "outputs": [],
   "source": [
    "import pandas as pd\n",
    "import numpy as np\n",
    "from sklearn.metrics import roc_curve, auc"
   ]
  },
  {
   "cell_type": "code",
   "execution_count": 2,
   "metadata": {
    "collapsed": true
   },
   "outputs": [],
   "source": [
    "orders = pd.read_csv('../data/driver/driver_order.csv')\n",
    "products = pd.read_csv('../data/driver/driver_product.csv')\n",
    "prior = pd.read_csv('../data/profile/product_brrc_profile.csv')\n",
    "prior = prior[['product_id','prd_post']]\n",
    "reorder_0 = pd.read_csv('../data/model/dependent/dependent_n.csv')\n",
    "reorder_1 = pd.read_csv('../data/model/dependent/dependent_n_1.csv')\n",
    "orders_0 = orders[orders['counter'] == 1].drop(['eval_set','order_id','counter'],axis=1)\n",
    "orders_1 = orders[orders['counter'] == 2].drop(['eval_set','order_id','counter'],axis=1)\n",
    "reorder_0 = reorder_0.merge(orders_0, on='user_id', how='inner')\n",
    "reorder_1 = reorder_1.merge(orders_1, on='user_id', how='inner')\n",
    "reorder_0 = reorder_0.merge(products, on='product_id', how='inner')\n",
    "reorder_1 = reorder_1.merge(products, on='product_id', how='inner')\n",
    "reorder_0 = reorder_0.merge(prior, on='product_id', how='inner')\n",
    "reorder_1 = reorder_1.merge(prior, on='product_id', how='inner')"
   ]
  },
  {
   "cell_type": "code",
   "execution_count": 3,
   "metadata": {
    "collapsed": true
   },
   "outputs": [],
   "source": [
    "feats = ['order_dow','order_hour_of_day','days_since_prior_order','order_number']\n",
    "target = reorder_0[['user_id','product_id','aisle_id','reordered'] + feats]"
   ]
  },
  {
   "cell_type": "code",
   "execution_count": 4,
   "metadata": {
    "collapsed": true
   },
   "outputs": [],
   "source": [
    "def barreca(posterior,prior,n,k=30,f=3):\n",
    "    factor = np.exp(min(n-k,1000)/f)\n",
    "    factor = factor / (factor + 1)\n",
    "    if np.isnan(factor):\n",
    "        factor = 1.\n",
    "    return factor * posterior + (1 - factor) * prior"
   ]
  },
  {
   "cell_type": "code",
   "execution_count": 5,
   "metadata": {
    "collapsed": true
   },
   "outputs": [],
   "source": [
    "def aggregate_2way(data,level,prior, posterior):\n",
    "    data = data.groupby(level + [prior]).agg({'reordered':['mean','count']})\n",
    "    data = data.reset_index()\n",
    "    data.columns = data.columns.droplevel(1)\n",
    "    data.columns = level + [prior, posterior,'support']\n",
    "    return data"
   ]
  },
  {
   "cell_type": "code",
   "execution_count": 6,
   "metadata": {
    "collapsed": true
   },
   "outputs": [],
   "source": [
    "prd_dow = aggregate_2way(reorder_1,['product_id','order_dow'],'prd_post','prd_dow_int')\n",
    "prd_dow['prd_dow_brrc'] = prd_dow.apply(lambda x:barreca(x['prd_dow_int'],x['prd_post'], x['support']),axis=1)\n",
    "prd_dow['prd_dow_int'] = prd_dow['prd_dow_brrc'] / prd_dow['prd_post']\n",
    "prd_dow = prd_dow[['product_id','order_dow','prd_dow_int']]"
   ]
  },
  {
   "cell_type": "code",
   "execution_count": 7,
   "metadata": {
    "collapsed": true
   },
   "outputs": [],
   "source": [
    "reorder_1['order_hour_of_day'], hour = pd.qcut(reorder_1['order_hour_of_day'], 10, retbins=True, labels=False)\n",
    "prd_hod = aggregate_2way(reorder_1,['product_id','order_hour_of_day'],'prd_post','prd_hod_int')\n",
    "prd_hod['prd_hod_brrc'] = prd_hod.apply(lambda x:barreca(x['prd_hod_int'],x['prd_post'], x['support']),axis=1)\n",
    "prd_hod['prd_hod_int'] = prd_hod['prd_hod_brrc'] / prd_hod['prd_post']\n",
    "prd_hod = prd_hod[['product_id','order_hour_of_day','prd_hod_int','prd_hod_brrc']]"
   ]
  },
  {
   "cell_type": "code",
   "execution_count": 8,
   "metadata": {
    "collapsed": true
   },
   "outputs": [],
   "source": [
    "reorder_1['order_number'], orders = pd.qcut(reorder_1['order_number'], 10, retbins=True, labels=False)\n",
    "prd_ordn = aggregate_2way(reorder_1,['product_id','order_number'],'prd_post','prd_ordn_int')\n",
    "prd_ordn['prd_ordn_brrc'] = prd_ordn.apply(lambda x:barreca(x['prd_ordn_int'],x['prd_post'], x['support']),axis=1)\n",
    "prd_ordn['prd_ordn_int'] = prd_ordn['prd_ordn_brrc'] / prd_ordn['prd_post']\n",
    "prd_ordn = prd_ordn[['product_id','order_number','prd_ordn_int','prd_ordn_brrc']]"
   ]
  },
  {
   "cell_type": "code",
   "execution_count": 9,
   "metadata": {
    "collapsed": true
   },
   "outputs": [],
   "source": [
    "reorder_1['days_since_prior_order'], days = pd.qcut(reorder_1['days_since_prior_order'], 5, retbins=True, labels=False)\n",
    "prd_dysc = aggregate_2way(reorder_1,['product_id','days_since_prior_order'],'prd_post','prd_dysc_int')\n",
    "prd_dysc['prd_dysc_brrc'] = prd_dysc.apply(lambda x:barreca(x['prd_dysc_int'],x['prd_post'], x['support']),axis=1)\n",
    "prd_dysc['prd_dysc_int'] = prd_dysc['prd_dysc_brrc'] / prd_dysc['prd_post']\n",
    "prd_dysc = prd_dysc[['product_id','days_since_prior_order','prd_dysc_int','prd_dysc_brrc']]"
   ]
  },
  {
   "cell_type": "code",
   "execution_count": 10,
   "metadata": {
    "collapsed": true
   },
   "outputs": [],
   "source": [
    "reorder_0['order_hour_of_day'] = pd.cut(reorder_0['order_hour_of_day'], bins=hour, labels=False, include_lowest=True)\n",
    "reorder_0['days_since_prior_order'] = pd.cut(reorder_0['days_since_prior_order'], bins=days, labels=False, include_lowest=True)\n",
    "reorder_0['order_number'] = pd.cut(reorder_0['order_number'], bins=orders, labels=False, include_lowest=True)"
   ]
  },
  {
   "cell_type": "code",
   "execution_count": 11,
   "metadata": {
    "collapsed": true
   },
   "outputs": [],
   "source": [
    "target = reorder_0.merge(prd_dow, on=['product_id','order_dow'], how='left')\n",
    "target = target.merge(prd_hod, on=['product_id','order_hour_of_day'], how='left')\n",
    "target = target.merge(prd_ordn, on=['product_id','order_number'], how='left')\n",
    "target = target.merge(prd_dysc, on=['product_id','days_since_prior_order'], how='left')"
   ]
  },
  {
   "cell_type": "code",
   "execution_count": 12,
   "metadata": {
    "collapsed": true
   },
   "outputs": [],
   "source": [
    "target = target[['user_id','product_id'] + list(target.columns[-4:])]"
   ]
  },
  {
   "cell_type": "code",
   "execution_count": 13,
   "metadata": {
    "collapsed": true
   },
   "outputs": [],
   "source": [
    "target.to_csv('../data/profile/product_interaction.csv', index=False)"
   ]
  },
  {
   "cell_type": "code",
   "execution_count": 14,
   "metadata": {},
   "outputs": [
    {
     "data": {
      "text/plain": [
       "(13514120, 6)"
      ]
     },
     "execution_count": 14,
     "metadata": {},
     "output_type": "execute_result"
    }
   ],
   "source": [
    "target.shape"
   ]
  },
  {
   "cell_type": "code",
   "execution_count": null,
   "metadata": {
    "collapsed": true
   },
   "outputs": [],
   "source": []
  }
 ],
 "metadata": {
  "kernelspec": {
   "display_name": "Python 3",
   "language": "python",
   "name": "python3"
  },
  "language_info": {
   "codemirror_mode": {
    "name": "ipython",
    "version": 3
   },
   "file_extension": ".py",
   "mimetype": "text/x-python",
   "name": "python",
   "nbconvert_exporter": "python",
   "pygments_lexer": "ipython3",
   "version": "3.6.1"
  }
 },
 "nbformat": 4,
 "nbformat_minor": 2
}
