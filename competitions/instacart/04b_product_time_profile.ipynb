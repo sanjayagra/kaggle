{
 "cells": [
  {
   "cell_type": "code",
   "execution_count": 1,
   "metadata": {
    "collapsed": true
   },
   "outputs": [],
   "source": [
    "import pandas as pd\n",
    "import numpy as np\n",
    "from sklearn.metrics import roc_curve, auc"
   ]
  },
  {
   "cell_type": "code",
   "execution_count": 2,
   "metadata": {},
   "outputs": [],
   "source": [
    "orders = pd.read_csv('../data/driver/driver_order.csv')\n",
    "products = pd.read_csv('../data/driver/driver_order_products.csv')\n",
    "orders = orders[['user_id','order_id','counter','days_since_prior_order']]\n",
    "orders['days'] = orders.groupby('user_id')['days_since_prior_order'].shift(1)\n",
    "orders = orders[orders['counter'] > 1].drop('days_since_prior_order',axis=1)\n",
    "orders['cum_days'] = orders.groupby('user_id')['days'].cumsum()\n",
    "orders = orders.drop('days',axis=1)\n",
    "data = products.merge(orders, on=['order_id'])"
   ]
  },
  {
   "cell_type": "code",
   "execution_count": 3,
   "metadata": {},
   "outputs": [
    {
     "data": {
      "text/html": [
       "<div>\n",
       "<style>\n",
       "    .dataframe thead tr:only-child th {\n",
       "        text-align: right;\n",
       "    }\n",
       "\n",
       "    .dataframe thead th {\n",
       "        text-align: left;\n",
       "    }\n",
       "\n",
       "    .dataframe tbody tr th {\n",
       "        vertical-align: top;\n",
       "    }\n",
       "</style>\n",
       "<table border=\"1\" class=\"dataframe\">\n",
       "  <thead>\n",
       "    <tr style=\"text-align: right;\">\n",
       "      <th></th>\n",
       "      <th>order_id</th>\n",
       "      <th>product_id</th>\n",
       "      <th>aisle_id</th>\n",
       "      <th>department_id</th>\n",
       "      <th>add_to_cart_order</th>\n",
       "      <th>reordered</th>\n",
       "      <th>user_id</th>\n",
       "      <th>counter</th>\n",
       "      <th>cum_days</th>\n",
       "    </tr>\n",
       "  </thead>\n",
       "  <tbody>\n",
       "    <tr>\n",
       "      <th>0</th>\n",
       "      <td>2</td>\n",
       "      <td>33120</td>\n",
       "      <td>86</td>\n",
       "      <td>16</td>\n",
       "      <td>1</td>\n",
       "      <td>1</td>\n",
       "      <td>202279</td>\n",
       "      <td>7</td>\n",
       "      <td>153.0</td>\n",
       "    </tr>\n",
       "    <tr>\n",
       "      <th>1</th>\n",
       "      <td>2</td>\n",
       "      <td>28985</td>\n",
       "      <td>83</td>\n",
       "      <td>4</td>\n",
       "      <td>2</td>\n",
       "      <td>1</td>\n",
       "      <td>202279</td>\n",
       "      <td>7</td>\n",
       "      <td>153.0</td>\n",
       "    </tr>\n",
       "    <tr>\n",
       "      <th>2</th>\n",
       "      <td>2</td>\n",
       "      <td>9327</td>\n",
       "      <td>104</td>\n",
       "      <td>13</td>\n",
       "      <td>3</td>\n",
       "      <td>0</td>\n",
       "      <td>202279</td>\n",
       "      <td>7</td>\n",
       "      <td>153.0</td>\n",
       "    </tr>\n",
       "    <tr>\n",
       "      <th>3</th>\n",
       "      <td>2</td>\n",
       "      <td>45918</td>\n",
       "      <td>19</td>\n",
       "      <td>13</td>\n",
       "      <td>4</td>\n",
       "      <td>1</td>\n",
       "      <td>202279</td>\n",
       "      <td>7</td>\n",
       "      <td>153.0</td>\n",
       "    </tr>\n",
       "    <tr>\n",
       "      <th>4</th>\n",
       "      <td>2</td>\n",
       "      <td>30035</td>\n",
       "      <td>17</td>\n",
       "      <td>13</td>\n",
       "      <td>5</td>\n",
       "      <td>0</td>\n",
       "      <td>202279</td>\n",
       "      <td>7</td>\n",
       "      <td>153.0</td>\n",
       "    </tr>\n",
       "  </tbody>\n",
       "</table>\n",
       "</div>"
      ],
      "text/plain": [
       "   order_id  product_id  aisle_id  department_id  add_to_cart_order  \\\n",
       "0         2       33120        86             16                  1   \n",
       "1         2       28985        83              4                  2   \n",
       "2         2        9327       104             13                  3   \n",
       "3         2       45918        19             13                  4   \n",
       "4         2       30035        17             13                  5   \n",
       "\n",
       "   reordered  user_id  counter  cum_days  \n",
       "0          1   202279        7     153.0  \n",
       "1          1   202279        7     153.0  \n",
       "2          0   202279        7     153.0  \n",
       "3          1   202279        7     153.0  \n",
       "4          0   202279        7     153.0  "
      ]
     },
     "execution_count": 3,
     "metadata": {},
     "output_type": "execute_result"
    }
   ],
   "source": [
    "data.head()"
   ]
  },
  {
   "cell_type": "markdown",
   "metadata": {},
   "source": [
    "### product : time b/w orders"
   ]
  },
  {
   "cell_type": "code",
   "execution_count": 4,
   "metadata": {},
   "outputs": [
    {
     "data": {
      "text/plain": [
       "count    45306.000000\n",
       "mean        26.857028\n",
       "std         23.224859\n",
       "min          0.000000\n",
       "25%         14.000000\n",
       "50%         20.500000\n",
       "75%         30.000000\n",
       "max        356.000000\n",
       "Name: prd_med_dydiff, dtype: float64"
      ]
     },
     "execution_count": 4,
     "metadata": {},
     "output_type": "execute_result"
    }
   ],
   "source": [
    "product_time = data[['user_id','product_id','cum_days','reordered']]\n",
    "product_time = product_time.sort_values(by=['user_id','product_id','cum_days'], ascending=[True,True,False])\n",
    "product_time['shift_days'] = product_time.groupby(['user_id','product_id'])['cum_days'].shift(1)\n",
    "product_time = product_time[np.logical_not(product_time['shift_days'].isnull())]\n",
    "product_time['days_diff'] = product_time['shift_days'] - product_time['cum_days']\n",
    "product_time = product_time.groupby('product_id')['days_diff'].apply(np.median).reset_index()\n",
    "product_time.columns = ['product_id','prd_med_dydiff']\n",
    "product_time['prd_med_dydiff'].describe()"
   ]
  },
  {
   "cell_type": "markdown",
   "metadata": {},
   "source": [
    "### product : avg # of continuous orders"
   ]
  },
  {
   "cell_type": "code",
   "execution_count": 5,
   "metadata": {},
   "outputs": [
    {
     "data": {
      "text/plain": [
       "count    45306.000000\n",
       "mean         2.969397\n",
       "std          3.319074\n",
       "min          1.000000\n",
       "25%          1.000000\n",
       "50%          2.000000\n",
       "75%          3.000000\n",
       "max         94.000000\n",
       "Name: prd_med_orddiff, dtype: float64"
      ]
     },
     "execution_count": 5,
     "metadata": {},
     "output_type": "execute_result"
    }
   ],
   "source": [
    "product_order = data[['user_id','product_id','counter']]\n",
    "product_order = product_order.sort_values(by=['user_id','product_id','counter'])\n",
    "product_order['shift_counter'] = product_order.groupby(['user_id','product_id'])['counter'].shift(1)\n",
    "product_order = product_order[np.logical_not(product_order['shift_counter'].isnull())]\n",
    "product_order['counter_diff'] = product_order['counter'] - product_order['shift_counter']\n",
    "product_order = product_order.groupby('product_id')['counter_diff'].apply(np.nanmedian).reset_index()\n",
    "product_order.columns = ['product_id','prd_med_orddiff']\n",
    "product_order['prd_med_orddiff'].describe()"
   ]
  },
  {
   "cell_type": "code",
   "execution_count": 7,
   "metadata": {},
   "outputs": [],
   "source": [
    "profile = pd.read_csv('../data/driver/driver_product.csv')\n",
    "profile = profile.merge(product_time, on='product_id',how='left')\n",
    "profile = profile.merge(product_order, on='product_id',how='left')\n",
    "profile = profile.drop(['department_id','aisle_id'],axis=1).fillna(0.)\n",
    "profile.to_csv('../data/profile/product_time_profile.csv', index=False)"
   ]
  },
  {
   "cell_type": "code",
   "execution_count": 8,
   "metadata": {},
   "outputs": [
    {
     "name": "stdout",
     "output_type": "stream",
     "text": [
      "feat: prd_med_dydiff auc: -23.9\n",
      "feat: prd_med_orddiff auc: -22.31\n"
     ]
    }
   ],
   "source": [
    "target = pd.read_csv('../data/model/dependent/dependent_n_1.csv')\n",
    "target = target.merge(profile, on='product_id', how='inner')\n",
    "\n",
    "for feat in profile.columns[1:]:\n",
    "    fpr, tpr, thresholds = roc_curve(target['reordered'], target[feat])\n",
    "    print('feat:', feat, 'auc:', round(100*(2*auc(fpr,tpr) - 1),2))"
   ]
  }
 ],
 "metadata": {
  "kernelspec": {
   "display_name": "Python 3",
   "language": "python",
   "name": "python3"
  },
  "language_info": {
   "codemirror_mode": {
    "name": "ipython",
    "version": 3
   },
   "file_extension": ".py",
   "mimetype": "text/x-python",
   "name": "python",
   "nbconvert_exporter": "python",
   "pygments_lexer": "ipython3",
   "version": "3.6.1"
  }
 },
 "nbformat": 4,
 "nbformat_minor": 2
}
