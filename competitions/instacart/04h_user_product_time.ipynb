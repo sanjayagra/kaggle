{
 "cells": [
  {
   "cell_type": "code",
   "execution_count": 1,
   "metadata": {
    "collapsed": true
   },
   "outputs": [],
   "source": [
    "import pandas as pd\n",
    "import numpy as np\n",
    "from sklearn.metrics import roc_curve, auc\n",
    "import warnings\n",
    "warnings.simplefilter('ignore')"
   ]
  },
  {
   "cell_type": "markdown",
   "metadata": {},
   "source": [
    "### subsequence"
   ]
  },
  {
   "cell_type": "code",
   "execution_count": null,
   "metadata": {
    "collapsed": true
   },
   "outputs": [],
   "source": [
    "orders = pd.read_csv('../data/driver/driver_order.csv')\n",
    "history = pd.read_csv('../data/driver/driver_order_products.csv')\n",
    "history = history.merge(orders, on='order_id', how='inner')\n",
    "history = history[history['counter'] > 1]\n",
    "del orders"
   ]
  },
  {
   "cell_type": "code",
   "execution_count": null,
   "metadata": {
    "collapsed": true
   },
   "outputs": [],
   "source": [
    "def subsequence(nums):\n",
    "    return max(np.split(nums, np.where(np.diff(nums) != 1)[0]+1), key=len).tolist()"
   ]
  },
  {
   "cell_type": "code",
   "execution_count": null,
   "metadata": {
    "collapsed": true
   },
   "outputs": [],
   "source": [
    "product_hist = history[['user_id','product_id','counter']]\n",
    "product_hist = product_hist.sort_values(by=['user_id','product_id','counter'])\n",
    "product_hist = product_hist.groupby(['user_id','product_id'])['counter'].apply(list)\n",
    "product_hist = product_hist.reset_index()"
   ]
  },
  {
   "cell_type": "code",
   "execution_count": null,
   "metadata": {
    "collapsed": true
   },
   "outputs": [],
   "source": [
    "product_hist['sublist'] = product_hist['counter'].map(lambda x : subsequence(x))\n",
    "product_hist['sequence'] = product_hist['sublist'].map(lambda x : len(x))\n",
    "product_hist['total'] = product_hist['counter'].map(lambda x : len(x))\n",
    "product_hist['minimum'] = product_hist['counter'].map(lambda x : min(x))\n",
    "product_hist['seq_differ'] = product_hist['counter'].map(lambda x : np.mean(np.diff(x))) "
   ]
  },
  {
   "cell_type": "code",
   "execution_count": null,
   "metadata": {
    "collapsed": true
   },
   "outputs": [],
   "source": [
    "prod_diff = product_hist.groupby('product_id')['seq_differ'].mean().reset_index()\n",
    "prod_diff = prod_diff.rename(columns={'differ':'prd_differ'})\n",
    "product_hist = product_hist.merge(prod_diff, on='product_id', how='left')"
   ]
  },
  {
   "cell_type": "code",
   "execution_count": null,
   "metadata": {
    "collapsed": true
   },
   "outputs": [],
   "source": [
    "product_hist['score_seq1'] = product_hist['sequence'] / product_hist['total']\n",
    "product_hist['score_seq2'] = product_hist['sequence'] / product_hist['minimum']\n",
    "product_hist['score_seq3'] = (product_hist['minimum'] - 1) / product_hist['seq_differ']\n",
    "product_hist['score_seq4'] = (product_hist['minimum'] - 1) / product_hist['prd_differ']\n",
    "product_hist = product_hist.drop(['counter','sublist','total','minimum'], axis=1)\n",
    "user_prd_seq = history[['user_id','product_id']].drop_duplicates()\n",
    "user_prd_seq = user_prd_seq.merge(product_hist, on=['user_id','product_id'], how='left')"
   ]
  },
  {
   "cell_type": "code",
   "execution_count": null,
   "metadata": {
    "collapsed": true
   },
   "outputs": [],
   "source": [
    "user_prd_seq.to_csv('../data/profile/user_product_max_seq.csv', index=False)"
   ]
  },
  {
   "cell_type": "markdown",
   "metadata": {},
   "source": [
    "### current streak"
   ]
  },
  {
   "cell_type": "code",
   "execution_count": 2,
   "metadata": {
    "collapsed": true
   },
   "outputs": [],
   "source": [
    "orders = pd.read_csv('../data/driver/driver_order.csv')\n",
    "history = pd.read_csv('../data/driver/driver_order_products.csv')\n",
    "history = history.merge(orders, on='order_id', how='inner')\n",
    "history = history[history['counter'] > 1]\n",
    "del orders"
   ]
  },
  {
   "cell_type": "code",
   "execution_count": 3,
   "metadata": {
    "collapsed": true
   },
   "outputs": [],
   "source": [
    "def gap_analysis(array):\n",
    "    if len(array) == 0:\n",
    "        return (0,0)\n",
    "    else:\n",
    "        max_gap = 0\n",
    "        avg_gap = 0\n",
    "        for i in range(len(array)-1):\n",
    "            _max = max(array[i])\n",
    "            _min = min(array[i+1])\n",
    "            gap = _min - _max\n",
    "            if gap >= max_gap:\n",
    "                max_gap = gap\n",
    "            avg_gap += gap\n",
    "        return (max_gap, avg_gap / len(array))"
   ]
  },
  {
   "cell_type": "code",
   "execution_count": 4,
   "metadata": {
    "collapsed": true
   },
   "outputs": [],
   "source": [
    "def current_sequence(nums):\n",
    "    total = len(nums)\n",
    "    nums = list(np.split(nums, np.where(np.diff(nums) != 1)[0] + 1))\n",
    "    curr_streak = len(nums[0])\n",
    "    num_streaks = len(nums)\n",
    "    avg_length = np.mean([len(x) for x in nums])\n",
    "    max_gap, avg_gap = gap_analysis(nums)\n",
    "    ratio_length = num_streaks / total\n",
    "    return [curr_streak, num_streaks, avg_length, ratio_length, avg_gap, max_gap]"
   ]
  },
  {
   "cell_type": "code",
   "execution_count": 5,
   "metadata": {
    "collapsed": true
   },
   "outputs": [],
   "source": [
    "product_hist = history[['user_id','product_id','counter']]\n",
    "product_hist = product_hist.sort_values(by=['user_id','product_id','counter'])\n",
    "product_hist = product_hist.groupby(['user_id','product_id'])['counter'].apply(list)\n",
    "product_hist = product_hist.reset_index()"
   ]
  },
  {
   "cell_type": "code",
   "execution_count": 6,
   "metadata": {
    "collapsed": true
   },
   "outputs": [],
   "source": [
    "product_hist['analysis'] = product_hist['counter'].map(lambda x : current_sequence(x))\n",
    "product_hist['curr_streak'] = product_hist['analysis'].map(lambda x : x[0])\n",
    "product_hist['num_streak'] = product_hist['analysis'].map(lambda x : x[1])\n",
    "product_hist['avg_length'] = product_hist['analysis'].map(lambda x : x[2])\n",
    "product_hist['ratio_length'] = product_hist['analysis'].map(lambda x : x[3])\n",
    "product_hist['avg_gap'] = product_hist['analysis'].map(lambda x : x[4])\n",
    "product_hist['max_gap'] = product_hist['analysis'].map(lambda x : x[5])\n",
    "product_hist = product_hist.drop(['counter','analysis'], axis = 1)"
   ]
  },
  {
   "cell_type": "code",
   "execution_count": 7,
   "metadata": {
    "collapsed": true
   },
   "outputs": [],
   "source": [
    "product_hist.to_csv('../data/profile/user_product_curr_seq.csv', index=False)"
   ]
  },
  {
   "cell_type": "markdown",
   "metadata": {
    "collapsed": true
   },
   "source": [
    "### recency - counter"
   ]
  },
  {
   "cell_type": "code",
   "execution_count": null,
   "metadata": {
    "collapsed": true
   },
   "outputs": [],
   "source": [
    "orders = pd.read_csv('../data/driver/driver_order.csv')\n",
    "history = pd.read_csv('../data/driver/driver_order_products.csv')\n",
    "history = history.merge(orders, on='order_id', how='inner')\n",
    "history = history[history['counter'] > 1]\n",
    "del orders"
   ]
  },
  {
   "cell_type": "code",
   "execution_count": null,
   "metadata": {
    "collapsed": true
   },
   "outputs": [],
   "source": [
    "counters = history[['user_id','product_id','counter']]\n",
    "counters = counters.sort_values(by=['user_id','product_id','counter'])\n",
    "counters['recent'] = 1 / np.log2(counters['counter'])"
   ]
  },
  {
   "cell_type": "code",
   "execution_count": null,
   "metadata": {
    "collapsed": true
   },
   "outputs": [],
   "source": [
    "def log_bound(x):\n",
    "    value = 0.\n",
    "    for y in range(2,x):\n",
    "        value += 1 / np.log2(y)\n",
    "    return value"
   ]
  },
  {
   "cell_type": "code",
   "execution_count": null,
   "metadata": {
    "collapsed": true
   },
   "outputs": [],
   "source": [
    "bound = counters.groupby('user_id')['counter'].max().reset_index()\n",
    "bound['upper_bound'] = bound['counter'].map(log_bound)\n",
    "bound = bound[['user_id','upper_bound']]"
   ]
  },
  {
   "cell_type": "code",
   "execution_count": null,
   "metadata": {
    "collapsed": true
   },
   "outputs": [],
   "source": [
    "counters = counters.merge(bound, on='user_id')\n",
    "counters = counters.groupby(['user_id','product_id','upper_bound'])['recent'].sum().reset_index()\n",
    "counters = counters.rename(columns={'recent' : 'recency_counter'})\n",
    "counters['recency_counter_bound'] = counters['recency_counter'] / counters['upper_bound']\n",
    "counters = counters.drop('upper_bound', axis=1)"
   ]
  },
  {
   "cell_type": "markdown",
   "metadata": {},
   "source": [
    "### recency - orders"
   ]
  },
  {
   "cell_type": "code",
   "execution_count": null,
   "metadata": {
    "collapsed": true
   },
   "outputs": [],
   "source": [
    "orders = pd.read_csv('../data/driver/driver_order.csv')\n",
    "history = pd.read_csv('../data/driver/driver_order_products.csv')\n",
    "history = history.merge(orders, on='order_id', how='inner')\n",
    "history = history[history['counter'] > 1]"
   ]
  },
  {
   "cell_type": "code",
   "execution_count": null,
   "metadata": {
    "collapsed": true
   },
   "outputs": [],
   "source": [
    "orders = history[['user_id','product_id','order_number']]\n",
    "orders = orders.sort_values(by=['user_id','product_id','order_number'])\n",
    "orders['recency_order1'] = orders['order_number']\n",
    "orders['recency_order2'] = orders['order_number']**2\n",
    "bound = orders.groupby('user_id')['order_number'].max().reset_index()\n",
    "orders = orders.groupby(['user_id','product_id'])[['recency_order1','recency_order2']].sum().reset_index()\n",
    "bound['upper_bound1'] =  bound['order_number'].map(lambda x : 0.5*x*(x+1))\n",
    "bound['upper_bound2'] =  bound['order_number'].map(lambda x : (x*(x+1)*(2*x+1))/6)\n",
    "recent = orders.merge(bound, on=['user_id'])\n",
    "recent['recency_order1_bound'] = recent['recency_order1'] / recent['upper_bound1']\n",
    "recent['recency_order2_bound'] = recent['recency_order2'] / recent['upper_bound2']\n",
    "recent['recency_order_ratio'] = recent['recency_order2_bound'] / recent['recency_order1_bound']\n",
    "recent = recent.drop(['upper_bound1','upper_bound2'],axis=1)"
   ]
  },
  {
   "cell_type": "markdown",
   "metadata": {},
   "source": [
    "### order patterns"
   ]
  },
  {
   "cell_type": "code",
   "execution_count": null,
   "metadata": {
    "collapsed": true
   },
   "outputs": [],
   "source": [
    "orders = pd.read_csv('../data/driver/driver_order.csv')\n",
    "history = pd.read_csv('../data/driver/driver_order_products.csv')\n",
    "history = history.merge(orders, on='order_id', how='inner')\n",
    "history = history[history['counter'] > 1]\n",
    "del orders\n",
    "\n",
    "skew = history.groupby(['user_id','product_id'])['order_number'].agg(['mean','max'])\n",
    "skew = skew.reset_index()\n",
    "skew['skew'] = skew['max'] / skew['mean']\n",
    "skew = skew.drop(['mean','max'], axis=1)"
   ]
  },
  {
   "cell_type": "code",
   "execution_count": null,
   "metadata": {
    "collapsed": true
   },
   "outputs": [],
   "source": [
    "orders = pd.read_csv('../data/driver/driver_order.csv')\n",
    "history = pd.read_csv('../data/driver/driver_order_products.csv')\n",
    "history = history.merge(orders, on='order_id', how='inner')\n",
    "history = history[history['counter'] > 1]\n",
    "history = history[['user_id','product_id','counter']]\n",
    "history = history.sort_values(by=['user_id','product_id','counter'])\n",
    "del orders\n",
    "\n",
    "past_pattern = history.copy()\n",
    "past_pattern['last_counter'] = past_pattern.groupby(['user_id','product_id'])['counter'].shift(1)\n",
    "past_pattern = past_pattern[np.logical_not(past_pattern['last_counter'].isnull())]\n",
    "past_pattern['diff'] = past_pattern['counter'] - past_pattern['last_counter']\n",
    "past_pattern = past_pattern.groupby(['user_id','product_id'])['diff'].mean().reset_index()\n",
    "past_pattern = past_pattern.rename(columns={'diff':'pattern'})\n",
    "\n",
    "last_order = history.groupby(['user_id','product_id'])['counter'].min().reset_index()\n",
    "last_order['order_since'] = last_order['counter'] - 1\n",
    "last_order = last_order[['user_id','product_id','order_since']]\n",
    "\n",
    "pattern = last_order.merge(past_pattern, on=['user_id','product_id'], how='left')\n",
    "pattern['likelihood_order'] = pattern['order_since'] / pattern['pattern']  \n",
    "pattern_orders = pattern[['user_id','product_id','likelihood_order']]"
   ]
  },
  {
   "cell_type": "markdown",
   "metadata": {},
   "source": [
    "### recency - days"
   ]
  },
  {
   "cell_type": "code",
   "execution_count": null,
   "metadata": {
    "collapsed": true
   },
   "outputs": [],
   "source": [
    "orders = pd.read_csv('../data/driver/driver_order.csv')\n",
    "history = pd.read_csv('../data/driver/driver_order_products.csv')\n",
    "history = history.merge(orders, on='order_id', how='inner')\n",
    "history = history[history['counter'] > 1]\n",
    "orders = orders[['user_id','days_since_prior_order','counter']]\n",
    "days = orders.sort_values(by=['user_id','counter'])\n",
    "days['days'] = days.groupby('user_id')['days_since_prior_order'].shift(1)\n",
    "days = days[days['counter'] >  1]\n",
    "days['cum_days'] = days.groupby('user_id')['days'].cumsum()\n",
    "days = days[['user_id','counter','cum_days']]\n",
    "history = history.merge(days, on=['user_id','counter'])\n",
    "history = history[['user_id','product_id','counter','cum_days']]\n",
    "history = history.sort_values(by=['user_id','product_id','counter'])\n",
    "history['weight'] = np.exp(-1.*history['cum_days']/30.)\n",
    "decay = history.groupby(['user_id','product_id'])['weight'].sum().reset_index()\n",
    "decay = decay.rename(columns={'weight':'decay'})"
   ]
  },
  {
   "cell_type": "code",
   "execution_count": null,
   "metadata": {
    "collapsed": true
   },
   "outputs": [],
   "source": [
    "orders = pd.read_csv('../data/driver/driver_order.csv')\n",
    "history = pd.read_csv('../data/driver/driver_order_products.csv')\n",
    "orders = orders[['user_id', 'order_id','days_since_prior_order', 'counter']]\n",
    "orders = orders.sort_values(by=['user_id','counter'])\n",
    "orders['days_since_prior_order'] = orders.groupby(['user_id'])['days_since_prior_order'].shift(1)\n",
    "orders = orders[orders['counter'] > 1]\n",
    "orders['cum_days'] = orders.groupby(['user_id'])['days_since_prior_order'].cumsum()\n",
    "orders = orders[['user_id','order_id','counter','cum_days']]\n",
    "history = history.merge(orders, on='order_id', how='inner')\n",
    "history = history.sort_values(by=['user_id','product_id', 'counter','cum_days'])\n",
    "history = history[['user_id','product_id', 'counter','cum_days']]\n",
    "del orders\n",
    "\n",
    "past_pattern = history.copy()\n",
    "past_pattern['last_counter'] = past_pattern.groupby(['user_id','product_id'])['cum_days'].shift(1)\n",
    "past_pattern = past_pattern[np.logical_not(past_pattern['last_counter'].isnull())]\n",
    "past_pattern['diff'] = past_pattern['cum_days'] - past_pattern['last_counter']\n",
    "past_pattern = past_pattern.groupby(['user_id','product_id'])['diff'].mean().reset_index()\n",
    "past_pattern = past_pattern.rename(columns={'diff':'pattern'})\n",
    "\n",
    "last_order = history.groupby(['user_id','product_id'])['cum_days'].min().reset_index()\n",
    "last_order['order_since'] = last_order['cum_days']\n",
    "last_order = last_order[['user_id','product_id','order_since']]\n",
    "\n",
    "pattern = last_order.merge(past_pattern, on=['user_id','product_id'], how='left')\n",
    "pattern['likelihood_days'] = pattern['order_since'] / pattern['pattern'].clip_lower(1) \n",
    "pattern_days = pattern[['user_id','product_id','likelihood_days']]"
   ]
  },
  {
   "cell_type": "code",
   "execution_count": null,
   "metadata": {
    "collapsed": true
   },
   "outputs": [],
   "source": [
    "print(counters.shape, recent.shape, decay.shape)\n",
    "print(skew.shape, pattern_orders.shape, pattern_days.shape)"
   ]
  },
  {
   "cell_type": "code",
   "execution_count": null,
   "metadata": {
    "collapsed": true
   },
   "outputs": [],
   "source": [
    "recency = counters.merge(recent, on=['user_id','product_id'])\n",
    "recency = recency.merge(decay, on=['user_id','product_id'])\n",
    "recency = recency.merge(skew, on=['user_id','product_id'])\n",
    "recency = recency.merge(pattern_orders, on=['user_id','product_id'])\n",
    "recency = recency.merge(pattern_days, on=['user_id','product_id'])\n",
    "recency = recency.drop('order_number', axis=1)"
   ]
  },
  {
   "cell_type": "code",
   "execution_count": null,
   "metadata": {
    "collapsed": true
   },
   "outputs": [],
   "source": [
    "recency.to_csv('../data/profile/user_product_time.csv', index=False)"
   ]
  },
  {
   "cell_type": "code",
   "execution_count": null,
   "metadata": {
    "collapsed": true
   },
   "outputs": [],
   "source": [
    "recency.shape"
   ]
  },
  {
   "cell_type": "code",
   "execution_count": null,
   "metadata": {
    "collapsed": true
   },
   "outputs": [],
   "source": [
    "recency.corr()"
   ]
  },
  {
   "cell_type": "code",
   "execution_count": null,
   "metadata": {
    "collapsed": true
   },
   "outputs": [],
   "source": []
  }
 ],
 "metadata": {
  "kernelspec": {
   "display_name": "Python 3",
   "language": "python",
   "name": "python3"
  },
  "language_info": {
   "codemirror_mode": {
    "name": "ipython",
    "version": 3
   },
   "file_extension": ".py",
   "mimetype": "text/x-python",
   "name": "python",
   "nbconvert_exporter": "python",
   "pygments_lexer": "ipython3",
   "version": "3.6.1"
  }
 },
 "nbformat": 4,
 "nbformat_minor": 2
}
