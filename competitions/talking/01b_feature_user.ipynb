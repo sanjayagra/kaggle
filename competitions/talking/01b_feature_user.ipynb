{
 "cells": [
  {
   "cell_type": "code",
   "execution_count": 1,
   "metadata": {},
   "outputs": [
    {
     "name": "stderr",
     "output_type": "stream",
     "text": [
      "/home/ubuntu/anaconda3/envs/python3/lib/python3.6/site-packages/matplotlib/__init__.py:1067: UserWarning: Duplicate key in file \"/home/ubuntu/.config/matplotlib/matplotlibrc\", line #2\n",
      "  (fname, cnt))\n",
      "/home/ubuntu/anaconda3/envs/python3/lib/python3.6/site-packages/matplotlib/__init__.py:1067: UserWarning: Duplicate key in file \"/home/ubuntu/.config/matplotlib/matplotlibrc\", line #3\n",
      "  (fname, cnt))\n"
     ]
    }
   ],
   "source": [
    "import pandas as pd\n",
    "import numpy as np"
   ]
  },
  {
   "cell_type": "markdown",
   "metadata": {},
   "source": [
    "### data"
   ]
  },
  {
   "cell_type": "code",
   "execution_count": 2,
   "metadata": {},
   "outputs": [],
   "source": [
    "dtypes = {}\n",
    "dtypes['ip'] = 'uint32'\n",
    "dtypes['app'] = 'uint16'\n",
    "dtypes['device'] = 'uint16'\n",
    "dtypes['os'] = 'uint16'\n",
    "dtypes['channel'] = 'uint16'\n",
    "usecols = list(dtypes.keys()) \n",
    "train_data = pd.read_csv('../data/download/train.csv', dtype=dtypes, usecols=usecols)\n",
    "train_data['click_id'] = train_data.index * -1\n",
    "train_data = train_data[['click_id','ip','app','os','device','channel']]"
   ]
  },
  {
   "cell_type": "code",
   "execution_count": 3,
   "metadata": {},
   "outputs": [],
   "source": [
    "dtypes = {}\n",
    "dtypes['ip'] = 'uint32'\n",
    "dtypes['app'] = 'uint16'\n",
    "dtypes['device'] = 'uint16'\n",
    "dtypes['os'] = 'uint16'\n",
    "dtypes['channel'] = 'uint16'\n",
    "dtypes['click_id'] = 'uint32'\n",
    "usecols = list(dtypes.keys())\n",
    "test_data = pd.read_csv('../data/download/test_supplement.csv', dtype=dtypes, usecols=usecols)\n",
    "test_data = test_data[['click_id','ip','app','os','device','channel']]"
   ]
  },
  {
   "cell_type": "code",
   "execution_count": 4,
   "metadata": {},
   "outputs": [],
   "source": [
    "mapping = pd.read_feather('../data/data/files/mapping.feather')"
   ]
  },
  {
   "cell_type": "code",
   "execution_count": 5,
   "metadata": {},
   "outputs": [],
   "source": [
    "data = train_data.append(test_data)\n",
    "del train_data, test_data"
   ]
  },
  {
   "cell_type": "markdown",
   "metadata": {},
   "source": [
    "### user features"
   ]
  },
  {
   "cell_type": "code",
   "execution_count": 6,
   "metadata": {},
   "outputs": [],
   "source": [
    "user_count = data.groupby(['ip','device','os'])['channel'].count().reset_index()\n",
    "user_count.columns = ['ip','device','os','user_count']\n",
    "user_count.to_feather('../data/data/features/count/user_count.feather')"
   ]
  },
  {
   "cell_type": "code",
   "execution_count": 7,
   "metadata": {},
   "outputs": [],
   "source": [
    "user_count = data.groupby(['ip','device','os','app'])['channel'].count().reset_index()\n",
    "user_count.columns = ['ip','device','os','app','user_app_count']\n",
    "user_count.to_feather('../data/data/features/count/user_app_count.feather')"
   ]
  },
  {
   "cell_type": "code",
   "execution_count": null,
   "metadata": {},
   "outputs": [],
   "source": []
  }
 ],
 "metadata": {
  "kernelspec": {
   "display_name": "Environment (conda_python3)",
   "language": "python",
   "name": "conda_python3"
  },
  "language_info": {
   "codemirror_mode": {
    "name": "ipython",
    "version": 3
   },
   "file_extension": ".py",
   "mimetype": "text/x-python",
   "name": "python",
   "nbconvert_exporter": "python",
   "pygments_lexer": "ipython3",
   "version": "3.6.4"
  }
 },
 "nbformat": 4,
 "nbformat_minor": 2
}
