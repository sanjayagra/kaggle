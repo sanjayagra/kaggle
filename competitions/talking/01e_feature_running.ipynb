{
 "cells": [
  {
   "cell_type": "code",
   "execution_count": 1,
   "metadata": {},
   "outputs": [
    {
     "name": "stderr",
     "output_type": "stream",
     "text": [
      "/home/ubuntu/anaconda3/envs/python3/lib/python3.6/site-packages/matplotlib/__init__.py:1067: UserWarning: Duplicate key in file \"/home/ubuntu/.config/matplotlib/matplotlibrc\", line #2\n",
      "  (fname, cnt))\n",
      "/home/ubuntu/anaconda3/envs/python3/lib/python3.6/site-packages/matplotlib/__init__.py:1067: UserWarning: Duplicate key in file \"/home/ubuntu/.config/matplotlib/matplotlibrc\", line #3\n",
      "  (fname, cnt))\n"
     ]
    }
   ],
   "source": [
    "import pandas as pd\n",
    "import numpy as np\n",
    "pd.options.mode.chained_assignment=None"
   ]
  },
  {
   "cell_type": "code",
   "execution_count": 3,
   "metadata": {},
   "outputs": [],
   "source": [
    "dtypes = {}\n",
    "dtypes['ip'] = 'uint32'\n",
    "dtypes['app'] = 'uint16'\n",
    "usecols = list(dtypes.keys()) + ['click_time','is_attributed']\n",
    "data = pd.read_csv('../data/download/train.csv', dtype=dtypes, usecols=usecols)\n",
    "data['click_id'] = data.index\n",
    "data['click_time'] = pd.to_datetime(data['click_time'])\n",
    "data = data[['click_id','click_time','ip','app','is_attributed']]"
   ]
  },
  {
   "cell_type": "code",
   "execution_count": 3,
   "metadata": {},
   "outputs": [
    {
     "data": {
      "text/html": [
       "<div>\n",
       "<style scoped>\n",
       "    .dataframe tbody tr th:only-of-type {\n",
       "        vertical-align: middle;\n",
       "    }\n",
       "\n",
       "    .dataframe tbody tr th {\n",
       "        vertical-align: top;\n",
       "    }\n",
       "\n",
       "    .dataframe thead th {\n",
       "        text-align: right;\n",
       "    }\n",
       "</style>\n",
       "<table border=\"1\" class=\"dataframe\">\n",
       "  <thead>\n",
       "    <tr style=\"text-align: right;\">\n",
       "      <th></th>\n",
       "      <th>click_id</th>\n",
       "      <th>ip</th>\n",
       "      <th>app</th>\n",
       "      <th>is_attributed</th>\n",
       "      <th>is_valid</th>\n",
       "    </tr>\n",
       "  </thead>\n",
       "  <tbody>\n",
       "    <tr>\n",
       "      <th>0</th>\n",
       "      <td>0</td>\n",
       "      <td>83230</td>\n",
       "      <td>3</td>\n",
       "      <td>0</td>\n",
       "      <td>False</td>\n",
       "    </tr>\n",
       "    <tr>\n",
       "      <th>1</th>\n",
       "      <td>1</td>\n",
       "      <td>17357</td>\n",
       "      <td>3</td>\n",
       "      <td>0</td>\n",
       "      <td>False</td>\n",
       "    </tr>\n",
       "    <tr>\n",
       "      <th>2</th>\n",
       "      <td>2</td>\n",
       "      <td>35810</td>\n",
       "      <td>3</td>\n",
       "      <td>0</td>\n",
       "      <td>False</td>\n",
       "    </tr>\n",
       "    <tr>\n",
       "      <th>3</th>\n",
       "      <td>3</td>\n",
       "      <td>45745</td>\n",
       "      <td>14</td>\n",
       "      <td>0</td>\n",
       "      <td>False</td>\n",
       "    </tr>\n",
       "    <tr>\n",
       "      <th>4</th>\n",
       "      <td>4</td>\n",
       "      <td>161007</td>\n",
       "      <td>3</td>\n",
       "      <td>0</td>\n",
       "      <td>False</td>\n",
       "    </tr>\n",
       "  </tbody>\n",
       "</table>\n",
       "</div>"
      ],
      "text/plain": [
       "   click_id      ip  app  is_attributed  is_valid\n",
       "0         0   83230    3              0     False\n",
       "1         1   17357    3              0     False\n",
       "2         2   35810    3              0     False\n",
       "3         3   45745   14              0     False\n",
       "4         4  161007    3              0     False"
      ]
     },
     "execution_count": 3,
     "metadata": {},
     "output_type": "execute_result"
    }
   ],
   "source": [
    "data['is_valid'] = False\n",
    "data.loc[data['click_time'] > '2017-11-09 04:00:00','is_valid'] = True \n",
    "data = data.drop('click_time', axis=1)\n",
    "data.head()"
   ]
  },
  {
   "cell_type": "code",
   "execution_count": 4,
   "metadata": {},
   "outputs": [
    {
     "data": {
      "text/plain": [
       "False    144709140\n",
       "True      40194750\n",
       "Name: is_valid, dtype: int64"
      ]
     },
     "execution_count": 4,
     "metadata": {},
     "output_type": "execute_result"
    }
   ],
   "source": [
    "data['is_valid'].value_counts()"
   ]
  },
  {
   "cell_type": "code",
   "execution_count": 5,
   "metadata": {},
   "outputs": [],
   "source": [
    "def download_rate(features):\n",
    "    global data\n",
    "    name = '_'.join(features)\n",
    "    print('data:', data.shape)\n",
    "    train_data = data.copy()\n",
    "    train_data[name + '_run'] = data.groupby(features)['is_attributed'].cumsum()\n",
    "    train_data[name + '_run'] = train_data[name + '_run'] - train_data['is_attributed']\n",
    "    train_data = train_data[['click_id', name + '_run']]\n",
    "    train_data = train_data.reset_index(drop=True)\n",
    "    print('train data done..')\n",
    "    train_data.to_feather('../data/data/features/running/train_' + name + '.feather')\n",
    "    del train_data\n",
    "    valid_data = data[data['is_valid'] == False]\n",
    "    valid_data = valid_data.groupby(features)['is_attributed'].sum().reset_index()\n",
    "    valid_data.columns = features + [name + '_run']\n",
    "    valid_data = valid_data.reset_index(drop=True)\n",
    "    print('valid data done..')\n",
    "    valid_data.to_feather('../data/data/features/running/valid_' + name + '.feather')\n",
    "    del valid_data\n",
    "    test_data = data.groupby(features)['is_attributed'].sum().reset_index()\n",
    "    test_data.columns = features + [name + '_enc']\n",
    "    test_data = test_data.reset_index(drop=True)\n",
    "    print('test data done..')\n",
    "    test_data.to_feather('../data/data/features/running/test_' + name + '.feather')\n",
    "    del test_data\n",
    "    return None"
   ]
  },
  {
   "cell_type": "code",
   "execution_count": 6,
   "metadata": {},
   "outputs": [
    {
     "name": "stdout",
     "output_type": "stream",
     "text": [
      "data: (184903890, 5)\n",
      "train data done..\n",
      "valid data done..\n",
      "test data done..\n"
     ]
    }
   ],
   "source": [
    "download_rate(['ip'])"
   ]
  },
  {
   "cell_type": "code",
   "execution_count": null,
   "metadata": {},
   "outputs": [
    {
     "name": "stdout",
     "output_type": "stream",
     "text": [
      "data: (184903890, 5)\n",
      "train data done..\n",
      "valid data done..\n"
     ]
    }
   ],
   "source": [
    "download_rate(['ip','app'])"
   ]
  },
  {
   "cell_type": "code",
   "execution_count": null,
   "metadata": {},
   "outputs": [],
   "source": []
  }
 ],
 "metadata": {
  "kernelspec": {
   "display_name": "Environment (conda_python3)",
   "language": "python",
   "name": "conda_python3"
  },
  "language_info": {
   "codemirror_mode": {
    "name": "ipython",
    "version": 3
   },
   "file_extension": ".py",
   "mimetype": "text/x-python",
   "name": "python",
   "nbconvert_exporter": "python",
   "pygments_lexer": "ipython3",
   "version": "3.6.4"
  }
 },
 "nbformat": 4,
 "nbformat_minor": 2
}
