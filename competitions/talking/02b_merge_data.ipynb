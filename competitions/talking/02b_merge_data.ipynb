{
 "cells": [
  {
   "cell_type": "code",
   "execution_count": 1,
   "metadata": {},
   "outputs": [
    {
     "name": "stderr",
     "output_type": "stream",
     "text": [
      "/home/ubuntu/anaconda3/envs/python3/lib/python3.6/site-packages/matplotlib/__init__.py:1067: UserWarning: Duplicate key in file \"/home/ubuntu/.config/matplotlib/matplotlibrc\", line #2\n",
      "  (fname, cnt))\n",
      "/home/ubuntu/anaconda3/envs/python3/lib/python3.6/site-packages/matplotlib/__init__.py:1067: UserWarning: Duplicate key in file \"/home/ubuntu/.config/matplotlib/matplotlibrc\", line #3\n",
      "  (fname, cnt))\n"
     ]
    }
   ],
   "source": [
    "import pandas as pd\n",
    "import numpy as np"
   ]
  },
  {
   "cell_type": "markdown",
   "metadata": {},
   "source": [
    "### count features"
   ]
  },
  {
   "cell_type": "code",
   "execution_count": 2,
   "metadata": {},
   "outputs": [],
   "source": [
    "# one way\n",
    "ip = pd.read_feather('../data/data/features/count/ip.feather').astype('uint32')\n",
    "app = pd.read_feather('../data/data/features/count/app.feather').astype('uint32')\n",
    "os = pd.read_feather('../data/data/features/count/os.feather').astype('uint32')\n",
    "\n",
    "# n-way\n",
    "ip_day_hour = pd.read_feather('../data/data/features/count/ip_day_hour.feather').astype('uint32')\n",
    "ip_app = pd.read_feather('../data/data/features/count/ip_app.feather').astype('uint32')\n",
    "ip_app_os = pd.read_feather('../data/data/features/count/ip_app_os.feather').astype('uint32')\n",
    "ip_device = pd.read_feather('../data/data/features/count/ip_device.feather').astype('uint32')\n",
    "app_channel = pd.read_feather('../data/data/features/count/app_channel.feather').astype('uint32')\n",
    "ip_hour_os = pd.read_feather('../data/data/features/count/ip_hour_os.feather').astype('uint32')\n",
    "ip_hour_app = pd.read_feather('../data/data/features/count/ip_hour_app.feather').astype('uint32')\n",
    "\n",
    "# user count\n",
    "user = pd.read_feather('../data/data/features/count/user_count.feather').astype('uint32')\n",
    "user_app = pd.read_feather('../data/data/features/count/user_app_count.feather').astype('uint32')"
   ]
  },
  {
   "cell_type": "markdown",
   "metadata": {},
   "source": [
    "### unique features"
   ]
  },
  {
   "cell_type": "code",
   "execution_count": 3,
   "metadata": {},
   "outputs": [],
   "source": [
    "ip_app_unq = pd.read_feather('../data/data/features/unique/ip_app_unq.feather').astype('uint32')\n",
    "ip_channel_unq = pd.read_feather('../data/data/features/unique/ip_channel_unq.feather').astype('uint32')"
   ]
  },
  {
   "cell_type": "markdown",
   "metadata": {},
   "source": [
    "### next click"
   ]
  },
  {
   "cell_type": "code",
   "execution_count": 4,
   "metadata": {},
   "outputs": [],
   "source": [
    "next_click_train = pd.read_feather('../data/data/features/next_click/next_click_train.feather')\n",
    "next_click_test = pd.read_feather('../data/data/features/next_click/next_click_test.feather')\n",
    "next_click_train_1 = pd.read_feather('../data/data/features/next_click/next_click_train_1.feather')\n",
    "next_click_test_1 = pd.read_feather('../data/data/features/next_click/next_click_test_1.feather')"
   ]
  },
  {
   "cell_type": "markdown",
   "metadata": {},
   "source": [
    "### running"
   ]
  },
  {
   "cell_type": "code",
   "execution_count": 5,
   "metadata": {},
   "outputs": [],
   "source": [
    "ip_enc_train = pd.read_feather('../data/data/features/running/train_ip.feather')\n",
    "ip_enc_valid = pd.read_feather('../data/data/features/running/valid_ip.feather')\n",
    "ip_enc_test = pd.read_feather('../data/data/features/running/test_ip.feather')\n",
    "\n",
    "ip_app_enc_train = pd.read_feather('../data/data/features/running/train_ip_app.feather')\n",
    "ip_app_enc_valid = pd.read_feather('../data/data/features/running/valid_ip_app.feather')\n",
    "ip_app_enc_test = pd.read_feather('../data/data/features/running/test_ip_app.feather')"
   ]
  },
  {
   "cell_type": "markdown",
   "metadata": {},
   "source": [
    "### rank"
   ]
  },
  {
   "cell_type": "code",
   "execution_count": 6,
   "metadata": {},
   "outputs": [],
   "source": [
    "ip_rank = pd.read_feather('../data/data/features/rank/ip.feather')\n",
    "app_channel_rank = pd.read_feather('../data/data/features/rank/app_channel.feather')\n",
    "app_os_rank = pd.read_feather('../data/data/features/rank/app_os.feather')\n",
    "channel_os_rank = pd.read_feather('../data/data/features/rank/channel_os.feather')"
   ]
  },
  {
   "cell_type": "markdown",
   "metadata": {},
   "source": [
    "### merge"
   ]
  },
  {
   "cell_type": "code",
   "execution_count": 7,
   "metadata": {},
   "outputs": [],
   "source": [
    "def reduce_size(data):\n",
    "    for column in list(data.columns):\n",
    "        if data[column].max() <= 250:\n",
    "            data[column] = data[column].astype('uint8')\n",
    "        elif data[column].max() <= 65000 and data[column].min() >= 0:\n",
    "            data[column] = data[column].astype('uint16')\n",
    "    return data\n",
    "    \n",
    "def merge(data):\n",
    "    print('merge starts..', data.shape)\n",
    "    # one way counts\n",
    "    data = data.merge(ip, on='ip')\n",
    "    data = data.merge(os, on='os')\n",
    "    data = data.merge(app, on='app')\n",
    "    data = reduce_size(data)\n",
    "    print('one way merge complete...', data.shape)\n",
    "    # n way counts\n",
    "    data = data.merge(ip_day_hour, on=['ip','day','hour'])\n",
    "    data = data.merge(ip_app, on=['ip','app'])\n",
    "    data = data.merge(ip_app_os, on=['ip','app','os'])\n",
    "    data = data.merge(ip_device, on=['ip','device'])\n",
    "    data = data.merge(app_channel, on=['app','channel'])\n",
    "    data = data.merge(ip_hour_os, on=['ip','hour','os'])\n",
    "    data = data.merge(ip_hour_app, on=['ip','hour','app'])\n",
    "    data = reduce_size(data)\n",
    "    print('n way merge complete...', data.shape)\n",
    "    # unique counts\n",
    "    data = data.merge(ip_app_unq, on=['ip'])\n",
    "    data = data.merge(ip_channel_unq, on=['ip'])\n",
    "    data = reduce_size(data)\n",
    "    # user counts\n",
    "    data = data.merge(user, on=['ip','device','os'])\n",
    "    data = data.merge(user_app, on=['ip','device','os','app'])\n",
    "    data = reduce_size(data)\n",
    "    print('user counts merge complete...', data.shape)\n",
    "    # other features\n",
    "    data = data.merge(next_click_train, on='click_id')\n",
    "    data = data.merge(ip_enc_train, on='click_id', how='left')\n",
    "    data = data.merge(ip_app_enc_train, on='click_id', how='left')\n",
    "    data = data.fillna(0)\n",
    "    data = reduce_size(data)\n",
    "    print('other merge complete...', data.shape)\n",
    "    data = data.reset_index(drop=True)\n",
    "    return data"
   ]
  },
  {
   "cell_type": "code",
   "execution_count": 8,
   "metadata": {},
   "outputs": [
    {
     "data": {
      "text/html": [
       "<div>\n",
       "<style scoped>\n",
       "    .dataframe tbody tr th:only-of-type {\n",
       "        vertical-align: middle;\n",
       "    }\n",
       "\n",
       "    .dataframe tbody tr th {\n",
       "        vertical-align: top;\n",
       "    }\n",
       "\n",
       "    .dataframe thead th {\n",
       "        text-align: right;\n",
       "    }\n",
       "</style>\n",
       "<table border=\"1\" class=\"dataframe\">\n",
       "  <thead>\n",
       "    <tr style=\"text-align: right;\">\n",
       "      <th></th>\n",
       "      <th>click_id</th>\n",
       "      <th>is_attributed</th>\n",
       "      <th>day</th>\n",
       "      <th>hour</th>\n",
       "      <th>ip</th>\n",
       "      <th>app</th>\n",
       "      <th>os</th>\n",
       "      <th>device</th>\n",
       "      <th>channel</th>\n",
       "    </tr>\n",
       "  </thead>\n",
       "  <tbody>\n",
       "    <tr>\n",
       "      <th>0</th>\n",
       "      <td>0</td>\n",
       "      <td>0</td>\n",
       "      <td>6</td>\n",
       "      <td>14</td>\n",
       "      <td>83230</td>\n",
       "      <td>3</td>\n",
       "      <td>13</td>\n",
       "      <td>1</td>\n",
       "      <td>379</td>\n",
       "    </tr>\n",
       "    <tr>\n",
       "      <th>1</th>\n",
       "      <td>1</td>\n",
       "      <td>0</td>\n",
       "      <td>6</td>\n",
       "      <td>14</td>\n",
       "      <td>17357</td>\n",
       "      <td>3</td>\n",
       "      <td>19</td>\n",
       "      <td>1</td>\n",
       "      <td>379</td>\n",
       "    </tr>\n",
       "    <tr>\n",
       "      <th>2</th>\n",
       "      <td>2</td>\n",
       "      <td>0</td>\n",
       "      <td>6</td>\n",
       "      <td>14</td>\n",
       "      <td>35810</td>\n",
       "      <td>3</td>\n",
       "      <td>13</td>\n",
       "      <td>1</td>\n",
       "      <td>379</td>\n",
       "    </tr>\n",
       "    <tr>\n",
       "      <th>3</th>\n",
       "      <td>3</td>\n",
       "      <td>0</td>\n",
       "      <td>6</td>\n",
       "      <td>14</td>\n",
       "      <td>45745</td>\n",
       "      <td>14</td>\n",
       "      <td>13</td>\n",
       "      <td>1</td>\n",
       "      <td>478</td>\n",
       "    </tr>\n",
       "    <tr>\n",
       "      <th>4</th>\n",
       "      <td>4</td>\n",
       "      <td>0</td>\n",
       "      <td>6</td>\n",
       "      <td>14</td>\n",
       "      <td>161007</td>\n",
       "      <td>3</td>\n",
       "      <td>13</td>\n",
       "      <td>1</td>\n",
       "      <td>379</td>\n",
       "    </tr>\n",
       "  </tbody>\n",
       "</table>\n",
       "</div>"
      ],
      "text/plain": [
       "   click_id  is_attributed  day  hour      ip  app  os  device  channel\n",
       "0         0              0    6    14   83230    3  13       1      379\n",
       "1         1              0    6    14   17357    3  19       1      379\n",
       "2         2              0    6    14   35810    3  13       1      379\n",
       "3         3              0    6    14   45745   14  13       1      478\n",
       "4         4              0    6    14  161007    3  13       1      379"
      ]
     },
     "execution_count": 8,
     "metadata": {},
     "output_type": "execute_result"
    }
   ],
   "source": [
    "dtypes = {}\n",
    "dtypes['ip'] = 'uint32'\n",
    "dtypes['app'] = 'uint16'\n",
    "dtypes['device'] = 'uint16'\n",
    "dtypes['os'] = 'uint16'\n",
    "dtypes['channel'] = 'uint16'\n",
    "dtypes['is_attributed'] = 'uint8'\n",
    "dtypes['click_id'] = 'uint32'\n",
    "usecols=['ip','app','device','os', 'channel', 'click_time', 'is_attributed']\n",
    "train_data = pd.read_csv('../data/download/train.csv', dtype=dtypes, usecols=usecols)\n",
    "train_data['click_time'] = pd.to_datetime(train_data['click_time'])\n",
    "train_data['hour'] = train_data['click_time'].map(lambda x : x.hour)\n",
    "train_data['click_id'] = train_data.index\n",
    "train_data['day'] = train_data['click_time'].dt.day\n",
    "train_data = train_data[['click_id','is_attributed','day','hour','ip','app','os','device','channel']]\n",
    "train_data.head()"
   ]
  },
  {
   "cell_type": "code",
   "execution_count": 9,
   "metadata": {},
   "outputs": [],
   "source": [
    "train_data = reduce_size(train_data)"
   ]
  },
  {
   "cell_type": "code",
   "execution_count": 10,
   "metadata": {},
   "outputs": [
    {
     "name": "stdout",
     "output_type": "stream",
     "text": [
      "merge starts.. (184903890, 9)\n",
      "one way merge complete... (184903890, 12)\n",
      "n way merge complete... (184903890, 19)\n",
      "user counts merge complete... (184903890, 23)\n",
      "other merge complete... (184903889, 26)\n"
     ]
    }
   ],
   "source": [
    "train_data = merge(train_data)\n",
    "train_data.to_feather('../data/data/model/full_data.feather')"
   ]
  },
  {
   "cell_type": "code",
   "execution_count": null,
   "metadata": {},
   "outputs": [],
   "source": []
  }
 ],
 "metadata": {
  "kernelspec": {
   "display_name": "Environment (conda_python3)",
   "language": "python",
   "name": "conda_python3"
  },
  "language_info": {
   "codemirror_mode": {
    "name": "ipython",
    "version": 3
   },
   "file_extension": ".py",
   "mimetype": "text/x-python",
   "name": "python",
   "nbconvert_exporter": "python",
   "pygments_lexer": "ipython3",
   "version": "3.6.4"
  }
 },
 "nbformat": 4,
 "nbformat_minor": 2
}
