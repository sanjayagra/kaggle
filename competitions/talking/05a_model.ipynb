{
 "cells": [
  {
   "cell_type": "code",
   "execution_count": 1,
   "metadata": {},
   "outputs": [
    {
     "name": "stderr",
     "output_type": "stream",
     "text": [
      "/home/ubuntu/anaconda3/envs/python3/lib/python3.6/site-packages/matplotlib/__init__.py:1067: UserWarning: Duplicate key in file \"/home/ubuntu/.config/matplotlib/matplotlibrc\", line #2\n",
      "  (fname, cnt))\n",
      "/home/ubuntu/anaconda3/envs/python3/lib/python3.6/site-packages/matplotlib/__init__.py:1067: UserWarning: Duplicate key in file \"/home/ubuntu/.config/matplotlib/matplotlibrc\", line #3\n",
      "  (fname, cnt))\n"
     ]
    }
   ],
   "source": [
    "import pandas as pd\n",
    "import numpy as np\n",
    "import lightgbm as lgb"
   ]
  },
  {
   "cell_type": "code",
   "execution_count": 2,
   "metadata": {},
   "outputs": [],
   "source": [
    "categorical = ['ip','app','channel','device','os']"
   ]
  },
  {
   "cell_type": "markdown",
   "metadata": {},
   "source": [
    "### subset"
   ]
  },
  {
   "cell_type": "code",
   "execution_count": null,
   "metadata": {},
   "outputs": [],
   "source": [
    "train_data = pd.read_feather('../data/data/model/full_data.feather', nthreads=15)"
   ]
  },
  {
   "cell_type": "code",
   "execution_count": null,
   "metadata": {},
   "outputs": [],
   "source": [
    "valid_ids = pd.read_feather('../data/data/model/valid_data.feather', nthreads=15)[['click_id']]\n",
    "train_ids = set(train_data['click_id']) - set(valid_ids['click_id'])\n",
    "train_ids = pd.DataFrame(list(train_ids), columns=['click_id'])\n",
    "print(len(train_ids), len(valid_ids))"
   ]
  },
  {
   "cell_type": "code",
   "execution_count": null,
   "metadata": {},
   "outputs": [],
   "source": [
    "valid_data = train_data.merge(valid_ids, on='click_id')\n",
    "valid_data.to_feather('../data/data/model/full_data/valid_data.feather')\n",
    "del valid_data"
   ]
  },
  {
   "cell_type": "code",
   "execution_count": null,
   "metadata": {},
   "outputs": [],
   "source": [
    "train_data = train_data.merge(train_ids, on='click_id')\n",
    "train_data.to_feather('../data/data/model/full_data/train_data.feather')\n",
    "del train_data"
   ]
  },
  {
   "cell_type": "markdown",
   "metadata": {},
   "source": [
    "### save binary"
   ]
  },
  {
   "cell_type": "code",
   "execution_count": null,
   "metadata": {},
   "outputs": [],
   "source": [
    "train_data = pd.read_feather('../data/data/model/full_data/train_data.feather', nthreads=15)\n",
    "train_labels = train_data['is_attributed'].values\n",
    "train_data = train_data.drop(['is_attributed','day','click_id'], axis=1)\n",
    "train_weights = train_data['hour'].map(lambda x : 2 if x in [4,5,9,10,13,14] else 1).astype('uint8')"
   ]
  },
  {
   "cell_type": "code",
   "execution_count": null,
   "metadata": {},
   "outputs": [],
   "source": [
    "params = {}\n",
    "params['label'] = train_labels\n",
    "params['feature_name'] = list(train_data.columns)\n",
    "params['categorical_feature'] = categorical\n",
    "params['weight'] = train_weights\n",
    "train_matrix = lgb.Dataset(np.array(train_data.values, dtype=np.float32), **params)\n",
    "del train_data"
   ]
  },
  {
   "cell_type": "code",
   "execution_count": null,
   "metadata": {},
   "outputs": [],
   "source": [
    "train_matrix.save_binary('../data/data/model/full_data/train_matrix.bin')"
   ]
  },
  {
   "cell_type": "markdown",
   "metadata": {},
   "source": [
    "### data"
   ]
  },
  {
   "cell_type": "code",
   "execution_count": 3,
   "metadata": {},
   "outputs": [],
   "source": [
    "train_matrix = lgb.Dataset('../data/data/model/full_data/train_matrix.bin')"
   ]
  },
  {
   "cell_type": "code",
   "execution_count": 5,
   "metadata": {},
   "outputs": [],
   "source": [
    "valid_data = pd.read_feather('../data/data/model/full_data/valid_data.feather', nthreads=15)\n",
    "valid_labels = valid_data['is_attributed'].values\n",
    "valid_data = valid_data.drop(['is_attributed','day','click_id'], axis=1)"
   ]
  },
  {
   "cell_type": "code",
   "execution_count": 6,
   "metadata": {},
   "outputs": [],
   "source": [
    "params = {}\n",
    "params['label'] = valid_labels\n",
    "params['feature_name'] = list(valid_data.columns)\n",
    "params['categorical_feature'] = categorical\n",
    "valid_matrix = lgb.Dataset(valid_data.values, **params)"
   ]
  },
  {
   "cell_type": "markdown",
   "metadata": {},
   "source": [
    "### model - 1"
   ]
  },
  {
   "cell_type": "code",
   "execution_count": 7,
   "metadata": {},
   "outputs": [],
   "source": [
    "booster = {}\n",
    "booster['boosting_type'] = 'gbdt'\n",
    "booster['objective'] = 'binary'\n",
    "booster['learning_rate'] = 0.1\n",
    "booster['num_leaves'] = 32\n",
    "booster['max_depth'] = -1\n",
    "booster['min_child_weight'] = 5\n",
    "booster['max_bin'] = 255\n",
    "booster['subsample'] = 0.6\n",
    "booster['subsample_freq'] = 1\n",
    "booster['colsample_bytree'] = 0.3\n",
    "booster['min_split_gain'] = 0\n",
    "booster['nthread'] = 15\n",
    "booster['verbose'] = 0\n",
    "booster['scale_pos_weight'] = 99.7\n",
    "booster['metric'] = 'auc'"
   ]
  },
  {
   "cell_type": "code",
   "execution_count": 8,
   "metadata": {},
   "outputs": [],
   "source": [
    "params = {}\n",
    "params['params'] = booster\n",
    "params['train_set'] = train_matrix\n",
    "params['valid_sets'] = [valid_matrix]\n",
    "params['num_boost_round'] = 1000\n",
    "params['early_stopping_rounds'] = 50\n",
    "params['verbose_eval'] = 50"
   ]
  },
  {
   "cell_type": "code",
   "execution_count": 9,
   "metadata": {},
   "outputs": [
    {
     "name": "stderr",
     "output_type": "stream",
     "text": [
      "/home/ubuntu/anaconda3/envs/python3/lib/python3.6/site-packages/lightgbm/basic.py:1036: UserWarning: Using categorical_feature in Dataset.\n",
      "  warnings.warn('Using categorical_feature in Dataset.')\n"
     ]
    },
    {
     "name": "stdout",
     "output_type": "stream",
     "text": [
      "Training until validation scores don't improve for 50 rounds.\n",
      "[50]\tvalid_0's auc: 0.976873\n",
      "[100]\tvalid_0's auc: 0.982182\n",
      "[150]\tvalid_0's auc: 0.983271\n",
      "[200]\tvalid_0's auc: 0.983601\n",
      "[250]\tvalid_0's auc: 0.983792\n",
      "[300]\tvalid_0's auc: 0.983904\n",
      "[350]\tvalid_0's auc: 0.984\n",
      "Early stopping, best iteration is:\n",
      "[345]\tvalid_0's auc: 0.984015\n"
     ]
    }
   ],
   "source": [
    "model = lgb.train(**params)"
   ]
  },
  {
   "cell_type": "code",
   "execution_count": 10,
   "metadata": {},
   "outputs": [],
   "source": [
    "model.save_model('../data/data/model/lightgbm_3.model')"
   ]
  },
  {
   "cell_type": "markdown",
   "metadata": {},
   "source": [
    "### model - 2"
   ]
  },
  {
   "cell_type": "code",
   "execution_count": 3,
   "metadata": {},
   "outputs": [],
   "source": [
    "train_data = pd.read_feather('../data/data/model/full_data.feather', nthreads=15)\n",
    "train_labels = train_data['is_attributed'].values\n",
    "train_data = train_data.drop(['is_attributed','day','click_id'], axis=1)\n",
    "train_weights = train_data['hour'].map(lambda x : 2 if x in [4,5,9,10,13,14] else 1).astype('uint8')"
   ]
  },
  {
   "cell_type": "code",
   "execution_count": 4,
   "metadata": {},
   "outputs": [],
   "source": [
    "params = {}\n",
    "params['label'] = train_labels\n",
    "params['feature_name'] = list(train_data.columns)\n",
    "params['categorical_feature'] = categorical\n",
    "params['weight'] = train_weights\n",
    "train_matrix = lgb.Dataset(np.array(train_data.values, dtype=np.float32), **params)\n",
    "del train_data"
   ]
  },
  {
   "cell_type": "code",
   "execution_count": null,
   "metadata": {},
   "outputs": [],
   "source": [
    "train_matrix.save_binary('../data/data/model/full_data/full_matrix.bin')"
   ]
  },
  {
   "cell_type": "code",
   "execution_count": null,
   "metadata": {},
   "outputs": [],
   "source": [
    "del train_matrix"
   ]
  },
  {
   "cell_type": "code",
   "execution_count": null,
   "metadata": {},
   "outputs": [],
   "source": [
    "train_matrix = lgb.Dataset('../data/data/model/full_data/full_matrix.bin')"
   ]
  },
  {
   "cell_type": "code",
   "execution_count": null,
   "metadata": {},
   "outputs": [],
   "source": [
    "booster = {}\n",
    "booster['boosting_type'] = 'gbdt'\n",
    "booster['objective'] = 'binary'\n",
    "booster['learning_rate'] = 0.075\n",
    "booster['num_leaves'] = 32\n",
    "booster['max_depth'] = -1\n",
    "booster['min_child_weight'] = 5\n",
    "booster['max_bin'] = 255\n",
    "booster['subsample'] = 0.6\n",
    "booster['subsample_freq'] = 1\n",
    "booster['colsample_bytree'] = 0.3\n",
    "booster['min_split_gain'] = 0\n",
    "booster['nthread'] = 15\n",
    "booster['verbose'] = 0\n",
    "booster['scale_pos_weight'] = 99.7\n",
    "booster['metric'] = 'auc'"
   ]
  },
  {
   "cell_type": "code",
   "execution_count": null,
   "metadata": {},
   "outputs": [],
   "source": [
    "params = {}\n",
    "params['params'] = booster\n",
    "params['train_set'] = matrix\n",
    "params['num_boost_round'] = 375"
   ]
  },
  {
   "cell_type": "code",
   "execution_count": null,
   "metadata": {},
   "outputs": [],
   "source": [
    "model = lgb.train(**params)"
   ]
  },
  {
   "cell_type": "code",
   "execution_count": null,
   "metadata": {},
   "outputs": [],
   "source": [
    "model.save_model('../data/data/model/lightgbm_4.model')"
   ]
  }
 ],
 "metadata": {
  "kernelspec": {
   "display_name": "Environment (conda_python3)",
   "language": "python",
   "name": "conda_python3"
  },
  "language_info": {
   "codemirror_mode": {
    "name": "ipython",
    "version": 3
   },
   "file_extension": ".py",
   "mimetype": "text/x-python",
   "name": "python",
   "nbconvert_exporter": "python",
   "pygments_lexer": "ipython3",
   "version": "3.6.4"
  }
 },
 "nbformat": 4,
 "nbformat_minor": 2
}
