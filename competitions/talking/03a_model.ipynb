{
 "cells": [
  {
   "cell_type": "code",
   "execution_count": 1,
   "metadata": {},
   "outputs": [
    {
     "name": "stderr",
     "output_type": "stream",
     "text": [
      "/home/ubuntu/anaconda3/envs/python3/lib/python3.6/site-packages/matplotlib/__init__.py:1067: UserWarning: Duplicate key in file \"/home/ubuntu/.config/matplotlib/matplotlibrc\", line #2\n",
      "  (fname, cnt))\n",
      "/home/ubuntu/anaconda3/envs/python3/lib/python3.6/site-packages/matplotlib/__init__.py:1067: UserWarning: Duplicate key in file \"/home/ubuntu/.config/matplotlib/matplotlibrc\", line #3\n",
      "  (fname, cnt))\n"
     ]
    }
   ],
   "source": [
    "import pandas as pd\n",
    "import numpy as np\n",
    "import lightgbm as lgb"
   ]
  },
  {
   "cell_type": "code",
   "execution_count": 2,
   "metadata": {},
   "outputs": [],
   "source": [
    "categorical = ['ip','app','channel','device','os']"
   ]
  },
  {
   "cell_type": "markdown",
   "metadata": {},
   "source": [
    "### data"
   ]
  },
  {
   "cell_type": "code",
   "execution_count": 3,
   "metadata": {},
   "outputs": [],
   "source": [
    "train_data = pd.read_feather('../data/data/model/train_data.feather', nthreads=15)\n",
    "train_labels = train_data['is_attributed'].values\n",
    "train_data = train_data.drop(['is_attributed','day','click_id'], axis=1)"
   ]
  },
  {
   "cell_type": "code",
   "execution_count": 4,
   "metadata": {},
   "outputs": [],
   "source": [
    "valid_data = pd.read_feather('../data/data/model/valid_data.feather')\n",
    "valid_labels = valid_data['is_attributed'].values\n",
    "valid_data = valid_data.drop(['is_attributed','day','click_id'], axis=1)"
   ]
  },
  {
   "cell_type": "markdown",
   "metadata": {},
   "source": [
    "### model - 1"
   ]
  },
  {
   "cell_type": "code",
   "execution_count": 5,
   "metadata": {},
   "outputs": [],
   "source": [
    "params = {}\n",
    "params['label'] = train_labels\n",
    "params['feature_name'] = list(train_data.columns)\n",
    "params['categorical_feature'] = categorical\n",
    "train_matrix = lgb.Dataset(train_data.values, **params)"
   ]
  },
  {
   "cell_type": "code",
   "execution_count": 6,
   "metadata": {},
   "outputs": [],
   "source": [
    "params = {}\n",
    "params['label'] = valid_labels\n",
    "params['feature_name'] = list(valid_data.columns)\n",
    "params['categorical_feature'] = categorical\n",
    "valid_matrix = lgb.Dataset(valid_data.values, **params)"
   ]
  },
  {
   "cell_type": "code",
   "execution_count": 7,
   "metadata": {},
   "outputs": [],
   "source": [
    "booster = {}\n",
    "booster['boosting_type'] = 'gbdt'\n",
    "booster['objective'] = 'binary'\n",
    "booster['learning_rate'] = 0.075\n",
    "booster['num_leaves'] = 32\n",
    "booster['max_depth'] = -1\n",
    "booster['min_child_weight'] = 5\n",
    "booster['max_bin'] = 255\n",
    "booster['subsample'] = 0.6\n",
    "booster['subsample_freq'] = 1\n",
    "booster['colsample_bytree'] = 0.3\n",
    "booster['min_split_gain'] = 0\n",
    "booster['nthread'] = 15\n",
    "booster['verbose'] = 0\n",
    "booster['scale_pos_weight'] = 99.7\n",
    "booster['metric'] = 'auc'"
   ]
  },
  {
   "cell_type": "code",
   "execution_count": 8,
   "metadata": {},
   "outputs": [],
   "source": [
    "params = {}\n",
    "params['params'] = booster\n",
    "params['train_set'] = train_matrix\n",
    "params['valid_sets'] = [valid_matrix]\n",
    "params['num_boost_round'] = 1000\n",
    "params['early_stopping_rounds'] = 50\n",
    "params['verbose_eval'] = 50"
   ]
  },
  {
   "cell_type": "code",
   "execution_count": 9,
   "metadata": {},
   "outputs": [
    {
     "name": "stderr",
     "output_type": "stream",
     "text": [
      "/home/ubuntu/anaconda3/envs/python3/lib/python3.6/site-packages/lightgbm/basic.py:1036: UserWarning: Using categorical_feature in Dataset.\n",
      "  warnings.warn('Using categorical_feature in Dataset.')\n",
      "/home/ubuntu/anaconda3/envs/python3/lib/python3.6/site-packages/lightgbm/basic.py:681: UserWarning: categorical_feature in param dict is overrided.\n",
      "  warnings.warn('categorical_feature in param dict is overrided.')\n"
     ]
    },
    {
     "name": "stdout",
     "output_type": "stream",
     "text": [
      "Training until validation scores don't improve for 50 rounds.\n",
      "[50]\tvalid_0's auc: 0.973855\n",
      "[100]\tvalid_0's auc: 0.980023\n",
      "[150]\tvalid_0's auc: 0.98234\n",
      "[200]\tvalid_0's auc: 0.982796\n",
      "[250]\tvalid_0's auc: 0.983011\n",
      "[300]\tvalid_0's auc: 0.983141\n",
      "[350]\tvalid_0's auc: 0.983208\n",
      "[400]\tvalid_0's auc: 0.98324\n",
      "[450]\tvalid_0's auc: 0.983237\n",
      "Early stopping, best iteration is:\n",
      "[415]\tvalid_0's auc: 0.983257\n"
     ]
    }
   ],
   "source": [
    "model = lgb.train(**params)"
   ]
  },
  {
   "cell_type": "code",
   "execution_count": 10,
   "metadata": {},
   "outputs": [],
   "source": [
    "model.save_model('../data/data/model/lightgbm_1.model')"
   ]
  },
  {
   "cell_type": "markdown",
   "metadata": {},
   "source": [
    "### model - 2"
   ]
  },
  {
   "cell_type": "code",
   "execution_count": 5,
   "metadata": {},
   "outputs": [],
   "source": [
    "params = {}\n",
    "params['label'] = train_labels\n",
    "params['feature_name'] = list(train_data.columns)\n",
    "params['categorical_feature'] = categorical\n",
    "train_matrix = lgb.Dataset(train_data.values, **params)"
   ]
  },
  {
   "cell_type": "code",
   "execution_count": 6,
   "metadata": {},
   "outputs": [],
   "source": [
    "params = {}\n",
    "params['label'] = valid_labels\n",
    "params['feature_name'] = list(valid_data.columns)\n",
    "params['categorical_feature'] = categorical\n",
    "valid_matrix = lgb.Dataset(valid_data.values, **params)"
   ]
  },
  {
   "cell_type": "code",
   "execution_count": 7,
   "metadata": {},
   "outputs": [],
   "source": [
    "booster = {}\n",
    "booster['boosting_type'] = 'gbdt'\n",
    "booster['objective'] = 'binary'\n",
    "booster['learning_rate'] = 0.1\n",
    "booster['num_leaves'] = 24\n",
    "booster['max_depth'] = -1\n",
    "booster['min_child_weight'] = 5\n",
    "booster['max_bin'] = 255\n",
    "booster['subsample'] = 0.5\n",
    "booster['subsample_freq'] = 1\n",
    "booster['colsample_bytree'] = 0.3\n",
    "booster['min_split_gain'] = 0\n",
    "booster['nthread'] = 15\n",
    "booster['verbose'] = 0\n",
    "booster['scale_pos_weight'] = 99.7\n",
    "booster['metric'] = 'auc'"
   ]
  },
  {
   "cell_type": "code",
   "execution_count": 8,
   "metadata": {},
   "outputs": [],
   "source": [
    "params = {}\n",
    "params['params'] = booster\n",
    "params['train_set'] = train_matrix\n",
    "params['valid_sets'] = [valid_matrix]\n",
    "params['num_boost_round'] = 1000\n",
    "params['early_stopping_rounds'] = 50\n",
    "params['verbose_eval'] = 100"
   ]
  },
  {
   "cell_type": "code",
   "execution_count": 9,
   "metadata": {},
   "outputs": [
    {
     "name": "stderr",
     "output_type": "stream",
     "text": [
      "/home/ubuntu/anaconda3/envs/python3/lib/python3.6/site-packages/lightgbm/basic.py:1036: UserWarning: Using categorical_feature in Dataset.\n",
      "  warnings.warn('Using categorical_feature in Dataset.')\n",
      "/home/ubuntu/anaconda3/envs/python3/lib/python3.6/site-packages/lightgbm/basic.py:681: UserWarning: categorical_feature in param dict is overrided.\n",
      "  warnings.warn('categorical_feature in param dict is overrided.')\n"
     ]
    },
    {
     "name": "stdout",
     "output_type": "stream",
     "text": [
      "Training until validation scores don't improve for 50 rounds.\n",
      "[100]\tvalid_0's auc: 0.980765\n",
      "[200]\tvalid_0's auc: 0.982711\n",
      "[300]\tvalid_0's auc: 0.983012\n",
      "[400]\tvalid_0's auc: 0.98306\n",
      "Early stopping, best iteration is:\n",
      "[381]\tvalid_0's auc: 0.983067\n"
     ]
    }
   ],
   "source": [
    "model = lgb.train(**params)"
   ]
  },
  {
   "cell_type": "code",
   "execution_count": 10,
   "metadata": {},
   "outputs": [],
   "source": [
    "model.save_model('../data/data/model/lightgbm_2.model')"
   ]
  },
  {
   "cell_type": "markdown",
   "metadata": {},
   "source": [
    "### feature importance"
   ]
  },
  {
   "cell_type": "code",
   "execution_count": 11,
   "metadata": {},
   "outputs": [],
   "source": [
    "importance = model.feature_importance(importance_type='gain')\n",
    "importance = pd.DataFrame(importance, columns=['importance'])\n",
    "importance['feature'] = list(valid_data.columns)\n",
    "importance['importance'] = importance['importance'] / importance['importance'].max()\n",
    "importance = importance[['feature', 'importance']]\n",
    "importance = importance.sort_values(by='importance', ascending=False)\n",
    "importance.to_csv('../data/data/model/variable_importance.csv', index=False)"
   ]
  },
  {
   "cell_type": "code",
   "execution_count": 12,
   "metadata": {},
   "outputs": [
    {
     "data": {
      "text/html": [
       "<div>\n",
       "<style scoped>\n",
       "    .dataframe tbody tr th:only-of-type {\n",
       "        vertical-align: middle;\n",
       "    }\n",
       "\n",
       "    .dataframe tbody tr th {\n",
       "        vertical-align: top;\n",
       "    }\n",
       "\n",
       "    .dataframe thead th {\n",
       "        text-align: right;\n",
       "    }\n",
       "</style>\n",
       "<table border=\"1\" class=\"dataframe\">\n",
       "  <thead>\n",
       "    <tr style=\"text-align: right;\">\n",
       "      <th></th>\n",
       "      <th>feature</th>\n",
       "      <th>importance</th>\n",
       "    </tr>\n",
       "  </thead>\n",
       "  <tbody>\n",
       "    <tr>\n",
       "      <th>0</th>\n",
       "      <td>app</td>\n",
       "      <td>1.000000</td>\n",
       "    </tr>\n",
       "    <tr>\n",
       "      <th>1</th>\n",
       "      <td>channel</td>\n",
       "      <td>0.781995</td>\n",
       "    </tr>\n",
       "    <tr>\n",
       "      <th>2</th>\n",
       "      <td>user_count</td>\n",
       "      <td>0.216991</td>\n",
       "    </tr>\n",
       "    <tr>\n",
       "      <th>3</th>\n",
       "      <td>ip</td>\n",
       "      <td>0.207361</td>\n",
       "    </tr>\n",
       "    <tr>\n",
       "      <th>4</th>\n",
       "      <td>next_click</td>\n",
       "      <td>0.103170</td>\n",
       "    </tr>\n",
       "    <tr>\n",
       "      <th>5</th>\n",
       "      <td>ip_app_cnt</td>\n",
       "      <td>0.101527</td>\n",
       "    </tr>\n",
       "    <tr>\n",
       "      <th>6</th>\n",
       "      <td>ip_device_cnt</td>\n",
       "      <td>0.082092</td>\n",
       "    </tr>\n",
       "    <tr>\n",
       "      <th>7</th>\n",
       "      <td>ip_hour_app_cnt</td>\n",
       "      <td>0.080957</td>\n",
       "    </tr>\n",
       "    <tr>\n",
       "      <th>8</th>\n",
       "      <td>app_channel_cnt</td>\n",
       "      <td>0.075539</td>\n",
       "    </tr>\n",
       "    <tr>\n",
       "      <th>9</th>\n",
       "      <td>app_channel_rnk</td>\n",
       "      <td>0.048757</td>\n",
       "    </tr>\n",
       "    <tr>\n",
       "      <th>10</th>\n",
       "      <td>app_cnt</td>\n",
       "      <td>0.046370</td>\n",
       "    </tr>\n",
       "    <tr>\n",
       "      <th>11</th>\n",
       "      <td>ip_cnt</td>\n",
       "      <td>0.035452</td>\n",
       "    </tr>\n",
       "    <tr>\n",
       "      <th>12</th>\n",
       "      <td>ip_app_run</td>\n",
       "      <td>0.035162</td>\n",
       "    </tr>\n",
       "    <tr>\n",
       "      <th>13</th>\n",
       "      <td>os</td>\n",
       "      <td>0.033668</td>\n",
       "    </tr>\n",
       "    <tr>\n",
       "      <th>14</th>\n",
       "      <td>app_os_rnk</td>\n",
       "      <td>0.032783</td>\n",
       "    </tr>\n",
       "    <tr>\n",
       "      <th>15</th>\n",
       "      <td>ip_channel_unq</td>\n",
       "      <td>0.029250</td>\n",
       "    </tr>\n",
       "    <tr>\n",
       "      <th>16</th>\n",
       "      <td>ip_run</td>\n",
       "      <td>0.028656</td>\n",
       "    </tr>\n",
       "    <tr>\n",
       "      <th>17</th>\n",
       "      <td>channel_os_rnk</td>\n",
       "      <td>0.026710</td>\n",
       "    </tr>\n",
       "    <tr>\n",
       "      <th>18</th>\n",
       "      <td>device</td>\n",
       "      <td>0.025264</td>\n",
       "    </tr>\n",
       "    <tr>\n",
       "      <th>19</th>\n",
       "      <td>ip_app_unq</td>\n",
       "      <td>0.023848</td>\n",
       "    </tr>\n",
       "    <tr>\n",
       "      <th>20</th>\n",
       "      <td>os_cnt</td>\n",
       "      <td>0.022926</td>\n",
       "    </tr>\n",
       "    <tr>\n",
       "      <th>21</th>\n",
       "      <td>hour</td>\n",
       "      <td>0.019418</td>\n",
       "    </tr>\n",
       "    <tr>\n",
       "      <th>22</th>\n",
       "      <td>ip_app_os_cnt</td>\n",
       "      <td>0.019274</td>\n",
       "    </tr>\n",
       "    <tr>\n",
       "      <th>23</th>\n",
       "      <td>ip_hour_os_cnt</td>\n",
       "      <td>0.014054</td>\n",
       "    </tr>\n",
       "    <tr>\n",
       "      <th>24</th>\n",
       "      <td>ip_day_hour_cnt</td>\n",
       "      <td>0.011929</td>\n",
       "    </tr>\n",
       "    <tr>\n",
       "      <th>25</th>\n",
       "      <td>user_app_count</td>\n",
       "      <td>0.006176</td>\n",
       "    </tr>\n",
       "    <tr>\n",
       "      <th>26</th>\n",
       "      <td>ip_rnk</td>\n",
       "      <td>0.003024</td>\n",
       "    </tr>\n",
       "  </tbody>\n",
       "</table>\n",
       "</div>"
      ],
      "text/plain": [
       "            feature  importance\n",
       "0               app    1.000000\n",
       "1           channel    0.781995\n",
       "2        user_count    0.216991\n",
       "3                ip    0.207361\n",
       "4        next_click    0.103170\n",
       "5        ip_app_cnt    0.101527\n",
       "6     ip_device_cnt    0.082092\n",
       "7   ip_hour_app_cnt    0.080957\n",
       "8   app_channel_cnt    0.075539\n",
       "9   app_channel_rnk    0.048757\n",
       "10          app_cnt    0.046370\n",
       "11           ip_cnt    0.035452\n",
       "12       ip_app_run    0.035162\n",
       "13               os    0.033668\n",
       "14       app_os_rnk    0.032783\n",
       "15   ip_channel_unq    0.029250\n",
       "16           ip_run    0.028656\n",
       "17   channel_os_rnk    0.026710\n",
       "18           device    0.025264\n",
       "19       ip_app_unq    0.023848\n",
       "20           os_cnt    0.022926\n",
       "21             hour    0.019418\n",
       "22    ip_app_os_cnt    0.019274\n",
       "23   ip_hour_os_cnt    0.014054\n",
       "24  ip_day_hour_cnt    0.011929\n",
       "25   user_app_count    0.006176\n",
       "26           ip_rnk    0.003024"
      ]
     },
     "execution_count": 12,
     "metadata": {},
     "output_type": "execute_result"
    }
   ],
   "source": [
    "importance.reset_index(drop=True)"
   ]
  },
  {
   "cell_type": "code",
   "execution_count": null,
   "metadata": {},
   "outputs": [],
   "source": []
  },
  {
   "cell_type": "code",
   "execution_count": null,
   "metadata": {},
   "outputs": [],
   "source": []
  }
 ],
 "metadata": {
  "kernelspec": {
   "display_name": "Environment (conda_python3)",
   "language": "python",
   "name": "conda_python3"
  },
  "language_info": {
   "codemirror_mode": {
    "name": "ipython",
    "version": 3
   },
   "file_extension": ".py",
   "mimetype": "text/x-python",
   "name": "python",
   "nbconvert_exporter": "python",
   "pygments_lexer": "ipython3",
   "version": "3.6.4"
  }
 },
 "nbformat": 4,
 "nbformat_minor": 2
}
