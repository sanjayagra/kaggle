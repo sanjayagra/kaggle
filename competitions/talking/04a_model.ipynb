{
 "cells": [
  {
   "cell_type": "code",
   "execution_count": 1,
   "metadata": {},
   "outputs": [
    {
     "name": "stderr",
     "output_type": "stream",
     "text": [
      "/home/ubuntu/anaconda3/envs/python3/lib/python3.6/site-packages/matplotlib/__init__.py:1067: UserWarning: Duplicate key in file \"/home/ubuntu/.config/matplotlib/matplotlibrc\", line #2\n",
      "  (fname, cnt))\n",
      "/home/ubuntu/anaconda3/envs/python3/lib/python3.6/site-packages/matplotlib/__init__.py:1067: UserWarning: Duplicate key in file \"/home/ubuntu/.config/matplotlib/matplotlibrc\", line #3\n",
      "  (fname, cnt))\n"
     ]
    }
   ],
   "source": [
    "import pandas as pd\n",
    "import numpy as np\n",
    "import lightgbm as lgb"
   ]
  },
  {
   "cell_type": "code",
   "execution_count": 2,
   "metadata": {},
   "outputs": [],
   "source": [
    "categorical = ['ip','app','channel','device','os']"
   ]
  },
  {
   "cell_type": "markdown",
   "metadata": {},
   "source": [
    "### data"
   ]
  },
  {
   "cell_type": "code",
   "execution_count": 3,
   "metadata": {},
   "outputs": [],
   "source": [
    "train_data = pd.read_feather('../data/data/model/train_data.feather', nthreads=15)\n",
    "valid_data = pd.read_feather('../data/data/model/valid_data.feather', nthreads=15)\n",
    "data = train_data.append(valid_data)\n",
    "train_data, valid_data = None, None\n",
    "labels = data['is_attributed'].values\n",
    "data = data.drop(['is_attributed','day','click_id'], axis=1)"
   ]
  },
  {
   "cell_type": "markdown",
   "metadata": {},
   "source": [
    "### model - 1"
   ]
  },
  {
   "cell_type": "code",
   "execution_count": 4,
   "metadata": {},
   "outputs": [],
   "source": [
    "matrix = lgb.Dataset(data.values, label=labels,feature_name=list(data.columns), categorical_feature=categorical)"
   ]
  },
  {
   "cell_type": "code",
   "execution_count": 5,
   "metadata": {},
   "outputs": [],
   "source": [
    "booster = {}\n",
    "booster['boosting_type'] = 'gbdt'\n",
    "booster['objective'] = 'binary'\n",
    "booster['learning_rate'] = 0.075\n",
    "booster['num_leaves'] = 32\n",
    "booster['max_depth'] = -1\n",
    "booster['min_child_weight'] = 5\n",
    "booster['max_bin'] = 255\n",
    "booster['subsample'] = 0.6\n",
    "booster['subsample_freq'] = 1\n",
    "booster['colsample_bytree'] = 0.3\n",
    "booster['min_split_gain'] = 0\n",
    "booster['nthread'] = 15\n",
    "booster['verbose'] = 0\n",
    "booster['scale_pos_weight'] = 99.7\n",
    "booster['metric'] = 'auc'"
   ]
  },
  {
   "cell_type": "code",
   "execution_count": 6,
   "metadata": {},
   "outputs": [],
   "source": [
    "params = {}\n",
    "params['params'] = booster\n",
    "params['train_set'] = matrix\n",
    "params['num_boost_round'] = 450\n",
    "params['verbose_eval'] = 100"
   ]
  },
  {
   "cell_type": "code",
   "execution_count": 7,
   "metadata": {},
   "outputs": [
    {
     "name": "stderr",
     "output_type": "stream",
     "text": [
      "/home/ubuntu/anaconda3/envs/python3/lib/python3.6/site-packages/lightgbm/basic.py:1036: UserWarning: Using categorical_feature in Dataset.\n",
      "  warnings.warn('Using categorical_feature in Dataset.')\n"
     ]
    }
   ],
   "source": [
    "model = lgb.train(**params)"
   ]
  },
  {
   "cell_type": "code",
   "execution_count": 8,
   "metadata": {},
   "outputs": [],
   "source": [
    "model.save_model('../data/data/model/lightgbm_1.model')"
   ]
  },
  {
   "cell_type": "markdown",
   "metadata": {},
   "source": [
    "### model - 2"
   ]
  },
  {
   "cell_type": "code",
   "execution_count": 4,
   "metadata": {},
   "outputs": [],
   "source": [
    "matrix = lgb.Dataset(data.values, label=labels,feature_name=list(data.columns), categorical_feature=categorical)"
   ]
  },
  {
   "cell_type": "code",
   "execution_count": 5,
   "metadata": {},
   "outputs": [],
   "source": [
    "booster = {}\n",
    "booster['boosting_type'] = 'gbdt'\n",
    "booster['objective'] = 'binary'\n",
    "booster['learning_rate'] = 0.1\n",
    "booster['num_leaves'] = 24\n",
    "booster['max_depth'] = -1\n",
    "booster['min_child_weight'] = 5\n",
    "booster['max_bin'] = 255\n",
    "booster['subsample'] = 0.5\n",
    "booster['subsample_freq'] = 1\n",
    "booster['colsample_bytree'] = 0.3\n",
    "booster['min_split_gain'] = 0\n",
    "booster['nthread'] = 15\n",
    "booster['verbose'] = 0\n",
    "booster['scale_pos_weight'] = 99.7\n",
    "booster['metric'] = 'auc'"
   ]
  },
  {
   "cell_type": "code",
   "execution_count": 6,
   "metadata": {},
   "outputs": [],
   "source": [
    "params = {}\n",
    "params['params'] = booster\n",
    "params['train_set'] = matrix\n",
    "params['num_boost_round'] = 425\n",
    "params['verbose_eval'] = 100"
   ]
  },
  {
   "cell_type": "code",
   "execution_count": 7,
   "metadata": {},
   "outputs": [
    {
     "name": "stderr",
     "output_type": "stream",
     "text": [
      "/home/ubuntu/anaconda3/envs/python3/lib/python3.6/site-packages/lightgbm/basic.py:1036: UserWarning: Using categorical_feature in Dataset.\n",
      "  warnings.warn('Using categorical_feature in Dataset.')\n"
     ]
    }
   ],
   "source": [
    "model = lgb.train(**params)"
   ]
  },
  {
   "cell_type": "code",
   "execution_count": 8,
   "metadata": {},
   "outputs": [],
   "source": [
    "model.save_model('../data/data/model/lightgbm_2.model')"
   ]
  },
  {
   "cell_type": "code",
   "execution_count": null,
   "metadata": {},
   "outputs": [],
   "source": []
  }
 ],
 "metadata": {
  "kernelspec": {
   "display_name": "Environment (conda_python3)",
   "language": "python",
   "name": "conda_python3"
  },
  "language_info": {
   "codemirror_mode": {
    "name": "ipython",
    "version": 3
   },
   "file_extension": ".py",
   "mimetype": "text/x-python",
   "name": "python",
   "nbconvert_exporter": "python",
   "pygments_lexer": "ipython3",
   "version": "3.6.4"
  }
 },
 "nbformat": 4,
 "nbformat_minor": 2
}
