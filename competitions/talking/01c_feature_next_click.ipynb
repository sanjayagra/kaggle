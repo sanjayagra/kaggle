{
 "cells": [
  {
   "cell_type": "code",
   "execution_count": 2,
   "metadata": {},
   "outputs": [
    {
     "name": "stderr",
     "output_type": "stream",
     "text": [
      "/home/ubuntu/anaconda3/envs/python3/lib/python3.6/site-packages/matplotlib/__init__.py:1067: UserWarning: Duplicate key in file \"/home/ubuntu/.config/matplotlib/matplotlibrc\", line #2\n",
      "  (fname, cnt))\n",
      "/home/ubuntu/anaconda3/envs/python3/lib/python3.6/site-packages/matplotlib/__init__.py:1067: UserWarning: Duplicate key in file \"/home/ubuntu/.config/matplotlib/matplotlibrc\", line #3\n",
      "  (fname, cnt))\n"
     ]
    }
   ],
   "source": [
    "import pandas as pd\n",
    "import numpy as np"
   ]
  },
  {
   "cell_type": "markdown",
   "metadata": {},
   "source": [
    "### next click - user"
   ]
  },
  {
   "cell_type": "code",
   "execution_count": 3,
   "metadata": {},
   "outputs": [],
   "source": [
    "def next_click(data):\n",
    "    data['click_time'] = data['click_time'].astype(np.int64) // 10 ** 9\n",
    "    data = data.sort_values(by=['ip','app','device','os','click_time'])\n",
    "    data['next_time'] = data.groupby(['ip','app','device','os'])['click_time'].shift(-1)\n",
    "    data['next_click'] = data['next_time'] - data['click_time']\n",
    "    data['next_click'] = data['next_click'].fillna(-1.)\n",
    "    return data[['click_id','next_click']]"
   ]
  },
  {
   "cell_type": "code",
   "execution_count": 4,
   "metadata": {},
   "outputs": [],
   "source": [
    "dtypes = {}\n",
    "dtypes['ip'] = 'uint32'\n",
    "dtypes['app'] = 'uint16'\n",
    "dtypes['device'] = 'uint16'\n",
    "dtypes['os'] = 'uint16'\n",
    "usecols = list(dtypes.keys()) + ['click_time'] \n",
    "train_data = pd.read_csv('../data/download/train.csv', dtype=dtypes, usecols=usecols)\n",
    "train_data['click_time'] = pd.to_datetime(train_data['click_time'])\n",
    "train_data['click_id'] = train_data.index * -1\n",
    "train_data = train_data[['click_id','ip','app','os','device','click_time']]"
   ]
  },
  {
   "cell_type": "code",
   "execution_count": 5,
   "metadata": {},
   "outputs": [],
   "source": [
    "dtypes = {}\n",
    "dtypes['ip'] = 'uint32'\n",
    "dtypes['app'] = 'uint16'\n",
    "dtypes['device'] = 'uint16'\n",
    "dtypes['os'] = 'uint16'\n",
    "usecols = list(dtypes.keys()) + ['click_time']\n",
    "test_data = pd.read_csv('../data/download/test_supplement.csv', dtype=dtypes, usecols=usecols)\n",
    "test_data['click_time'] = pd.to_datetime(test_data['click_time'])\n",
    "test_data['click_id'] = test_data.index\n",
    "test_data = test_data[['click_id','ip','app','os','device','click_time']]"
   ]
  },
  {
   "cell_type": "code",
   "execution_count": 6,
   "metadata": {},
   "outputs": [],
   "source": [
    "mapping = pd.read_feather('../data/data/files/mapping.feather')"
   ]
  },
  {
   "cell_type": "code",
   "execution_count": 7,
   "metadata": {},
   "outputs": [],
   "source": [
    "data = train_data.append(test_data)\n",
    "del train_data, test_data"
   ]
  },
  {
   "cell_type": "code",
   "execution_count": 8,
   "metadata": {},
   "outputs": [],
   "source": [
    "feature = next_click(data)"
   ]
  },
  {
   "cell_type": "code",
   "execution_count": 9,
   "metadata": {},
   "outputs": [],
   "source": [
    "feature_train = feature[feature['click_id'] < 0].copy()\n",
    "feature_train['click_id'] = feature_train['click_id'] * -1\n",
    "feature_train['click_id'] = feature_train['click_id'].astype('uint32')\n",
    "feature_train = feature_train.reset_index(drop=True)\n",
    "feature_train = feature_train[['click_id', 'next_click']]\n",
    "feature_train.to_feather('../data/data/features/next_click/next_click_train.feather')"
   ]
  },
  {
   "cell_type": "code",
   "execution_count": 10,
   "metadata": {},
   "outputs": [],
   "source": [
    "feature_test = feature[feature['click_id'] > 0].iloc[1:,:].copy()\n",
    "feature_test = feature_test.rename(columns={'click_id':'old_id'})\n",
    "feature_test = feature_test.merge(mapping, on='old_id').drop('old_id', axis=1)\n",
    "feature_test = feature_test[['click_id', 'next_click']]\n",
    "feature_test = feature_test.reset_index(drop=True)\n",
    "feature_test.to_feather('../data/data/features/next_click/next_click_test.feather')"
   ]
  },
  {
   "cell_type": "markdown",
   "metadata": {},
   "source": [
    "### next click - ip, app"
   ]
  },
  {
   "cell_type": "code",
   "execution_count": 1,
   "metadata": {},
   "outputs": [],
   "source": [
    "def next_click(data):\n",
    "    data['click_time'] = data['click_time'].astype(np.int64) // 10 ** 9\n",
    "    data = data.sort_values(by=['ip','app','click_time'])\n",
    "    data['next_time'] = data.groupby(['ip','app'])['click_time'].shift(-1)\n",
    "    data['next_click'] = data['next_time'] - data['click_time']\n",
    "    data['next_click'] = data['next_click'].fillna(-1.)\n",
    "    return data[['click_id','next_click']]"
   ]
  },
  {
   "cell_type": "code",
   "execution_count": 3,
   "metadata": {},
   "outputs": [],
   "source": [
    "dtypes = {}\n",
    "dtypes['ip'] = 'uint32'\n",
    "dtypes['app'] = 'uint16'\n",
    "usecols = list(dtypes.keys()) + ['click_time'] \n",
    "train_data = pd.read_csv('../data/download/train.csv', dtype=dtypes, usecols=usecols)\n",
    "train_data['click_time'] = pd.to_datetime(train_data['click_time'])\n",
    "train_data['click_id'] = train_data.index * -1\n",
    "train_data = train_data[['click_id','ip','app','click_time']]"
   ]
  },
  {
   "cell_type": "code",
   "execution_count": 4,
   "metadata": {},
   "outputs": [],
   "source": [
    "dtypes = {}\n",
    "dtypes['ip'] = 'uint32'\n",
    "dtypes['app'] = 'uint16'\n",
    "usecols = list(dtypes.keys()) + ['click_time']\n",
    "test_data = pd.read_csv('../data/download/test_supplement.csv', dtype=dtypes, usecols=usecols)\n",
    "test_data['click_time'] = pd.to_datetime(test_data['click_time'])\n",
    "test_data['click_id'] = test_data.index\n",
    "test_data = test_data[['click_id','ip','app','click_time']]"
   ]
  },
  {
   "cell_type": "code",
   "execution_count": 5,
   "metadata": {},
   "outputs": [],
   "source": [
    "mapping = pd.read_feather('../data/data/files/mapping.feather')"
   ]
  },
  {
   "cell_type": "code",
   "execution_count": 6,
   "metadata": {},
   "outputs": [],
   "source": [
    "data = train_data.append(test_data)\n",
    "del train_data, test_data"
   ]
  },
  {
   "cell_type": "code",
   "execution_count": 7,
   "metadata": {},
   "outputs": [],
   "source": [
    "feature = next_click(data)"
   ]
  },
  {
   "cell_type": "code",
   "execution_count": 9,
   "metadata": {},
   "outputs": [],
   "source": [
    "feature = feature.rename(columns={'next_click':'next_click_1'})"
   ]
  },
  {
   "cell_type": "code",
   "execution_count": 10,
   "metadata": {},
   "outputs": [],
   "source": [
    "feature_train = feature[feature['click_id'] < 0].copy()\n",
    "feature_train['click_id'] = feature_train['click_id'] * -1\n",
    "feature_train['click_id'] = feature_train['click_id'].astype('uint32')\n",
    "feature_train = feature_train.reset_index(drop=True)\n",
    "feature_train = feature_train[['click_id', 'next_click_1']]\n",
    "feature_train.to_feather('../data/data/features/next_click/next_click_train_1.feather')"
   ]
  },
  {
   "cell_type": "code",
   "execution_count": 11,
   "metadata": {},
   "outputs": [],
   "source": [
    "feature_test = feature[feature['click_id'] > 0].iloc[1:,:].copy()\n",
    "feature_test = feature_test.rename(columns={'click_id':'old_id'})\n",
    "feature_test = feature_test.merge(mapping, on='old_id').drop('old_id', axis=1)\n",
    "feature_test = feature_test[['click_id', 'next_click_1']]\n",
    "feature_test = feature_test.reset_index(drop=True)\n",
    "feature_test.to_feather('../data/data/features/next_click/next_click_test_1.feather')"
   ]
  },
  {
   "cell_type": "code",
   "execution_count": null,
   "metadata": {},
   "outputs": [],
   "source": []
  }
 ],
 "metadata": {
  "kernelspec": {
   "display_name": "Environment (conda_python3)",
   "language": "python",
   "name": "conda_python3"
  },
  "language_info": {
   "codemirror_mode": {
    "name": "ipython",
    "version": 3
   },
   "file_extension": ".py",
   "mimetype": "text/x-python",
   "name": "python",
   "nbconvert_exporter": "python",
   "pygments_lexer": "ipython3",
   "version": "3.6.4"
  }
 },
 "nbformat": 4,
 "nbformat_minor": 2
}
