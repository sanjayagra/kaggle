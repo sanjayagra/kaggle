{
 "cells": [
  {
   "cell_type": "code",
   "execution_count": 12,
   "metadata": {},
   "outputs": [],
   "source": [
    "import pandas as pd\n",
    "import numpy as np\n",
    "import re"
   ]
  },
  {
   "cell_type": "markdown",
   "metadata": {},
   "source": [
    "### cross-validation"
   ]
  },
  {
   "cell_type": "code",
   "execution_count": 13,
   "metadata": {},
   "outputs": [],
   "source": [
    "rnn_1 = pd.read_csv('../data/model/simple_stack.csv')\n",
    "rnn_2 = pd.read_csv('../data/model/simple_stack_1.csv')\n",
    "rnn_3 = pd.read_csv('../data/other/model/simple_stack.csv')\n",
    "rnn = rnn_1.append(rnn_2).append(rnn_3)\n",
    "rnn = rnn.groupby('id').mean().reset_index()\n",
    "rnn.columns = ['id'] + ['rnn_' + x for x in rnn.columns[1:]]\n",
    "nbsvm = pd.read_csv('../data/model/nbsvm.csv')\n",
    "nbsvm.columns = ['id'] + ['nbsvm_' + x for x in nbsvm.columns[1:]]\n",
    "logreg = pd.read_csv('../data/model/ftrl.csv')\n",
    "logreg.columns = ['id'] + ['logreg_' + x for x in logreg.columns[1:]]\n",
    "ftrl = pd.read_csv('../data/other/model/word-batch-oof.csv')\n",
    "feats = ['id'] + [x for x in ftrl.columns if 'oof' in x]\n",
    "ftrl = ftrl[feats]\n",
    "ftrl.columns = ['id'] + ['ftrl_' + x for x in rnn_1.columns[1:]]"
   ]
  },
  {
   "cell_type": "code",
   "execution_count": 14,
   "metadata": {},
   "outputs": [
    {
     "data": {
      "text/plain": [
       "(143614, 25)"
      ]
     },
     "execution_count": 14,
     "metadata": {},
     "output_type": "execute_result"
    }
   ],
   "source": [
    "stack = rnn.merge(nbsvm, on='id').merge(logreg, on='id').merge(ftrl, on='id')\n",
    "stack.shape"
   ]
  },
  {
   "cell_type": "code",
   "execution_count": 15,
   "metadata": {},
   "outputs": [],
   "source": [
    "stack.to_csv('../data/train_stack_scores.csv', index=False)"
   ]
  },
  {
   "cell_type": "code",
   "execution_count": 16,
   "metadata": {},
   "outputs": [
    {
     "data": {
      "text/html": [
       "<div>\n",
       "<style scoped>\n",
       "    .dataframe tbody tr th:only-of-type {\n",
       "        vertical-align: middle;\n",
       "    }\n",
       "\n",
       "    .dataframe tbody tr th {\n",
       "        vertical-align: top;\n",
       "    }\n",
       "\n",
       "    .dataframe thead th {\n",
       "        text-align: right;\n",
       "    }\n",
       "</style>\n",
       "<table border=\"1\" class=\"dataframe\">\n",
       "  <thead>\n",
       "    <tr style=\"text-align: right;\">\n",
       "      <th></th>\n",
       "      <th>rnn_obscene</th>\n",
       "      <th>nbsvm_obscene</th>\n",
       "      <th>logreg_obscene</th>\n",
       "      <th>ftrl_obscene</th>\n",
       "    </tr>\n",
       "  </thead>\n",
       "  <tbody>\n",
       "    <tr>\n",
       "      <th>rnn_obscene</th>\n",
       "      <td>1.00000</td>\n",
       "      <td>0.941700</td>\n",
       "      <td>0.922380</td>\n",
       "      <td>0.916050</td>\n",
       "    </tr>\n",
       "    <tr>\n",
       "      <th>nbsvm_obscene</th>\n",
       "      <td>0.94170</td>\n",
       "      <td>1.000000</td>\n",
       "      <td>0.947289</td>\n",
       "      <td>0.905241</td>\n",
       "    </tr>\n",
       "    <tr>\n",
       "      <th>logreg_obscene</th>\n",
       "      <td>0.92238</td>\n",
       "      <td>0.947289</td>\n",
       "      <td>1.000000</td>\n",
       "      <td>0.937952</td>\n",
       "    </tr>\n",
       "    <tr>\n",
       "      <th>ftrl_obscene</th>\n",
       "      <td>0.91605</td>\n",
       "      <td>0.905241</td>\n",
       "      <td>0.937952</td>\n",
       "      <td>1.000000</td>\n",
       "    </tr>\n",
       "  </tbody>\n",
       "</table>\n",
       "</div>"
      ],
      "text/plain": [
       "                rnn_obscene  nbsvm_obscene  logreg_obscene  ftrl_obscene\n",
       "rnn_obscene         1.00000       0.941700        0.922380      0.916050\n",
       "nbsvm_obscene       0.94170       1.000000        0.947289      0.905241\n",
       "logreg_obscene      0.92238       0.947289        1.000000      0.937952\n",
       "ftrl_obscene        0.91605       0.905241        0.937952      1.000000"
      ]
     },
     "execution_count": 16,
     "metadata": {},
     "output_type": "execute_result"
    }
   ],
   "source": [
    "stack[[x for x in stack.columns if 'obscene' in x]].corr()"
   ]
  },
  {
   "cell_type": "markdown",
   "metadata": {},
   "source": [
    "### scoring"
   ]
  },
  {
   "cell_type": "code",
   "execution_count": 17,
   "metadata": {},
   "outputs": [],
   "source": [
    "rnn_1 = pd.read_csv('../data/submit/simple_stack.csv')\n",
    "rnn_2 = pd.read_csv('../data/submit/simple_stack_1.csv')\n",
    "rnn_3 = pd.read_csv('../data/other/submit/simple_stack.csv')\n",
    "rnn = rnn_1.append(rnn_2).append(rnn_3)\n",
    "rnn = rnn.groupby('id').mean().reset_index()\n",
    "rnn.columns = ['id'] + ['rnn_' + x for x in rnn.columns[1:]]\n",
    "nbsvm = pd.read_csv('../data/submit/nbsvm.csv')\n",
    "nbsvm.columns = ['id'] + ['nbsvm_' + x for x in nbsvm.columns[1:]]\n",
    "logreg = pd.read_csv('../data/submit/ftrl.csv')\n",
    "logreg.columns = ['id'] + ['logreg_' + x for x in logreg.columns[1:]]\n",
    "ftrl = pd.read_csv('../data/other/submit/word-batch.csv')\n",
    "ftrl.columns = ['id'] + ['ftrl_' + x for x in rnn_1.columns[1:]]"
   ]
  },
  {
   "cell_type": "code",
   "execution_count": 18,
   "metadata": {},
   "outputs": [
    {
     "data": {
      "text/plain": [
       "(153164, 25)"
      ]
     },
     "execution_count": 18,
     "metadata": {},
     "output_type": "execute_result"
    }
   ],
   "source": [
    "stack = rnn.merge(nbsvm, on='id').merge(logreg, on='id').merge(ftrl, on='id')\n",
    "stack.shape"
   ]
  },
  {
   "cell_type": "code",
   "execution_count": 19,
   "metadata": {},
   "outputs": [],
   "source": [
    "stack.to_csv('../data/test_stack_scores.csv', index=False)"
   ]
  },
  {
   "cell_type": "code",
   "execution_count": 20,
   "metadata": {},
   "outputs": [
    {
     "data": {
      "text/html": [
       "<div>\n",
       "<style scoped>\n",
       "    .dataframe tbody tr th:only-of-type {\n",
       "        vertical-align: middle;\n",
       "    }\n",
       "\n",
       "    .dataframe tbody tr th {\n",
       "        vertical-align: top;\n",
       "    }\n",
       "\n",
       "    .dataframe thead th {\n",
       "        text-align: right;\n",
       "    }\n",
       "</style>\n",
       "<table border=\"1\" class=\"dataframe\">\n",
       "  <thead>\n",
       "    <tr style=\"text-align: right;\">\n",
       "      <th></th>\n",
       "      <th>rnn_obscene</th>\n",
       "      <th>nbsvm_obscene</th>\n",
       "      <th>logreg_obscene</th>\n",
       "      <th>ftrl_obscene</th>\n",
       "    </tr>\n",
       "  </thead>\n",
       "  <tbody>\n",
       "    <tr>\n",
       "      <th>rnn_obscene</th>\n",
       "      <td>1.000000</td>\n",
       "      <td>0.919936</td>\n",
       "      <td>0.897784</td>\n",
       "      <td>0.911961</td>\n",
       "    </tr>\n",
       "    <tr>\n",
       "      <th>nbsvm_obscene</th>\n",
       "      <td>0.919936</td>\n",
       "      <td>1.000000</td>\n",
       "      <td>0.930294</td>\n",
       "      <td>0.896169</td>\n",
       "    </tr>\n",
       "    <tr>\n",
       "      <th>logreg_obscene</th>\n",
       "      <td>0.897784</td>\n",
       "      <td>0.930294</td>\n",
       "      <td>1.000000</td>\n",
       "      <td>0.931131</td>\n",
       "    </tr>\n",
       "    <tr>\n",
       "      <th>ftrl_obscene</th>\n",
       "      <td>0.911961</td>\n",
       "      <td>0.896169</td>\n",
       "      <td>0.931131</td>\n",
       "      <td>1.000000</td>\n",
       "    </tr>\n",
       "  </tbody>\n",
       "</table>\n",
       "</div>"
      ],
      "text/plain": [
       "                rnn_obscene  nbsvm_obscene  logreg_obscene  ftrl_obscene\n",
       "rnn_obscene        1.000000       0.919936        0.897784      0.911961\n",
       "nbsvm_obscene      0.919936       1.000000        0.930294      0.896169\n",
       "logreg_obscene     0.897784       0.930294        1.000000      0.931131\n",
       "ftrl_obscene       0.911961       0.896169        0.931131      1.000000"
      ]
     },
     "execution_count": 20,
     "metadata": {},
     "output_type": "execute_result"
    }
   ],
   "source": [
    "stack[[x for x in stack.columns if 'obscene' in x]].corr()"
   ]
  },
  {
   "cell_type": "code",
   "execution_count": null,
   "metadata": {},
   "outputs": [],
   "source": []
  }
 ],
 "metadata": {
  "kernelspec": {
   "display_name": "Python 3",
   "language": "python",
   "name": "python3"
  },
  "language_info": {
   "codemirror_mode": {
    "name": "ipython",
    "version": 3
   },
   "file_extension": ".py",
   "mimetype": "text/x-python",
   "name": "python",
   "nbconvert_exporter": "python",
   "pygments_lexer": "ipython3",
   "version": "3.6.3"
  }
 },
 "nbformat": 4,
 "nbformat_minor": 2
}
