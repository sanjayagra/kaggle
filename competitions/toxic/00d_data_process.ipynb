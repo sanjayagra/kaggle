{
 "cells": [
  {
   "cell_type": "code",
   "execution_count": 2,
   "metadata": {},
   "outputs": [],
   "source": [
    "import pandas as pd\n",
    "import numpy as np\n",
    "import re\n",
    "import string\n",
    "from sklearn.model_selection import KFold"
   ]
  },
  {
   "cell_type": "markdown",
   "metadata": {},
   "source": [
    "### source - 1"
   ]
  },
  {
   "cell_type": "code",
   "execution_count": 2,
   "metadata": {},
   "outputs": [],
   "source": [
    "def clean_text(text):\n",
    "    text = text.lower()\n",
    "    ipaddress = re.findall( r'[0-9]+(?:\\.[0-9]+){3}', text)\n",
    "    for ip in ipaddress:\n",
    "        text = text.replace(ip,' ')\n",
    "    text = text.replace('\\n', ' ')\n",
    "    text = re.sub(r'\\w+:\\/{2}[\\d\\w-]+(\\.[\\d\\w-]+)*(?:(?:\\/[^\\s/]*))*', ' ', text)\n",
    "    text = re.sub('[^A-Za-z0-9]+', ' ', text)\n",
    "    text = re.sub('\\s+', ' ', text)\n",
    "    return text.strip().lower()"
   ]
  },
  {
   "cell_type": "code",
   "execution_count": 3,
   "metadata": {},
   "outputs": [],
   "source": [
    "labels = ['id','toxic','severe_toxic','obscene','threat','insult','identity_hate']\n",
    "text = ['id','comment_text']\n",
    "\n",
    "train_data = pd.read_csv('../data/download/train.csv').fillna('nan')\n",
    "train_data['comment_text'] = train_data['comment_text'].map(lambda x : clean_text(x))\n",
    "\n",
    "test_data = pd.read_csv('../data/download/test.csv').fillna('nan')\n",
    "test_data['comment_text'] = test_data['comment_text'].map(lambda x : clean_text(x))"
   ]
  },
  {
   "cell_type": "code",
   "execution_count": 4,
   "metadata": {},
   "outputs": [
    {
     "name": "stdout",
     "output_type": "stream",
     "text": [
      "train data: (143613, 2) (143613, 7)\n",
      "test data: (15958, 2) (15958, 7)\n",
      "train data: (143614, 2) (143614, 7)\n",
      "test data: (15957, 2) (15957, 7)\n",
      "train data: (143614, 2) (143614, 7)\n",
      "test data: (15957, 2) (15957, 7)\n",
      "train data: (143614, 2) (143614, 7)\n",
      "test data: (15957, 2) (15957, 7)\n",
      "train data: (143614, 2) (143614, 7)\n",
      "test data: (15957, 2) (15957, 7)\n",
      "train data: (143614, 2) (143614, 7)\n",
      "test data: (15957, 2) (15957, 7)\n",
      "train data: (143614, 2) (143614, 7)\n",
      "test data: (15957, 2) (15957, 7)\n",
      "train data: (143614, 2) (143614, 7)\n",
      "test data: (15957, 2) (15957, 7)\n",
      "train data: (143614, 2) (143614, 7)\n",
      "test data: (15957, 2) (15957, 7)\n",
      "train data: (143614, 2) (143614, 7)\n",
      "test data: (15957, 2) (15957, 7)\n",
      "test data: (153164, 2)\n"
     ]
    }
   ],
   "source": [
    "comments = train_data['id'].unique()\n",
    "folds = KFold(n_splits=10, shuffle=True, random_state=2017)\n",
    "fold = 1\n",
    "source = 'source_1'\n",
    "\n",
    "for train_idx, test_idx in folds.split(comments):\n",
    "    train_idx = comments[train_idx]\n",
    "    test_idx = comments[test_idx]\n",
    "    X_train = train_data[train_data['id'].isin(train_idx)][text]\n",
    "    y_train = train_data[train_data['id'].isin(train_idx)][labels]\n",
    "    X_test = train_data[train_data['id'].isin(test_idx)][text]\n",
    "    y_test = train_data[train_data['id'].isin(test_idx)][labels]\n",
    "    print('train data:', X_train.shape, y_train.shape)\n",
    "    print('test data:', X_test.shape, y_test.shape)\n",
    "    path = '../data/data/{}/train/'.format(source)\n",
    "    X_train.to_csv(path + 'train_data_{}.csv'.format(fold), index=False)\n",
    "    y_train.to_csv(path + 'train_labels_{}.csv'.format(fold), index=False)\n",
    "    X_test.to_csv(path + 'test_data_{}.csv'.format(fold), index=False)\n",
    "    y_test.to_csv(path + 'test_labels_{}.csv'.format(fold), index=False)\n",
    "    fold += 1\n",
    "\n",
    "source = 'source_1'\n",
    "path = '../data/data/{}/score/'.format(source)\n",
    "test_data.to_csv(path + 'score_data.csv', index=False)\n",
    "print('test data:', test_data.shape)"
   ]
  },
  {
   "cell_type": "markdown",
   "metadata": {},
   "source": [
    "### source - 2"
   ]
  },
  {
   "cell_type": "code",
   "execution_count": 5,
   "metadata": {},
   "outputs": [],
   "source": [
    "def clean_text(text):\n",
    "    ipaddress = re.findall( r'[0-9]+(?:\\.[0-9]+){3}', text)\n",
    "    for ip in ipaddress:\n",
    "        text = text.replace(ip,' ')\n",
    "    text = text.replace('\\n', ' ')\n",
    "    text = re.sub(r'\\w+:\\/{2}[\\d\\w-]+(\\.[\\d\\w-]+)*(?:(?:\\/[^\\s/]*))*', ' ', text)\n",
    "    text = re.sub('[^A-Za-z0-9]+', ' ', text)\n",
    "    text = re.sub('\\s+', ' ', text)\n",
    "    return text.strip()"
   ]
  },
  {
   "cell_type": "code",
   "execution_count": 6,
   "metadata": {},
   "outputs": [],
   "source": [
    "labels = ['id','toxic','severe_toxic','obscene','threat','insult','identity_hate']\n",
    "text = ['id','comment_text']\n",
    "\n",
    "train_data = pd.read_csv('../data/download/train.csv').fillna('nan')\n",
    "train_data['comment_text'] = train_data['comment_text'].map(lambda x : clean_text(x))\n",
    "\n",
    "test_data = pd.read_csv('../data/download/test.csv').fillna('nan')\n",
    "test_data['comment_text'] = test_data['comment_text'].map(lambda x : clean_text(x))"
   ]
  },
  {
   "cell_type": "code",
   "execution_count": 7,
   "metadata": {},
   "outputs": [
    {
     "name": "stdout",
     "output_type": "stream",
     "text": [
      "train data: (143613, 2) (143613, 7)\n",
      "test data: (15958, 2) (15958, 7)\n",
      "train data: (143614, 2) (143614, 7)\n",
      "test data: (15957, 2) (15957, 7)\n",
      "train data: (143614, 2) (143614, 7)\n",
      "test data: (15957, 2) (15957, 7)\n",
      "train data: (143614, 2) (143614, 7)\n",
      "test data: (15957, 2) (15957, 7)\n",
      "train data: (143614, 2) (143614, 7)\n",
      "test data: (15957, 2) (15957, 7)\n",
      "train data: (143614, 2) (143614, 7)\n",
      "test data: (15957, 2) (15957, 7)\n",
      "train data: (143614, 2) (143614, 7)\n",
      "test data: (15957, 2) (15957, 7)\n",
      "train data: (143614, 2) (143614, 7)\n",
      "test data: (15957, 2) (15957, 7)\n",
      "train data: (143614, 2) (143614, 7)\n",
      "test data: (15957, 2) (15957, 7)\n",
      "train data: (143614, 2) (143614, 7)\n",
      "test data: (15957, 2) (15957, 7)\n",
      "test data: (153164, 2)\n"
     ]
    }
   ],
   "source": [
    "comments = train_data['id'].unique()\n",
    "folds = KFold(n_splits=10, shuffle=True, random_state=2017)\n",
    "fold = 1\n",
    "source = 'source_2'\n",
    "\n",
    "for train_idx, test_idx in folds.split(comments):\n",
    "    train_idx = comments[train_idx]\n",
    "    test_idx = comments[test_idx]\n",
    "    X_train = train_data[train_data['id'].isin(train_idx)][text]\n",
    "    y_train = train_data[train_data['id'].isin(train_idx)][labels]\n",
    "    X_test = train_data[train_data['id'].isin(test_idx)][text]\n",
    "    y_test = train_data[train_data['id'].isin(test_idx)][labels]\n",
    "    print('train data:', X_train.shape, y_train.shape)\n",
    "    print('test data:', X_test.shape, y_test.shape)\n",
    "    path = '../data/data/{}/train/'.format(source)\n",
    "    X_train.to_csv(path + 'train_data_{}.csv'.format(fold), index=False)\n",
    "    y_train.to_csv(path + 'train_labels_{}.csv'.format(fold), index=False)\n",
    "    X_test.to_csv(path + 'test_data_{}.csv'.format(fold), index=False)\n",
    "    y_test.to_csv(path + 'test_labels_{}.csv'.format(fold), index=False)\n",
    "    fold += 1\n",
    "\n",
    "source = 'source_2'\n",
    "path = '../data/data/{}/score/'.format(source)\n",
    "test_data.to_csv(path + 'score_data.csv', index=False)\n",
    "print('test data:', test_data.shape)"
   ]
  },
  {
   "cell_type": "markdown",
   "metadata": {},
   "source": [
    "### source - 3"
   ]
  },
  {
   "cell_type": "code",
   "execution_count": 22,
   "metadata": {},
   "outputs": [],
   "source": [
    "import regex as re"
   ]
  },
  {
   "cell_type": "code",
   "execution_count": 23,
   "metadata": {},
   "outputs": [],
   "source": [
    "FLAGS = re.MULTILINE | re.DOTALL\n",
    "\n",
    "def hashtag(text):\n",
    "    text = text.group()\n",
    "    hashtag_body = text[1:]\n",
    "    if hashtag_body.isupper():\n",
    "        result = \"<hashtag> {} <allcaps>\".format(hashtag_body)\n",
    "    else:\n",
    "        result = \" \".join([\"<hashtag>\"] + re.split(r\"(?=[A-Z])\", hashtag_body, flags=FLAGS))\n",
    "    return result\n",
    "\n",
    "def allcaps(text):\n",
    "    text = text.group()\n",
    "    return text.lower() + \" <allcaps> \"\n",
    "\n",
    "def tokenize(text):\n",
    "    eyes = r\"[8:=;]\"\n",
    "    nose = r\"['`\\-]?\"\n",
    "    def re_sub(pattern, repl):\n",
    "        return re.sub(pattern, repl, text, flags=FLAGS)\n",
    "    text = re_sub(r\"https?:\\/\\/\\S+\\b|www\\.(\\w+\\.)+\\S*\", \"<url>\")\n",
    "    text = re_sub(r\"/\",\" / \")\n",
    "    text = re_sub(r\"@\\w+\", \"<user>\")\n",
    "    text = re_sub(r\"{}{}[)dD]+|[)dD]+{}{}\".format(eyes, nose, nose, eyes), \"<smile>\")\n",
    "    text = re_sub(r\"{}{}p+\".format(eyes, nose), \"<lolface>\")\n",
    "    text = re_sub(r\"{}{}\\(+|\\)+{}{}\".format(eyes, nose, nose, eyes), \"<sadface>\")\n",
    "    text = re_sub(r\"{}{}[\\/|l*]\".format(eyes, nose), \"<neutralface>\")\n",
    "    text = re_sub(r\"<3\",\"<heart>\")\n",
    "    text = re_sub(r\"[-+]?[.\\d]*[\\d]+[:,.\\d]*\", \"<number>\")\n",
    "    text = re_sub(r\"#\\S+\", hashtag)\n",
    "    text = re_sub(r\"([!?.]){2,}\", r\"\\1 <repeat>\")\n",
    "    text = re_sub(r\"\\b(\\S*?)(.)\\2{2,}\\b\", r\"\\1\\2 <elong>\")\n",
    "    text = re_sub(r\"([A-Z]){2,}\", allcaps)\n",
    "    punct = re.compile('[%s]' % re.escape(string.punctuation.replace('<','').replace('>','')))\n",
    "    text = punct.sub(' ', text)\n",
    "    text = re.sub('\\s+', ' ', text)\n",
    "    return text.lower()"
   ]
  },
  {
   "cell_type": "code",
   "execution_count": 24,
   "metadata": {},
   "outputs": [],
   "source": [
    "labels = ['id','toxic','severe_toxic','obscene','threat','insult','identity_hate']\n",
    "text = ['id','comment_text']\n",
    "\n",
    "train_data = pd.read_csv('../data/download/train.csv').fillna('nan')\n",
    "train_data['comment_text'] = train_data['comment_text'].map(lambda x : tokenize(x))\n",
    "\n",
    "test_data = pd.read_csv('../data/download/test.csv').fillna('nan')\n",
    "test_data['comment_text'] = test_data['comment_text'].map(lambda x : tokenize(x))"
   ]
  },
  {
   "cell_type": "code",
   "execution_count": 25,
   "metadata": {},
   "outputs": [
    {
     "name": "stdout",
     "output_type": "stream",
     "text": [
      "train data: (143613, 2) (143613, 7)\n",
      "test data: (15958, 2) (15958, 7)\n",
      "train data: (143614, 2) (143614, 7)\n",
      "test data: (15957, 2) (15957, 7)\n",
      "train data: (143614, 2) (143614, 7)\n",
      "test data: (15957, 2) (15957, 7)\n",
      "train data: (143614, 2) (143614, 7)\n",
      "test data: (15957, 2) (15957, 7)\n",
      "train data: (143614, 2) (143614, 7)\n",
      "test data: (15957, 2) (15957, 7)\n",
      "train data: (143614, 2) (143614, 7)\n",
      "test data: (15957, 2) (15957, 7)\n",
      "train data: (143614, 2) (143614, 7)\n",
      "test data: (15957, 2) (15957, 7)\n",
      "train data: (143614, 2) (143614, 7)\n",
      "test data: (15957, 2) (15957, 7)\n",
      "train data: (143614, 2) (143614, 7)\n",
      "test data: (15957, 2) (15957, 7)\n",
      "train data: (143614, 2) (143614, 7)\n",
      "test data: (15957, 2) (15957, 7)\n",
      "test data: (153164, 2)\n"
     ]
    }
   ],
   "source": [
    "comments = train_data['id'].unique()\n",
    "folds = KFold(n_splits=10, shuffle=True, random_state=2017)\n",
    "fold = 1\n",
    "source = 'source_3'\n",
    "\n",
    "for train_idx, test_idx in folds.split(comments):\n",
    "    train_idx = comments[train_idx]\n",
    "    test_idx = comments[test_idx]\n",
    "    X_train = train_data[train_data['id'].isin(train_idx)][text]\n",
    "    y_train = train_data[train_data['id'].isin(train_idx)][labels]\n",
    "    X_test = train_data[train_data['id'].isin(test_idx)][text]\n",
    "    y_test = train_data[train_data['id'].isin(test_idx)][labels]\n",
    "    print('train data:', X_train.shape, y_train.shape)\n",
    "    print('test data:', X_test.shape, y_test.shape)\n",
    "    path = '../data/data/{}/train/'.format(source)\n",
    "    X_train.to_csv(path + 'train_data_{}.csv'.format(fold), index=False)\n",
    "    y_train.to_csv(path + 'train_labels_{}.csv'.format(fold), index=False)\n",
    "    X_test.to_csv(path + 'test_data_{}.csv'.format(fold), index=False)\n",
    "    y_test.to_csv(path + 'test_labels_{}.csv'.format(fold), index=False)\n",
    "    fold += 1\n",
    "\n",
    "source = 'source_3'\n",
    "path = '../data/data/{}/score/'.format(source)\n",
    "test_data.to_csv(path + 'score_data.csv', index=False)\n",
    "print('test data:', test_data.shape)"
   ]
  },
  {
   "cell_type": "markdown",
   "metadata": {},
   "source": [
    "### source - 4"
   ]
  },
  {
   "cell_type": "code",
   "execution_count": 2,
   "metadata": {},
   "outputs": [],
   "source": [
    "import nltk\n",
    "\n",
    "def clean_text(text):\n",
    "    ipaddress = re.findall( r'[0-9]+(?:\\.[0-9]+){3}', text)\n",
    "    for ip in ipaddress:\n",
    "        text = text.replace(ip,' ')\n",
    "    text = text.replace('\\n', ' ')\n",
    "    text = re.sub(r'\\w+:\\/{2}[\\d\\w-]+(\\.[\\d\\w-]+)*(?:(?:\\/[^\\s/]*))*', ' ', text)\n",
    "    text = re.sub('\\s+', ' ', text)\n",
    "    text = nltk.word_tokenize(text)\n",
    "    return ' '.join([x.strip() for x in text])"
   ]
  },
  {
   "cell_type": "code",
   "execution_count": 5,
   "metadata": {},
   "outputs": [],
   "source": [
    "labels = ['id','toxic','severe_toxic','obscene','threat','insult','identity_hate']\n",
    "text = ['id','comment_text']\n",
    "\n",
    "train_data = pd.read_csv('../data/download/train.csv').fillna('nan')\n",
    "train_data['comment_text'] = train_data['comment_text'].map(lambda x : clean_text(x))\n",
    "\n",
    "test_data = pd.read_csv('../data/download/test.csv').fillna('nan')\n",
    "test_data['comment_text'] = test_data['comment_text'].map(lambda x : clean_text(x))"
   ]
  },
  {
   "cell_type": "code",
   "execution_count": 6,
   "metadata": {},
   "outputs": [
    {
     "name": "stdout",
     "output_type": "stream",
     "text": [
      "train data: (143613, 2) (143613, 7)\n",
      "test data: (15958, 2) (15958, 7)\n",
      "train data: (143614, 2) (143614, 7)\n",
      "test data: (15957, 2) (15957, 7)\n",
      "train data: (143614, 2) (143614, 7)\n",
      "test data: (15957, 2) (15957, 7)\n",
      "train data: (143614, 2) (143614, 7)\n",
      "test data: (15957, 2) (15957, 7)\n",
      "train data: (143614, 2) (143614, 7)\n",
      "test data: (15957, 2) (15957, 7)\n",
      "train data: (143614, 2) (143614, 7)\n",
      "test data: (15957, 2) (15957, 7)\n",
      "train data: (143614, 2) (143614, 7)\n",
      "test data: (15957, 2) (15957, 7)\n",
      "train data: (143614, 2) (143614, 7)\n",
      "test data: (15957, 2) (15957, 7)\n",
      "train data: (143614, 2) (143614, 7)\n",
      "test data: (15957, 2) (15957, 7)\n",
      "train data: (143614, 2) (143614, 7)\n",
      "test data: (15957, 2) (15957, 7)\n",
      "test data: (153164, 2)\n"
     ]
    }
   ],
   "source": [
    "comments = train_data['id'].unique()\n",
    "folds = KFold(n_splits=10, shuffle=True, random_state=2017)\n",
    "fold = 1\n",
    "source = 'source_4'\n",
    "\n",
    "for train_idx, test_idx in folds.split(comments):\n",
    "    train_idx = comments[train_idx]\n",
    "    test_idx = comments[test_idx]\n",
    "    X_train = train_data[train_data['id'].isin(train_idx)][text]\n",
    "    y_train = train_data[train_data['id'].isin(train_idx)][labels]\n",
    "    X_test = train_data[train_data['id'].isin(test_idx)][text]\n",
    "    y_test = train_data[train_data['id'].isin(test_idx)][labels]\n",
    "    print('train data:', X_train.shape, y_train.shape)\n",
    "    print('test data:', X_test.shape, y_test.shape)\n",
    "    path = '../data/data/{}/train/'.format(source)\n",
    "    X_train.to_csv(path + 'train_data_{}.csv'.format(fold), index=False)\n",
    "    y_train.to_csv(path + 'train_labels_{}.csv'.format(fold), index=False)\n",
    "    X_test.to_csv(path + 'test_data_{}.csv'.format(fold), index=False)\n",
    "    y_test.to_csv(path + 'test_labels_{}.csv'.format(fold), index=False)\n",
    "    fold += 1\n",
    "\n",
    "source = 'source_4'\n",
    "path = '../data/data/{}/score/'.format(source)\n",
    "test_data.to_csv(path + 'score_data.csv', index=False)\n",
    "print('test data:', test_data.shape)"
   ]
  },
  {
   "cell_type": "markdown",
   "metadata": {},
   "source": [
    "### source - 5"
   ]
  },
  {
   "cell_type": "code",
   "execution_count": 4,
   "metadata": {},
   "outputs": [],
   "source": [
    "labels = ['id','toxic','severe_toxic','obscene','threat','insult','identity_hate']\n",
    "text = ['id','comment_text']\n",
    "\n",
    "train_data = pd.read_csv('../data/download/train_preprocessed.csv').fillna('nan')\n",
    "test_data = pd.read_csv('../data/download/test_preprocessed.csv').fillna('nan')"
   ]
  },
  {
   "cell_type": "code",
   "execution_count": 5,
   "metadata": {},
   "outputs": [
    {
     "name": "stdout",
     "output_type": "stream",
     "text": [
      "train data: (143613, 2) (143613, 7)\n",
      "test data: (15958, 2) (15958, 7)\n",
      "train data: (143614, 2) (143614, 7)\n",
      "test data: (15957, 2) (15957, 7)\n",
      "train data: (143614, 2) (143614, 7)\n",
      "test data: (15957, 2) (15957, 7)\n",
      "train data: (143614, 2) (143614, 7)\n",
      "test data: (15957, 2) (15957, 7)\n",
      "train data: (143614, 2) (143614, 7)\n",
      "test data: (15957, 2) (15957, 7)\n",
      "train data: (143614, 2) (143614, 7)\n",
      "test data: (15957, 2) (15957, 7)\n",
      "train data: (143614, 2) (143614, 7)\n",
      "test data: (15957, 2) (15957, 7)\n",
      "train data: (143614, 2) (143614, 7)\n",
      "test data: (15957, 2) (15957, 7)\n",
      "train data: (143614, 2) (143614, 7)\n",
      "test data: (15957, 2) (15957, 7)\n",
      "train data: (143614, 2) (143614, 7)\n",
      "test data: (15957, 2) (15957, 7)\n",
      "test data: (153164, 10)\n"
     ]
    }
   ],
   "source": [
    "comments = train_data['id'].unique()\n",
    "folds = KFold(n_splits=10, shuffle=True, random_state=2017)\n",
    "fold = 1\n",
    "source = 'source_5'\n",
    "\n",
    "for train_idx, test_idx in folds.split(comments):\n",
    "    train_idx = comments[train_idx]\n",
    "    test_idx = comments[test_idx]\n",
    "    X_train = train_data[train_data['id'].isin(train_idx)][text]\n",
    "    y_train = train_data[train_data['id'].isin(train_idx)][labels]\n",
    "    X_test = train_data[train_data['id'].isin(test_idx)][text]\n",
    "    y_test = train_data[train_data['id'].isin(test_idx)][labels]\n",
    "    print('train data:', X_train.shape, y_train.shape)\n",
    "    print('test data:', X_test.shape, y_test.shape)\n",
    "    path = '../data/data/{}/train/'.format(source)\n",
    "    X_train.to_csv(path + 'train_data_{}.csv'.format(fold), index=False)\n",
    "    y_train.to_csv(path + 'train_labels_{}.csv'.format(fold), index=False)\n",
    "    X_test.to_csv(path + 'test_data_{}.csv'.format(fold), index=False)\n",
    "    y_test.to_csv(path + 'test_labels_{}.csv'.format(fold), index=False)\n",
    "    fold += 1\n",
    "\n",
    "source = 'source_5'\n",
    "path = '../data/data/{}/score/'.format(source)\n",
    "test_data.to_csv(path + 'score_data.csv', index=False)\n",
    "print('test data:', test_data.shape)"
   ]
  },
  {
   "cell_type": "markdown",
   "metadata": {},
   "source": [
    "### source - 6"
   ]
  },
  {
   "cell_type": "code",
   "execution_count": 6,
   "metadata": {},
   "outputs": [],
   "source": [
    "labels = ['id','toxic','severe_toxic','obscene','threat','insult','identity_hate']\n",
    "text = ['id','comment_text']\n",
    "\n",
    "train_data = pd.read_csv('../data/download/train_preprocessed.csv').fillna('nan')\n",
    "test_data = pd.read_csv('../data/download/test_preprocessed.csv').fillna('nan')"
   ]
  },
  {
   "cell_type": "code",
   "execution_count": 8,
   "metadata": {},
   "outputs": [
    {
     "name": "stdout",
     "output_type": "stream",
     "text": [
      "train data: (143613, 2) (143613, 7)\n",
      "test data: (15958, 2) (15958, 7)\n",
      "train data: (143614, 2) (143614, 7)\n",
      "test data: (15957, 2) (15957, 7)\n",
      "train data: (143614, 2) (143614, 7)\n",
      "test data: (15957, 2) (15957, 7)\n",
      "train data: (143614, 2) (143614, 7)\n",
      "test data: (15957, 2) (15957, 7)\n",
      "train data: (143614, 2) (143614, 7)\n",
      "test data: (15957, 2) (15957, 7)\n",
      "train data: (143614, 2) (143614, 7)\n",
      "test data: (15957, 2) (15957, 7)\n",
      "train data: (143614, 2) (143614, 7)\n",
      "test data: (15957, 2) (15957, 7)\n",
      "train data: (143614, 2) (143614, 7)\n",
      "test data: (15957, 2) (15957, 7)\n",
      "train data: (143614, 2) (143614, 7)\n",
      "test data: (15957, 2) (15957, 7)\n",
      "train data: (143614, 2) (143614, 7)\n",
      "test data: (15957, 2) (15957, 7)\n",
      "test data: (153164, 10)\n"
     ]
    }
   ],
   "source": [
    "comments = train_data['id'].unique()\n",
    "folds = KFold(n_splits=10, shuffle=True, random_state=2017)\n",
    "fold = 1\n",
    "source = 'source_6'\n",
    "\n",
    "for train_idx, test_idx in folds.split(comments):\n",
    "    train_idx = comments[train_idx]\n",
    "    test_idx = comments[test_idx]\n",
    "    X_train = train_data[train_data['id'].isin(train_idx)][text]\n",
    "    y_train = train_data[train_data['id'].isin(train_idx)][labels]\n",
    "    X_test = train_data[train_data['id'].isin(test_idx)][text]\n",
    "    y_test = train_data[train_data['id'].isin(test_idx)][labels]\n",
    "    print('train data:', X_train.shape, y_train.shape)\n",
    "    print('test data:', X_test.shape, y_test.shape)\n",
    "    path = '../data/data/{}/train/'.format(source)\n",
    "    X_train.to_csv(path + 'train_data_{}.csv'.format(fold), index=False)\n",
    "    y_train.to_csv(path + 'train_labels_{}.csv'.format(fold), index=False)\n",
    "    X_test.to_csv(path + 'test_data_{}.csv'.format(fold), index=False)\n",
    "    y_test.to_csv(path + 'test_labels_{}.csv'.format(fold), index=False)\n",
    "    fold += 1\n",
    "\n",
    "source = 'source_6'\n",
    "path = '../data/data/{}/score/'.format(source)\n",
    "test_data.to_csv(path + 'score_data.csv', index=False)\n",
    "print('test data:', test_data.shape)"
   ]
  },
  {
   "cell_type": "code",
   "execution_count": null,
   "metadata": {},
   "outputs": [],
   "source": []
  }
 ],
 "metadata": {
  "kernelspec": {
   "display_name": "Environment (conda_python3)",
   "language": "python",
   "name": "conda_python3"
  },
  "language_info": {
   "codemirror_mode": {
    "name": "ipython",
    "version": 3
   },
   "file_extension": ".py",
   "mimetype": "text/x-python",
   "name": "python",
   "nbconvert_exporter": "python",
   "pygments_lexer": "ipython3",
   "version": "3.6.3"
  }
 },
 "nbformat": 4,
 "nbformat_minor": 2
}
