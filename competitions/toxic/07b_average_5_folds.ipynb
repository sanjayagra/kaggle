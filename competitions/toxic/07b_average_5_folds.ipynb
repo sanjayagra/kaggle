{
 "cells": [
  {
   "cell_type": "code",
   "execution_count": 1,
   "metadata": {},
   "outputs": [],
   "source": [
    "import pandas as pd\n",
    "import numpy as np\n",
    "from sklearn.metrics import roc_curve, auc\n",
    "pd.options.mode.chained_assignment = None"
   ]
  },
  {
   "cell_type": "markdown",
   "metadata": {},
   "source": [
    "### datasets"
   ]
  },
  {
   "cell_type": "code",
   "execution_count": 2,
   "metadata": {},
   "outputs": [
    {
     "name": "stdout",
     "output_type": "stream",
     "text": [
      "train_data: (159571, 36) (159571, 6)\n"
     ]
    }
   ],
   "source": [
    "train_score_1 = pd.read_csv('../data/other/model/fasttext_1.csv')\n",
    "train_score_1.columns = [train_score_1.columns[0]] + ['m1_' + x for x in train_score_1.columns[1:]]\n",
    "train_score_2 = pd.read_csv('../data/other/model/fasttext_2.csv')\n",
    "train_score_2.columns = [train_score_2.columns[0]] + ['m2_' + x for x in train_score_2.columns[1:]]\n",
    "train_score_3 = pd.read_csv('../data/other/model/fasttext_3.csv')\n",
    "train_score_3.columns = [train_score_3.columns[0]] + ['m3_' + x for x in train_score_3.columns[1:]]\n",
    "train_score_4 = pd.read_csv('../data/other/model/fasttext_4.csv')\n",
    "train_score_4.columns = [train_score_4.columns[0]] + ['m4_' + x for x in train_score_4.columns[1:]]\n",
    "train_score_5 = pd.read_csv('../data/other/model/glove_1.csv')\n",
    "train_score_5.columns = [train_score_5.columns[0]] + ['m5_' + x for x in train_score_5.columns[1:]]\n",
    "train_score_6 = pd.read_csv('../data/other/model/glove_2.csv')\n",
    "train_score_6.columns = [train_score_6.columns[0]] + ['m6_' + x for x in train_score_6.columns[1:]]\n",
    "\n",
    "train_labels = pd.read_csv('../data/download/train.csv').drop('comment_text', axis=1)\n",
    "train_data = train_score_1.merge(train_score_2, on='id')\n",
    "train_data = train_data.merge(train_score_3, on='id')\n",
    "train_data = train_data.merge(train_score_4, on='id')\n",
    "train_data = train_data.merge(train_score_5, on='id')\n",
    "train_data = train_data.merge(train_score_6, on='id')\n",
    "\n",
    "train_labels = train_labels.sort_values(by='id').reset_index(drop=True)\n",
    "train_labels = train_labels.merge(train_data[['id']], on='id')\n",
    "train_data = train_data.sort_values(by='id')\n",
    "train_ids = train_labels[['id']].copy()\n",
    "train_data = train_data.drop('id', axis=1)\n",
    "train_labels = train_labels.drop('id', axis=1)\n",
    "print('train_data:', train_data.shape, train_labels.shape)\n",
    "del train_score_1, train_score_2"
   ]
  },
  {
   "cell_type": "code",
   "execution_count": 3,
   "metadata": {},
   "outputs": [
    {
     "name": "stdout",
     "output_type": "stream",
     "text": [
      "test_data: (153164, 36)\n"
     ]
    }
   ],
   "source": [
    "test_score_1 = pd.read_csv('../data/other/submit/fasttext_1.csv')\n",
    "test_score_1.columns = [test_score_1.columns[0]] + ['m1_' + x for x in test_score_1.columns[1:]]\n",
    "test_score_2 = pd.read_csv('../data/other/submit/fasttext_2.csv')\n",
    "test_score_2.columns = [test_score_2.columns[0]] + ['m2_' + x for x in test_score_2.columns[1:]]\n",
    "test_score_3 = pd.read_csv('../data/other/submit/fasttext_3.csv')\n",
    "test_score_3.columns = [test_score_3.columns[0]] + ['m3_' + x for x in test_score_3.columns[1:]]\n",
    "test_score_4 = pd.read_csv('../data/other/submit/fasttext_4.csv')\n",
    "test_score_4.columns = [test_score_4.columns[0]] + ['m4_' + x for x in test_score_4.columns[1:]]\n",
    "test_score_5 = pd.read_csv('../data/other/submit/glove_1.csv')\n",
    "test_score_5.columns = [test_score_5.columns[0]] + ['m5_' + x for x in test_score_5.columns[1:]]\n",
    "test_score_6 = pd.read_csv('../data/other/submit/glove_2.csv')\n",
    "test_score_6.columns = [test_score_6.columns[0]] + ['m6_' + x for x in test_score_6.columns[1:]]\n",
    "\n",
    "test_data = test_score_1.merge(test_score_2, on='id')\n",
    "test_data = test_data.merge(test_score_3, on='id')\n",
    "test_data = test_data.merge(test_score_4, on='id')\n",
    "test_data = test_data.merge(test_score_5, on='id')\n",
    "test_data = test_data.merge(test_score_6, on='id')\n",
    "\n",
    "test_ids = test_data[['id']].copy()\n",
    "test_data = test_data.drop('id', axis=1)\n",
    "print('test_data:', test_data.shape)\n",
    "del test_score_1, test_score_2"
   ]
  },
  {
   "cell_type": "markdown",
   "metadata": {},
   "source": [
    "### model"
   ]
  },
  {
   "cell_type": "code",
   "execution_count": 5,
   "metadata": {},
   "outputs": [],
   "source": [
    "overall = 0. \n",
    "\n",
    "def eval_metric(labels, predict):\n",
    "    fpr, tpr, threshold = roc_curve(labels, predict)\n",
    "    return round(auc(fpr, tpr),4)\n",
    "    \n",
    "def model(label):\n",
    "    feats = ['m1_' + label, 'm2_' + label,'m3_' + label, 'm4_' + label, 'm5_' + label, 'm6_' + label]\n",
    "    scores = train_data[feats]\n",
    "    scores[label] = scores.apply(lambda x : np.mean(x), axis=1)\n",
    "    labels = train_labels[label]\n",
    "    print('auc:', eval_metric(labels,scores[label]))\n",
    "    model = train_ids.copy()\n",
    "    model[label] = scores[label].copy()\n",
    "    global overall\n",
    "    overall += eval_metric(labels,scores[label])\n",
    "    scores = test_data[feats]\n",
    "    scores[label] = scores.apply(lambda x : np.mean(x), axis=1)\n",
    "    submit = test_ids.copy()\n",
    "    submit[label] = scores[label].copy()\n",
    "    return [model, submit]"
   ]
  },
  {
   "cell_type": "code",
   "execution_count": 6,
   "metadata": {},
   "outputs": [
    {
     "name": "stdout",
     "output_type": "stream",
     "text": [
      "auc: 0.9856\n",
      "auc: 0.9915\n",
      "auc: 0.9939\n",
      "auc: 0.9921\n",
      "auc: 0.9888\n",
      "auc: 0.9902\n"
     ]
    }
   ],
   "source": [
    "toxic = model('toxic')\n",
    "severe_toxic = model('severe_toxic')\n",
    "obscene = model('obscene')\n",
    "threat = model('threat')\n",
    "insult = model('insult')\n",
    "identity_hate = model('identity_hate')"
   ]
  },
  {
   "cell_type": "code",
   "execution_count": 7,
   "metadata": {},
   "outputs": [],
   "source": [
    "model = toxic[0].copy()\n",
    "model = model.merge(severe_toxic[0], on='id')\n",
    "model = model.merge(obscene[0], on='id')\n",
    "model = model.merge(threat[0], on='id')\n",
    "model = model.merge(insult[0], on='id')\n",
    "model = model.merge(identity_hate[0], on='id')"
   ]
  },
  {
   "cell_type": "code",
   "execution_count": 8,
   "metadata": {},
   "outputs": [],
   "source": [
    "submit = toxic[1].copy()\n",
    "submit = submit.merge(severe_toxic[1], on='id')\n",
    "submit = submit.merge(obscene[1], on='id')\n",
    "submit = submit.merge(threat[1], on='id')\n",
    "submit = submit.merge(insult[1], on='id')\n",
    "submit = submit.merge(identity_hate[1], on='id')"
   ]
  },
  {
   "cell_type": "code",
   "execution_count": 9,
   "metadata": {},
   "outputs": [
    {
     "data": {
      "text/html": [
       "<div>\n",
       "<style scoped>\n",
       "    .dataframe tbody tr th:only-of-type {\n",
       "        vertical-align: middle;\n",
       "    }\n",
       "\n",
       "    .dataframe tbody tr th {\n",
       "        vertical-align: top;\n",
       "    }\n",
       "\n",
       "    .dataframe thead th {\n",
       "        text-align: right;\n",
       "    }\n",
       "</style>\n",
       "<table border=\"1\" class=\"dataframe\">\n",
       "  <thead>\n",
       "    <tr style=\"text-align: right;\">\n",
       "      <th></th>\n",
       "      <th>id</th>\n",
       "      <th>toxic</th>\n",
       "      <th>severe_toxic</th>\n",
       "      <th>obscene</th>\n",
       "      <th>threat</th>\n",
       "      <th>insult</th>\n",
       "      <th>identity_hate</th>\n",
       "    </tr>\n",
       "  </thead>\n",
       "  <tbody>\n",
       "    <tr>\n",
       "      <th>0</th>\n",
       "      <td>0000997932d777bf</td>\n",
       "      <td>0.000189</td>\n",
       "      <td>8.707390e-10</td>\n",
       "      <td>0.000009</td>\n",
       "      <td>1.626924e-08</td>\n",
       "      <td>0.000002</td>\n",
       "      <td>4.019145e-08</td>\n",
       "    </tr>\n",
       "    <tr>\n",
       "      <th>1</th>\n",
       "      <td>000103f0d9cfb60f</td>\n",
       "      <td>0.002525</td>\n",
       "      <td>2.700227e-07</td>\n",
       "      <td>0.000098</td>\n",
       "      <td>1.845108e-05</td>\n",
       "      <td>0.000077</td>\n",
       "      <td>5.589548e-06</td>\n",
       "    </tr>\n",
       "    <tr>\n",
       "      <th>2</th>\n",
       "      <td>000113f07ec002fd</td>\n",
       "      <td>0.001443</td>\n",
       "      <td>1.009600e-08</td>\n",
       "      <td>0.000037</td>\n",
       "      <td>1.744054e-06</td>\n",
       "      <td>0.000009</td>\n",
       "      <td>1.953806e-07</td>\n",
       "    </tr>\n",
       "    <tr>\n",
       "      <th>3</th>\n",
       "      <td>00013fa6fb6ef643</td>\n",
       "      <td>0.000213</td>\n",
       "      <td>1.791590e-09</td>\n",
       "      <td>0.000004</td>\n",
       "      <td>3.520491e-08</td>\n",
       "      <td>0.000002</td>\n",
       "      <td>1.106725e-07</td>\n",
       "    </tr>\n",
       "    <tr>\n",
       "      <th>4</th>\n",
       "      <td>0001b41b1c6bb37e</td>\n",
       "      <td>0.000391</td>\n",
       "      <td>8.747799e-09</td>\n",
       "      <td>0.000091</td>\n",
       "      <td>2.276350e-08</td>\n",
       "      <td>0.000014</td>\n",
       "      <td>2.555719e-07</td>\n",
       "    </tr>\n",
       "  </tbody>\n",
       "</table>\n",
       "</div>"
      ],
      "text/plain": [
       "                 id     toxic  severe_toxic   obscene        threat    insult  \\\n",
       "0  0000997932d777bf  0.000189  8.707390e-10  0.000009  1.626924e-08  0.000002   \n",
       "1  000103f0d9cfb60f  0.002525  2.700227e-07  0.000098  1.845108e-05  0.000077   \n",
       "2  000113f07ec002fd  0.001443  1.009600e-08  0.000037  1.744054e-06  0.000009   \n",
       "3  00013fa6fb6ef643  0.000213  1.791590e-09  0.000004  3.520491e-08  0.000002   \n",
       "4  0001b41b1c6bb37e  0.000391  8.747799e-09  0.000091  2.276350e-08  0.000014   \n",
       "\n",
       "   identity_hate  \n",
       "0   4.019145e-08  \n",
       "1   5.589548e-06  \n",
       "2   1.953806e-07  \n",
       "3   1.106725e-07  \n",
       "4   2.555719e-07  "
      ]
     },
     "execution_count": 9,
     "metadata": {},
     "output_type": "execute_result"
    }
   ],
   "source": [
    "model.head()"
   ]
  },
  {
   "cell_type": "code",
   "execution_count": 10,
   "metadata": {},
   "outputs": [
    {
     "data": {
      "text/html": [
       "<div>\n",
       "<style scoped>\n",
       "    .dataframe tbody tr th:only-of-type {\n",
       "        vertical-align: middle;\n",
       "    }\n",
       "\n",
       "    .dataframe tbody tr th {\n",
       "        vertical-align: top;\n",
       "    }\n",
       "\n",
       "    .dataframe thead th {\n",
       "        text-align: right;\n",
       "    }\n",
       "</style>\n",
       "<table border=\"1\" class=\"dataframe\">\n",
       "  <thead>\n",
       "    <tr style=\"text-align: right;\">\n",
       "      <th></th>\n",
       "      <th>id</th>\n",
       "      <th>toxic</th>\n",
       "      <th>severe_toxic</th>\n",
       "      <th>obscene</th>\n",
       "      <th>threat</th>\n",
       "      <th>insult</th>\n",
       "      <th>identity_hate</th>\n",
       "    </tr>\n",
       "  </thead>\n",
       "  <tbody>\n",
       "    <tr>\n",
       "      <th>0</th>\n",
       "      <td>00001cee341fdb12</td>\n",
       "      <td>0.998933</td>\n",
       "      <td>3.785910e-01</td>\n",
       "      <td>9.847157e-01</td>\n",
       "      <td>1.510540e-01</td>\n",
       "      <td>9.521700e-01</td>\n",
       "      <td>4.267313e-01</td>\n",
       "    </tr>\n",
       "    <tr>\n",
       "      <th>1</th>\n",
       "      <td>0000247867823ef7</td>\n",
       "      <td>0.000067</td>\n",
       "      <td>1.005848e-08</td>\n",
       "      <td>1.351508e-06</td>\n",
       "      <td>1.244558e-07</td>\n",
       "      <td>1.121660e-06</td>\n",
       "      <td>1.382291e-07</td>\n",
       "    </tr>\n",
       "    <tr>\n",
       "      <th>2</th>\n",
       "      <td>00013b17ad220c46</td>\n",
       "      <td>0.000295</td>\n",
       "      <td>5.038850e-08</td>\n",
       "      <td>8.424013e-06</td>\n",
       "      <td>5.419039e-07</td>\n",
       "      <td>8.327425e-06</td>\n",
       "      <td>1.058228e-06</td>\n",
       "    </tr>\n",
       "    <tr>\n",
       "      <th>3</th>\n",
       "      <td>00017563c3f7919a</td>\n",
       "      <td>0.000035</td>\n",
       "      <td>3.838036e-09</td>\n",
       "      <td>8.975482e-07</td>\n",
       "      <td>4.560075e-07</td>\n",
       "      <td>8.236620e-07</td>\n",
       "      <td>3.621174e-08</td>\n",
       "    </tr>\n",
       "    <tr>\n",
       "      <th>4</th>\n",
       "      <td>00017695ad8997eb</td>\n",
       "      <td>0.001715</td>\n",
       "      <td>1.076093e-07</td>\n",
       "      <td>3.974976e-05</td>\n",
       "      <td>3.513278e-06</td>\n",
       "      <td>2.090479e-05</td>\n",
       "      <td>1.415360e-06</td>\n",
       "    </tr>\n",
       "  </tbody>\n",
       "</table>\n",
       "</div>"
      ],
      "text/plain": [
       "                 id     toxic  severe_toxic       obscene        threat  \\\n",
       "0  00001cee341fdb12  0.998933  3.785910e-01  9.847157e-01  1.510540e-01   \n",
       "1  0000247867823ef7  0.000067  1.005848e-08  1.351508e-06  1.244558e-07   \n",
       "2  00013b17ad220c46  0.000295  5.038850e-08  8.424013e-06  5.419039e-07   \n",
       "3  00017563c3f7919a  0.000035  3.838036e-09  8.975482e-07  4.560075e-07   \n",
       "4  00017695ad8997eb  0.001715  1.076093e-07  3.974976e-05  3.513278e-06   \n",
       "\n",
       "         insult  identity_hate  \n",
       "0  9.521700e-01   4.267313e-01  \n",
       "1  1.121660e-06   1.382291e-07  \n",
       "2  8.327425e-06   1.058228e-06  \n",
       "3  8.236620e-07   3.621174e-08  \n",
       "4  2.090479e-05   1.415360e-06  "
      ]
     },
     "execution_count": 10,
     "metadata": {},
     "output_type": "execute_result"
    }
   ],
   "source": [
    "submit.head()"
   ]
  },
  {
   "cell_type": "code",
   "execution_count": 11,
   "metadata": {},
   "outputs": [],
   "source": [
    "model.to_csv('../data/other/model/simple_stack.csv', index=False)"
   ]
  },
  {
   "cell_type": "code",
   "execution_count": 12,
   "metadata": {},
   "outputs": [],
   "source": [
    "submit.to_csv('../data/other/submit/simple_stack.csv', index=False)"
   ]
  },
  {
   "cell_type": "code",
   "execution_count": 13,
   "metadata": {},
   "outputs": [
    {
     "data": {
      "text/plain": [
       "0.99034999999999995"
      ]
     },
     "execution_count": 13,
     "metadata": {},
     "output_type": "execute_result"
    }
   ],
   "source": [
    "overall / 6"
   ]
  },
  {
   "cell_type": "code",
   "execution_count": null,
   "metadata": {},
   "outputs": [],
   "source": []
  }
 ],
 "metadata": {
  "kernelspec": {
   "display_name": "Python 3",
   "language": "python",
   "name": "python3"
  },
  "language_info": {
   "codemirror_mode": {
    "name": "ipython",
    "version": 3
   },
   "file_extension": ".py",
   "mimetype": "text/x-python",
   "name": "python",
   "nbconvert_exporter": "python",
   "pygments_lexer": "ipython3",
   "version": "3.6.3"
  }
 },
 "nbformat": 4,
 "nbformat_minor": 2
}
