{
 "cells": [
  {
   "cell_type": "code",
   "execution_count": 2,
   "metadata": {},
   "outputs": [],
   "source": [
    "import pandas as pd\n",
    "import numpy as np\n",
    "from sklearn.metrics import roc_curve, auc\n",
    "pd.options.mode.chained_assignment = None"
   ]
  },
  {
   "cell_type": "markdown",
   "metadata": {},
   "source": [
    "### datasets"
   ]
  },
  {
   "cell_type": "code",
   "execution_count": 3,
   "metadata": {},
   "outputs": [
    {
     "name": "stdout",
     "output_type": "stream",
     "text": [
      "train_data: (143614, 18) (143614, 6)\n"
     ]
    }
   ],
   "source": [
    "train_score_1 = pd.read_csv('../data/model/model_12.csv')\n",
    "train_score_1.columns = [train_score_1.columns[0]] + ['m1_' + x for x in train_score_1.columns[1:]]\n",
    "train_score_2 = pd.read_csv('../data/model/model_13.csv')\n",
    "train_score_2.columns = [train_score_2.columns[0]] + ['m2_' + x for x in train_score_2.columns[1:]]\n",
    "train_score_3 = pd.read_csv('../data/model/model_14.csv')\n",
    "train_score_3.columns = [train_score_3.columns[0]] + ['m3_' + x for x in train_score_3.columns[1:]]\n",
    "\n",
    "train_labels = pd.read_csv('../data/download/train.csv').drop('comment_text', axis=1)\n",
    "train_data = train_score_1.merge(train_score_2, on='id')\n",
    "train_data = train_data.merge(train_score_3, on='id')\n",
    "\n",
    "train_labels = train_labels.sort_values(by='id').reset_index(drop=True)\n",
    "train_labels = train_labels.merge(train_data[['id']], on='id')\n",
    "train_data = train_data.sort_values(by='id').reset_index(drop=True)\n",
    "train_ids = train_labels[['id']].copy()\n",
    "train_data = train_data.drop('id', axis=1)\n",
    "train_labels = train_labels.drop('id', axis=1)\n",
    "print('train_data:', train_data.shape, train_labels.shape)\n",
    "del train_score_1, train_score_2"
   ]
  },
  {
   "cell_type": "code",
   "execution_count": 4,
   "metadata": {},
   "outputs": [
    {
     "name": "stdout",
     "output_type": "stream",
     "text": [
      "test_data: (153164, 18)\n"
     ]
    }
   ],
   "source": [
    "test_score_1 = pd.read_csv('../data/submit/model_12.csv')\n",
    "test_score_1.columns = [test_score_1.columns[0]] + ['m1_' + x for x in test_score_1.columns[1:]]\n",
    "test_score_2 = pd.read_csv('../data/submit/model_13.csv')\n",
    "test_score_2.columns = [test_score_2.columns[0]] + ['m2_' + x for x in test_score_2.columns[1:]]\n",
    "test_score_3 = pd.read_csv('../data/submit/model_14.csv')\n",
    "test_score_3.columns = [test_score_3.columns[0]] + ['m3_' + x for x in test_score_3.columns[1:]]\n",
    "\n",
    "test_data = test_score_1.merge(test_score_2, on='id')\n",
    "test_data = test_data.merge(test_score_3, on='id')\n",
    "\n",
    "test_ids = test_data[['id']].copy()\n",
    "test_data = test_data.drop('id', axis=1)\n",
    "print('test_data:', test_data.shape)\n",
    "del test_score_1, test_score_2"
   ]
  },
  {
   "cell_type": "markdown",
   "metadata": {},
   "source": [
    "### model"
   ]
  },
  {
   "cell_type": "code",
   "execution_count": 5,
   "metadata": {},
   "outputs": [],
   "source": [
    "overall = 0. \n",
    "\n",
    "def eval_metric(labels, predict):\n",
    "    fpr, tpr, threshold = roc_curve(labels, predict)\n",
    "    return round(auc(fpr, tpr),4)\n",
    "    \n",
    "def model(label):\n",
    "    feats = ['m1_' + label, 'm2_' + label, 'm3_' + label]\n",
    "    scores = train_data[feats]\n",
    "    scores[label] = scores.apply(lambda x : np.mean(x), axis=1)\n",
    "    labels = train_labels[label]\n",
    "    print('auc:', eval_metric(labels,scores[label]))\n",
    "    model = train_ids.copy()\n",
    "    model[label] = scores[label].copy()\n",
    "    global overall\n",
    "    overall += eval_metric(labels,scores[label])\n",
    "    scores = test_data[feats]\n",
    "    scores[label] = scores.apply(lambda x : np.mean(x), axis=1)\n",
    "    submit = test_ids.copy()\n",
    "    submit[label] = scores[label].copy()\n",
    "    return [model, submit]"
   ]
  },
  {
   "cell_type": "code",
   "execution_count": 6,
   "metadata": {},
   "outputs": [
    {
     "name": "stdout",
     "output_type": "stream",
     "text": [
      "auc: 0.9864\n",
      "auc: 0.9921\n",
      "auc: 0.9949\n",
      "auc: 0.9932\n",
      "auc: 0.9897\n",
      "auc: 0.9912\n"
     ]
    }
   ],
   "source": [
    "toxic = model('toxic')\n",
    "severe_toxic = model('severe_toxic')\n",
    "obscene = model('obscene')\n",
    "threat = model('threat')\n",
    "insult = model('insult')\n",
    "identity_hate = model('identity_hate')"
   ]
  },
  {
   "cell_type": "code",
   "execution_count": 7,
   "metadata": {},
   "outputs": [],
   "source": [
    "model = toxic[0].copy()\n",
    "model = model.merge(severe_toxic[0], on='id')\n",
    "model = model.merge(obscene[0], on='id')\n",
    "model = model.merge(threat[0], on='id')\n",
    "model = model.merge(insult[0], on='id')\n",
    "model = model.merge(identity_hate[0], on='id')"
   ]
  },
  {
   "cell_type": "code",
   "execution_count": 8,
   "metadata": {},
   "outputs": [],
   "source": [
    "submit = toxic[1].copy()\n",
    "submit = submit.merge(severe_toxic[1], on='id')\n",
    "submit = submit.merge(obscene[1], on='id')\n",
    "submit = submit.merge(threat[1], on='id')\n",
    "submit = submit.merge(insult[1], on='id')\n",
    "submit = submit.merge(identity_hate[1], on='id')"
   ]
  },
  {
   "cell_type": "code",
   "execution_count": 9,
   "metadata": {},
   "outputs": [
    {
     "data": {
      "text/html": [
       "<div>\n",
       "<style scoped>\n",
       "    .dataframe tbody tr th:only-of-type {\n",
       "        vertical-align: middle;\n",
       "    }\n",
       "\n",
       "    .dataframe tbody tr th {\n",
       "        vertical-align: top;\n",
       "    }\n",
       "\n",
       "    .dataframe thead th {\n",
       "        text-align: right;\n",
       "    }\n",
       "</style>\n",
       "<table border=\"1\" class=\"dataframe\">\n",
       "  <thead>\n",
       "    <tr style=\"text-align: right;\">\n",
       "      <th></th>\n",
       "      <th>id</th>\n",
       "      <th>toxic</th>\n",
       "      <th>severe_toxic</th>\n",
       "      <th>obscene</th>\n",
       "      <th>threat</th>\n",
       "      <th>insult</th>\n",
       "      <th>identity_hate</th>\n",
       "    </tr>\n",
       "  </thead>\n",
       "  <tbody>\n",
       "    <tr>\n",
       "      <th>0</th>\n",
       "      <td>0000997932d777bf</td>\n",
       "      <td>0.000343</td>\n",
       "      <td>2.063982e-08</td>\n",
       "      <td>4.400472e-05</td>\n",
       "      <td>9.074979e-07</td>\n",
       "      <td>4.145759e-06</td>\n",
       "      <td>8.587443e-08</td>\n",
       "    </tr>\n",
       "    <tr>\n",
       "      <th>1</th>\n",
       "      <td>000103f0d9cfb60f</td>\n",
       "      <td>0.000925</td>\n",
       "      <td>7.461638e-09</td>\n",
       "      <td>1.231259e-04</td>\n",
       "      <td>2.982393e-07</td>\n",
       "      <td>1.546507e-05</td>\n",
       "      <td>3.740627e-07</td>\n",
       "    </tr>\n",
       "    <tr>\n",
       "      <th>2</th>\n",
       "      <td>00013fa6fb6ef643</td>\n",
       "      <td>0.000047</td>\n",
       "      <td>3.369212e-09</td>\n",
       "      <td>7.469913e-07</td>\n",
       "      <td>6.055486e-08</td>\n",
       "      <td>7.792089e-07</td>\n",
       "      <td>1.020830e-07</td>\n",
       "    </tr>\n",
       "    <tr>\n",
       "      <th>3</th>\n",
       "      <td>0001b41b1c6bb37e</td>\n",
       "      <td>0.000010</td>\n",
       "      <td>1.976703e-09</td>\n",
       "      <td>4.574772e-07</td>\n",
       "      <td>2.592655e-08</td>\n",
       "      <td>4.502377e-07</td>\n",
       "      <td>3.216462e-07</td>\n",
       "    </tr>\n",
       "    <tr>\n",
       "      <th>4</th>\n",
       "      <td>0001d958c54c6e35</td>\n",
       "      <td>0.006757</td>\n",
       "      <td>3.632239e-07</td>\n",
       "      <td>4.492467e-05</td>\n",
       "      <td>1.219883e-04</td>\n",
       "      <td>6.395739e-04</td>\n",
       "      <td>5.310035e-06</td>\n",
       "    </tr>\n",
       "  </tbody>\n",
       "</table>\n",
       "</div>"
      ],
      "text/plain": [
       "                 id     toxic  severe_toxic       obscene        threat  \\\n",
       "0  0000997932d777bf  0.000343  2.063982e-08  4.400472e-05  9.074979e-07   \n",
       "1  000103f0d9cfb60f  0.000925  7.461638e-09  1.231259e-04  2.982393e-07   \n",
       "2  00013fa6fb6ef643  0.000047  3.369212e-09  7.469913e-07  6.055486e-08   \n",
       "3  0001b41b1c6bb37e  0.000010  1.976703e-09  4.574772e-07  2.592655e-08   \n",
       "4  0001d958c54c6e35  0.006757  3.632239e-07  4.492467e-05  1.219883e-04   \n",
       "\n",
       "         insult  identity_hate  \n",
       "0  4.145759e-06   8.587443e-08  \n",
       "1  1.546507e-05   3.740627e-07  \n",
       "2  7.792089e-07   1.020830e-07  \n",
       "3  4.502377e-07   3.216462e-07  \n",
       "4  6.395739e-04   5.310035e-06  "
      ]
     },
     "execution_count": 9,
     "metadata": {},
     "output_type": "execute_result"
    }
   ],
   "source": [
    "model.head()"
   ]
  },
  {
   "cell_type": "code",
   "execution_count": 10,
   "metadata": {},
   "outputs": [
    {
     "data": {
      "text/html": [
       "<div>\n",
       "<style scoped>\n",
       "    .dataframe tbody tr th:only-of-type {\n",
       "        vertical-align: middle;\n",
       "    }\n",
       "\n",
       "    .dataframe tbody tr th {\n",
       "        vertical-align: top;\n",
       "    }\n",
       "\n",
       "    .dataframe thead th {\n",
       "        text-align: right;\n",
       "    }\n",
       "</style>\n",
       "<table border=\"1\" class=\"dataframe\">\n",
       "  <thead>\n",
       "    <tr style=\"text-align: right;\">\n",
       "      <th></th>\n",
       "      <th>id</th>\n",
       "      <th>toxic</th>\n",
       "      <th>severe_toxic</th>\n",
       "      <th>obscene</th>\n",
       "      <th>threat</th>\n",
       "      <th>insult</th>\n",
       "      <th>identity_hate</th>\n",
       "    </tr>\n",
       "  </thead>\n",
       "  <tbody>\n",
       "    <tr>\n",
       "      <th>0</th>\n",
       "      <td>00001cee341fdb12</td>\n",
       "      <td>0.997683</td>\n",
       "      <td>4.283029e-01</td>\n",
       "      <td>0.972121</td>\n",
       "      <td>7.699043e-02</td>\n",
       "      <td>0.912050</td>\n",
       "      <td>4.078130e-01</td>\n",
       "    </tr>\n",
       "    <tr>\n",
       "      <th>1</th>\n",
       "      <td>0000247867823ef7</td>\n",
       "      <td>0.000072</td>\n",
       "      <td>2.060591e-09</td>\n",
       "      <td>0.000002</td>\n",
       "      <td>1.302585e-08</td>\n",
       "      <td>0.000003</td>\n",
       "      <td>2.063223e-07</td>\n",
       "    </tr>\n",
       "    <tr>\n",
       "      <th>2</th>\n",
       "      <td>00013b17ad220c46</td>\n",
       "      <td>0.000391</td>\n",
       "      <td>4.632010e-08</td>\n",
       "      <td>0.000015</td>\n",
       "      <td>2.429554e-07</td>\n",
       "      <td>0.000026</td>\n",
       "      <td>7.086313e-06</td>\n",
       "    </tr>\n",
       "    <tr>\n",
       "      <th>3</th>\n",
       "      <td>00017563c3f7919a</td>\n",
       "      <td>0.000044</td>\n",
       "      <td>4.227803e-09</td>\n",
       "      <td>0.000002</td>\n",
       "      <td>5.042865e-07</td>\n",
       "      <td>0.000004</td>\n",
       "      <td>7.298163e-08</td>\n",
       "    </tr>\n",
       "    <tr>\n",
       "      <th>4</th>\n",
       "      <td>00017695ad8997eb</td>\n",
       "      <td>0.001649</td>\n",
       "      <td>5.380736e-08</td>\n",
       "      <td>0.000047</td>\n",
       "      <td>4.278784e-06</td>\n",
       "      <td>0.000031</td>\n",
       "      <td>1.579944e-06</td>\n",
       "    </tr>\n",
       "  </tbody>\n",
       "</table>\n",
       "</div>"
      ],
      "text/plain": [
       "                 id     toxic  severe_toxic   obscene        threat    insult  \\\n",
       "0  00001cee341fdb12  0.997683  4.283029e-01  0.972121  7.699043e-02  0.912050   \n",
       "1  0000247867823ef7  0.000072  2.060591e-09  0.000002  1.302585e-08  0.000003   \n",
       "2  00013b17ad220c46  0.000391  4.632010e-08  0.000015  2.429554e-07  0.000026   \n",
       "3  00017563c3f7919a  0.000044  4.227803e-09  0.000002  5.042865e-07  0.000004   \n",
       "4  00017695ad8997eb  0.001649  5.380736e-08  0.000047  4.278784e-06  0.000031   \n",
       "\n",
       "   identity_hate  \n",
       "0   4.078130e-01  \n",
       "1   2.063223e-07  \n",
       "2   7.086313e-06  \n",
       "3   7.298163e-08  \n",
       "4   1.579944e-06  "
      ]
     },
     "execution_count": 10,
     "metadata": {},
     "output_type": "execute_result"
    }
   ],
   "source": [
    "submit.head()"
   ]
  },
  {
   "cell_type": "code",
   "execution_count": 11,
   "metadata": {},
   "outputs": [],
   "source": [
    "model.to_csv('../data/model/simple_stack_1.csv', index=False)"
   ]
  },
  {
   "cell_type": "code",
   "execution_count": 12,
   "metadata": {},
   "outputs": [],
   "source": [
    "submit.to_csv('../data/submit/simple_stack_1.csv', index=False)"
   ]
  },
  {
   "cell_type": "code",
   "execution_count": 13,
   "metadata": {},
   "outputs": [
    {
     "data": {
      "text/plain": [
       "0.99124999999999996"
      ]
     },
     "execution_count": 13,
     "metadata": {},
     "output_type": "execute_result"
    }
   ],
   "source": [
    "overall / 6"
   ]
  },
  {
   "cell_type": "code",
   "execution_count": null,
   "metadata": {},
   "outputs": [],
   "source": []
  }
 ],
 "metadata": {
  "kernelspec": {
   "display_name": "Python 3",
   "language": "python",
   "name": "python3"
  },
  "language_info": {
   "codemirror_mode": {
    "name": "ipython",
    "version": 3
   },
   "file_extension": ".py",
   "mimetype": "text/x-python",
   "name": "python",
   "nbconvert_exporter": "python",
   "pygments_lexer": "ipython3",
   "version": "3.6.3"
  }
 },
 "nbformat": 4,
 "nbformat_minor": 2
}
