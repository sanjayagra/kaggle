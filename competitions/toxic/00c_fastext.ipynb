{
 "cells": [
  {
   "cell_type": "code",
   "execution_count": 1,
   "metadata": {},
   "outputs": [],
   "source": [
    "import pandas as pd\n",
    "import dask.dataframe as dd\n",
    "import numpy as np\n",
    "import re\n",
    "import string\n",
    "from dask.multiprocessing import get\n",
    "from collections import Counter\n",
    "from gensim.models import FastText"
   ]
  },
  {
   "cell_type": "code",
   "execution_count": 2,
   "metadata": {},
   "outputs": [],
   "source": [
    "def clean_text(text):\n",
    "    text = text.lower()\n",
    "    ipaddress = re.findall( r'[0-9]+(?:\\.[0-9]+){3}', text)\n",
    "    for ip in ipaddress:\n",
    "        text = text.replace(ip,' ')\n",
    "    text = text.replace('\\n', ' ')\n",
    "    text = re.sub(r'\\w+:\\/{2}[\\d\\w-]+(\\.[\\d\\w-]+)*(?:(?:\\/[^\\s/]*))*', ' ', text)\n",
    "    text = re.sub('[^A-Za-z0-9]+', ' ', text)\n",
    "    text = re.sub('\\s+', ' ', text)\n",
    "    return text.strip().lower()"
   ]
  },
  {
   "cell_type": "code",
   "execution_count": 3,
   "metadata": {},
   "outputs": [
    {
     "name": "stdout",
     "output_type": "stream",
     "text": [
      "internal data: (312735, 1)\n"
     ]
    }
   ],
   "source": [
    "train_data = pd.read_csv('../data/download/train.csv', usecols=['comment_text'])\n",
    "test_data = pd.read_csv('../data/download/test.csv', usecols=['comment_text'])\n",
    "internal = train_data.append(test_data)\n",
    "internal['comment_text'] = internal['comment_text'].fillna('nan')\n",
    "internal = dd.from_pandas(internal, npartitions=10)\n",
    "internal = internal.map_partitions(lambda df: df.apply((lambda row: clean_text(*row)),axis=1))\n",
    "internal = internal.compute(get=get)\n",
    "internal = pd.DataFrame(internal, columns=['comment_text'])\n",
    "del train_data, test_data\n",
    "print('internal data:', internal.shape)"
   ]
  },
  {
   "cell_type": "code",
   "execution_count": 7,
   "metadata": {},
   "outputs": [],
   "source": [
    "data = internal.copy()\n",
    "data['comment_text'] = data['comment_text'].fillna('nan')\n",
    "data['comment_text'] = data['comment_text'].apply(lambda x : x.split())\n",
    "vocab = data['comment_text'].values\n",
    "vocab = [y for x in vocab for y in x if not re.match('.*\\d+', y)] \n",
    "vocab = Counter(vocab)\n",
    "vocab = dict(vocab)"
   ]
  },
  {
   "cell_type": "code",
   "execution_count": 8,
   "metadata": {},
   "outputs": [],
   "source": [
    "model = FastText.load_fasttext_format('../data/data/fasttext/wiki.en.bin')"
   ]
  },
  {
   "cell_type": "code",
   "execution_count": 9,
   "metadata": {},
   "outputs": [],
   "source": [
    "file = open('../data/data/fasttext/fasttext.txt','w')\n",
    "for word in vocab.keys():\n",
    "    file.write(word)\n",
    "    file.write(' ')\n",
    "    file.write(' '.join([str(x) for x in model.wv.get_vector(word).tolist()]))\n",
    "    file.write('\\n')\n",
    "file.close()"
   ]
  },
  {
   "cell_type": "code",
   "execution_count": null,
   "metadata": {},
   "outputs": [],
   "source": []
  }
 ],
 "metadata": {
  "kernelspec": {
   "display_name": "Environment (conda_python3)",
   "language": "python",
   "name": "conda_python3"
  },
  "language_info": {
   "codemirror_mode": {
    "name": "ipython",
    "version": 3
   },
   "file_extension": ".py",
   "mimetype": "text/x-python",
   "name": "python",
   "nbconvert_exporter": "python",
   "pygments_lexer": "ipython3",
   "version": "3.6.3"
  }
 },
 "nbformat": 4,
 "nbformat_minor": 2
}
