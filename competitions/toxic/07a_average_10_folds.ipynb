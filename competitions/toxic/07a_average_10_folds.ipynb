{
 "cells": [
  {
   "cell_type": "code",
   "execution_count": 1,
   "metadata": {},
   "outputs": [],
   "source": [
    "import pandas as pd\n",
    "import numpy as np\n",
    "from sklearn.metrics import roc_curve, auc\n",
    "pd.options.mode.chained_assignment = None"
   ]
  },
  {
   "cell_type": "markdown",
   "metadata": {},
   "source": [
    "### datasets"
   ]
  },
  {
   "cell_type": "code",
   "execution_count": 13,
   "metadata": {},
   "outputs": [
    {
     "name": "stdout",
     "output_type": "stream",
     "text": [
      "train_data: (143614, 66) (143614, 6)\n"
     ]
    }
   ],
   "source": [
    "train_score_1 = pd.read_csv('../data/model/model_1.csv')\n",
    "train_score_1.columns = [train_score_1.columns[0]] + ['m1_' + x for x in train_score_1.columns[1:]]\n",
    "train_score_2 = pd.read_csv('../data/model/model_2.csv')\n",
    "train_score_2.columns = [train_score_2.columns[0]] + ['m2_' + x for x in train_score_2.columns[1:]]\n",
    "train_score_3 = pd.read_csv('../data/model/model_3.csv')\n",
    "train_score_3.columns = [train_score_3.columns[0]] + ['m3_' + x for x in train_score_3.columns[1:]]\n",
    "train_score_4 = pd.read_csv('../data/model/model_4.csv')\n",
    "train_score_4.columns = [train_score_4.columns[0]] + ['m4_' + x for x in train_score_4.columns[1:]]\n",
    "train_score_5 = pd.read_csv('../data/model/model_5.csv')\n",
    "train_score_5.columns = [train_score_5.columns[0]] + ['m5_' + x for x in train_score_5.columns[1:]]\n",
    "train_score_6 = pd.read_csv('../data/model/model_6.csv')\n",
    "train_score_6.columns = [train_score_6.columns[0]] + ['m6_' + x for x in train_score_6.columns[1:]]\n",
    "train_score_7 = pd.read_csv('../data/model/model_7.csv')\n",
    "train_score_7.columns = [train_score_7.columns[0]] + ['m7_' + x for x in train_score_7.columns[1:]]\n",
    "train_score_8 = pd.read_csv('../data/model/model_8.csv')\n",
    "train_score_8.columns = [train_score_8.columns[0]] + ['m8_' + x for x in train_score_8.columns[1:]]\n",
    "train_score_9 = pd.read_csv('../data/model/model_9.csv')\n",
    "train_score_9.columns = [train_score_9.columns[0]] + ['m9_' + x for x in train_score_9.columns[1:]]\n",
    "train_score_10 = pd.read_csv('../data/model/model_10.csv')\n",
    "train_score_10.columns = [train_score_10.columns[0]] + ['m10_' + x for x in train_score_10.columns[1:]]\n",
    "train_score_11 = pd.read_csv('../data/model/model_11.csv')\n",
    "train_score_11.columns = [train_score_11.columns[0]] + ['m11_' + x for x in train_score_11.columns[1:]]\n",
    "\n",
    "train_labels = pd.read_csv('../data/download/train.csv').drop('comment_text', axis=1)\n",
    "train_data = train_score_1.merge(train_score_2, on='id')\n",
    "train_data = train_data.merge(train_score_3, on='id')\n",
    "train_data = train_data.merge(train_score_4, on='id')\n",
    "train_data = train_data.merge(train_score_5, on='id')\n",
    "train_data = train_data.merge(train_score_6, on='id')\n",
    "train_data = train_data.merge(train_score_7, on='id')\n",
    "train_data = train_data.merge(train_score_8, on='id')\n",
    "train_data = train_data.merge(train_score_9, on='id')\n",
    "train_data = train_data.merge(train_score_10, on='id')\n",
    "train_data = train_data.merge(train_score_11, on='id')\n",
    "\n",
    "train_labels = train_labels.sort_values(by='id').reset_index(drop=True)\n",
    "train_labels = train_labels.merge(train_data[['id']], on='id')\n",
    "train_data = train_data.sort_values(by='id').reset_index(drop=True)\n",
    "train_ids = train_labels[['id']].copy()\n",
    "train_data = train_data.drop('id', axis=1)\n",
    "train_labels = train_labels.drop('id', axis=1)\n",
    "print('train_data:', train_data.shape, train_labels.shape)\n",
    "del train_score_1, train_score_2"
   ]
  },
  {
   "cell_type": "code",
   "execution_count": 14,
   "metadata": {},
   "outputs": [
    {
     "name": "stdout",
     "output_type": "stream",
     "text": [
      "test_data: (153164, 66)\n"
     ]
    }
   ],
   "source": [
    "test_score_1 = pd.read_csv('../data/submit/model_1.csv')\n",
    "test_score_1.columns = [test_score_1.columns[0]] + ['m1_' + x for x in test_score_1.columns[1:]]\n",
    "test_score_2 = pd.read_csv('../data/submit/model_2.csv')\n",
    "test_score_2.columns = [test_score_2.columns[0]] + ['m2_' + x for x in test_score_2.columns[1:]]\n",
    "test_score_3 = pd.read_csv('../data/submit/model_3.csv')\n",
    "test_score_3.columns = [test_score_3.columns[0]] + ['m3_' + x for x in test_score_3.columns[1:]]\n",
    "test_score_4 = pd.read_csv('../data/submit/model_4.csv')\n",
    "test_score_4.columns = [test_score_4.columns[0]] + ['m4_' + x for x in test_score_4.columns[1:]]\n",
    "test_score_5 = pd.read_csv('../data/submit/model_5.csv')\n",
    "test_score_5.columns = [test_score_5.columns[0]] + ['m5_' + x for x in test_score_5.columns[1:]]\n",
    "test_score_6 = pd.read_csv('../data/submit/model_6.csv')\n",
    "test_score_6.columns = [test_score_6.columns[0]] + ['m6_' + x for x in test_score_6.columns[1:]]\n",
    "test_score_7 = pd.read_csv('../data/submit/model_7.csv')\n",
    "test_score_7.columns = [test_score_7.columns[0]] + ['m7_' + x for x in test_score_7.columns[1:]]\n",
    "test_score_8 = pd.read_csv('../data/submit/model_8.csv')\n",
    "test_score_8.columns = [test_score_8.columns[0]] + ['m8_' + x for x in test_score_8.columns[1:]]\n",
    "test_score_9 = pd.read_csv('../data/submit/model_9.csv')\n",
    "test_score_9.columns = [test_score_9.columns[0]] + ['m9_' + x for x in test_score_9.columns[1:]]\n",
    "test_score_10 = pd.read_csv('../data/submit/model_10.csv')\n",
    "test_score_10.columns = [test_score_10.columns[0]] + ['m10_' + x for x in test_score_10.columns[1:]]\n",
    "test_score_11 = pd.read_csv('../data/submit/model_11.csv')\n",
    "test_score_11.columns = [test_score_11.columns[0]] + ['m11_' + x for x in test_score_11.columns[1:]]\n",
    "\n",
    "test_data = test_score_1.merge(test_score_2, on='id')\n",
    "test_data = test_data.merge(test_score_3, on='id')\n",
    "test_data = test_data.merge(test_score_4, on='id')\n",
    "test_data = test_data.merge(test_score_5, on='id')\n",
    "test_data = test_data.merge(test_score_6, on='id')\n",
    "test_data = test_data.merge(test_score_7, on='id')\n",
    "test_data = test_data.merge(test_score_8, on='id')\n",
    "test_data = test_data.merge(test_score_9, on='id')\n",
    "test_data = test_data.merge(test_score_10, on='id')\n",
    "test_data = test_data.merge(test_score_11, on='id')\n",
    "\n",
    "test_ids = test_data[['id']].copy()\n",
    "test_data = test_data.drop('id', axis=1)\n",
    "print('test_data:', test_data.shape)\n",
    "del test_score_1, test_score_2"
   ]
  },
  {
   "cell_type": "markdown",
   "metadata": {},
   "source": [
    "### model"
   ]
  },
  {
   "cell_type": "code",
   "execution_count": 15,
   "metadata": {},
   "outputs": [],
   "source": [
    "overall = 0. \n",
    "\n",
    "def eval_metric(labels, predict):\n",
    "    fpr, tpr, threshold = roc_curve(labels, predict)\n",
    "    return round(auc(fpr, tpr),4)\n",
    "    \n",
    "def model(label):\n",
    "    feats = ['m1_' + label, 'm2_' + label,'m3_' + label, 'm4_' + label, 'm5_' + label, 'm6_' + label]\n",
    "    feats += ['m7_' + label, 'm8_' + label,'m9_' + label, 'm10_' + label, 'm11_' + label]\n",
    "    scores = train_data[feats]\n",
    "    scores[label] = scores.apply(lambda x : np.mean(x), axis=1)\n",
    "    labels = train_labels[label]\n",
    "    print('auc:', eval_metric(labels,scores[label]))\n",
    "    model = train_ids.copy()\n",
    "    model[label] = scores[label].copy()\n",
    "    global overall\n",
    "    overall += eval_metric(labels,scores[label])\n",
    "    scores = test_data[feats]\n",
    "    scores[label] = scores.apply(lambda x : np.mean(x), axis=1)\n",
    "    submit = test_ids.copy()\n",
    "    submit[label] = scores[label].copy()\n",
    "    return [model, submit]"
   ]
  },
  {
   "cell_type": "code",
   "execution_count": 16,
   "metadata": {},
   "outputs": [
    {
     "name": "stdout",
     "output_type": "stream",
     "text": [
      "auc: 0.9873\n",
      "auc: 0.9922\n",
      "auc: 0.9947\n",
      "auc: 0.9938\n",
      "auc: 0.9896\n",
      "auc: 0.9909\n"
     ]
    }
   ],
   "source": [
    "toxic = model('toxic')\n",
    "severe_toxic = model('severe_toxic')\n",
    "obscene = model('obscene')\n",
    "threat = model('threat')\n",
    "insult = model('insult')\n",
    "identity_hate = model('identity_hate')"
   ]
  },
  {
   "cell_type": "code",
   "execution_count": 17,
   "metadata": {},
   "outputs": [],
   "source": [
    "model = toxic[0].copy()\n",
    "model = model.merge(severe_toxic[0], on='id')\n",
    "model = model.merge(obscene[0], on='id')\n",
    "model = model.merge(threat[0], on='id')\n",
    "model = model.merge(insult[0], on='id')\n",
    "model = model.merge(identity_hate[0], on='id')"
   ]
  },
  {
   "cell_type": "code",
   "execution_count": 18,
   "metadata": {},
   "outputs": [],
   "source": [
    "submit = toxic[1].copy()\n",
    "submit = submit.merge(severe_toxic[1], on='id')\n",
    "submit = submit.merge(obscene[1], on='id')\n",
    "submit = submit.merge(threat[1], on='id')\n",
    "submit = submit.merge(insult[1], on='id')\n",
    "submit = submit.merge(identity_hate[1], on='id')"
   ]
  },
  {
   "cell_type": "code",
   "execution_count": 19,
   "metadata": {},
   "outputs": [
    {
     "data": {
      "text/html": [
       "<div>\n",
       "<style scoped>\n",
       "    .dataframe tbody tr th:only-of-type {\n",
       "        vertical-align: middle;\n",
       "    }\n",
       "\n",
       "    .dataframe tbody tr th {\n",
       "        vertical-align: top;\n",
       "    }\n",
       "\n",
       "    .dataframe thead th {\n",
       "        text-align: right;\n",
       "    }\n",
       "</style>\n",
       "<table border=\"1\" class=\"dataframe\">\n",
       "  <thead>\n",
       "    <tr style=\"text-align: right;\">\n",
       "      <th></th>\n",
       "      <th>id</th>\n",
       "      <th>toxic</th>\n",
       "      <th>severe_toxic</th>\n",
       "      <th>obscene</th>\n",
       "      <th>threat</th>\n",
       "      <th>insult</th>\n",
       "      <th>identity_hate</th>\n",
       "    </tr>\n",
       "  </thead>\n",
       "  <tbody>\n",
       "    <tr>\n",
       "      <th>0</th>\n",
       "      <td>0000997932d777bf</td>\n",
       "      <td>0.001227</td>\n",
       "      <td>7.523976e-09</td>\n",
       "      <td>0.000179</td>\n",
       "      <td>1.957137e-07</td>\n",
       "      <td>1.694774e-05</td>\n",
       "      <td>4.830509e-07</td>\n",
       "    </tr>\n",
       "    <tr>\n",
       "      <th>1</th>\n",
       "      <td>000103f0d9cfb60f</td>\n",
       "      <td>0.000877</td>\n",
       "      <td>1.889046e-07</td>\n",
       "      <td>0.000270</td>\n",
       "      <td>5.135973e-07</td>\n",
       "      <td>4.733306e-05</td>\n",
       "      <td>1.202104e-06</td>\n",
       "    </tr>\n",
       "    <tr>\n",
       "      <th>2</th>\n",
       "      <td>00013fa6fb6ef643</td>\n",
       "      <td>0.000872</td>\n",
       "      <td>1.930340e-07</td>\n",
       "      <td>0.000192</td>\n",
       "      <td>1.152910e-06</td>\n",
       "      <td>5.630659e-05</td>\n",
       "      <td>2.064667e-06</td>\n",
       "    </tr>\n",
       "    <tr>\n",
       "      <th>3</th>\n",
       "      <td>0001b41b1c6bb37e</td>\n",
       "      <td>0.000014</td>\n",
       "      <td>1.280402e-08</td>\n",
       "      <td>0.000002</td>\n",
       "      <td>4.085821e-09</td>\n",
       "      <td>1.874131e-07</td>\n",
       "      <td>6.093495e-08</td>\n",
       "    </tr>\n",
       "    <tr>\n",
       "      <th>4</th>\n",
       "      <td>0001d958c54c6e35</td>\n",
       "      <td>0.016324</td>\n",
       "      <td>1.910435e-06</td>\n",
       "      <td>0.000685</td>\n",
       "      <td>4.125123e-05</td>\n",
       "      <td>2.022051e-03</td>\n",
       "      <td>1.082219e-04</td>\n",
       "    </tr>\n",
       "  </tbody>\n",
       "</table>\n",
       "</div>"
      ],
      "text/plain": [
       "                 id     toxic  severe_toxic   obscene        threat  \\\n",
       "0  0000997932d777bf  0.001227  7.523976e-09  0.000179  1.957137e-07   \n",
       "1  000103f0d9cfb60f  0.000877  1.889046e-07  0.000270  5.135973e-07   \n",
       "2  00013fa6fb6ef643  0.000872  1.930340e-07  0.000192  1.152910e-06   \n",
       "3  0001b41b1c6bb37e  0.000014  1.280402e-08  0.000002  4.085821e-09   \n",
       "4  0001d958c54c6e35  0.016324  1.910435e-06  0.000685  4.125123e-05   \n",
       "\n",
       "         insult  identity_hate  \n",
       "0  1.694774e-05   4.830509e-07  \n",
       "1  4.733306e-05   1.202104e-06  \n",
       "2  5.630659e-05   2.064667e-06  \n",
       "3  1.874131e-07   6.093495e-08  \n",
       "4  2.022051e-03   1.082219e-04  "
      ]
     },
     "execution_count": 19,
     "metadata": {},
     "output_type": "execute_result"
    }
   ],
   "source": [
    "model.head()"
   ]
  },
  {
   "cell_type": "code",
   "execution_count": 20,
   "metadata": {},
   "outputs": [
    {
     "data": {
      "text/html": [
       "<div>\n",
       "<style scoped>\n",
       "    .dataframe tbody tr th:only-of-type {\n",
       "        vertical-align: middle;\n",
       "    }\n",
       "\n",
       "    .dataframe tbody tr th {\n",
       "        vertical-align: top;\n",
       "    }\n",
       "\n",
       "    .dataframe thead th {\n",
       "        text-align: right;\n",
       "    }\n",
       "</style>\n",
       "<table border=\"1\" class=\"dataframe\">\n",
       "  <thead>\n",
       "    <tr style=\"text-align: right;\">\n",
       "      <th></th>\n",
       "      <th>id</th>\n",
       "      <th>toxic</th>\n",
       "      <th>severe_toxic</th>\n",
       "      <th>obscene</th>\n",
       "      <th>threat</th>\n",
       "      <th>insult</th>\n",
       "      <th>identity_hate</th>\n",
       "    </tr>\n",
       "  </thead>\n",
       "  <tbody>\n",
       "    <tr>\n",
       "      <th>0</th>\n",
       "      <td>00001cee341fdb12</td>\n",
       "      <td>0.998402</td>\n",
       "      <td>3.632316e-01</td>\n",
       "      <td>0.979559</td>\n",
       "      <td>1.334020e-01</td>\n",
       "      <td>0.938074</td>\n",
       "      <td>4.732000e-01</td>\n",
       "    </tr>\n",
       "    <tr>\n",
       "      <th>1</th>\n",
       "      <td>0000247867823ef7</td>\n",
       "      <td>0.000089</td>\n",
       "      <td>1.005954e-08</td>\n",
       "      <td>0.000004</td>\n",
       "      <td>8.680075e-09</td>\n",
       "      <td>0.000003</td>\n",
       "      <td>1.307679e-07</td>\n",
       "    </tr>\n",
       "    <tr>\n",
       "      <th>2</th>\n",
       "      <td>00013b17ad220c46</td>\n",
       "      <td>0.000161</td>\n",
       "      <td>1.277422e-07</td>\n",
       "      <td>0.000027</td>\n",
       "      <td>1.698337e-08</td>\n",
       "      <td>0.000011</td>\n",
       "      <td>1.550645e-06</td>\n",
       "    </tr>\n",
       "    <tr>\n",
       "      <th>3</th>\n",
       "      <td>00017563c3f7919a</td>\n",
       "      <td>0.000044</td>\n",
       "      <td>1.138567e-08</td>\n",
       "      <td>0.000003</td>\n",
       "      <td>1.727253e-07</td>\n",
       "      <td>0.000002</td>\n",
       "      <td>7.533181e-08</td>\n",
       "    </tr>\n",
       "    <tr>\n",
       "      <th>4</th>\n",
       "      <td>00017695ad8997eb</td>\n",
       "      <td>0.003828</td>\n",
       "      <td>1.583933e-06</td>\n",
       "      <td>0.000542</td>\n",
       "      <td>9.261287e-06</td>\n",
       "      <td>0.000131</td>\n",
       "      <td>1.262612e-05</td>\n",
       "    </tr>\n",
       "  </tbody>\n",
       "</table>\n",
       "</div>"
      ],
      "text/plain": [
       "                 id     toxic  severe_toxic   obscene        threat    insult  \\\n",
       "0  00001cee341fdb12  0.998402  3.632316e-01  0.979559  1.334020e-01  0.938074   \n",
       "1  0000247867823ef7  0.000089  1.005954e-08  0.000004  8.680075e-09  0.000003   \n",
       "2  00013b17ad220c46  0.000161  1.277422e-07  0.000027  1.698337e-08  0.000011   \n",
       "3  00017563c3f7919a  0.000044  1.138567e-08  0.000003  1.727253e-07  0.000002   \n",
       "4  00017695ad8997eb  0.003828  1.583933e-06  0.000542  9.261287e-06  0.000131   \n",
       "\n",
       "   identity_hate  \n",
       "0   4.732000e-01  \n",
       "1   1.307679e-07  \n",
       "2   1.550645e-06  \n",
       "3   7.533181e-08  \n",
       "4   1.262612e-05  "
      ]
     },
     "execution_count": 20,
     "metadata": {},
     "output_type": "execute_result"
    }
   ],
   "source": [
    "submit.head()"
   ]
  },
  {
   "cell_type": "code",
   "execution_count": 21,
   "metadata": {},
   "outputs": [],
   "source": [
    "model.to_csv('../data/model/simple_stack.csv', index=False)"
   ]
  },
  {
   "cell_type": "code",
   "execution_count": 22,
   "metadata": {},
   "outputs": [],
   "source": [
    "submit.to_csv('../data/submit/simple_stack.csv', index=False)"
   ]
  },
  {
   "cell_type": "code",
   "execution_count": 23,
   "metadata": {},
   "outputs": [
    {
     "data": {
      "text/plain": [
       "0.99141666666666672"
      ]
     },
     "execution_count": 23,
     "metadata": {},
     "output_type": "execute_result"
    }
   ],
   "source": [
    "overall / 6"
   ]
  },
  {
   "cell_type": "code",
   "execution_count": null,
   "metadata": {},
   "outputs": [],
   "source": []
  }
 ],
 "metadata": {
  "kernelspec": {
   "display_name": "Python 3",
   "language": "python",
   "name": "python3"
  },
  "language_info": {
   "codemirror_mode": {
    "name": "ipython",
    "version": 3
   },
   "file_extension": ".py",
   "mimetype": "text/x-python",
   "name": "python",
   "nbconvert_exporter": "python",
   "pygments_lexer": "ipython3",
   "version": "3.6.3"
  }
 },
 "nbformat": 4,
 "nbformat_minor": 2
}
