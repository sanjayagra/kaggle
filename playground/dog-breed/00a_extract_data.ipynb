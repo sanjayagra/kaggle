{
 "cells": [
  {
   "cell_type": "code",
   "execution_count": 1,
   "metadata": {
    "collapsed": true
   },
   "outputs": [],
   "source": [
    "import pandas as pd\n",
    "import glob\n",
    "import os\n",
    "import shutil\n",
    "import seaborn as sns\n",
    "import matplotlib.pyplot as plt\n",
    "from scipy.misc import imread, imresize, imsave \n",
    "%matplotlib inline"
   ]
  },
  {
   "cell_type": "markdown",
   "metadata": {},
   "source": [
    "### train files"
   ]
  },
  {
   "cell_type": "code",
   "execution_count": 2,
   "metadata": {},
   "outputs": [
    {
     "name": "stdout",
     "output_type": "stream",
     "text": [
      "2500 images processed...\n",
      "5000 images processed...\n",
      "7500 images processed...\n",
      "10000 images processed...\n"
     ]
    }
   ],
   "source": [
    "labels = pd.read_csv('../data/download/labels.csv')\n",
    "\n",
    "folders = set(labels['breed'].values)\n",
    "for name in folders:\n",
    "    try:\n",
    "        os.mkdir('../data/train/{}/'.format(name))\n",
    "    except FileExistsError:\n",
    "        pass\n",
    "    try:\n",
    "        os.mkdir('../data/valid/{}/'.format(name))\n",
    "    except FileExistsError:\n",
    "        pass\n",
    "\n",
    "files = glob.glob('../data/download/train/*.jpg')\n",
    "labels = labels.set_index('id').to_dict()['breed']\n",
    "\n",
    "for idx, name in enumerate(files):\n",
    "    lookup = name.split('/')[-1].replace('.jpg','')\n",
    "    if max(idx,1) % 2500 == 0:\n",
    "        print('{} images processed...'.format(idx))\n",
    "    if idx % 10 == 0:\n",
    "        shutil.copy2(name,'../data/valid/' + labels[lookup] + '/')\n",
    "        image = imread('../data/valid/' + labels[lookup] + '/' + lookup + '.jpg')\n",
    "        image = imresize(image,size=(225,225))\n",
    "        imsave('../data/valid/' + labels[lookup] + '/' + lookup + '.jpg', image)\n",
    "    else:\n",
    "        shutil.copy2(name,'../data/train/' + labels[lookup] + '/')\n",
    "        image = imread('../data/train/' + labels[lookup] + '/' + lookup + '.jpg')\n",
    "        image = imresize(image,size=(225,225))\n",
    "        imsave('../data/train/' + labels[lookup] + '/' + lookup + '.jpg', image)"
   ]
  },
  {
   "cell_type": "markdown",
   "metadata": {},
   "source": [
    "### test files"
   ]
  },
  {
   "cell_type": "code",
   "execution_count": 3,
   "metadata": {},
   "outputs": [
    {
     "name": "stdout",
     "output_type": "stream",
     "text": [
      "2500 images processed...\n",
      "5000 images processed...\n",
      "7500 images processed...\n",
      "10000 images processed...\n"
     ]
    }
   ],
   "source": [
    "files = glob.glob('../data/download/test/*.jpg')\n",
    "\n",
    "for idx, name in enumerate(files):\n",
    "    if max(idx,1) % 2500 == 0:\n",
    "        print('{} images processed...'.format(idx))\n",
    "    lookup = name.split('/')[-1].replace('.jpg','')\n",
    "    shutil.copy2(name,'../data/test/test/')\n",
    "    image = imread('../data/test/test/' + lookup + '.jpg')\n",
    "    image = imresize(image,size=(225,225))\n",
    "    imsave('../data/test/test/' + lookup + '.jpg', image)"
   ]
  },
  {
   "cell_type": "markdown",
   "metadata": {},
   "source": [
    "### class distribution"
   ]
  },
  {
   "cell_type": "code",
   "execution_count": 4,
   "metadata": {},
   "outputs": [
    {
     "data": {
      "image/png": "[encoded data removed]",
      "text/plain": [
       "<matplotlib.figure.Figure at 0x7f049ebc7be0>"
      ]
     },
     "metadata": {},
     "output_type": "display_data"
    }
   ],
   "source": [
    "labels = pd.read_csv('../data/download/labels.csv')\n",
    "labels = labels['breed'].value_counts().reset_index()\n",
    "plt.figure(figsize=(8,5))\n",
    "sns.distplot(labels['breed'], kde=False)\n",
    "plt.show()"
   ]
  },
  {
   "cell_type": "code",
   "execution_count": 5,
   "metadata": {},
   "outputs": [
    {
     "name": "stdout",
     "output_type": "stream",
     "text": [
      "train data has 9199 files.\n",
      "valid data has 1023 files.\n",
      "test data has 10357 files.\n"
     ]
    }
   ],
   "source": [
    "train_files = glob.iglob('../data/train/**/*.jpg', recursive=True)\n",
    "valid_files = glob.iglob('../data/valid/**/*.jpg', recursive=True)\n",
    "test_files  = glob.iglob('../data/test/test/*.jpg')\n",
    "print('train data has {} files.'.format(len(list(train_files))))\n",
    "print('valid data has {} files.'.format(len(list(valid_files))))\n",
    "print('test data has {} files.'.format(len(list(test_files))))"
   ]
  },
  {
   "cell_type": "code",
   "execution_count": 6,
   "metadata": {},
   "outputs": [
    {
     "name": "stdout",
     "output_type": "stream",
     "text": [
      "train data has 120 classes.\n",
      "valid data has 120 classes.\n"
     ]
    }
   ],
   "source": [
    "train_files = list(glob.iglob('../data/train/**/*.jpg', recursive=True))\n",
    "valid_files = list(glob.iglob('../data/valid/**/*.jpg', recursive=True))\n",
    "train_class = {x.split('/')[-2] for x in train_files}\n",
    "valid_class = {x.split('/')[-2] for x in valid_files}\n",
    "print('train data has {} classes.'.format(len(list(train_class))))\n",
    "print('valid data has {} classes.'.format(len(list(valid_class))))"
   ]
  },
  {
   "cell_type": "code",
   "execution_count": null,
   "metadata": {
    "collapsed": true
   },
   "outputs": [],
   "source": []
  }
 ],
 "metadata": {
  "anaconda-cloud": {},
  "kernelspec": {
   "display_name": "Python 3",
   "language": "python",
   "name": "python3"
  },
  "language_info": {
   "codemirror_mode": {
    "name": "ipython",
    "version": 3
   },
   "file_extension": ".py",
   "mimetype": "text/x-python",
   "name": "python",
   "nbconvert_exporter": "python",
   "pygments_lexer": "ipython3",
   "version": "3.6.2"
  }
 },
 "nbformat": 4,
 "nbformat_minor": 1
}
