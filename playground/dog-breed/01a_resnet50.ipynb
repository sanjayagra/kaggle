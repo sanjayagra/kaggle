{
 "cells": [
  {
   "cell_type": "code",
   "execution_count": 1,
   "metadata": {
    "collapsed": true
   },
   "outputs": [],
   "source": [
    "import torch\n",
    "import torchvision\n",
    "import time\n",
    "import numpy as np\n",
    "import pandas as pd\n",
    "from torch.utils.data import Dataset, DataLoader\n",
    "from torchvision import transforms, datasets, models\n",
    "from torch.autograd import Variable\n",
    "from torch.optim import lr_scheduler, Adam\n",
    "from functools import reduce"
   ]
  },
  {
   "cell_type": "code",
   "execution_count": 2,
   "metadata": {},
   "outputs": [
    {
     "data": {
      "text/plain": [
       "True"
      ]
     },
     "execution_count": 2,
     "metadata": {},
     "output_type": "execute_result"
    }
   ],
   "source": [
    "torch.manual_seed(108)\n",
    "torch.cuda.is_available()"
   ]
  },
  {
   "cell_type": "markdown",
   "metadata": {},
   "source": [
    "### data load + transform"
   ]
  },
  {
   "cell_type": "code",
   "execution_count": 3,
   "metadata": {
    "collapsed": true
   },
   "outputs": [],
   "source": [
    "data_transform = []\n",
    "data_transform.append(transforms.RandomHorizontalFlip())\n",
    "data_transform.append(transforms.ToTensor())\n",
    "data_transform.append(transforms.Normalize(mean=[0.485, 0.456, 0.406], std=[0.229, 0.224, 0.225]))\n",
    "data_transform = transforms.Compose(data_transform)\n",
    "\n",
    "train_directory = datasets.ImageFolder(root='../data/train/', transform=data_transform)\n",
    "train_generator = torch.utils.data.DataLoader(train_directory, batch_size=4, shuffle=True, num_workers=4)\n",
    "valid_directory = datasets.ImageFolder(root='../data/valid/', transform=data_transform)\n",
    "valid_generator = torch.utils.data.DataLoader(valid_directory, batch_size=16, shuffle=True, num_workers=4)"
   ]
  },
  {
   "cell_type": "markdown",
   "metadata": {},
   "source": [
    "### model"
   ]
  },
  {
   "cell_type": "code",
   "execution_count": 4,
   "metadata": {
    "collapsed": true
   },
   "outputs": [],
   "source": [
    "model = models.resnet50(pretrained=True)\n",
    "\n",
    "for param in model.parameters():\n",
    "    param.requires_grad = False\n",
    "\n",
    "model.fc = torch.nn.Linear(2048, 120)\n",
    "# scheduler = lr_scheduler.ReduceLROnPlateau(optimizer, factor=0.33, min_lr=0.00001, patience=2)"
   ]
  },
  {
   "cell_type": "code",
   "execution_count": 5,
   "metadata": {
    "collapsed": true
   },
   "outputs": [],
   "source": [
    "def execute(model, optimizer, num_epochs):\n",
    "    \n",
    "    model = model.cuda()\n",
    "    criterion = torch.nn.CrossEntropyLoss()\n",
    "    \n",
    "    # train model\n",
    "    for epoch in range(num_epochs):\n",
    "        model.train(True)\n",
    "        running_loss = 0.\n",
    "        running_corrects = 0.\n",
    "        for data in train_generator:\n",
    "            inputs, labels = data\n",
    "            inputs = Variable(inputs.cuda())\n",
    "            labels = Variable(labels.cuda())\n",
    "            optimizer.zero_grad()\n",
    "            outputs = model(inputs)\n",
    "            _, preds = torch.max(outputs.data, 1)\n",
    "            loss = criterion(outputs, labels)\n",
    "            loss.backward()\n",
    "            optimizer.step()\n",
    "            running_loss += loss.data[0]\n",
    "            running_corrects += torch.sum(preds == labels.data)\n",
    "        epoch_loss = running_loss / 9199\n",
    "        epoch_accuracy = running_corrects / 9199\n",
    "        print('epoch {} completed..'.format(epoch))\n",
    "        print('train loss: {:.4f},  train accuracy: {:.4f}'.format(epoch_loss, epoch_accuracy))\n",
    "        \n",
    "        # score model\n",
    "        model.train(False)\n",
    "        running_loss = 0.\n",
    "        running_corrects = 0.\n",
    "        for data in valid_generator:\n",
    "            inputs, labels = data\n",
    "            inputs = Variable(inputs.cuda())\n",
    "            labels = Variable(labels.cuda())\n",
    "            outputs = model(inputs)\n",
    "            _, preds = torch.max(outputs.data, 1)\n",
    "            loss = criterion(outputs, labels)\n",
    "            running_loss += loss.data[0]\n",
    "            running_corrects += torch.sum(preds == labels.data)\n",
    "        epoch_loss = running_loss / 1023\n",
    "        epoch_accuracy = running_corrects / 1023\n",
    "        print('valid loss: {:.4f}, valid accuracy: {:.4f}'.format(epoch_loss, epoch_accuracy))\n",
    "            \n",
    "    return model"
   ]
  },
  {
   "cell_type": "code",
   "execution_count": 6,
   "metadata": {},
   "outputs": [
    {
     "name": "stdout",
     "output_type": "stream",
     "text": [
      "epoch 0 completed..\n",
      "train loss: 0.9420,  train accuracy: 0.2336\n",
      "valid loss: 0.1406, valid accuracy: 0.5464\n"
     ]
    }
   ],
   "source": [
    "optimizer = Adam(model.fc.parameters(), lr=0.0001)\n",
    "model = execute(model, optimizer, 1)"
   ]
  },
  {
   "cell_type": "code",
   "execution_count": 7,
   "metadata": {},
   "outputs": [
    {
     "name": "stdout",
     "output_type": "stream",
     "text": [
      "epoch 0 completed..\n",
      "train loss: 0.6208,  train accuracy: 0.4129\n",
      "valid loss: 0.0728, valid accuracy: 0.6911\n",
      "epoch 1 completed..\n",
      "train loss: 0.4805,  train accuracy: 0.5526\n",
      "valid loss: 0.0846, valid accuracy: 0.6911\n",
      "epoch 2 completed..\n",
      "train loss: 0.4590,  train accuracy: 0.5858\n",
      "valid loss: 0.0890, valid accuracy: 0.7107\n"
     ]
    }
   ],
   "source": [
    "optimizer = Adam(model.fc.parameters(), lr=0.001)\n",
    "model = execute(model, optimizer, 3)"
   ]
  },
  {
   "cell_type": "code",
   "execution_count": 8,
   "metadata": {},
   "outputs": [
    {
     "name": "stdout",
     "output_type": "stream",
     "text": [
      "epoch 0 completed..\n",
      "train loss: 0.2272,  train accuracy: 0.7451\n",
      "valid loss: 0.0615, valid accuracy: 0.7625\n",
      "epoch 1 completed..\n",
      "train loss: 0.2073,  train accuracy: 0.7643\n",
      "valid loss: 0.0582, valid accuracy: 0.7810\n",
      "epoch 2 completed..\n",
      "train loss: 0.2074,  train accuracy: 0.7655\n",
      "valid loss: 0.0579, valid accuracy: 0.7732\n"
     ]
    }
   ],
   "source": [
    "optimizer = Adam(model.fc.parameters(), lr=0.0001)\n",
    "model = execute(model, optimizer, 3)"
   ]
  },
  {
   "cell_type": "code",
   "execution_count": 9,
   "metadata": {
    "collapsed": true
   },
   "outputs": [],
   "source": [
    "torch.save(model.state_dict(), '../data/model/resnet50.pth')"
   ]
  },
  {
   "cell_type": "markdown",
   "metadata": {},
   "source": [
    "### score model"
   ]
  },
  {
   "cell_type": "code",
   "execution_count": 10,
   "metadata": {
    "collapsed": true
   },
   "outputs": [],
   "source": [
    "data_transform = []\n",
    "data_transform.append(transforms.ToTensor())\n",
    "data_transform.append(transforms.Normalize(mean=[0.485, 0.456, 0.406], std=[0.229, 0.224, 0.225]))\n",
    "data_transform = transforms.Compose(data_transform)\n",
    "\n",
    "score_directory = datasets.ImageFolder(root='../data/test/', transform=data_transform)\n",
    "score_generator = torch.utils.data.DataLoader(score_directory, batch_size=16, shuffle=False, num_workers=4)"
   ]
  },
  {
   "cell_type": "code",
   "execution_count": 11,
   "metadata": {},
   "outputs": [
    {
     "name": "stdout",
     "output_type": "stream",
     "text": [
      "scored file: (10357, 120)\n"
     ]
    }
   ],
   "source": [
    "outputs = []\n",
    "for data in score_generator:\n",
    "    inputs, labels = data\n",
    "    inputs = Variable(inputs.cuda())\n",
    "    scores = model(inputs)\n",
    "    scores = torch.nn.functional.softmax(scores)\n",
    "    outputs.append(np.array(scores.data.cpu().numpy()))\n",
    "outputs = reduce(lambda x,y : np.vstack((x,y)), outputs)\n",
    "print('scored file:', outputs.shape)"
   ]
  },
  {
   "cell_type": "code",
   "execution_count": 12,
   "metadata": {
    "collapsed": true
   },
   "outputs": [],
   "source": [
    "pd.DataFrame(outputs).to_csv('../data/score/resnet50.csv', index=False, header=False)"
   ]
  },
  {
   "cell_type": "code",
   "execution_count": null,
   "metadata": {
    "collapsed": true
   },
   "outputs": [],
   "source": [
    "### Score - 0.83344"
   ]
  }
 ],
 "metadata": {
  "kernelspec": {
   "display_name": "Python 3",
   "language": "python",
   "name": "python3"
  },
  "language_info": {
   "codemirror_mode": {
    "name": "ipython",
    "version": 3
   },
   "file_extension": ".py",
   "mimetype": "text/x-python",
   "name": "python",
   "nbconvert_exporter": "python",
   "pygments_lexer": "ipython3",
   "version": "3.6.2"
  }
 },
 "nbformat": 4,
 "nbformat_minor": 2
}
