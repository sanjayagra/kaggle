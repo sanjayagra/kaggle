{
 "cells": [
  {
   "cell_type": "code",
   "execution_count": 1,
   "metadata": {
    "collapsed": true
   },
   "outputs": [],
   "source": [
    "import pandas as pd\n",
    "import numpy as np\n",
    "import xgboost as xgb\n",
    "from sklearn.model_selection import KFold\n",
    "import matplotlib.pyplot as plt"
   ]
  },
  {
   "cell_type": "code",
   "execution_count": 2,
   "metadata": {},
   "outputs": [
    {
     "name": "stdout",
     "output_type": "stream",
     "text": [
      "data shapes: (19579, 53)\n"
     ]
    }
   ],
   "source": [
    "text_feats = pd.read_csv('../../data/spooky-author/data/train_text_feats.csv')\n",
    "nb_score = pd.read_csv('../../data/spooky-author/data/train_nb_score.csv').drop(['id', 'author'], axis=1)\n",
    "nb_feats = pd.read_csv('../../data/spooky-author/data/train_nb_feats.csv')\n",
    "nn_score = pd.read_csv('../../data/spooky-author/data/train_nn_score.csv')[['id','keras']]\n",
    "train_data = text_feats.join(nb_feats)\n",
    "train_data = train_data.join(nb_score)\n",
    "train_data = train_data.merge(nn_score, on='id')\n",
    "dependent = pd.read_csv('../../data/spooky-author/download/train.csv', usecols=['id','author'])\n",
    "mapper = {'EAP':0, 'HPL':1, 'MWS':2}\n",
    "dependent['author'] = dependent['author'].map(lambda x : mapper[x])\n",
    "train_data = dependent.merge(train_data, on='id').drop('id', axis=1)\n",
    "print('data shapes:', train_data.shape)\n",
    "train_matrix = xgb.DMatrix(data = train_data.iloc[:,1:], label = train_data['author'])"
   ]
  },
  {
   "cell_type": "code",
   "execution_count": 3,
   "metadata": {
    "collapsed": true
   },
   "outputs": [],
   "source": [
    "booster = {}\n",
    "booster['booster'] = 'gbtree'\n",
    "booster['nthread'] = 7\n",
    "booster['max_depth'] = 3\n",
    "booster['min_child_weight'] = 1\n",
    "booster['subsample'] = 0.8\n",
    "booster['colsample_bytree'] = 1.0\n",
    "booster['colsample_bylevel'] = 0.9\n",
    "booster['lambda'] = 1.0\n",
    "booster['alpha'] = 0.0\n",
    "booster['objective'] = 'multi:softprob'\n",
    "booster['eval_metric'] = ['mlogloss']\n",
    "booster['num_class'] = 3\n",
    "booster['seed'] = 2017"
   ]
  },
  {
   "cell_type": "code",
   "execution_count": 4,
   "metadata": {
    "collapsed": true
   },
   "outputs": [],
   "source": [
    "params = {}\n",
    "params['params'] = booster\n",
    "params['dtrain'] = train_matrix\n",
    "params['num_boost_round'] = 2000\n",
    "params['folds'] =  KFold(n_splits=5, random_state=2017, shuffle=True).split(train_data)\n",
    "params['early_stopping_rounds'] = 50\n",
    "params['verbose_eval'] = 100\n",
    "params['show_stdv'] = False\n",
    "params['callbacks'] = [xgb.callback.reset_learning_rate([0.05] * 2000)]"
   ]
  },
  {
   "cell_type": "code",
   "execution_count": 5,
   "metadata": {},
   "outputs": [
    {
     "name": "stdout",
     "output_type": "stream",
     "text": [
      "[0]\ttrain-mlogloss:1.04826\ttest-mlogloss:1.0486\n",
      "[100]\ttrain-mlogloss:0.321079\ttest-mlogloss:0.342846\n",
      "[200]\ttrain-mlogloss:0.278196\ttest-mlogloss:0.321653\n",
      "[300]\ttrain-mlogloss:0.252204\ttest-mlogloss:0.314913\n",
      "[400]\ttrain-mlogloss:0.231661\ttest-mlogloss:0.31162\n",
      "[500]\ttrain-mlogloss:0.214224\ttest-mlogloss:0.310236\n",
      "[600]\ttrain-mlogloss:0.198933\ttest-mlogloss:0.309644\n",
      "[700]\ttrain-mlogloss:0.184865\ttest-mlogloss:0.309103\n"
     ]
    }
   ],
   "source": [
    "model = xgb.cv(**params)"
   ]
  },
  {
   "cell_type": "code",
   "execution_count": 6,
   "metadata": {
    "collapsed": true
   },
   "outputs": [],
   "source": [
    "params = {}\n",
    "params['params'] = booster\n",
    "params['dtrain'] = train_matrix\n",
    "params['num_boost_round'] = 700\n",
    "params['verbose_eval'] = 200\n",
    "params['callbacks'] = [xgb.callback.reset_learning_rate([0.05] * 700)]\n",
    "model = xgb.train(**params)"
   ]
  },
  {
   "cell_type": "code",
   "execution_count": 7,
   "metadata": {
    "collapsed": true
   },
   "outputs": [],
   "source": [
    "model.save_model('../../data/spooky-author/data/xgb_model')"
   ]
  },
  {
   "cell_type": "code",
   "execution_count": null,
   "metadata": {
    "collapsed": true
   },
   "outputs": [],
   "source": []
  }
 ],
 "metadata": {
  "kernelspec": {
   "display_name": "Python 3",
   "language": "python",
   "name": "python3"
  },
  "language_info": {
   "codemirror_mode": {
    "name": "ipython",
    "version": 3
   },
   "file_extension": ".py",
   "mimetype": "text/x-python",
   "name": "python",
   "nbconvert_exporter": "python",
   "pygments_lexer": "ipython3",
   "version": "3.6.3"
  }
 },
 "nbformat": 4,
 "nbformat_minor": 2
}
