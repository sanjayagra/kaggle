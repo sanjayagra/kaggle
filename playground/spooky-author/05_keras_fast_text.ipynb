{
 "cells": [
  {
   "cell_type": "code",
   "execution_count": 1,
   "metadata": {},
   "outputs": [
    {
     "name": "stderr",
     "output_type": "stream",
     "text": [
      "Using TensorFlow backend.\n",
      "/home/ubuntu/src/anaconda3/envs/fastai/lib/python3.6/importlib/_bootstrap.py:219: RuntimeWarning: compiletime version 3.5 of module 'tensorflow.python.framework.fast_tensor_util' does not match runtime version 3.6\n",
      "  return f(*args, **kwds)\n"
     ]
    }
   ],
   "source": [
    "import pandas as pd\n",
    "import numpy as np\n",
    "import keras\n",
    "from keras.layers import Dense, GlobalAveragePooling1D, Embedding\n",
    "from keras.callbacks import EarlyStopping\n",
    "from keras.models import Sequential\n",
    "from keras.preprocessing.text import Tokenizer\n",
    "from keras.preprocessing.sequence import pad_sequences\n",
    "from keras.utils import to_categorical\n",
    "from keras.optimizers import Adam\n",
    "import os\n",
    "np.random.seed(2017)"
   ]
  },
  {
   "cell_type": "code",
   "execution_count": 2,
   "metadata": {
    "collapsed": true
   },
   "outputs": [],
   "source": [
    "train_data = pd.read_csv('../../data/spooky-author/download/train.csv')\n",
    "mapper = {'EAP':0, 'HPL':1, 'MWS':2}\n",
    "train_data['author'] = train_data['author'].map(lambda x : mapper[x])"
   ]
  },
  {
   "cell_type": "code",
   "execution_count": 3,
   "metadata": {},
   "outputs": [
    {
     "name": "stdout",
     "output_type": "stream",
     "text": [
      "data: (19579, 90)\n",
      "label: (19579, 3)\n"
     ]
    }
   ],
   "source": [
    "texts = train_data['text'].values.tolist()\n",
    "tokenizer = Tokenizer()\n",
    "tokenizer.fit_on_texts(texts)\n",
    "sequences = tokenizer.texts_to_sequences(texts)\n",
    "word_index = tokenizer.word_index\n",
    "data = pad_sequences(sequences, maxlen=90)\n",
    "labels = to_categorical(train_data['author'].values.tolist())\n",
    "print('data:', data.shape)\n",
    "print('label:', labels.shape)"
   ]
  },
  {
   "cell_type": "code",
   "execution_count": 4,
   "metadata": {
    "collapsed": true
   },
   "outputs": [],
   "source": [
    "indices = np.arange(data.shape[0])\n",
    "np.random.shuffle(indices)\n",
    "data = data[indices]\n",
    "labels = labels[indices]\n",
    "nb_validation_samples = int(0.20 * data.shape[0])\n",
    "x_train = data[:-nb_validation_samples]\n",
    "y_train = labels[:-nb_validation_samples]\n",
    "x_val = data[-nb_validation_samples:]\n",
    "y_val = labels[-nb_validation_samples:]"
   ]
  },
  {
   "cell_type": "code",
   "execution_count": 5,
   "metadata": {
    "collapsed": true
   },
   "outputs": [],
   "source": [
    "embeddings_index = {}\n",
    "\n",
    "f = open(os.path.join('../../src/pip/glove/glove.6B.50d.txt'))\n",
    "\n",
    "for line in f:\n",
    "    values = line.split()\n",
    "    word = values[0]\n",
    "    coefs = np.asarray(values[1:], dtype='float32')\n",
    "    embeddings_index[word] = coefs\n",
    "f.close()\n",
    "\n",
    "embedding_matrix = np.zeros((len(word_index) + 1, 50))\n",
    "for word, i in word_index.items():\n",
    "    embedding_vector = embeddings_index.get(word)\n",
    "    if embedding_vector is not None:\n",
    "        embedding_matrix[i] = embedding_vector\n",
    "\n",
    "del embeddings_index\n",
    "\n",
    "embedding_layer = Embedding(len(word_index) + 1, 50, weights=[embedding_matrix], input_length=90, trainable=True)"
   ]
  },
  {
   "cell_type": "code",
   "execution_count": 6,
   "metadata": {
    "collapsed": true
   },
   "outputs": [],
   "source": [
    "model = Sequential()\n",
    "model.add(embedding_layer)\n",
    "model.add(GlobalAveragePooling1D())\n",
    "model.add(Dense(3, activation='softmax'))\n",
    "optimizer = Adam(lr=0.0001)\n",
    "model.compile(loss='categorical_crossentropy',optimizer=optimizer,metrics=['accuracy'])"
   ]
  },
  {
   "cell_type": "code",
   "execution_count": 7,
   "metadata": {},
   "outputs": [
    {
     "name": "stdout",
     "output_type": "stream",
     "text": [
      "Train on 15664 samples, validate on 3915 samples\n",
      "Epoch 1/20\n",
      "15664/15664 [==============================] - 13s 840us/step - loss: 1.0794 - acc: 0.4054 - val_loss: 1.0642 - val_acc: 0.4286\n",
      "Epoch 2/20\n",
      "15664/15664 [==============================] - 13s 836us/step - loss: 1.0557 - acc: 0.4348 - val_loss: 1.0441 - val_acc: 0.4557\n",
      "Epoch 3/20\n",
      "15664/15664 [==============================] - 13s 831us/step - loss: 1.0336 - acc: 0.4725 - val_loss: 1.0228 - val_acc: 0.4797\n",
      "Epoch 4/20\n",
      "15664/15664 [==============================] - 13s 832us/step - loss: 1.0092 - acc: 0.5048 - val_loss: 0.9995 - val_acc: 0.5086\n",
      "Epoch 5/20\n",
      "15664/15664 [==============================] - 13s 830us/step - loss: 0.9821 - acc: 0.5366 - val_loss: 0.9741 - val_acc: 0.5499\n",
      "Epoch 6/20\n",
      "15664/15664 [==============================] - 13s 833us/step - loss: 0.9524 - acc: 0.5739 - val_loss: 0.9470 - val_acc: 0.5778\n",
      "Epoch 7/20\n",
      "15664/15664 [==============================] - 13s 831us/step - loss: 0.9210 - acc: 0.6069 - val_loss: 0.9192 - val_acc: 0.6020\n",
      "Epoch 8/20\n",
      "15664/15664 [==============================] - 13s 834us/step - loss: 0.8885 - acc: 0.6345 - val_loss: 0.8922 - val_acc: 0.6352\n",
      "Epoch 9/20\n",
      "15664/15664 [==============================] - 13s 833us/step - loss: 0.8563 - acc: 0.6612 - val_loss: 0.8640 - val_acc: 0.6447\n",
      "Epoch 10/20\n",
      "15664/15664 [==============================] - 13s 833us/step - loss: 0.8243 - acc: 0.6833 - val_loss: 0.8367 - val_acc: 0.6570\n",
      "Epoch 11/20\n",
      "15664/15664 [==============================] - 13s 832us/step - loss: 0.7933 - acc: 0.7017 - val_loss: 0.8117 - val_acc: 0.6802\n",
      "Epoch 12/20\n",
      "15664/15664 [==============================] - 13s 834us/step - loss: 0.7634 - acc: 0.7170 - val_loss: 0.7881 - val_acc: 0.6973\n",
      "Epoch 13/20\n",
      "15664/15664 [==============================] - 13s 830us/step - loss: 0.7350 - acc: 0.7346 - val_loss: 0.7641 - val_acc: 0.6978\n",
      "Epoch 14/20\n",
      "15664/15664 [==============================] - 13s 829us/step - loss: 0.7075 - acc: 0.7475 - val_loss: 0.7416 - val_acc: 0.7119\n",
      "Epoch 15/20\n",
      "15664/15664 [==============================] - 13s 831us/step - loss: 0.6815 - acc: 0.7602 - val_loss: 0.7209 - val_acc: 0.7234\n",
      "Epoch 16/20\n",
      "15664/15664 [==============================] - 13s 833us/step - loss: 0.6570 - acc: 0.7719 - val_loss: 0.7016 - val_acc: 0.7308\n",
      "Epoch 17/20\n",
      "15664/15664 [==============================] - 13s 834us/step - loss: 0.6335 - acc: 0.7826 - val_loss: 0.6832 - val_acc: 0.7359\n",
      "Epoch 18/20\n",
      "15664/15664 [==============================] - 13s 831us/step - loss: 0.6112 - acc: 0.7898 - val_loss: 0.6662 - val_acc: 0.7466\n",
      "Epoch 19/20\n",
      "15664/15664 [==============================] - 13s 831us/step - loss: 0.5903 - acc: 0.7986 - val_loss: 0.6498 - val_acc: 0.7525\n",
      "Epoch 20/20\n",
      "15664/15664 [==============================] - 13s 834us/step - loss: 0.5702 - acc: 0.8044 - val_loss: 0.6345 - val_acc: 0.7553\n"
     ]
    },
    {
     "data": {
      "text/plain": [
       "<keras.callbacks.History at 0x7fdd2c051d68>"
      ]
     },
     "execution_count": 7,
     "metadata": {},
     "output_type": "execute_result"
    }
   ],
   "source": [
    "params = {}\n",
    "params['validation_data'] = (x_val, y_val)\n",
    "params['batch_size'] = 8\n",
    "params['epochs'] = 20\n",
    "params['callbacks'] = [EarlyStopping(patience=2, monitor='val_loss')]\n",
    "model.fit(x_train, y_train, **params, )"
   ]
  },
  {
   "cell_type": "code",
   "execution_count": null,
   "metadata": {},
   "outputs": [
    {
     "name": "stdout",
     "output_type": "stream",
     "text": [
      "Train on 15664 samples, validate on 3915 samples\n",
      "Epoch 1/30\n",
      "11528/15664 [=====================>........] - ETA: 3s - loss: 0.5510 - acc: 0.8149"
     ]
    }
   ],
   "source": [
    "params = {}\n",
    "params['validation_data'] = (x_val, y_val)\n",
    "params['batch_size'] = 8\n",
    "params['epochs'] = 30\n",
    "params['callbacks'] = [EarlyStopping(patience=2, monitor='val_loss')]\n",
    "model.optimizer.lr = 0.0001\n",
    "model.fit(x_train, y_train, **params)"
   ]
  },
  {
   "cell_type": "code",
   "execution_count": null,
   "metadata": {
    "collapsed": true
   },
   "outputs": [],
   "source": []
  }
 ],
 "metadata": {
  "kernelspec": {
   "display_name": "Python 3",
   "language": "python",
   "name": "python3"
  },
  "language_info": {
   "codemirror_mode": {
    "name": "ipython",
    "version": 3
   },
   "file_extension": ".py",
   "mimetype": "text/x-python",
   "name": "python",
   "nbconvert_exporter": "python",
   "pygments_lexer": "ipython3",
   "version": "3.6.3"
  }
 },
 "nbformat": 4,
 "nbformat_minor": 2
}
