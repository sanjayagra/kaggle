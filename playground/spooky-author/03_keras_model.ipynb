{
 "cells": [
  {
   "cell_type": "code",
   "execution_count": 1,
   "metadata": {},
   "outputs": [
    {
     "name": "stderr",
     "output_type": "stream",
     "text": [
      "Using TensorFlow backend.\n",
      "/home/ubuntu/src/anaconda3/envs/fastai/lib/python3.6/importlib/_bootstrap.py:219: RuntimeWarning: compiletime version 3.5 of module 'tensorflow.python.framework.fast_tensor_util' does not match runtime version 3.6\n",
      "  return f(*args, **kwds)\n"
     ]
    }
   ],
   "source": [
    "import pandas as pd\n",
    "import numpy as np\n",
    "import keras\n",
    "from keras.layers import Dense, GlobalAveragePooling1D, Embedding\n",
    "from keras.callbacks import EarlyStopping\n",
    "from keras.models import Sequential\n",
    "from keras.preprocessing.text import Tokenizer\n",
    "from keras.preprocessing.sequence import pad_sequences\n",
    "from keras.utils import to_categorical\n",
    "from keras.optimizers import Adam\n",
    "import os\n",
    "pd.options.mode.chained_assignment = None\n",
    "np.random.seed(2017)"
   ]
  },
  {
   "cell_type": "code",
   "execution_count": 2,
   "metadata": {
    "collapsed": true
   },
   "outputs": [],
   "source": [
    "train_data = pd.read_csv('../../data/spooky-author/download/train.csv')\n",
    "test_data = pd.read_csv('../../data/spooky-author/download/test.csv')\n",
    "mapper = {'EAP':0, 'HPL':1, 'MWS':2}\n",
    "train_data['author'] = train_data['author'].map(lambda x : mapper[x])"
   ]
  },
  {
   "cell_type": "code",
   "execution_count": 3,
   "metadata": {},
   "outputs": [
    {
     "name": "stdout",
     "output_type": "stream",
     "text": [
      "words: 29451\n",
      "data: (19579, 90) (8392, 90)\n",
      "label: (19579, 3)\n"
     ]
    }
   ],
   "source": [
    "train_texts = train_data['text'].values.tolist()\n",
    "score_texts = test_data['text'].values.tolist()\n",
    "tokenizer = Tokenizer()\n",
    "tokenizer.fit_on_texts(train_texts + score_texts)\n",
    "train_sequences = tokenizer.texts_to_sequences(train_texts)\n",
    "test_sequences = tokenizer.texts_to_sequences(score_texts)\n",
    "word_index = tokenizer.word_index\n",
    "print('words:', len(word_index))\n",
    "train_seq = pad_sequences(train_sequences, maxlen=90)\n",
    "score_seq = pad_sequences(test_sequences, maxlen=90)\n",
    "labels = to_categorical(train_data['author'].values.tolist())\n",
    "print('data:', train_seq.shape, score_seq.shape)\n",
    "print('label:', labels.shape)"
   ]
  },
  {
   "cell_type": "markdown",
   "metadata": {},
   "source": [
    "### train model"
   ]
  },
  {
   "cell_type": "code",
   "execution_count": 4,
   "metadata": {
    "collapsed": true
   },
   "outputs": [],
   "source": [
    "indices = np.arange(train_seq.shape[0])\n",
    "np.random.shuffle(indices)\n",
    "train_seq = train_seq[indices]\n",
    "labels = labels[indices]\n",
    "nb_validation_samples = int(0.33 * train_seq.shape[0])\n",
    "x_train = train_seq[:-nb_validation_samples]\n",
    "y_train = labels[:-nb_validation_samples]\n",
    "x_val = train_seq[-nb_validation_samples:]\n",
    "y_val = labels[-nb_validation_samples:]"
   ]
  },
  {
   "cell_type": "code",
   "execution_count": 5,
   "metadata": {
    "collapsed": true
   },
   "outputs": [],
   "source": [
    "embeddings_index = {}\n",
    "\n",
    "f = open(os.path.join('../../src/pip/glove/glove.6B.50d.txt'))\n",
    "\n",
    "for line in f:\n",
    "    values = line.split()\n",
    "    word = values[0]\n",
    "    coefs = np.asarray(values[1:], dtype='float32')\n",
    "    embeddings_index[word] = coefs\n",
    "f.close()\n",
    "\n",
    "embedding_matrix = np.zeros((len(word_index) + 1, 50))\n",
    "for word, i in word_index.items():\n",
    "    embedding_vector = embeddings_index.get(word)\n",
    "    if embedding_vector is not None:\n",
    "        embedding_matrix[i] = embedding_vector\n",
    "\n",
    "del embeddings_index\n",
    "\n",
    "embedding_layer = Embedding(len(word_index) + 1, 50, weights=[embedding_matrix], input_length=90, trainable=True)"
   ]
  },
  {
   "cell_type": "code",
   "execution_count": 6,
   "metadata": {
    "collapsed": true
   },
   "outputs": [],
   "source": [
    "model = Sequential()\n",
    "model.add(embedding_layer)\n",
    "model.add(GlobalAveragePooling1D())\n",
    "model.add(Dense(3, activation='softmax'))\n",
    "optimizer = Adam(lr=0.0001)\n",
    "model.compile(loss='categorical_crossentropy',optimizer=optimizer,metrics=['accuracy'])"
   ]
  },
  {
   "cell_type": "code",
   "execution_count": 7,
   "metadata": {},
   "outputs": [
    {
     "name": "stdout",
     "output_type": "stream",
     "text": [
      "Train on 13118 samples, validate on 6461 samples\n",
      "Epoch 1/3\n",
      "13118/13118 [==============================] - 12s 949us/step - loss: 1.0823 - acc: 0.4002 - val_loss: 1.0681 - val_acc: 0.4284\n",
      "Epoch 2/3\n",
      "13118/13118 [==============================] - 12s 942us/step - loss: 1.0609 - acc: 0.4271 - val_loss: 1.0508 - val_acc: 0.4479\n",
      "Epoch 3/3\n",
      "13118/13118 [==============================] - 12s 943us/step - loss: 1.0429 - acc: 0.4562 - val_loss: 1.0333 - val_acc: 0.4705\n"
     ]
    },
    {
     "data": {
      "text/plain": [
       "<keras.callbacks.History at 0x7f36458dff60>"
      ]
     },
     "execution_count": 7,
     "metadata": {},
     "output_type": "execute_result"
    }
   ],
   "source": [
    "params = {}\n",
    "params['validation_data'] = (x_val, y_val)\n",
    "params['batch_size'] = 8\n",
    "params['epochs'] = 3\n",
    "params['callbacks'] = [EarlyStopping(patience=2, monitor='val_loss')]\n",
    "model.optimizer.lr = 0.0001\n",
    "model.fit(x_train, y_train, **params, )"
   ]
  },
  {
   "cell_type": "code",
   "execution_count": 8,
   "metadata": {},
   "outputs": [
    {
     "name": "stdout",
     "output_type": "stream",
     "text": [
      "Train on 13118 samples, validate on 6461 samples\n",
      "Epoch 1/10\n",
      "13118/13118 [==============================] - 12s 942us/step - loss: 1.0233 - acc: 0.4835 - val_loss: 1.0146 - val_acc: 0.4990\n",
      "Epoch 2/10\n",
      "13118/13118 [==============================] - 12s 941us/step - loss: 1.0018 - acc: 0.5154 - val_loss: 0.9941 - val_acc: 0.5264\n",
      "Epoch 3/10\n",
      "13118/13118 [==============================] - 12s 944us/step - loss: 0.9783 - acc: 0.5479 - val_loss: 0.9721 - val_acc: 0.5484\n",
      "Epoch 4/10\n",
      "13118/13118 [==============================] - 12s 944us/step - loss: 0.9530 - acc: 0.5739 - val_loss: 0.9492 - val_acc: 0.5793\n",
      "Epoch 5/10\n",
      "13118/13118 [==============================] - 12s 944us/step - loss: 0.9266 - acc: 0.6037 - val_loss: 0.9255 - val_acc: 0.6002\n",
      "Epoch 6/10\n",
      "13118/13118 [==============================] - 12s 942us/step - loss: 0.8993 - acc: 0.6230 - val_loss: 0.9024 - val_acc: 0.6318\n",
      "Epoch 7/10\n",
      "13118/13118 [==============================] - 12s 938us/step - loss: 0.8717 - acc: 0.6531 - val_loss: 0.8778 - val_acc: 0.6341\n",
      "Epoch 8/10\n",
      "13118/13118 [==============================] - 12s 938us/step - loss: 0.8441 - acc: 0.6691 - val_loss: 0.8547 - val_acc: 0.6604\n",
      "Epoch 9/10\n",
      "13118/13118 [==============================] - 12s 939us/step - loss: 0.8171 - acc: 0.6880 - val_loss: 0.8318 - val_acc: 0.6649\n",
      "Epoch 10/10\n",
      "13118/13118 [==============================] - 12s 938us/step - loss: 0.7906 - acc: 0.7029 - val_loss: 0.8099 - val_acc: 0.6784\n"
     ]
    },
    {
     "data": {
      "text/plain": [
       "<keras.callbacks.History at 0x7f36456b9240>"
      ]
     },
     "execution_count": 8,
     "metadata": {},
     "output_type": "execute_result"
    }
   ],
   "source": [
    "params = {}\n",
    "params['validation_data'] = (x_val, y_val)\n",
    "params['batch_size'] = 8\n",
    "params['epochs'] = 10\n",
    "params['callbacks'] = [EarlyStopping(patience=2, monitor='val_loss')]\n",
    "model.optimizer.lr = 0.001\n",
    "model.fit(x_train, y_train, **params)"
   ]
  },
  {
   "cell_type": "code",
   "execution_count": 9,
   "metadata": {},
   "outputs": [
    {
     "name": "stdout",
     "output_type": "stream",
     "text": [
      "Train on 13118 samples, validate on 6461 samples\n",
      "Epoch 1/10\n",
      "13118/13118 [==============================] - 12s 939us/step - loss: 0.7650 - acc: 0.7192 - val_loss: 0.7895 - val_acc: 0.6895\n",
      "Epoch 2/10\n",
      "13118/13118 [==============================] - 12s 938us/step - loss: 0.7404 - acc: 0.7330 - val_loss: 0.7688 - val_acc: 0.6982\n",
      "Epoch 3/10\n",
      "13118/13118 [==============================] - 12s 938us/step - loss: 0.7165 - acc: 0.7453 - val_loss: 0.7496 - val_acc: 0.7100\n",
      "Epoch 4/10\n",
      "13118/13118 [==============================] - 12s 940us/step - loss: 0.6937 - acc: 0.7560 - val_loss: 0.7315 - val_acc: 0.7175\n",
      "Epoch 5/10\n",
      "13118/13118 [==============================] - 12s 940us/step - loss: 0.6717 - acc: 0.7664 - val_loss: 0.7140 - val_acc: 0.7271\n",
      "Epoch 6/10\n",
      "13118/13118 [==============================] - 12s 939us/step - loss: 0.6507 - acc: 0.7763 - val_loss: 0.6977 - val_acc: 0.7310\n",
      "Epoch 7/10\n",
      "13118/13118 [==============================] - 12s 938us/step - loss: 0.6304 - acc: 0.7837 - val_loss: 0.6819 - val_acc: 0.7389\n",
      "Epoch 8/10\n",
      "13118/13118 [==============================] - 12s 938us/step - loss: 0.6110 - acc: 0.7915 - val_loss: 0.6668 - val_acc: 0.7431\n",
      "Epoch 9/10\n",
      "13118/13118 [==============================] - 12s 936us/step - loss: 0.5923 - acc: 0.7994 - val_loss: 0.6528 - val_acc: 0.7553\n",
      "Epoch 10/10\n",
      "13118/13118 [==============================] - 12s 935us/step - loss: 0.5746 - acc: 0.8060 - val_loss: 0.6391 - val_acc: 0.7579\n"
     ]
    },
    {
     "data": {
      "text/plain": [
       "<keras.callbacks.History at 0x7f36481fde48>"
      ]
     },
     "execution_count": 9,
     "metadata": {},
     "output_type": "execute_result"
    }
   ],
   "source": [
    "params = {}\n",
    "params['validation_data'] = (x_val, y_val)\n",
    "params['batch_size'] = 8\n",
    "params['epochs'] = 10\n",
    "params['callbacks'] = [EarlyStopping(patience=2, monitor='val_loss')]\n",
    "model.optimizer.lr = 0.0005\n",
    "model.fit(x_train, y_train, **params)"
   ]
  },
  {
   "cell_type": "markdown",
   "metadata": {},
   "source": [
    "### score model"
   ]
  },
  {
   "cell_type": "code",
   "execution_count": 10,
   "metadata": {},
   "outputs": [
    {
     "name": "stdout",
     "output_type": "stream",
     "text": [
      "train (19579, 5)\n",
      "test (8392, 5)\n"
     ]
    }
   ],
   "source": [
    "train_predict = pd.DataFrame(model.predict_proba(train_seq), columns=['k1','k2','k3'])\n",
    "train_class = pd.DataFrame(model.predict_classes(train_seq), columns=['keras'])\n",
    "test_predict = pd.DataFrame(model.predict_proba(score_seq), columns=['k1','k2','k3'])\n",
    "test_class = pd.DataFrame(model.predict_classes(score_seq), columns=['keras'])\n",
    "train_keras = pd.concat([train_data[['id']], train_predict, train_class], axis=1)\n",
    "test_keras = pd.concat([test_data[['id']], test_predict, test_class], axis=1)\n",
    "print('train',train_keras.shape)\n",
    "print('test', test_keras.shape)\n",
    "train_keras.to_csv('../../data/spooky-author/data/train_nn_score.csv', index=False)\n",
    "test_keras.to_csv('../../data/spooky-author/data/test_nn_score.csv', index=False)"
   ]
  },
  {
   "cell_type": "code",
   "execution_count": null,
   "metadata": {
    "collapsed": true
   },
   "outputs": [],
   "source": []
  }
 ],
 "metadata": {
  "kernelspec": {
   "display_name": "Python 3",
   "language": "python",
   "name": "python3"
  },
  "language_info": {
   "codemirror_mode": {
    "name": "ipython",
    "version": 3
   },
   "file_extension": ".py",
   "mimetype": "text/x-python",
   "name": "python",
   "nbconvert_exporter": "python",
   "pygments_lexer": "ipython3",
   "version": "3.6.3"
  }
 },
 "nbformat": 4,
 "nbformat_minor": 2
}
