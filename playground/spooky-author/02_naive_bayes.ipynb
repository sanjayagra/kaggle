{
 "cells": [
  {
   "cell_type": "code",
   "execution_count": 1,
   "metadata": {
    "collapsed": true
   },
   "outputs": [],
   "source": [
    "import pandas as pd\n",
    "import numpy as np\n",
    "from sklearn.feature_extraction.text import CountVectorizer, TfidfVectorizer\n",
    "from sklearn.decomposition import TruncatedSVD\n",
    "from sklearn.model_selection import KFold\n",
    "from sklearn.preprocessing import MinMaxScaler\n",
    "from sklearn.naive_bayes import MultinomialNB\n",
    "from sklearn.metrics import confusion_matrix\n",
    "from nltk.corpus import stopwords\n",
    "from nltk.stem.porter import PorterStemmer\n",
    "from sklearn import metrics\n",
    "import string\n",
    "pd.options.mode.chained_assignment = None\n",
    "stopwords = set(stopwords.words('english'))\n",
    "train_data = pd.read_csv('../../data/spooky-author/download/train.csv')\n",
    "test_data = pd.read_csv('../../data/spooky-author/download/test.csv')"
   ]
  },
  {
   "cell_type": "markdown",
   "metadata": {},
   "source": [
    "### word - vectorizer + svd"
   ]
  },
  {
   "cell_type": "code",
   "execution_count": 2,
   "metadata": {},
   "outputs": [
    {
     "name": "stdout",
     "output_type": "stream",
     "text": [
      "train: (19579, 550841)\n",
      "test: (8392, 550841)\n"
     ]
    }
   ],
   "source": [
    "vectorizer = CountVectorizer(stop_words='english', ngram_range=(1,3))\n",
    "train_text = list(train_data.text.values)\n",
    "test_text = list(test_data.text.values)\n",
    "full_text = train_text + test_text\n",
    "full_text = vectorizer.fit_transform(full_text)\n",
    "train_word  = vectorizer.transform(train_text)\n",
    "test_word  = vectorizer.transform(test_text)\n",
    "print('train:', train_word.shape)\n",
    "print('test:', test_word.shape)"
   ]
  },
  {
   "cell_type": "markdown",
   "metadata": {},
   "source": [
    "### character - vectorizer + svd"
   ]
  },
  {
   "cell_type": "code",
   "execution_count": 3,
   "metadata": {},
   "outputs": [
    {
     "name": "stdout",
     "output_type": "stream",
     "text": [
      "train: (19579, 1355648)\n",
      "test: (8392, 1355648)\n"
     ]
    }
   ],
   "source": [
    "vectorizer = CountVectorizer(ngram_range=(1,7), analyzer='char')\n",
    "train_text = list(train_data.text.values)\n",
    "test_text = list(test_data.text.values)\n",
    "full_text = train_text + test_text\n",
    "full_text = vectorizer.fit_transform(full_text)\n",
    "train_char_cnt  = vectorizer.transform(train_text)\n",
    "test_char_cnt  = vectorizer.transform(test_text)\n",
    "print('train:', train_char_cnt.shape)\n",
    "print('test:', test_char_cnt.shape)"
   ]
  },
  {
   "cell_type": "markdown",
   "metadata": {},
   "source": [
    "### character - vectorizer + svd"
   ]
  },
  {
   "cell_type": "code",
   "execution_count": 4,
   "metadata": {},
   "outputs": [
    {
     "name": "stdout",
     "output_type": "stream",
     "text": [
      "train: (19579, 215829)\n",
      "test: (8392, 215829)\n"
     ]
    }
   ],
   "source": [
    "vectorizer =  TfidfVectorizer(ngram_range=(1,5), analyzer='char')\n",
    "train_text = list(train_data.text.values)\n",
    "test_text = list(test_data.text.values)\n",
    "full_text = train_text + test_text\n",
    "full_text = vectorizer.fit_transform(full_text)\n",
    "train_char_tf  = vectorizer.transform(train_text)\n",
    "test_char_tf  = vectorizer.transform(test_text)\n",
    "print('train:', train_char_tf.shape)\n",
    "print('test:', test_char_tf.shape)"
   ]
  },
  {
   "cell_type": "markdown",
   "metadata": {},
   "source": [
    "### naive bayes score"
   ]
  },
  {
   "cell_type": "code",
   "execution_count": 6,
   "metadata": {
    "collapsed": true
   },
   "outputs": [],
   "source": [
    "mapper = {'EAP':0, 'HPL':1, 'MWS':2}\n",
    "train_data['author'] = train_data['author'].map(lambda x : mapper[x])\n",
    "dependent = np.array(train_data['author'])"
   ]
  },
  {
   "cell_type": "code",
   "execution_count": 7,
   "metadata": {},
   "outputs": [],
   "source": [
    "def naive_bayes(train_feat, test_feat):\n",
    "    \n",
    "    folds = KFold(n_splits=5, random_state=2017, shuffle=True)\n",
    "    pred_train = np.zeros((train_data.shape[0], 3))\n",
    "    pred_test = np.zeros((test_data.shape[0], 3))\n",
    "    \n",
    "    for dev_index, val_index in folds.split(train_data):\n",
    "        model = MultinomialNB()\n",
    "        X_train = train_feat[dev_index]\n",
    "        y_train = dependent[dev_index]\n",
    "        X_valid = train_feat[val_index]\n",
    "        model.fit(X_train, y_train)\n",
    "        pred_train[val_index,:] = model.predict_proba(X_valid)\n",
    "        pred_test += model.predict_proba(test_feat)\n",
    "    pred_test = pred_test / 5.\n",
    "    train_score = train_data[['id','author']].join(pd.DataFrame(pred_train))\n",
    "    test_score = test_data[['id']].join(pd.DataFrame(pred_test))\n",
    "    print('log loss:', metrics.log_loss(train_score['author'], train_score.iloc[:,2:]))\n",
    "    return train_score, test_score"
   ]
  },
  {
   "cell_type": "code",
   "execution_count": 8,
   "metadata": {},
   "outputs": [
    {
     "name": "stdout",
     "output_type": "stream",
     "text": [
      "log loss: 0.450917907266\n",
      "log loss: 3.75075620238\n",
      "log loss: 0.790415283331\n"
     ]
    }
   ],
   "source": [
    "insample_word, outsample_word = naive_bayes(train_word, test_word)\n",
    "insample_char_cnt, outsample_char_cnt = naive_bayes(train_char_cnt, test_char_cnt)\n",
    "insample_char_tf, outsample_char_tf = naive_bayes(train_char_tf, test_char_tf)"
   ]
  },
  {
   "cell_type": "code",
   "execution_count": 9,
   "metadata": {
    "collapsed": true
   },
   "outputs": [],
   "source": [
    "insample_score = insample_word.merge(insample_char_cnt, on=['author','id'])\n",
    "insample_score = insample_score.merge(insample_char_tf, on=['author','id'])\n",
    "outsample_score = outsample_word.merge(outsample_char_cnt, on=['id'])\n",
    "outsample_score = outsample_score.merge(outsample_char_tf, on=['id'])\n",
    "insample_score.to_csv('../../data/spooky-author/data/train_nb_score.csv', index=False)\n",
    "outsample_score.to_csv('../../data/spooky-author/data/test_nb_score.csv', index=False)"
   ]
  },
  {
   "cell_type": "markdown",
   "metadata": {},
   "source": [
    "### svd"
   ]
  },
  {
   "cell_type": "code",
   "execution_count": 11,
   "metadata": {},
   "outputs": [
    {
     "name": "stdout",
     "output_type": "stream",
     "text": [
      "train: (19579, 10)\n",
      "test: (8392, 10)\n"
     ]
    }
   ],
   "source": [
    "vectorizer =  TfidfVectorizer(ngram_range=(1,5), analyzer='char')\n",
    "train_text = list(train_data.text.values)\n",
    "test_text = list(test_data.text.values)\n",
    "full_text = train_text + test_text\n",
    "full_text = vectorizer.fit_transform(full_text)\n",
    "svd = TruncatedSVD(n_components=10, algorithm='arpack')\n",
    "svd.fit(full_text)\n",
    "train_char_svd  = pd.DataFrame(svd.transform(vectorizer.transform(train_text)))\n",
    "test_char_svd =  pd.DataFrame(svd.transform(vectorizer.transform(test_text)))\n",
    "train_char_svd.columns = ['svd_char_' + str(x) for x in range(10)]\n",
    "test_char_svd.columns = ['svd_char_' + str(x) for x in range(10)]\n",
    "print('train:', train_char_svd.shape)\n",
    "print('test:', test_char_svd.shape)"
   ]
  },
  {
   "cell_type": "code",
   "execution_count": 13,
   "metadata": {},
   "outputs": [
    {
     "name": "stdout",
     "output_type": "stream",
     "text": [
      "train: (19579, 10)\n",
      "test: (8392, 10)\n"
     ]
    }
   ],
   "source": [
    "vectorizer =  TfidfVectorizer(stop_words='english', ngram_range=(1,3))\n",
    "train_text = list(train_data.text.values)\n",
    "test_text = list(test_data.text.values)\n",
    "full_text = train_text + test_text\n",
    "full_text = vectorizer.fit_transform(full_text)\n",
    "svd = TruncatedSVD(n_components=10, algorithm='arpack')\n",
    "svd.fit(full_text)\n",
    "train_wrd_svd  = pd.DataFrame(svd.transform(vectorizer.transform(train_text)))\n",
    "test_wrd_svd =  pd.DataFrame(svd.transform(vectorizer.transform(test_text)))\n",
    "train_wrd_svd.columns = ['svd_wrd_' + str(x) for x in range(10)]\n",
    "test_wrd_svd.columns = ['svd_wrd_' + str(x) for x in range(10)]\n",
    "print('train:', train_wrd_svd.shape)\n",
    "print('test:', test_wrd_svd.shape)"
   ]
  },
  {
   "cell_type": "code",
   "execution_count": 14,
   "metadata": {
    "collapsed": true
   },
   "outputs": [],
   "source": [
    "train_feats = pd.concat([train_wrd_svd, train_char_svd], axis=1)\n",
    "test_feats = pd.concat([test_wrd_svd, test_char_svd], axis=1)\n",
    "train_feats.to_csv('../../data/spooky-author/data/train_nb_feats.csv', index=False)\n",
    "test_feats.to_csv('../../data/spooky-author/data/test_nb_feats.csv', index=False)"
   ]
  },
  {
   "cell_type": "code",
   "execution_count": null,
   "metadata": {
    "collapsed": true
   },
   "outputs": [],
   "source": []
  }
 ],
 "metadata": {
  "kernelspec": {
   "display_name": "Python 3",
   "language": "python",
   "name": "python3"
  },
  "language_info": {
   "codemirror_mode": {
    "name": "ipython",
    "version": 3
   },
   "file_extension": ".py",
   "mimetype": "text/x-python",
   "name": "python",
   "nbconvert_exporter": "python",
   "pygments_lexer": "ipython3",
   "version": "3.6.3"
  }
 },
 "nbformat": 4,
 "nbformat_minor": 2
}
