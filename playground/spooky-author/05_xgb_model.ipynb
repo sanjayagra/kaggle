{
 "cells": [
  {
   "cell_type": "code",
   "execution_count": 1,
   "metadata": {
    "collapsed": true
   },
   "outputs": [],
   "source": [
    "import pandas as pd\n",
    "import numpy as np\n",
    "import xgboost as xgb\n",
    "from sklearn.model_selection import KFold\n",
    "import matplotlib.pyplot as plt"
   ]
  },
  {
   "cell_type": "code",
   "execution_count": 2,
   "metadata": {},
   "outputs": [
    {
     "name": "stdout",
     "output_type": "stream",
     "text": [
      "data shapes: (19579, 57)\n"
     ]
    }
   ],
   "source": [
    "text_feats = pd.read_csv('../../data/spooky-author/data/train_text_feats.csv')\n",
    "nb_score = pd.read_csv('../../data/spooky-author/data/train_nb_score.csv').drop(['id', 'author'], axis=1)\n",
    "nb_feats = pd.read_csv('../../data/spooky-author/data/train_nb_feats.csv')\n",
    "nn_score = pd.read_csv('../../data/spooky-author/data/train_nn_score.csv')\n",
    "nn_score['nn_prob'] = np.max(np.hstack([nn_score[['k1']], nn_score[['k2']], nn_score[['k3']]]), axis=1)\n",
    "nn_score = nn_score[['id','keras','nn_prob']]\n",
    "lstm_score = pd.read_csv('../../data/spooky-author/data/train_lstm_score.csv')\n",
    "lstm_score['lstm_prob'] = np.max(np.hstack([lstm_score[['l1']], lstm_score[['l2']], lstm_score[['l3']]]), axis=1)\n",
    "lstm_score = lstm_score[['id','lstm','lstm_prob']]\n",
    "train_data = text_feats.join(nb_feats)\n",
    "train_data = train_data.join(nb_score)\n",
    "train_data = train_data.merge(nn_score, on='id')\n",
    "train_data = train_data.merge(lstm_score, on='id')\n",
    "train_data['agree'] = 1.* np.equal(train_data['keras'], train_data['lstm'])\n",
    "dependent = pd.read_csv('../../data/spooky-author/download/train.csv', usecols=['id','author'])\n",
    "mapper = {'EAP':0, 'HPL':1, 'MWS':2}\n",
    "dependent['author'] = dependent['author'].map(lambda x : mapper[x])\n",
    "train_data = dependent.merge(train_data, on='id').drop('id', axis=1)\n",
    "print('data shapes:', train_data.shape)\n",
    "train_matrix = xgb.DMatrix(data = train_data.iloc[:,1:], label = train_data['author'])"
   ]
  },
  {
   "cell_type": "code",
   "execution_count": 3,
   "metadata": {
    "collapsed": true
   },
   "outputs": [],
   "source": [
    "booster = {}\n",
    "booster['booster'] = 'gbtree'\n",
    "booster['nthread'] = 7\n",
    "booster['max_depth'] = 4\n",
    "booster['min_child_weight'] = 1\n",
    "booster['subsample'] = 0.75\n",
    "booster['colsample_bytree'] = 1.0\n",
    "booster['colsample_bylevel'] = 0.9\n",
    "booster['lambda'] = 2.0\n",
    "booster['alpha'] = 1.0\n",
    "booster['objective'] = 'multi:softprob'\n",
    "booster['eval_metric'] = ['mlogloss']\n",
    "booster['num_class'] = 3\n",
    "booster['seed'] = 2017"
   ]
  },
  {
   "cell_type": "code",
   "execution_count": 4,
   "metadata": {
    "collapsed": true
   },
   "outputs": [],
   "source": [
    "params = {}\n",
    "params['params'] = booster\n",
    "params['dtrain'] = train_matrix\n",
    "params['num_boost_round'] = 2000\n",
    "params['folds'] =  KFold(n_splits=5, random_state=2017, shuffle=True).split(train_data)\n",
    "params['early_stopping_rounds'] = 50\n",
    "params['verbose_eval'] = 100\n",
    "params['show_stdv'] = False\n",
    "params['callbacks'] = [xgb.callback.reset_learning_rate([0.05] * 2000)]"
   ]
  },
  {
   "cell_type": "code",
   "execution_count": 5,
   "metadata": {},
   "outputs": [
    {
     "name": "stdout",
     "output_type": "stream",
     "text": [
      "[0]\ttrain-mlogloss:1.04743\ttest-mlogloss:1.0481\n",
      "[100]\ttrain-mlogloss:0.293741\ttest-mlogloss:0.332912\n",
      "[200]\ttrain-mlogloss:0.242156\ttest-mlogloss:0.315832\n",
      "[300]\ttrain-mlogloss:0.207261\ttest-mlogloss:0.311394\n",
      "[400]\ttrain-mlogloss:0.178985\ttest-mlogloss:0.310673\n"
     ]
    }
   ],
   "source": [
    "model = xgb.cv(**params)"
   ]
  },
  {
   "cell_type": "code",
   "execution_count": 6,
   "metadata": {
    "collapsed": true
   },
   "outputs": [],
   "source": [
    "params = {}\n",
    "params['params'] = booster\n",
    "params['dtrain'] = train_matrix\n",
    "params['num_boost_round'] = 500\n",
    "params['verbose_eval'] = 200\n",
    "params['callbacks'] = [xgb.callback.reset_learning_rate([0.05] * 500)]\n",
    "model = xgb.train(**params)"
   ]
  },
  {
   "cell_type": "code",
   "execution_count": null,
   "metadata": {
    "collapsed": true
   },
   "outputs": [],
   "source": [
    "model.save_model('../../data/spooky-author/data/xgb_model')"
   ]
  },
  {
   "cell_type": "code",
   "execution_count": 8,
   "metadata": {},
   "outputs": [
    {
     "data": {
      "text/plain": [
       "[('2_y', 1064),\n",
       " ('1_x', 849),\n",
       " ('2_x', 783),\n",
       " ('0_x', 685),\n",
       " ('1_y', 676),\n",
       " ('svd_char_3', 635),\n",
       " ('0_y', 630),\n",
       " ('svd_char_1', 552),\n",
       " ('ratio_punct', 524),\n",
       " ('svd_char_5', 514),\n",
       " ('svd_char_6', 490),\n",
       " ('svd_char_2', 481),\n",
       " ('0', 479),\n",
       " ('svd_wrd_7', 469),\n",
       " ('1', 455),\n",
       " ('svd_wrd_8', 449),\n",
       " ('svd_char_9', 447),\n",
       " ('svd_char_8', 437),\n",
       " ('svd_char_7', 432),\n",
       " ('svd_wrd_5', 409)]"
      ]
     },
     "execution_count": 8,
     "metadata": {},
     "output_type": "execute_result"
    }
   ],
   "source": [
    "sorted(model.get_fscore().items(), key=lambda x : x[1], reverse=True)[:20]"
   ]
  },
  {
   "cell_type": "code",
   "execution_count": 9,
   "metadata": {},
   "outputs": [
    {
     "data": {
      "text/plain": [
       "[('agree', 22),\n",
       " ('keras', 32),\n",
       " ('lstm', 40),\n",
       " ('count_pronoun', 56),\n",
       " ('count_det', 61),\n",
       " ('count_stopword', 75),\n",
       " ('count_word', 79),\n",
       " ('count_noun', 88),\n",
       " ('count_adj', 100),\n",
       " ('count_word_unique', 119)]"
      ]
     },
     "execution_count": 9,
     "metadata": {},
     "output_type": "execute_result"
    }
   ],
   "source": [
    "sorted(model.get_fscore().items(), key=lambda x : x[1], reverse=False)[:10]"
   ]
  },
  {
   "cell_type": "code",
   "execution_count": null,
   "metadata": {
    "collapsed": true
   },
   "outputs": [],
   "source": []
  }
 ],
 "metadata": {
  "kernelspec": {
   "display_name": "Python 3",
   "language": "python",
   "name": "python3"
  },
  "language_info": {
   "codemirror_mode": {
    "name": "ipython",
    "version": 3
   },
   "file_extension": ".py",
   "mimetype": "text/x-python",
   "name": "python",
   "nbconvert_exporter": "python",
   "pygments_lexer": "ipython3",
   "version": "3.6.3"
  }
 },
 "nbformat": 4,
 "nbformat_minor": 2
}
