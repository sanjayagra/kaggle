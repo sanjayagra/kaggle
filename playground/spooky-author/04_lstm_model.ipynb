{
 "cells": [
  {
   "cell_type": "code",
   "execution_count": 1,
   "metadata": {},
   "outputs": [
    {
     "name": "stderr",
     "output_type": "stream",
     "text": [
      "Using TensorFlow backend.\n",
      "/home/ubuntu/src/anaconda3/envs/fastai/lib/python3.6/importlib/_bootstrap.py:219: RuntimeWarning: compiletime version 3.5 of module 'tensorflow.python.framework.fast_tensor_util' does not match runtime version 3.6\n",
      "  return f(*args, **kwds)\n"
     ]
    }
   ],
   "source": [
    "import pandas as pd\n",
    "import numpy as np\n",
    "import keras\n",
    "from keras.layers import Dense, GlobalAveragePooling1D, Embedding, LSTM, Dropout\n",
    "from keras.callbacks import EarlyStopping\n",
    "from keras.models import Sequential\n",
    "from keras.preprocessing.text import Tokenizer\n",
    "from keras.preprocessing.sequence import pad_sequences\n",
    "from keras.utils import to_categorical\n",
    "from keras.optimizers import Adam\n",
    "import os\n",
    "pd.options.mode.chained_assignment = None\n",
    "np.random.seed(2017)"
   ]
  },
  {
   "cell_type": "code",
   "execution_count": 2,
   "metadata": {
    "collapsed": true
   },
   "outputs": [],
   "source": [
    "train_data = pd.read_csv('../../data/spooky-author/download/train.csv')\n",
    "test_data = pd.read_csv('../../data/spooky-author/download/test.csv')\n",
    "mapper = {'EAP':0, 'HPL':1, 'MWS':2}\n",
    "train_data['author'] = train_data['author'].map(lambda x : mapper[x])"
   ]
  },
  {
   "cell_type": "code",
   "execution_count": 3,
   "metadata": {},
   "outputs": [
    {
     "name": "stdout",
     "output_type": "stream",
     "text": [
      "words: 29451\n",
      "data: (19579, 90) (8392, 90)\n",
      "label: (19579, 3)\n"
     ]
    }
   ],
   "source": [
    "train_texts = train_data['text'].values.tolist()\n",
    "score_texts = test_data['text'].values.tolist()\n",
    "tokenizer = Tokenizer()\n",
    "tokenizer.fit_on_texts(train_texts + score_texts)\n",
    "train_sequences = tokenizer.texts_to_sequences(train_texts)\n",
    "test_sequences = tokenizer.texts_to_sequences(score_texts)\n",
    "word_index = tokenizer.word_index\n",
    "print('words:', len(word_index))\n",
    "train_seq = pad_sequences(train_sequences, maxlen=90)\n",
    "score_seq = pad_sequences(test_sequences, maxlen=90)\n",
    "labels = to_categorical(train_data['author'].values.tolist())\n",
    "print('data:', train_seq.shape, score_seq.shape)\n",
    "print('label:', labels.shape)"
   ]
  },
  {
   "cell_type": "markdown",
   "metadata": {},
   "source": [
    "### train model"
   ]
  },
  {
   "cell_type": "code",
   "execution_count": 4,
   "metadata": {
    "collapsed": true
   },
   "outputs": [],
   "source": [
    "indices = np.arange(train_seq.shape[0])\n",
    "np.random.shuffle(indices)\n",
    "train_seq = train_seq[indices]\n",
    "labels = labels[indices]\n",
    "nb_validation_samples = int(0.15 * train_seq.shape[0])\n",
    "x_train = train_seq[:-nb_validation_samples]\n",
    "y_train = labels[:-nb_validation_samples]\n",
    "x_val = train_seq[-nb_validation_samples:]\n",
    "y_val = labels[-nb_validation_samples:]"
   ]
  },
  {
   "cell_type": "code",
   "execution_count": 5,
   "metadata": {
    "collapsed": true
   },
   "outputs": [],
   "source": [
    "embeddings_index = {}\n",
    "\n",
    "f = open(os.path.join('../../src/pip/glove/glove.6B.50d.txt'))\n",
    "\n",
    "for line in f:\n",
    "    values = line.split()\n",
    "    word = values[0]\n",
    "    coefs = np.asarray(values[1:], dtype='float32')\n",
    "    embeddings_index[word] = coefs\n",
    "f.close()\n",
    "\n",
    "embedding_matrix = np.zeros((len(word_index) + 1, 50))\n",
    "for word, i in word_index.items():\n",
    "    embedding_vector = embeddings_index.get(word)\n",
    "    if embedding_vector is not None:\n",
    "        embedding_matrix[i] = embedding_vector\n",
    "\n",
    "del embeddings_index\n",
    "\n",
    "embedding_layer = Embedding(len(word_index) + 1, 50, weights=[embedding_matrix], input_length=90, trainable=True)"
   ]
  },
  {
   "cell_type": "code",
   "execution_count": 6,
   "metadata": {
    "collapsed": true
   },
   "outputs": [],
   "source": [
    "model = Sequential()\n",
    "model.add(embedding_layer)\n",
    "model.add(LSTM(100, dropout=0.2, recurrent_dropout=0.2))\n",
    "model.add(Dropout(0.2))\n",
    "model.add(Dense(3, activation='softmax'))\n",
    "optimizer = Adam(lr=0.0001)\n",
    "model.compile(loss='categorical_crossentropy',optimizer=optimizer,metrics=['accuracy'])"
   ]
  },
  {
   "cell_type": "code",
   "execution_count": 7,
   "metadata": {},
   "outputs": [
    {
     "name": "stdout",
     "output_type": "stream",
     "text": [
      "Train on 16643 samples, validate on 2936 samples\n",
      "Epoch 1/3\n",
      "16643/16643 [==============================] - 160s 10ms/step - loss: 1.0072 - acc: 0.4932 - val_loss: 0.8963 - val_acc: 0.5841\n",
      "Epoch 2/3\n",
      "16643/16643 [==============================] - 159s 10ms/step - loss: 0.8896 - acc: 0.5904 - val_loss: 0.8265 - val_acc: 0.6308\n",
      "Epoch 3/3\n",
      "16643/16643 [==============================] - 158s 9ms/step - loss: 0.8305 - acc: 0.6333 - val_loss: 0.7721 - val_acc: 0.6580\n"
     ]
    },
    {
     "data": {
      "text/plain": [
       "<keras.callbacks.History at 0x7f4901bc7be0>"
      ]
     },
     "execution_count": 7,
     "metadata": {},
     "output_type": "execute_result"
    }
   ],
   "source": [
    "params = {}\n",
    "params['validation_data'] = (x_val, y_val)\n",
    "params['batch_size'] = 8\n",
    "params['epochs'] = 3\n",
    "params['callbacks'] = [EarlyStopping(patience=2, monitor='val_loss')]\n",
    "model.optimizer.lr = 0.0001\n",
    "model.fit(x_train, y_train, **params, )"
   ]
  },
  {
   "cell_type": "code",
   "execution_count": 8,
   "metadata": {},
   "outputs": [
    {
     "name": "stdout",
     "output_type": "stream",
     "text": [
      "Train on 16643 samples, validate on 2936 samples\n",
      "Epoch 1/3\n",
      "16643/16643 [==============================] - 155s 9ms/step - loss: 0.7846 - acc: 0.6608 - val_loss: 0.7148 - val_acc: 0.6958\n",
      "Epoch 2/3\n",
      "16643/16643 [==============================] - 155s 9ms/step - loss: 0.7325 - acc: 0.6886 - val_loss: 0.6769 - val_acc: 0.7207\n",
      "Epoch 3/3\n",
      "16643/16643 [==============================] - 155s 9ms/step - loss: 0.6934 - acc: 0.7121 - val_loss: 0.6472 - val_acc: 0.7333\n"
     ]
    },
    {
     "data": {
      "text/plain": [
       "<keras.callbacks.History at 0x7f4901928ba8>"
      ]
     },
     "execution_count": 8,
     "metadata": {},
     "output_type": "execute_result"
    }
   ],
   "source": [
    "params = {}\n",
    "params['validation_data'] = (x_val, y_val)\n",
    "params['batch_size'] = 8\n",
    "params['epochs'] = 3\n",
    "params['callbacks'] = [EarlyStopping(patience=2, monitor='val_loss')]\n",
    "model.optimizer.lr = 0.001\n",
    "model.fit(x_train, y_train, **params)"
   ]
  },
  {
   "cell_type": "code",
   "execution_count": 9,
   "metadata": {},
   "outputs": [
    {
     "name": "stdout",
     "output_type": "stream",
     "text": [
      "Train on 16643 samples, validate on 2936 samples\n",
      "Epoch 1/10\n",
      "16643/16643 [==============================] - 77s 5ms/step - loss: 0.6490 - acc: 0.7307 - val_loss: 0.6309 - val_acc: 0.7384\n",
      "Epoch 2/10\n",
      "16643/16643 [==============================] - 77s 5ms/step - loss: 0.6300 - acc: 0.7442 - val_loss: 0.6128 - val_acc: 0.7480\n",
      "Epoch 3/10\n",
      "16643/16643 [==============================] - 77s 5ms/step - loss: 0.5974 - acc: 0.7595 - val_loss: 0.5890 - val_acc: 0.7629\n",
      "Epoch 4/10\n",
      "16643/16643 [==============================] - 78s 5ms/step - loss: 0.5793 - acc: 0.7681 - val_loss: 0.5812 - val_acc: 0.7650\n",
      "Epoch 5/10\n",
      "16643/16643 [==============================] - 77s 5ms/step - loss: 0.5497 - acc: 0.7779 - val_loss: 0.5608 - val_acc: 0.7759\n",
      "Epoch 6/10\n",
      "16643/16643 [==============================] - 77s 5ms/step - loss: 0.5320 - acc: 0.7884 - val_loss: 0.5541 - val_acc: 0.7725\n",
      "Epoch 7/10\n",
      "16643/16643 [==============================] - 78s 5ms/step - loss: 0.5105 - acc: 0.7975 - val_loss: 0.5411 - val_acc: 0.7810\n",
      "Epoch 8/10\n",
      "16643/16643 [==============================] - 78s 5ms/step - loss: 0.4805 - acc: 0.8105 - val_loss: 0.5295 - val_acc: 0.7888\n",
      "Epoch 9/10\n",
      "16643/16643 [==============================] - 77s 5ms/step - loss: 0.4647 - acc: 0.8213 - val_loss: 0.5190 - val_acc: 0.7943\n",
      "Epoch 10/10\n",
      "16643/16643 [==============================] - 78s 5ms/step - loss: 0.4399 - acc: 0.8301 - val_loss: 0.5138 - val_acc: 0.8011\n"
     ]
    },
    {
     "data": {
      "text/plain": [
       "<keras.callbacks.History at 0x7f494d7f5b00>"
      ]
     },
     "execution_count": 9,
     "metadata": {},
     "output_type": "execute_result"
    }
   ],
   "source": [
    "params = {}\n",
    "params['validation_data'] = (x_val, y_val)\n",
    "params['batch_size'] = 16\n",
    "params['epochs'] = 10\n",
    "params['callbacks'] = [EarlyStopping(patience=2, monitor='val_loss')]\n",
    "model.optimizer.lr = 0.0005\n",
    "model.fit(x_train, y_train, **params)"
   ]
  },
  {
   "cell_type": "code",
   "execution_count": 11,
   "metadata": {},
   "outputs": [
    {
     "name": "stdout",
     "output_type": "stream",
     "text": [
      "Train on 16643 samples, validate on 2936 samples\n",
      "Epoch 1/10\n",
      "16643/16643 [==============================] - 78s 5ms/step - loss: 0.4110 - acc: 0.8405 - val_loss: 0.5033 - val_acc: 0.8048\n",
      "Epoch 2/10\n",
      "16643/16643 [==============================] - 78s 5ms/step - loss: 0.3920 - acc: 0.8467 - val_loss: 0.4943 - val_acc: 0.8069\n",
      "Epoch 3/10\n",
      "16643/16643 [==============================] - 77s 5ms/step - loss: 0.3727 - acc: 0.8581 - val_loss: 0.4943 - val_acc: 0.8113\n",
      "Epoch 4/10\n",
      "16643/16643 [==============================] - 78s 5ms/step - loss: 0.3521 - acc: 0.8670 - val_loss: 0.4800 - val_acc: 0.8110\n",
      "Epoch 5/10\n",
      "16643/16643 [==============================] - 78s 5ms/step - loss: 0.3448 - acc: 0.8709 - val_loss: 0.4835 - val_acc: 0.8147\n",
      "Epoch 6/10\n",
      "16643/16643 [==============================] - 78s 5ms/step - loss: 0.3326 - acc: 0.8749 - val_loss: 0.4734 - val_acc: 0.8154\n",
      "Epoch 7/10\n",
      "16643/16643 [==============================] - 78s 5ms/step - loss: 0.3169 - acc: 0.8817 - val_loss: 0.4777 - val_acc: 0.8208\n",
      "Epoch 8/10\n",
      "16643/16643 [==============================] - 78s 5ms/step - loss: 0.3011 - acc: 0.8870 - val_loss: 0.4716 - val_acc: 0.8249\n",
      "Epoch 9/10\n",
      "16643/16643 [==============================] - 78s 5ms/step - loss: 0.2994 - acc: 0.8914 - val_loss: 0.4633 - val_acc: 0.8246\n",
      "Epoch 10/10\n",
      "16643/16643 [==============================] - 78s 5ms/step - loss: 0.2765 - acc: 0.8977 - val_loss: 0.4851 - val_acc: 0.8195\n"
     ]
    },
    {
     "data": {
      "text/plain": [
       "<keras.callbacks.History at 0x7f490193ceb8>"
      ]
     },
     "execution_count": 11,
     "metadata": {},
     "output_type": "execute_result"
    }
   ],
   "source": [
    "params = {}\n",
    "params['validation_data'] = (x_val, y_val)\n",
    "params['batch_size'] = 16\n",
    "params['epochs'] = 10\n",
    "params['callbacks'] = [EarlyStopping(patience=2, monitor='val_loss')]\n",
    "model.optimizer.lr = 0.0003\n",
    "model.fit(x_train, y_train, **params)"
   ]
  },
  {
   "cell_type": "code",
   "execution_count": 12,
   "metadata": {},
   "outputs": [
    {
     "name": "stdout",
     "output_type": "stream",
     "text": [
      "Train on 16643 samples, validate on 2936 samples\n",
      "Epoch 1/5\n",
      "16643/16643 [==============================] - 39s 2ms/step - loss: 0.2600 - acc: 0.9015 - val_loss: 0.4723 - val_acc: 0.8273\n",
      "Epoch 2/5\n",
      "16643/16643 [==============================] - 39s 2ms/step - loss: 0.2567 - acc: 0.9064 - val_loss: 0.4716 - val_acc: 0.8246\n",
      "Epoch 3/5\n",
      "16643/16643 [==============================] - 39s 2ms/step - loss: 0.2467 - acc: 0.9089 - val_loss: 0.4714 - val_acc: 0.8266\n",
      "Epoch 4/5\n",
      "16643/16643 [==============================] - 39s 2ms/step - loss: 0.2381 - acc: 0.9119 - val_loss: 0.4730 - val_acc: 0.8273\n",
      "Epoch 5/5\n",
      "16643/16643 [==============================] - 39s 2ms/step - loss: 0.2340 - acc: 0.9134 - val_loss: 0.4800 - val_acc: 0.8266\n"
     ]
    },
    {
     "data": {
      "text/plain": [
       "<keras.callbacks.History at 0x7f4901853a20>"
      ]
     },
     "execution_count": 12,
     "metadata": {},
     "output_type": "execute_result"
    }
   ],
   "source": [
    "params = {}\n",
    "params['validation_data'] = (x_val, y_val)\n",
    "params['batch_size'] = 32\n",
    "params['epochs'] = 5\n",
    "params['callbacks'] = [EarlyStopping(patience=2, monitor='val_loss')]\n",
    "model.optimizer.lr = 0.0002\n",
    "model.fit(x_train, y_train, **params)"
   ]
  },
  {
   "cell_type": "markdown",
   "metadata": {},
   "source": [
    "### score model"
   ]
  },
  {
   "cell_type": "code",
   "execution_count": 13,
   "metadata": {},
   "outputs": [
    {
     "name": "stdout",
     "output_type": "stream",
     "text": [
      "train (19579, 5)\n",
      "test (8392, 5)\n"
     ]
    }
   ],
   "source": [
    "train_predict = pd.DataFrame(model.predict_proba(train_seq), columns=['l1','l2','l3'])\n",
    "train_class = pd.DataFrame(model.predict_classes(train_seq), columns=['lstm'])\n",
    "test_predict = pd.DataFrame(model.predict_proba(score_seq), columns=['l1','l2','l3'])\n",
    "test_class = pd.DataFrame(model.predict_classes(score_seq), columns=['lstm'])\n",
    "train_keras = pd.concat([train_data[['id']], train_predict, train_class], axis=1)\n",
    "test_keras = pd.concat([test_data[['id']], test_predict, test_class], axis=1)\n",
    "print('train',train_keras.shape)\n",
    "print('test', test_keras.shape)\n",
    "train_keras.to_csv('../../data/spooky-author/data/train_lstm_score.csv', index=False)\n",
    "test_keras.to_csv('../../data/spooky-author/data/test_lstm_score.csv', index=False)"
   ]
  },
  {
   "cell_type": "code",
   "execution_count": null,
   "metadata": {
    "collapsed": true
   },
   "outputs": [],
   "source": []
  }
 ],
 "metadata": {
  "kernelspec": {
   "display_name": "Python 3",
   "language": "python",
   "name": "python3"
  },
  "language_info": {
   "codemirror_mode": {
    "name": "ipython",
    "version": 3
   },
   "file_extension": ".py",
   "mimetype": "text/x-python",
   "name": "python",
   "nbconvert_exporter": "python",
   "pygments_lexer": "ipython3",
   "version": "3.6.3"
  }
 },
 "nbformat": 4,
 "nbformat_minor": 2
}
