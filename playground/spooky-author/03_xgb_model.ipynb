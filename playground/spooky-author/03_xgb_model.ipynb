{
 "cells": [
  {
   "cell_type": "code",
   "execution_count": 1,
   "metadata": {
    "collapsed": true
   },
   "outputs": [],
   "source": [
    "import pandas as pd\n",
    "import numpy as np\n",
    "import xgboost as xgb\n",
    "from sklearn.model_selection import KFold\n",
    "import matplotlib.pyplot as plt"
   ]
  },
  {
   "cell_type": "code",
   "execution_count": 3,
   "metadata": {},
   "outputs": [
    {
     "name": "stdout",
     "output_type": "stream",
     "text": [
      "data shapes: (19579, 23)\n"
     ]
    }
   ],
   "source": [
    "text_feats = pd.read_csv('../../data/spooky-author/data/train_text_feats.csv')\n",
    "# nb_score = pd.read_csv('../../data/spooky-author/data/train_nb_score.csv')\n",
    "# nb_feats = pd.read_csv('../../data/spooky-author/data/test_nb_feats.csv')\n",
    "# train_data = text_feats.merge(nb_feats, on='id', how='inner')\n",
    "# train_data = train_data.merge(nb_score, on='id', how='inner')\n",
    "\n",
    "dependent = pd.read_csv('../../data/spooky-author/download/train.csv', usecols=['id','author'])\n",
    "mapper = {'EAP':0, 'HPL':1, 'MWS':2}\n",
    "dependent['author'] = dependent['author'].map(lambda x : mapper[x])\n",
    "train_data = dependent.merge(text_feats, on='id').drop('id', axis=1)\n",
    "print('data shapes:', train_data.shape)\n",
    "train_matrix = xgb.DMatrix(data = train_data.iloc[:,1:], label = train_data['author'])"
   ]
  },
  {
   "cell_type": "code",
   "execution_count": 4,
   "metadata": {
    "collapsed": true
   },
   "outputs": [],
   "source": [
    "booster = {}\n",
    "booster['booster'] = 'gbtree'\n",
    "booster['nthread'] = 7\n",
    "booster['max_depth'] = 4\n",
    "booster['min_child_weight'] = 1\n",
    "booster['subsample'] = 0.8\n",
    "booster['colsample_bytree'] = 1.0\n",
    "booster['colsample_bylevel'] = 0.9\n",
    "booster['lambda'] = 1.0\n",
    "booster['alpha'] = 0.0\n",
    "booster['objective'] = 'multi:softprob'\n",
    "booster['eval_metric'] = ['mlogloss']\n",
    "booster['num_class'] = 3\n",
    "booster['seed'] = 2017"
   ]
  },
  {
   "cell_type": "code",
   "execution_count": 6,
   "metadata": {},
   "outputs": [],
   "source": [
    "params = {}\n",
    "params['params'] = booster\n",
    "params['dtrain'] = train_matrix\n",
    "params['num_boost_round'] = 2000\n",
    "params['folds'] =  KFold(n_splits=5, random_state=2017, shuffle=True).split(train_data)\n",
    "params['early_stopping_rounds'] = 30\n",
    "params['verbose_eval'] = 25\n",
    "params['show_stdv'] = False\n",
    "params['callbacks'] = [xgb.callback.reset_learning_rate([0.05] * 2000)]"
   ]
  },
  {
   "cell_type": "code",
   "execution_count": 7,
   "metadata": {},
   "outputs": [
    {
     "name": "stdout",
     "output_type": "stream",
     "text": [
      "[0]\ttrain-mlogloss:1.08922\ttest-mlogloss:1.08995\n",
      "[25]\ttrain-mlogloss:0.965599\ttest-mlogloss:0.980931\n",
      "[50]\ttrain-mlogloss:0.918601\ttest-mlogloss:0.946201\n",
      "[75]\ttrain-mlogloss:0.891676\ttest-mlogloss:0.930591\n",
      "[100]\ttrain-mlogloss:0.87294\ttest-mlogloss:0.922245\n",
      "[125]\ttrain-mlogloss:0.858304\ttest-mlogloss:0.917633\n",
      "[150]\ttrain-mlogloss:0.846193\ttest-mlogloss:0.914693\n",
      "[175]\ttrain-mlogloss:0.83569\ttest-mlogloss:0.912886\n",
      "[200]\ttrain-mlogloss:0.826153\ttest-mlogloss:0.91172\n",
      "[225]\ttrain-mlogloss:0.817457\ttest-mlogloss:0.911076\n",
      "[250]\ttrain-mlogloss:0.809135\ttest-mlogloss:0.910843\n",
      "[275]\ttrain-mlogloss:0.80125\ttest-mlogloss:0.910508\n",
      "[300]\ttrain-mlogloss:0.793645\ttest-mlogloss:0.910337\n",
      "[325]\ttrain-mlogloss:0.786236\ttest-mlogloss:0.910258\n",
      "[350]\ttrain-mlogloss:0.778953\ttest-mlogloss:0.910528\n"
     ]
    }
   ],
   "source": [
    "model = xgb.cv(**params)"
   ]
  },
  {
   "cell_type": "code",
   "execution_count": null,
   "metadata": {
    "collapsed": true
   },
   "outputs": [],
   "source": []
  }
 ],
 "metadata": {
  "kernelspec": {
   "display_name": "Python 3",
   "language": "python",
   "name": "python3"
  },
  "language_info": {
   "codemirror_mode": {
    "name": "ipython",
    "version": 3
   },
   "file_extension": ".py",
   "mimetype": "text/x-python",
   "name": "python",
   "nbconvert_exporter": "python",
   "pygments_lexer": "ipython3",
   "version": "3.6.3"
  }
 },
 "nbformat": 4,
 "nbformat_minor": 2
}
