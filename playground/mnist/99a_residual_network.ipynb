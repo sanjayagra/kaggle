{
 "cells": [
  {
   "cell_type": "code",
   "execution_count": null,
   "metadata": {},
   "outputs": [],
   "source": [
    "import pandas as pd\n",
    "import numpy as np\n",
    "import keras"
   ]
  },
  {
   "cell_type": "code",
   "execution_count": null,
   "metadata": {
    "collapsed": true
   },
   "outputs": [],
   "source": [
    "from keras.preprocessing.image import ImageDataGenerator\n",
    "from keras.models import Sequential\n",
    "from keras.layers import Conv2D, MaxPooling2D\n",
    "from keras.layers import Lambda, BatchNormalization, Flatten\n",
    "from keras.layers import Dense, Dropout, Input\n",
    "from keras.layers import AveragePooling2D, GlobalAveragePooling2D\n",
    "from keras.optimizers import Adam\n",
    "from keras.models import Model\n",
    "from keras import layers"
   ]
  },
  {
   "cell_type": "code",
   "execution_count": null,
   "metadata": {},
   "outputs": [],
   "source": [
    "X_train = np.load('../data/X_train.npy').reshape(36000,28,28,1)\n",
    "X_valid = np.load('../data/X_valid.npy').reshape(6000,28,28,1)\n",
    "X_score = np.load('../data/X_score.npy').reshape(28000,28,28,1)\n",
    "y_train = np.load('../data/y_train.npy')\n",
    "y_valid = np.load('../data/y_valid.npy')\n",
    "y_score = pd.read_csv('../data/submit_v3.csv')\n",
    "y_score = np.array(pd.get_dummies(y_score['Label']))\n",
    "print(X_train.shape, y_train.shape)\n",
    "print(X_score.shape, y_score.shape)\n",
    "print(X_valid.shape, y_valid.shape)"
   ]
  },
  {
   "cell_type": "code",
   "execution_count": null,
   "metadata": {},
   "outputs": [],
   "source": [
    "transform = {}\n",
    "transform['width_shift_range'] = 0.075\n",
    "transform['height_shift_range'] = 0.075\n",
    "transform['rotation_range'] = 5\n",
    "transform['shear_range'] = 0.3\n",
    "transform['zoom_range'] = 0.075\n",
    "\n",
    "generator = ImageDataGenerator(**transform)\n",
    "generator.fit(X_train)"
   ]
  },
  {
   "cell_type": "code",
   "execution_count": null,
   "metadata": {
    "collapsed": true
   },
   "outputs": [],
   "source": [
    "def residual_block(inputs, filters):\n",
    "    layer = Conv2D(filters,(3,3), strides=(1,1), padding='same', activation='relu')(inputs)\n",
    "    layer = BatchNormalization(axis=-1)(layer)\n",
    "    layer = Conv2D(filters,(3,3), strides=(1,1), padding='same', activation='relu')(layer)\n",
    "    layer = BatchNormalization(axis=-1)(layer)\n",
    "    layer = layers.add([layer, inputs])\n",
    "    return layer"
   ]
  },
  {
   "cell_type": "code",
   "execution_count": null,
   "metadata": {},
   "outputs": [],
   "source": [
    "inputs = Input(shape=(28,28,1))\n",
    "layer = BatchNormalization(axis=-1)(inputs)\n",
    "layer = Conv2D(32, (3,3), strides=(1,1), padding='same', activation='relu')(layer)\n",
    "layer = BatchNormalization(axis=-1)(layer)\n",
    "layer = Conv2D(32, (3,3), strides=(1,1), padding='same', activation='relu')(layer)\n",
    "layer = BatchNormalization(axis=-1)(layer)\n",
    "layer = MaxPooling2D(pool_size=(2,2))(layer)\n",
    "layer = residual_block(inputs, 64)\n",
    "layer = GlobalAveragePooling2D()(layer)\n",
    "layer = BatchNormalization()(layer)\n",
    "layer = Dense(512, activation='relu')(layer)\n",
    "layer = Dropout(0.5)(layer)\n",
    "output = Dense(10, activation='softmax')(layer)"
   ]
  },
  {
   "cell_type": "code",
   "execution_count": null,
   "metadata": {},
   "outputs": [],
   "source": [
    "model = Model(inputs=inputs, outputs=output)"
   ]
  },
  {
   "cell_type": "code",
   "execution_count": null,
   "metadata": {
    "collapsed": true
   },
   "outputs": [],
   "source": [
    "model.compile(optimizer=Adam(), loss='categorical_crossentropy', metrics=['accuracy'])"
   ]
  },
  {
   "cell_type": "code",
   "execution_count": null,
   "metadata": {},
   "outputs": [],
   "source": [
    "# model.summary()"
   ]
  },
  {
   "cell_type": "code",
   "execution_count": null,
   "metadata": {
    "collapsed": true
   },
   "outputs": [],
   "source": [
    "params = {}\n",
    "params['epochs'] = 1\n",
    "params['steps_per_epoch'] = 1200 # 36000 / 30\n",
    "params['validation_data'] = (X_valid, y_valid)"
   ]
  },
  {
   "cell_type": "code",
   "execution_count": null,
   "metadata": {},
   "outputs": [],
   "source": [
    "model.optimizer.lr = 0.001\n",
    "params['epochs'] = 2\n",
    "model.fit_generator(generator.flow(X_train, y_train, batch_size=30), **params)"
   ]
  },
  {
   "cell_type": "code",
   "execution_count": null,
   "metadata": {},
   "outputs": [],
   "source": [
    "model.optimizer.lr = 0.01\n",
    "params['epochs'] = 3\n",
    "model.fit_generator(generator.flow(X_train, y_train, batch_size=30), **params)"
   ]
  },
  {
   "cell_type": "code",
   "execution_count": null,
   "metadata": {
    "collapsed": true
   },
   "outputs": [],
   "source": []
  }
 ],
 "metadata": {
  "kernelspec": {
   "display_name": "Python 3",
   "language": "python",
   "name": "python3"
  },
  "language_info": {
   "codemirror_mode": {
    "name": "ipython",
    "version": 3
   },
   "file_extension": ".py",
   "mimetype": "text/x-python",
   "name": "python",
   "nbconvert_exporter": "python",
   "pygments_lexer": "ipython3",
   "version": "3.6.1"
  }
 },
 "nbformat": 4,
 "nbformat_minor": 2
}
