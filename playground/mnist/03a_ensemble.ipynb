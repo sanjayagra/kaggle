{
 "cells": [
  {
   "cell_type": "code",
   "execution_count": 1,
   "metadata": {
    "collapsed": true
   },
   "outputs": [],
   "source": [
    "import pandas as pd\n",
    "import numpy as np\n",
    "import xgboost as xgb"
   ]
  },
  {
   "cell_type": "markdown",
   "metadata": {},
   "source": [
    "### Features"
   ]
  },
  {
   "cell_type": "code",
   "execution_count": 2,
   "metadata": {},
   "outputs": [
    {
     "name": "stdout",
     "output_type": "stream",
     "text": [
      "(36000,) (6000,)\n",
      "(36000, 1) (6000, 1) (28000, 1)\n",
      "(36000, 1) (6000, 1) (28000, 1)\n",
      "(36000, 10) (6000, 10) (28000, 10)\n",
      "(36000, 10) (6000, 10) (28000, 10)\n",
      "(36000, 10) (6000, 10) (28000, 10)\n",
      "(36000, 10) (6000, 10) (28000, 10)\n"
     ]
    }
   ],
   "source": [
    "y_train = np.load('../data/y_train.npy').argmax(axis=1)\n",
    "y_valid = np.load('../data/y_valid.npy').argmax(axis=1)\n",
    "print(y_train.shape, y_valid.shape)\n",
    "\n",
    "sum_train = np.atleast_2d(np.load('../data/X_train.npy').mean(axis=1)).T\n",
    "sum_valid = np.atleast_2d(np.load('../data/X_valid.npy').mean(axis=1)).T\n",
    "sum_score = np.atleast_2d(np.load('../data/X_score.npy').mean(axis=1)).T\n",
    "print(sum_train.shape, sum_valid.shape, sum_score.shape)\n",
    "\n",
    "max_train = np.atleast_2d(np.count_nonzero(np.load('../data/X_train.npy'),axis=1)).T\n",
    "max_valid = np.atleast_2d(np.count_nonzero(np.load('../data/X_valid.npy'),axis=1)).T\n",
    "max_score = np.atleast_2d(np.count_nonzero(np.load('../data/X_score.npy'),axis=1)).T\n",
    "print(max_train.shape, max_valid.shape, max_score.shape)\n",
    "\n",
    "knn_train = np.load('../data/scores/knn_train.npy')\n",
    "knn_valid = np.load('../data/scores/knn_valid.npy')\n",
    "knn_score = np.load('../data/scores/knn_score.npy')\n",
    "print(knn_train.shape, knn_valid.shape, knn_score.shape)\n",
    "\n",
    "cnn1_train = np.load('../data/scores/cnn1_train.npy')\n",
    "cnn1_valid = np.load('../data/scores/cnn1_valid.npy')\n",
    "cnn1_score = np.load('../data/scores/cnn1_score.npy')\n",
    "print(cnn1_train.shape, cnn1_valid.shape, cnn1_score.shape)\n",
    "\n",
    "cnn2_train = np.load('../data/scores/cnn2_train.npy')\n",
    "cnn2_valid = np.load('../data/scores/cnn2_valid.npy')\n",
    "cnn2_score = np.load('../data/scores/cnn2_score.npy')\n",
    "print(cnn2_train.shape, cnn2_valid.shape, cnn2_score.shape)\n",
    "\n",
    "cnn3_train = np.load('../data/scores/cnn3_train.npy')\n",
    "cnn3_valid = np.load('../data/scores/cnn3_valid.npy')\n",
    "cnn3_score = np.load('../data/scores/cnn3_score.npy')\n",
    "print(cnn3_train.shape, cnn3_valid.shape, cnn3_score.shape)"
   ]
  },
  {
   "cell_type": "code",
   "execution_count": 3,
   "metadata": {},
   "outputs": [
    {
     "name": "stdout",
     "output_type": "stream",
     "text": [
      "(36000, 42) (6000, 42) (28000, 42)\n"
     ]
    }
   ],
   "source": [
    "X_train = np.concatenate([sum_train,max_train,knn_train,cnn1_train,cnn2_train,cnn3_train], axis=1)\n",
    "X_valid = np.concatenate([sum_valid,max_valid,knn_valid,cnn1_valid,cnn2_valid,cnn3_valid], axis=1)\n",
    "X_score = np.concatenate([sum_score,max_score,knn_score,cnn1_score,cnn2_score,cnn3_score], axis=1)\n",
    "print(X_train.shape, X_valid.shape, X_score.shape)"
   ]
  },
  {
   "cell_type": "code",
   "execution_count": 4,
   "metadata": {},
   "outputs": [],
   "source": [
    "train_matrix = xgb.DMatrix(data=X_valid[:3000,:], label=y_valid[:3000])\n",
    "valid_matrix = xgb.DMatrix(data=X_valid[3000:,:], label=y_valid[3000:])\n",
    "score_matrix = xgb.DMatrix(data=X_score)"
   ]
  },
  {
   "cell_type": "markdown",
   "metadata": {},
   "source": [
    "### Model"
   ]
  },
  {
   "cell_type": "code",
   "execution_count": 5,
   "metadata": {
    "collapsed": true
   },
   "outputs": [],
   "source": [
    "booster = {}\n",
    "booster['booster'] = 'gbtree'\n",
    "booster['nthread'] = 15\n",
    "booster['max_depth'] = 6\n",
    "booster['min_child_weight'] = 1\n",
    "booster['subsample'] = 0.8\n",
    "booster['colsample_bytree'] = 1.0\n",
    "booster['colsample_bylevel'] = 0.9\n",
    "booster['lambda'] = 1.0\n",
    "booster['alpha'] = 0.0\n",
    "booster['objective'] = 'multi:softprob'\n",
    "booster['num_class'] = 10\n",
    "booster['eval_metric'] = ['merror']\n",
    "booster['seed'] = 108"
   ]
  },
  {
   "cell_type": "code",
   "execution_count": 6,
   "metadata": {
    "collapsed": true
   },
   "outputs": [],
   "source": [
    "params = {}\n",
    "params['params'] = booster\n",
    "params['dtrain'] = train_matrix\n",
    "params['num_boost_round'] = 2000\n",
    "params['evals'] = [(train_matrix,'train_matrix'),(valid_matrix,'valid_matrix')]\n",
    "params['early_stopping_rounds'] = 10\n",
    "params['verbose_eval'] = 1\n",
    "params['callbacks'] = [xgb.callback.reset_learning_rate([0.001] * 2000)]"
   ]
  },
  {
   "cell_type": "code",
   "execution_count": 7,
   "metadata": {},
   "outputs": [
    {
     "name": "stdout",
     "output_type": "stream",
     "text": [
      "[0]\ttrain_matrix-merror:0.003667\tvalid_matrix-merror:0.005\n",
      "Multiple eval metrics have been passed: 'valid_matrix-merror' will be used for early stopping.\n",
      "\n",
      "Will train until valid_matrix-merror hasn't improved in 10 rounds.\n",
      "[1]\ttrain_matrix-merror:0.002667\tvalid_matrix-merror:0.005\n",
      "[2]\ttrain_matrix-merror:0.002667\tvalid_matrix-merror:0.005\n",
      "[3]\ttrain_matrix-merror:0.002667\tvalid_matrix-merror:0.005\n",
      "[4]\ttrain_matrix-merror:0.002667\tvalid_matrix-merror:0.005\n",
      "[5]\ttrain_matrix-merror:0.002667\tvalid_matrix-merror:0.004667\n",
      "[6]\ttrain_matrix-merror:0.002667\tvalid_matrix-merror:0.004667\n",
      "[7]\ttrain_matrix-merror:0.002667\tvalid_matrix-merror:0.004333\n",
      "[8]\ttrain_matrix-merror:0.002667\tvalid_matrix-merror:0.004333\n",
      "[9]\ttrain_matrix-merror:0.002667\tvalid_matrix-merror:0.004333\n",
      "[10]\ttrain_matrix-merror:0.002667\tvalid_matrix-merror:0.004667\n",
      "[11]\ttrain_matrix-merror:0.002667\tvalid_matrix-merror:0.004667\n",
      "[12]\ttrain_matrix-merror:0.002667\tvalid_matrix-merror:0.004667\n",
      "[13]\ttrain_matrix-merror:0.002667\tvalid_matrix-merror:0.004\n",
      "[14]\ttrain_matrix-merror:0.002667\tvalid_matrix-merror:0.004\n",
      "[15]\ttrain_matrix-merror:0.002667\tvalid_matrix-merror:0.004333\n",
      "[16]\ttrain_matrix-merror:0.002667\tvalid_matrix-merror:0.004333\n",
      "[17]\ttrain_matrix-merror:0.002667\tvalid_matrix-merror:0.004667\n",
      "[18]\ttrain_matrix-merror:0.002667\tvalid_matrix-merror:0.004333\n",
      "[19]\ttrain_matrix-merror:0.002667\tvalid_matrix-merror:0.004333\n",
      "[20]\ttrain_matrix-merror:0.002667\tvalid_matrix-merror:0.004333\n",
      "[21]\ttrain_matrix-merror:0.002667\tvalid_matrix-merror:0.004333\n",
      "[22]\ttrain_matrix-merror:0.002667\tvalid_matrix-merror:0.004333\n",
      "[23]\ttrain_matrix-merror:0.002667\tvalid_matrix-merror:0.004333\n",
      "Stopping. Best iteration:\n",
      "[13]\ttrain_matrix-merror:0.002667\tvalid_matrix-merror:0.004\n",
      "\n"
     ]
    }
   ],
   "source": [
    "model = xgb.train(**params)"
   ]
  },
  {
   "cell_type": "code",
   "execution_count": 8,
   "metadata": {},
   "outputs": [],
   "source": [
    "predict = model.predict(score_matrix).argmax(axis=1)\n",
    "predict = pd.DataFrame(predict, columns=['Label'])\n",
    "predict = predict.reset_index()\n",
    "predict.columns = ['ImageId','Label']\n",
    "predict['ImageId'] = predict['ImageId'] + 1"
   ]
  },
  {
   "cell_type": "code",
   "execution_count": 9,
   "metadata": {},
   "outputs": [],
   "source": [
    "predict.to_csv('../data/submit_v4.csv', index=False)"
   ]
  },
  {
   "cell_type": "code",
   "execution_count": null,
   "metadata": {
    "collapsed": true
   },
   "outputs": [],
   "source": [
    "### Submission scored 0.99471 on LB"
   ]
  }
 ],
 "metadata": {
  "kernelspec": {
   "display_name": "Python 3",
   "language": "python",
   "name": "python3"
  },
  "language_info": {
   "codemirror_mode": {
    "name": "ipython",
    "version": 3
   },
   "file_extension": ".py",
   "mimetype": "text/x-python",
   "name": "python",
   "nbconvert_exporter": "python",
   "pygments_lexer": "ipython3",
   "version": "3.6.1"
  }
 },
 "nbformat": 4,
 "nbformat_minor": 2
}
