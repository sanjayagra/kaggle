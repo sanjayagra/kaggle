{
 "cells": [
  {
   "cell_type": "code",
   "execution_count": 1,
   "metadata": {},
   "outputs": [
    {
     "name": "stdout",
     "output_type": "stream",
     "text": [
      "cuda: True\n"
     ]
    }
   ],
   "source": [
    "import torch\n",
    "import torchvision\n",
    "from torch.autograd import Variable\n",
    "import numpy as np\n",
    "import pandas as pd\n",
    "import matplotlib.pyplot as plt\n",
    "import itertools\n",
    "from functools import partial\n",
    "\n",
    "%matplotlib inline\n",
    "\n",
    "print('cuda:', torch.cuda.is_available())"
   ]
  },
  {
   "cell_type": "markdown",
   "metadata": {},
   "source": [
    "### bottleneck feature extraction"
   ]
  },
  {
   "cell_type": "markdown",
   "metadata": {},
   "source": [
    "### resnet50"
   ]
  },
  {
   "cell_type": "code",
   "execution_count": 2,
   "metadata": {},
   "outputs": [],
   "source": [
    "def extract_features(model, dataloader, epochs):\n",
    "    model = model.cuda()\n",
    "    target = []\n",
    "    scores = []\n",
    "    for epoch in range(epochs):\n",
    "        counter = 0\n",
    "        for data in dataloader:\n",
    "            inputs, labels = data\n",
    "            inputs = Variable(inputs.cuda())\n",
    "            labels = Variable(labels.cuda())\n",
    "            outputs = model(inputs)\n",
    "            target += [np.squeeze(labels.data.cpu().numpy())]\n",
    "            scores += [np.squeeze(outputs.data.cpu().numpy())]\n",
    "            counter += 1    \n",
    "        print('epoch {} finished.'.format(epoch))\n",
    "    model = model.cpu()\n",
    "    scores = pd.DataFrame(np.array(scores))\n",
    "    scores['target'] = target\n",
    "    print('data shape:', scores.shape)\n",
    "    return scores"
   ]
  },
  {
   "cell_type": "code",
   "execution_count": 3,
   "metadata": {
    "collapsed": true
   },
   "outputs": [],
   "source": [
    "transforms = []\n",
    "transforms += [torchvision.transforms.Resize(224)]\n",
    "transforms += [torchvision.transforms.RandomCrop(200)]\n",
    "transforms += [torchvision.transforms.RandomHorizontalFlip()]\n",
    "transforms += [torchvision.transforms.RandomVerticalFlip()]\n",
    "transforms += [torchvision.transforms.RandomRotation(degrees=20)]\n",
    "transforms += [torchvision.transforms.ToTensor()]\n",
    "transforms += [torchvision.transforms.Normalize(mean=[0.485, 0.456, 0.406], std=[0.229, 0.224, 0.225])]\n",
    "transforms = torchvision.transforms.Compose(transforms)"
   ]
  },
  {
   "cell_type": "code",
   "execution_count": null,
   "metadata": {},
   "outputs": [],
   "source": [
    "trainset = torchvision.datasets.ImageFolder(root='../../data/plant-seed/data/train/', transform=transforms)\n",
    "train_loader = torch.utils.data.DataLoader(trainset, batch_size=1, shuffle=False, num_workers=1)\n",
    "validset = torchvision.datasets.ImageFolder(root='../../data/plant-seed/data/valid/', transform=transforms)\n",
    "valid_loader = torch.utils.data.DataLoader(validset, batch_size=1, shuffle=False, num_workers=1)\n",
    "testset = torchvision.datasets.ImageFolder(root='../../data/plant-seed/data/test/', transform=transforms)\n",
    "test_loader = torch.utils.data.DataLoader(testset, batch_size=1, shuffle=False, num_workers=1)"
   ]
  },
  {
   "cell_type": "code",
   "execution_count": null,
   "metadata": {},
   "outputs": [],
   "source": [
    "resnet50 = torchvision.models.resnet50(pretrained=True)\n",
    "resnet50 = torch.nn.Sequential(*(list(resnet50.children())[:-1]))\n",
    "\n",
    "train_resnet50 = extract_features(resnet50, train_loader, 6)\n",
    "train_reset.to_csv('../../data/plant-seed/data/features/train_resnet_50.csv', index=False)\n",
    "del train_resnet50\n",
    "\n",
    "valid_resnet50 = extract_features(resnet50, valid_loader, 4)\n",
    "valid_reset.to_csv('../../data/plant-seed/data/features/valid_resnet_50.csv', index=False)\n",
    "del valid_resnet50\n",
    "\n",
    "test_resnet50 = extract_features(resnet50, test_loader, 4)\n",
    "test_reset.to_csv('../../data/plant-seed/data/features/test_resnet_50.csv', index=False)\n",
    "del test_resnet50\n",
    "\n",
    "del resnet50"
   ]
  },
  {
   "cell_type": "markdown",
   "metadata": {},
   "source": [
    "### inception-v3"
   ]
  },
  {
   "cell_type": "code",
   "execution_count": null,
   "metadata": {
    "collapsed": true
   },
   "outputs": [],
   "source": [
    "def extract_features(model, dataloader, epochs):\n",
    "    model = model.cuda()\n",
    "    target = []\n",
    "    scores = []\n",
    "    for epoch in range(epochs):\n",
    "        counter = 0\n",
    "        for data in dataloader:\n",
    "            inputs, labels = data\n",
    "            inputs = Variable(inputs.cuda())\n",
    "            labels = Variable(labels.cuda())\n",
    "            outputs = model(inputs)[0]\n",
    "            target += [np.squeeze(labels.data.cpu().numpy())]\n",
    "            scores += [np.squeeze(outputs.data.cpu().numpy())]\n",
    "            counter += 1    \n",
    "        print('epoch {} finished.'.format(epoch))\n",
    "    model = model.cpu()\n",
    "    scores = pd.DataFrame(np.array(scores))\n",
    "    scores['target'] = target\n",
    "    print('data shape:', scores.shape)\n",
    "    return scores"
   ]
  },
  {
   "cell_type": "code",
   "execution_count": null,
   "metadata": {},
   "outputs": [],
   "source": [
    "transforms = []\n",
    "transforms += [torchvision.transforms.Resize(299)]\n",
    "transforms += [torchvision.transforms.RandomHorizontalFlip()]\n",
    "transforms += [torchvision.transforms.RandomVerticalFlip()]\n",
    "transforms += [torchvision.transforms.RandomRotation(degrees=20)]\n",
    "transforms += [torchvision.transforms.ToTensor()]\n",
    "transforms += [torchvision.transforms.Normalize(mean=[0.485, 0.456, 0.406], std=[0.229, 0.224, 0.225])]\n",
    "transforms = torchvision.transforms.Compose(transforms)"
   ]
  },
  {
   "cell_type": "code",
   "execution_count": null,
   "metadata": {
    "collapsed": true
   },
   "outputs": [],
   "source": [
    "trainset = torchvision.datasets.ImageFolder(root='../../data/plant-seed/data/train/', transform=transforms)\n",
    "train_loader = torch.utils.data.DataLoader(trainset, batch_size=1, shuffle=False, num_workers=1)\n",
    "validset = torchvision.datasets.ImageFolder(root='../../data/plant-seed/data/valid/', transform=transforms)\n",
    "valid_loader = torch.utils.data.DataLoader(validset, batch_size=1, shuffle=False, num_workers=1)\n",
    "testset = torchvision.datasets.ImageFolder(root='../../data/plant-seed/data/test/', transform=transforms)\n",
    "test_loader = torch.utils.data.DataLoader(testset, batch_size=1, shuffle=False, num_workers=1)"
   ]
  },
  {
   "cell_type": "code",
   "execution_count": null,
   "metadata": {},
   "outputs": [],
   "source": [
    "inception = torchvision.models.inception_v3(pretrained=True)\n",
    "inception.fc = torch.nn.Linear(2048, 2048)\n",
    "\n",
    "train_inception = extract_features(inception, train_loader, 6)\n",
    "train_inception.to_csv('../../data/plant-seed/data/features/train_inception.csv', index=False)\n",
    "del train_inception\n",
    "\n",
    "valid_inception = extract_features(inception, valid_loader, 4)\n",
    "valid_inception.to_csv('../../data/plant-seed/data/features/valid_inception.csv', index=False)\n",
    "del valid_inception\n",
    "\n",
    "test_inception = extract_features(inception, test_loader, 4)\n",
    "test_inception.to_csv('../../data/plant-seed/data/features/test_inception.csv', index=False)\n",
    "del test_inception\n",
    "\n",
    "del inception"
   ]
  },
  {
   "cell_type": "code",
   "execution_count": null,
   "metadata": {
    "collapsed": true
   },
   "outputs": [],
   "source": []
  }
 ],
 "metadata": {
  "kernelspec": {
   "display_name": "Python 3",
   "language": "python",
   "name": "python3"
  },
  "language_info": {
   "codemirror_mode": {
    "name": "ipython",
    "version": 3
   },
   "file_extension": ".py",
   "mimetype": "text/x-python",
   "name": "python",
   "nbconvert_exporter": "python",
   "pygments_lexer": "ipython3",
   "version": "3.6.3"
  }
 },
 "nbformat": 4,
 "nbformat_minor": 2
}
