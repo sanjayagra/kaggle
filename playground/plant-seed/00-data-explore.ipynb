{
 "cells": [
  {
   "cell_type": "code",
   "execution_count": 1,
   "metadata": {},
   "outputs": [],
   "source": [
    "import torch\n",
    "import torchvision\n",
    "import numpy as np\n",
    "import matplotlib.pyplot as plt\n",
    "import glob\n",
    "import itertools\n",
    "import collections\n",
    "import shutil\n",
    "import os\n",
    "from PIL import Image\n",
    "\n",
    "%matplotlib inline"
   ]
  },
  {
   "cell_type": "code",
   "execution_count": 2,
   "metadata": {
    "collapsed": true
   },
   "outputs": [],
   "source": [
    "train_files = list(glob.iglob('../../data/plant-seed/download/**/*.png', recursive=True))\n",
    "test_files = list(glob.iglob('../../data/plant-seed/test/**/*.png', recursive=True))"
   ]
  },
  {
   "cell_type": "markdown",
   "metadata": {},
   "source": [
    "### data explore"
   ]
  },
  {
   "cell_type": "code",
   "execution_count": 3,
   "metadata": {},
   "outputs": [
    {
     "name": "stdout",
     "output_type": "stream",
     "text": [
      "lenght of trainset: 4750\n",
      "length of testset: 794\n"
     ]
    }
   ],
   "source": [
    "print('lenght of trainset:', len(train_files))\n",
    "print('length of testset:', len(test_files))"
   ]
  },
  {
   "cell_type": "code",
   "execution_count": 4,
   "metadata": {
    "collapsed": true
   },
   "outputs": [],
   "source": [
    "classes = collections.Counter([x.split('/')[-2] for x in train_files])"
   ]
  },
  {
   "cell_type": "code",
   "execution_count": 5,
   "metadata": {},
   "outputs": [
    {
     "data": {
      "image/png": "[encoded data removed]",
      "text/plain": [
       "<matplotlib.figure.Figure at 0x7f83b6e579b0>"
      ]
     },
     "metadata": {},
     "output_type": "display_data"
    }
   ],
   "source": [
    "plt.figure(figsize=(15,8))\n",
    "plt.bar(range(len(classes)), classes.values())\n",
    "plt.xticks(range(len(classes)), classes.keys(), fontsize=8, rotation=45)\n",
    "plt.title('Distribution of Training Classes')\n",
    "plt.show()"
   ]
  },
  {
   "cell_type": "markdown",
   "metadata": {},
   "source": [
    "### create validation sample"
   ]
  },
  {
   "cell_type": "code",
   "execution_count": null,
   "metadata": {},
   "outputs": [
    {
     "name": "stdout",
     "output_type": "stream",
     "text": [
      "lenght of trainset: 4000\n",
      "length of validset: 750\n"
     ]
    }
   ],
   "source": [
    "np.random.seed(123)\n",
    "valid_files = np.random.choice(train_files, size=750, replace=False)\n",
    "train_files = [x for x in train_files if x not in valid_files]\n",
    "print('lenght of trainset:', len(train_files))\n",
    "print('length of validset:', len(valid_files))"
   ]
  },
  {
   "cell_type": "code",
   "execution_count": null,
   "metadata": {},
   "outputs": [],
   "source": [
    "for file in train_files:\n",
    "    try:\n",
    "        shutil.copy(file,file.replace('download','train'))\n",
    "    except IOError:\n",
    "        directory = file.replace('download','train')[:-14]\n",
    "        os.makedirs(directory)\n",
    "        shutil.copy(file,file.replace('download','train'))\n",
    "        \n",
    "print(len(list(glob.iglob('../../data/plant-seed/train/**/*.png', recursive=True))))"
   ]
  },
  {
   "cell_type": "code",
   "execution_count": null,
   "metadata": {},
   "outputs": [],
   "source": [
    "for file in valid_files:\n",
    "    try:\n",
    "        shutil.copy(file,file.replace('download','valid'))\n",
    "    except IOError:\n",
    "        directory = file.replace('download','valid')[:-14]\n",
    "        os.makedirs(directory)\n",
    "        shutil.copy(file,file.replace('download','train'))\n",
    "\n",
    "print(len(list(glob.iglob('../../data/plant-seed/valid/**/*.png', recursive=True))))"
   ]
  },
  {
   "cell_type": "markdown",
   "metadata": {},
   "source": [
    "### class images"
   ]
  },
  {
   "cell_type": "code",
   "execution_count": null,
   "metadata": {},
   "outputs": [],
   "source": [
    "plt.figure(figsize=(10,5))\n",
    "f, axarr = plt.subplots(1,3)\n",
    "axarr[0].imshow(Image.open('../../data/plant-seed/valid/Black-grass/0183fdf68.png'))\n",
    "axarr[1].imshow(Image.open('../../data/plant-seed/valid/Black-grass/0260cffa8.png'))\n",
    "axarr[2].imshow(Image.open('../../data/plant-seed/valid/Black-grass/075d004bc.png'))\n",
    "plt.show()"
   ]
  },
  {
   "cell_type": "code",
   "execution_count": null,
   "metadata": {},
   "outputs": [],
   "source": [
    "plt.figure(figsize=(10,5))\n",
    "f, axarr = plt.subplots(1,3)\n",
    "axarr[0].imshow(Image.open('../../data/plant-seed/valid/Charlock/084a9cb18.png'))\n",
    "axarr[1].imshow(Image.open('../../data/plant-seed/valid/Charlock/09f038ce4.png'))\n",
    "axarr[2].imshow(Image.open('../../data/plant-seed/valid/Charlock/137c4e78e.png'))\n",
    "plt.show()"
   ]
  },
  {
   "cell_type": "code",
   "execution_count": null,
   "metadata": {},
   "outputs": [],
   "source": [
    "plt.figure(figsize=(10,5))\n",
    "f, axarr = plt.subplots(1,3)\n",
    "axarr[0].imshow(Image.open('../../data/plant-seed/valid/Cleavers/01605ed73.png'))\n",
    "axarr[1].imshow(Image.open('../../data/plant-seed/valid/Cleavers/06f447848.png'))\n",
    "axarr[2].imshow(Image.open('../../data/plant-seed/valid/Cleavers/06f447848.png'))\n",
    "plt.show()"
   ]
  },
  {
   "cell_type": "code",
   "execution_count": null,
   "metadata": {},
   "outputs": [],
   "source": [
    "plt.figure(figsize=(10,5))\n",
    "f, axarr = plt.subplots(1,3)\n",
    "axarr[0].imshow(Image.open('../../data/plant-seed/valid/Maize/0184ec53f.png'))\n",
    "axarr[1].imshow(Image.open('../../data/plant-seed/valid/Maize/16e38d4af.png'))\n",
    "axarr[2].imshow(Image.open('../../data/plant-seed/valid/Maize/19f880311.png'))\n",
    "plt.show()"
   ]
  },
  {
   "cell_type": "code",
   "execution_count": null,
   "metadata": {
    "collapsed": true
   },
   "outputs": [],
   "source": []
  }
 ],
 "metadata": {
  "kernelspec": {
   "display_name": "Python 3",
   "language": "python",
   "name": "python3"
  },
  "language_info": {
   "codemirror_mode": {
    "name": "ipython",
    "version": 3
   },
   "file_extension": ".py",
   "mimetype": "text/x-python",
   "name": "python",
   "nbconvert_exporter": "python",
   "pygments_lexer": "ipython3",
   "version": "3.6.3"
  }
 },
 "nbformat": 4,
 "nbformat_minor": 2
}
