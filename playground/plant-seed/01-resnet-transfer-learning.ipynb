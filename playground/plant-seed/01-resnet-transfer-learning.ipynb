{
 "cells": [
  {
   "cell_type": "code",
   "execution_count": 1,
   "metadata": {},
   "outputs": [
    {
     "name": "stdout",
     "output_type": "stream",
     "text": [
      "cuda: True\n"
     ]
    }
   ],
   "source": [
    "import torch\n",
    "import torchvision\n",
    "from torch.autograd import Variable\n",
    "import numpy as np\n",
    "import matplotlib.pyplot as plt\n",
    "import itertools\n",
    "from functools import partial\n",
    "\n",
    "%matplotlib inline\n",
    "\n",
    "print('cuda:', torch.cuda.is_available())"
   ]
  },
  {
   "cell_type": "markdown",
   "metadata": {},
   "source": [
    "The code has been referenced from the follwing post :-\n",
    "http://pytorch.org/tutorials/beginner/transfer_learning_tutorial.html"
   ]
  },
  {
   "cell_type": "markdown",
   "metadata": {},
   "source": [
    "### data loader"
   ]
  },
  {
   "cell_type": "code",
   "execution_count": 2,
   "metadata": {},
   "outputs": [],
   "source": [
    "transforms = []\n",
    "transforms += [torchvision.transforms.Resize(224)]\n",
    "transforms += [torchvision.transforms.RandomCrop(200)]\n",
    "transforms += [torchvision.transforms.RandomHorizontalFlip()]\n",
    "transforms += [torchvision.transforms.RandomVerticalFlip()]\n",
    "transforms += [torchvision.transforms.RandomRotation(degrees=20)]\n",
    "transforms += [torchvision.transforms.ToTensor()]\n",
    "transforms += [torchvision.transforms.Normalize(mean=[0.485, 0.456, 0.406], std=[0.229, 0.224, 0.225])]\n",
    "transforms = torchvision.transforms.Compose(transforms)\n",
    "trainset = torchvision.datasets.ImageFolder(root='../../data/plant-seed/data/train/', transform=transforms)"
   ]
  },
  {
   "cell_type": "code",
   "execution_count": 3,
   "metadata": {
    "collapsed": true
   },
   "outputs": [],
   "source": [
    "transforms = []\n",
    "transforms += [torchvision.transforms.Resize(224)]\n",
    "transforms += [torchvision.transforms.CenterCrop(200)]\n",
    "transforms += [torchvision.transforms.ToTensor()]\n",
    "transforms += [torchvision.transforms.Normalize(mean=[0.485, 0.456, 0.406], std=[0.229, 0.224, 0.225])]\n",
    "transforms = torchvision.transforms.Compose(transforms)\n",
    "evalset = torchvision.datasets.ImageFolder(root='../../data/plant-seed/data/train/', transform=transforms)"
   ]
  },
  {
   "cell_type": "code",
   "execution_count": 4,
   "metadata": {
    "collapsed": true
   },
   "outputs": [],
   "source": [
    "transforms = []\n",
    "transforms += [torchvision.transforms.Resize(224)]\n",
    "transforms += [torchvision.transforms.CenterCrop(200)]\n",
    "transforms += [torchvision.transforms.ToTensor()]\n",
    "transforms += [torchvision.transforms.Normalize(mean=[0.485, 0.456, 0.406], std=[0.229, 0.224, 0.225])]\n",
    "transforms = torchvision.transforms.Compose(transforms)\n",
    "validset = torchvision.datasets.ImageFolder(root='../../data/plant-seed/data/valid/', transform=transforms)"
   ]
  },
  {
   "cell_type": "markdown",
   "metadata": {},
   "source": [
    "### fine-tune model"
   ]
  },
  {
   "cell_type": "code",
   "execution_count": 5,
   "metadata": {
    "collapsed": true
   },
   "outputs": [],
   "source": [
    "model = torchvision.models.resnet18(pretrained=True)\n",
    "model.fc = torch.nn.Linear(512, 12)\n",
    "model = model.cuda()\n",
    "criterion = torch.nn.CrossEntropyLoss()\n",
    "optimizer = torch.optim.Adam(model.parameters(), lr=1e-4, weight_decay=0.)"
   ]
  },
  {
   "cell_type": "code",
   "execution_count": 6,
   "metadata": {
    "collapsed": true
   },
   "outputs": [],
   "source": [
    "def score(model, dataloader):\n",
    "    \n",
    "    # initital values\n",
    "    calc_loss = 0.\n",
    "    calc_correct = 0.\n",
    "    calc_count = 0.\n",
    "    \n",
    "    for data in dataloader: \n",
    "        # next batch\n",
    "        inputs, labels = data\n",
    "        inputs = Variable(inputs.cuda())\n",
    "        labels = Variable(labels.cuda())\n",
    "        \n",
    "        # model scores\n",
    "        outputs = model(inputs)\n",
    "        _, preds = torch.max(outputs.data, 1)\n",
    "        loss = criterion(outputs, labels)\n",
    "        \n",
    "        # sum the loss and accuracy\n",
    "        calc_loss += loss.data[0]\n",
    "        calc_correct += torch.sum(preds == labels.data)\n",
    "        calc_count += outputs.data.shape[0]     \n",
    "        \n",
    "    return round(calc_loss/calc_count, 4), round(calc_correct/calc_count, 4)"
   ]
  },
  {
   "cell_type": "code",
   "execution_count": 7,
   "metadata": {},
   "outputs": [],
   "source": [
    "def train(trainloader, evalloader, validloader, epochs):\n",
    "    \n",
    "    for epoch in range(epochs):\n",
    "        # initial values\n",
    "        calc_loss = 0.\n",
    "        calc_correct = 0.\n",
    "        calc_count = 0.\n",
    "        \n",
    "        # read data\n",
    "        for data in trainloader: \n",
    "            inputs, labels = data\n",
    "            inputs = Variable(inputs.cuda())\n",
    "            labels = Variable(labels.cuda())\n",
    "            # calculate loss and output\n",
    "            outputs = model(inputs)\n",
    "            _, preds = torch.max(outputs.data, 1)\n",
    "            loss = criterion(outputs, labels)\n",
    "            # clear gradients\n",
    "            optimizer.zero_grad()\n",
    "            # update weights\n",
    "            loss.backward()\n",
    "            optimizer.step()\n",
    "            # track losses\n",
    "            calc_loss += loss.data[0]\n",
    "            calc_correct += torch.sum(preds == labels.data)\n",
    "            calc_count += outputs.data.shape[0]\n",
    "            \n",
    "        # evaluate\n",
    "        print('----------------')\n",
    "        print('epoch:', epoch)\n",
    "        print('run loss:', (round(calc_loss/calc_count, 4), round(calc_correct/calc_count, 4)))\n",
    "        print('train loss:', score(model, evalloader))\n",
    "        print('valid loss:', score(model, validloader))\n",
    "        print('----------------')\n",
    "            \n",
    "    return model"
   ]
  },
  {
   "cell_type": "code",
   "execution_count": 8,
   "metadata": {
    "collapsed": true
   },
   "outputs": [],
   "source": [
    "def adjust_lr(optimizer, value):\n",
    "    for param_group in optimizer.param_groups:\n",
    "        param_group['lr'] = value\n",
    "    return optimizer"
   ]
  },
  {
   "cell_type": "markdown",
   "metadata": {},
   "source": [
    "### execution"
   ]
  },
  {
   "cell_type": "code",
   "execution_count": 9,
   "metadata": {
    "collapsed": true
   },
   "outputs": [],
   "source": [
    "train_loader = torch.utils.data.DataLoader(trainset, batch_size=16, shuffle=True, num_workers=4)\n",
    "eval_loader  = torch.utils.data.DataLoader(evalset, batch_size=64, shuffle=False, num_workers=4)\n",
    "valid_loader = torch.utils.data.DataLoader(validset, batch_size=64, shuffle=False, num_workers=4)"
   ]
  },
  {
   "cell_type": "code",
   "execution_count": 10,
   "metadata": {},
   "outputs": [
    {
     "name": "stdout",
     "output_type": "stream",
     "text": [
      "----------------\n",
      "epoch: 0\n",
      "run loss: (0.0487, 0.746)\n",
      "train loss: (0.0547, 0.1535)\n",
      "valid loss: (0.0399, 0.3453)\n",
      "----------------\n",
      "----------------\n",
      "epoch: 1\n",
      "run loss: (0.0191, 0.898)\n",
      "train loss: (0.0605, 0.1593)\n",
      "valid loss: (0.043, 0.3653)\n",
      "----------------\n",
      "----------------\n",
      "epoch: 2\n",
      "run loss: (0.015, 0.9185)\n",
      "train loss: (0.0613, 0.1547)\n",
      "valid loss: (0.0439, 0.368)\n",
      "----------------\n",
      "----------------\n",
      "epoch: 3\n",
      "run loss: (0.0122, 0.933)\n",
      "train loss: (0.064, 0.1713)\n",
      "valid loss: (0.0445, 0.3787)\n",
      "----------------\n",
      "----------------\n",
      "epoch: 4\n",
      "run loss: (0.0108, 0.942)\n",
      "train loss: (0.066, 0.1705)\n",
      "valid loss: (0.0458, 0.3747)\n",
      "----------------\n"
     ]
    }
   ],
   "source": [
    "model = train(train_loader, eval_loader, valid_loader, 5)"
   ]
  },
  {
   "cell_type": "code",
   "execution_count": 11,
   "metadata": {},
   "outputs": [
    {
     "name": "stdout",
     "output_type": "stream",
     "text": [
      "----------------\n",
      "epoch: 0\n",
      "run loss: (0.0075, 0.9613)\n",
      "train loss: (0.065, 0.1742)\n",
      "valid loss: (0.044, 0.4107)\n",
      "----------------\n",
      "----------------\n",
      "epoch: 1\n",
      "run loss: (0.0063, 0.9667)\n",
      "train loss: (0.0635, 0.1797)\n",
      "valid loss: (0.0432, 0.424)\n",
      "----------------\n",
      "----------------\n",
      "epoch: 2\n",
      "run loss: (0.0059, 0.9673)\n",
      "train loss: (0.0635, 0.1722)\n",
      "valid loss: (0.0418, 0.412)\n",
      "----------------\n",
      "----------------\n",
      "epoch: 3\n",
      "run loss: (0.0054, 0.97)\n",
      "train loss: (0.0641, 0.1755)\n",
      "valid loss: (0.0421, 0.4187)\n",
      "----------------\n",
      "----------------\n",
      "epoch: 4\n",
      "run loss: (0.0047, 0.9748)\n",
      "train loss: (0.0658, 0.1782)\n",
      "valid loss: (0.0437, 0.424)\n",
      "----------------\n"
     ]
    }
   ],
   "source": [
    "optimzer = adjust_lr(optimizer, 0.00005)\n",
    "model = train(train_loader, eval_loader, valid_loader, 5)"
   ]
  },
  {
   "cell_type": "code",
   "execution_count": 12,
   "metadata": {},
   "outputs": [
    {
     "name": "stdout",
     "output_type": "stream",
     "text": [
      "----------------\n",
      "epoch: 0\n",
      "run loss: (0.0035, 0.9812)\n",
      "train loss: (0.065, 0.1755)\n",
      "valid loss: (0.043, 0.4173)\n",
      "----------------\n",
      "----------------\n",
      "epoch: 1\n",
      "run loss: (0.0031, 0.9878)\n",
      "train loss: (0.0646, 0.177)\n",
      "valid loss: (0.0426, 0.42)\n",
      "----------------\n",
      "----------------\n",
      "epoch: 2\n",
      "run loss: (0.003, 0.9865)\n",
      "train loss: (0.0646, 0.1742)\n",
      "valid loss: (0.0428, 0.424)\n",
      "----------------\n",
      "----------------\n",
      "epoch: 3\n",
      "run loss: (0.0024, 0.9905)\n",
      "train loss: (0.0645, 0.179)\n",
      "valid loss: (0.0426, 0.432)\n",
      "----------------\n",
      "----------------\n",
      "epoch: 4\n",
      "run loss: (0.0026, 0.9898)\n",
      "train loss: (0.0643, 0.1782)\n",
      "valid loss: (0.0425, 0.432)\n",
      "----------------\n"
     ]
    }
   ],
   "source": [
    "optimzer = adjust_lr(optimizer, 0.00001)\n",
    "model = train(train_loader, eval_loader, valid_loader, 5)"
   ]
  },
  {
   "cell_type": "code",
   "execution_count": null,
   "metadata": {
    "collapsed": true
   },
   "outputs": [],
   "source": []
  }
 ],
 "metadata": {
  "kernelspec": {
   "display_name": "Python 3",
   "language": "python",
   "name": "python3"
  },
  "language_info": {
   "codemirror_mode": {
    "name": "ipython",
    "version": 3
   },
   "file_extension": ".py",
   "mimetype": "text/x-python",
   "name": "python",
   "nbconvert_exporter": "python",
   "pygments_lexer": "ipython3",
   "version": "3.6.3"
  }
 },
 "nbformat": 4,
 "nbformat_minor": 2
}
