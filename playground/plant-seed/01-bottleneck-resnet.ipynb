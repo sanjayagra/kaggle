{
 "cells": [
  {
   "cell_type": "code",
   "execution_count": 1,
   "metadata": {},
   "outputs": [],
   "source": [
    "import pandas as pd\n",
    "import numpy as np\n",
    "import torch\n",
    "from torch.autograd import Variable\n",
    "from torch.utils.data import Dataset, DataLoader\n",
    "from torch.nn import functional as F"
   ]
  },
  {
   "cell_type": "markdown",
   "metadata": {},
   "source": [
    "### data loaders"
   ]
  },
  {
   "cell_type": "code",
   "execution_count": 2,
   "metadata": {
    "collapsed": true
   },
   "outputs": [],
   "source": [
    "class csv_data(Dataset):\n",
    "    \n",
    "    def __init__(self, filename):\n",
    "        self.dataframe = pd.read_csv(filename).astype('float32')\n",
    "        return None\n",
    "    \n",
    "    def __getitem__(self, index):\n",
    "        X, y = self.dataframe.iloc[index,:-1], self.dataframe.iloc[index,-1]\n",
    "        y = np.atleast_1d(np.array(y, dtype=np.int64))\n",
    "        X, y = torch.from_numpy(np.array(X, dtype=np.float64)), torch.LongTensor(y).squeeze()\n",
    "        return X.float(), y.squeeze()\n",
    "    \n",
    "    def __len__(self):\n",
    "        return self.dataframe.shape[0]"
   ]
  },
  {
   "cell_type": "code",
   "execution_count": 3,
   "metadata": {},
   "outputs": [],
   "source": [
    "train_resnet = csv_data('../../data/plant-seed/data/features/train_resnet_50.csv')\n",
    "valid_resnet = csv_data('../../data/plant-seed/data/features/valid_resnet_50.csv')"
   ]
  },
  {
   "cell_type": "code",
   "execution_count": 4,
   "metadata": {
    "collapsed": true
   },
   "outputs": [],
   "source": [
    "train_resnet = DataLoader(train_resnet, batch_size=12, shuffle=True, num_workers=1)\n",
    "valid_resnet = DataLoader(valid_resnet, batch_size=64, shuffle=False, num_workers=1)"
   ]
  },
  {
   "cell_type": "markdown",
   "metadata": {},
   "source": [
    "### model"
   ]
  },
  {
   "cell_type": "code",
   "execution_count": 11,
   "metadata": {},
   "outputs": [],
   "source": [
    "class resnet(torch.nn.Module):\n",
    "\n",
    "    def __init__(self):\n",
    "        super(resnet, self).__init__()\n",
    "        self.dense1 = torch.nn.Linear(2048, 500)\n",
    "        self.dropout = torch.nn.Dropout(p=0.33)\n",
    "        self.batchnorm = torch.nn.BatchNorm1d(num_features=500)\n",
    "        self.dense2 = torch.nn.Linear(500, 12)\n",
    "        return None\n",
    "\n",
    "    def forward(self, x):\n",
    "        x = self.dense1(x)\n",
    "        x = self.dropout(x)\n",
    "        x = self.batchnorm(x)\n",
    "        x = self.dense2(x)\n",
    "        return x\n",
    "    \n",
    "model = resnet()\n",
    "model = model.cuda()\n",
    "criterion = torch.nn.CrossEntropyLoss()\n",
    "optimizer = torch.optim.Adam(model.parameters(), lr=1e-4, weight_decay=0.)"
   ]
  },
  {
   "cell_type": "code",
   "execution_count": 6,
   "metadata": {
    "collapsed": true
   },
   "outputs": [],
   "source": [
    "def score(model, dataloader):\n",
    "    # initital values\n",
    "    calc_loss = 0.\n",
    "    calc_correct = 0.    \n",
    "    for data in dataloader: \n",
    "        # next batch\n",
    "        inputs, labels = data\n",
    "        inputs = Variable(inputs.cuda())\n",
    "        labels = Variable(labels.cuda())\n",
    "        # model scores\n",
    "        outputs = model(inputs)\n",
    "        _, preds = torch.max(outputs.data, 1)\n",
    "        loss = criterion(outputs, labels.squeeze())\n",
    "        # sum the loss and accuracy\n",
    "        calc_loss += loss.data[0]\n",
    "        calc_correct += torch.sum(preds == labels.squeeze().data) \n",
    "    count = len(dataloader.dataset)\n",
    "    return round(calc_loss/count, 4), round(calc_correct/count, 4)"
   ]
  },
  {
   "cell_type": "code",
   "execution_count": 7,
   "metadata": {
    "collapsed": true
   },
   "outputs": [],
   "source": [
    "def train(trainloader, evalloader, validloader, epochs):\n",
    "    for epoch in range(epochs):\n",
    "        # initial values\n",
    "        calc_loss = 0.\n",
    "        calc_correct = 0.\n",
    "        # read data\n",
    "        for data in trainloader: \n",
    "            inputs, labels = data\n",
    "            inputs = Variable(inputs.cuda())\n",
    "            labels = Variable(labels.cuda())\n",
    "            # calculate loss and output\n",
    "            outputs = model(inputs)\n",
    "            _, preds = torch.max(outputs.data, 1)\n",
    "            loss = criterion(outputs, labels.squeeze())\n",
    "            # clear gradients\n",
    "            optimizer.zero_grad()\n",
    "            # update weights\n",
    "            loss.backward()\n",
    "            optimizer.step()\n",
    "            # track losses\n",
    "            calc_loss += loss.data[0]\n",
    "            calc_correct += torch.sum(preds == labels.squeeze().data)\n",
    "        # evaluate\n",
    "        count = len(trainloader.dataset)\n",
    "        print('----------------')\n",
    "        print('epoch:', epoch)\n",
    "        print('run loss:', (round(calc_loss/count, 4), round(calc_correct/count, 4)))\n",
    "        print('train loss:', score(model, evalloader))\n",
    "        print('valid loss:', score(model, validloader))\n",
    "        print('----------------')     \n",
    "    return model"
   ]
  },
  {
   "cell_type": "code",
   "execution_count": 8,
   "metadata": {
    "collapsed": true
   },
   "outputs": [],
   "source": [
    "def adjust_lr(optimizer, value):\n",
    "    for param_group in optimizer.param_groups:\n",
    "        param_group['lr'] = value\n",
    "    return optimizer"
   ]
  },
  {
   "cell_type": "markdown",
   "metadata": {},
   "source": [
    "### execution"
   ]
  },
  {
   "cell_type": "code",
   "execution_count": 12,
   "metadata": {},
   "outputs": [
    {
     "data": {
      "text/plain": [
       "resnet (\n",
       "  (dense1): Linear (2048 -> 500)\n",
       "  (dropout): Dropout (p = 0.33)\n",
       "  (batchnorm): BatchNorm1d(500, eps=1e-05, momentum=0.1, affine=True)\n",
       "  (dense2): Linear (500 -> 12)\n",
       ")"
      ]
     },
     "execution_count": 12,
     "metadata": {},
     "output_type": "execute_result"
    }
   ],
   "source": [
    "model"
   ]
  },
  {
   "cell_type": "code",
   "execution_count": 13,
   "metadata": {},
   "outputs": [
    {
     "name": "stdout",
     "output_type": "stream",
     "text": [
      "----------------\n",
      "epoch: 0\n",
      "run loss: (0.2033, 0.139)\n",
      "train loss: (0.1992, 0.1681)\n",
      "valid loss: (0.0385, 0.1217)\n",
      "----------------\n"
     ]
    }
   ],
   "source": [
    "optimizer = adjust_lr(optimizer, 0.0001)\n",
    "model = train(train_resnet, train_resnet, valid_resnet, 1)"
   ]
  },
  {
   "cell_type": "code",
   "execution_count": null,
   "metadata": {},
   "outputs": [],
   "source": [
    "optimizer = adjust_lr(optimizer, 0.0005)\n",
    "model = train(train_resnet, train_resnet, valid_resnet, 1)"
   ]
  },
  {
   "cell_type": "code",
   "execution_count": null,
   "metadata": {},
   "outputs": [],
   "source": [
    "optimizer = adjust_lr(optimizer, 0.0001)\n",
    "model = train(train_resnet, train_resnet, valid_resnet, 2)"
   ]
  },
  {
   "cell_type": "code",
   "execution_count": null,
   "metadata": {},
   "outputs": [],
   "source": [
    "optimizer = adjust_lr(optimizer, 0.00005)\n",
    "model = train(train_resnet, train_resnet, valid_resnet, 2)"
   ]
  },
  {
   "cell_type": "code",
   "execution_count": null,
   "metadata": {},
   "outputs": [],
   "source": [
    "optimizer = adjust_lr(optimizer, 0.00001)\n",
    "model = train(train_resnet, train_resnet, valid_resnet, 2)"
   ]
  },
  {
   "cell_type": "code",
   "execution_count": null,
   "metadata": {
    "collapsed": true
   },
   "outputs": [],
   "source": []
  }
 ],
 "metadata": {
  "kernelspec": {
   "display_name": "Python 3",
   "language": "python",
   "name": "python3"
  },
  "language_info": {
   "codemirror_mode": {
    "name": "ipython",
    "version": 3
   },
   "file_extension": ".py",
   "mimetype": "text/x-python",
   "name": "python",
   "nbconvert_exporter": "python",
   "pygments_lexer": "ipython3",
   "version": "3.6.3"
  }
 },
 "nbformat": 4,
 "nbformat_minor": 2
}
