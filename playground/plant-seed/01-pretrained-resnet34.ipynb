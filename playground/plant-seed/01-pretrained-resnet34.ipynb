{
 "cells": [
  {
   "cell_type": "code",
   "execution_count": 6,
   "metadata": {
    "collapsed": true
   },
   "outputs": [],
   "source": [
    "import torch\n",
    "import torchvision\n",
    "from torch.autograd import Variable\n",
    "import numpy as np\n",
    "import matplotlib.pyplot as plt\n",
    "%matplotlib inline"
   ]
  },
  {
   "cell_type": "markdown",
   "metadata": {},
   "source": [
    "### data loader"
   ]
  },
  {
   "cell_type": "code",
   "execution_count": 2,
   "metadata": {},
   "outputs": [],
   "source": [
    "transforms = []\n",
    "transforms += [torchvision.transforms.Resize(224)]\n",
    "transforms += [torchvision.transforms.RandomCrop(200)]\n",
    "transforms += [torchvision.transforms.RandomHorizontalFlip()]\n",
    "transforms += [torchvision.transforms.RandomVerticalFlip()]\n",
    "transforms += [torchvision.transforms.RandomRotation(degrees=25)]\n",
    "transforms += [torchvision.transforms.ToTensor()]\n",
    "transforms += [torchvision.transforms.Normalize(mean=[0.485, 0.456, 0.406], std=[0.229, 0.224, 0.225])]\n",
    "transforms = torchvision.transforms.Compose(transforms)\n",
    "\n",
    "trainset = torchvision.datasets.ImageFolder(root='../../data/plant-seed/valid/', transform=transforms)\n",
    "validset = torchvision.datasets.ImageFolder(root='../../data/plant-seed/valid/', transform=None)"
   ]
  },
  {
   "cell_type": "markdown",
   "metadata": {},
   "source": [
    "### resnet-34"
   ]
  },
  {
   "cell_type": "code",
   "execution_count": 3,
   "metadata": {},
   "outputs": [],
   "source": [
    "model = torchvision.models.resnet50(pretrained=True)\n",
    "\n",
    "for param in model.parameters():\n",
    "    param.requires_grad = False    \n",
    "\n",
    "model.fc = torch.nn.Linear(2048, 12)"
   ]
  },
  {
   "cell_type": "markdown",
   "metadata": {},
   "source": [
    "### optimal learning rate"
   ]
  },
  {
   "cell_type": "code",
   "execution_count": 4,
   "metadata": {},
   "outputs": [],
   "source": [
    "trainloader = torch.utils.data.DataLoader(trainset, batch_size=16, shuffle=True, num_workers=4)\n",
    "learning_rates = [10**x/100000000 for x in range(0,10)]\n",
    "criterion = torch.nn.CrossEntropyLoss()\n",
    "optimizer= torch.optim.Adam(filter(lambda p: p.requires_grad, model.parameters()), lr=0.001)"
   ]
  },
  {
   "cell_type": "code",
   "execution_count": 5,
   "metadata": {},
   "outputs": [],
   "source": [
    "losses = []\n",
    "\n",
    "for learning_rate in learning_rates:\n",
    "    # assign learning rate\n",
    "    for param_group in optimizer.param_groups:\n",
    "        param_group['lr'] = learning_rate\n",
    "    # read data\n",
    "    for i in range(6):\n",
    "        _loss = 0.0 \n",
    "        inputs, labels = next(iter(trainloader))\n",
    "        if torch.cuda.is_available():\n",
    "            inputs = Variable(inputs.cuda())\n",
    "            labels = Variable(labels.cuda())\n",
    "        else:\n",
    "            inputs = Variable(inputs)\n",
    "            labels = Variable(labels)\n",
    "\n",
    "        # calculate loss and output\n",
    "        outputs = model(inputs)\n",
    "        loss = criterion(outputs, labels)\n",
    "        # update weights\n",
    "        optimizer.zero_grad()\n",
    "        loss.backward()\n",
    "        optimizer.step()\n",
    "        _loss += loss.data[0]\n",
    "    losses.append(_loss)\n",
    "    \n",
    "plt.figure(figsize=(10,5))\n",
    "plt.plot(losses)\n",
    "plt.xticks(range(len(losses)), learning_rates[:3])\n",
    "plt.title('LR vs Loss')\n",
    "plt.show()"
   ]
  },
  {
   "cell_type": "markdown",
   "metadata": {},
   "source": [
    "### tune model"
   ]
  },
  {
   "cell_type": "code",
   "execution_count": null,
   "metadata": {
    "collapsed": true
   },
   "outputs": [],
   "source": [
    "trainloader = torch.utils.data.DataLoader(trainset, batch_size=16, shuffle=True, num_workers=4)\n",
    "learning_rates = [10**x/100000000 for x in range(0,10)]\n",
    "criterion = torch.nn.CrossEntropyLoss()\n",
    "optimizer= torch.optim.Adam(filter(lambda p: p.requires_grad, model.parameters()), lr=0.001)\n",
    "trainloader = torch.utils.data.DataLoader(trainset, batch_size=16, shuffle=True, num_workers=4)\n",
    "validloader = torch.utils.data.DataLoader(validset, batch_size=16, shuffle=True, num_workers=4)"
   ]
  },
  {
   "cell_type": "code",
   "execution_count": null,
   "metadata": {
    "collapsed": true
   },
   "outputs": [],
   "source": [
    "def score(model, dataloader):\n",
    "    calc_loss = 0.\n",
    "    calc_accuracy = 0.\n",
    "    for data in dataloader: \n",
    "            inputs, labels = data\n",
    "            if torch.cuda.is_available():\n",
    "                inputs = Variable(inputs.cuda())\n",
    "                labels = Variable(labels.cuda())\n",
    "            else:\n",
    "                inputs = Variable(inputs)\n",
    "                labels = Variable(labels)\n",
    "            outputs = model(inputs)\n",
    "            loss = criterion(outputs, labels)\n",
    "            calc_loss = loss.data[0]\n",
    "            \n",
    "            \n",
    "def train(trainloader, validloader, epochs, interval):\n",
    "    for epoch in range(10):\n",
    "        # read data\n",
    "        loss = 10\n",
    "        for data in trainloader: \n",
    "            inputs, labels = data\n",
    "            if torch.cuda.is_available():\n",
    "                inputs = Variable(inputs.cuda())\n",
    "                labels = Variable(labels.cuda())\n",
    "            else:\n",
    "                inputs = Variable(inputs)\n",
    "                labels = Variable(labels)\n",
    "            # calculate loss and output\n",
    "            outputs = model(inputs)\n",
    "            loss = criterion(outputs, labels)\n",
    "            # update weights\n",
    "            optimizer.zero_grad()\n",
    "            loss.backward()\n",
    "            optimizer.step()\n",
    "        if epoch % interval == 0:\n",
    "            \n",
    "        return model"
   ]
  }
 ],
 "metadata": {
  "kernelspec": {
   "display_name": "Python 3",
   "language": "python",
   "name": "python3"
  },
  "language_info": {
   "codemirror_mode": {
    "name": "ipython",
    "version": 3
   },
   "file_extension": ".py",
   "mimetype": "text/x-python",
   "name": "python",
   "nbconvert_exporter": "python",
   "pygments_lexer": "ipython3",
   "version": "3.6.3"
  }
 },
 "nbformat": 4,
 "nbformat_minor": 2
}
