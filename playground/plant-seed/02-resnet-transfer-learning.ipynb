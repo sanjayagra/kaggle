{
 "cells": [
  {
   "cell_type": "code",
   "execution_count": 1,
   "metadata": {},
   "outputs": [
    {
     "name": "stdout",
     "output_type": "stream",
     "text": [
      "cuda: True\n"
     ]
    }
   ],
   "source": [
    "import torch\n",
    "import torchvision\n",
    "from torch.autograd import Variable\n",
    "import numpy as np\n",
    "import matplotlib.pyplot as plt\n",
    "import itertools\n",
    "from functools import partial\n",
    "\n",
    "%matplotlib inline\n",
    "\n",
    "print('cuda:', torch.cuda.is_available())"
   ]
  },
  {
   "cell_type": "markdown",
   "metadata": {},
   "source": [
    "The code has been referenced from the follwing post :-\n",
    "http://pytorch.org/tutorials/beginner/transfer_learning_tutorial.html"
   ]
  },
  {
   "cell_type": "markdown",
   "metadata": {},
   "source": [
    "### data loader"
   ]
  },
  {
   "cell_type": "code",
   "execution_count": 2,
   "metadata": {
    "collapsed": true
   },
   "outputs": [],
   "source": [
    "transforms = []\n",
    "transforms += [torchvision.transforms.Resize(224)]\n",
    "transforms += [torchvision.transforms.RandomCrop(200)]\n",
    "transforms += [torchvision.transforms.RandomHorizontalFlip()]\n",
    "transforms += [torchvision.transforms.RandomVerticalFlip()]\n",
    "transforms += [torchvision.transforms.RandomRotation(degrees=20)]\n",
    "transforms += [torchvision.transforms.ToTensor()]\n",
    "transforms += [torchvision.transforms.Normalize(mean=[0.485, 0.456, 0.406], std=[0.229, 0.224, 0.225])]\n",
    "transforms = torchvision.transforms.Compose(transforms)\n",
    "trainset = torchvision.datasets.ImageFolder(root='../../data/plant-seed/data/train/', transform=transforms)"
   ]
  },
  {
   "cell_type": "code",
   "execution_count": 3,
   "metadata": {
    "collapsed": true
   },
   "outputs": [],
   "source": [
    "transforms = []\n",
    "transforms += [torchvision.transforms.Resize(224)]\n",
    "transforms += [torchvision.transforms.CenterCrop(200)]\n",
    "transforms += [torchvision.transforms.ToTensor()]\n",
    "transforms += [torchvision.transforms.Normalize(mean=[0.485, 0.456, 0.406], std=[0.229, 0.224, 0.225])]\n",
    "transforms = torchvision.transforms.Compose(transforms)\n",
    "evalset = torchvision.datasets.ImageFolder(root='../../data/plant-seed/data/train/', transform=transforms)"
   ]
  },
  {
   "cell_type": "code",
   "execution_count": 4,
   "metadata": {
    "collapsed": true
   },
   "outputs": [],
   "source": [
    "transforms = []\n",
    "transforms += [torchvision.transforms.Resize(224)]\n",
    "transforms += [torchvision.transforms.CenterCrop(200)]\n",
    "transforms += [torchvision.transforms.ToTensor()]\n",
    "transforms += [torchvision.transforms.Normalize(mean=[0.485, 0.456, 0.406], std=[0.229, 0.224, 0.225])]\n",
    "transforms = torchvision.transforms.Compose(transforms)\n",
    "validset = torchvision.datasets.ImageFolder(root='../../data/plant-seed/data/valid/', transform=transforms)"
   ]
  },
  {
   "cell_type": "markdown",
   "metadata": {},
   "source": [
    "### fine-tune model"
   ]
  },
  {
   "cell_type": "code",
   "execution_count": 5,
   "metadata": {
    "collapsed": true
   },
   "outputs": [],
   "source": [
    "model = torchvision.models.resnet18(pretrained=True)\n",
    "model.fc = torch.nn.Linear(512, 12)\n",
    "model = model.cuda()\n",
    "criterion = torch.nn.CrossEntropyLoss()\n",
    "optimizer = torch.optim.Adam(model.parameters(), lr=1e-4, weight_decay=0.)"
   ]
  },
  {
   "cell_type": "code",
   "execution_count": 6,
   "metadata": {
    "collapsed": true
   },
   "outputs": [],
   "source": [
    "def score(model, dataloader):\n",
    "    \n",
    "    # initital values\n",
    "    calc_loss = 0.\n",
    "    calc_correct = 0.\n",
    "    calc_count = 0.\n",
    "    \n",
    "    for data in dataloader: \n",
    "        # next batch\n",
    "        inputs, labels = data\n",
    "        inputs = Variable(inputs.cuda())\n",
    "        labels = Variable(labels.cuda())\n",
    "        \n",
    "        # model scores\n",
    "        outputs = model(inputs)\n",
    "        _, preds = torch.max(outputs.data, 1)\n",
    "        loss = criterion(outputs, labels)\n",
    "        \n",
    "        # sum the loss and accuracy\n",
    "        calc_loss += loss.data[0]\n",
    "        calc_correct += torch.sum(preds == labels.data)\n",
    "        calc_count += outputs.data.shape[0]     \n",
    "        \n",
    "    return round(calc_loss/calc_count, 4), round(calc_correct/calc_count, 4)"
   ]
  },
  {
   "cell_type": "code",
   "execution_count": 7,
   "metadata": {
    "collapsed": true
   },
   "outputs": [],
   "source": [
    "def train(trainloader, evalloader, validloader, epochs):\n",
    "    \n",
    "    for epoch in range(epochs):\n",
    "        # initial values\n",
    "        calc_loss = 0.\n",
    "        calc_correct = 0.\n",
    "        calc_count = 0.\n",
    "        \n",
    "        # read data\n",
    "        for data in trainloader: \n",
    "            inputs, labels = data\n",
    "            inputs = Variable(inputs.cuda())\n",
    "            labels = Variable(labels.cuda())\n",
    "            # calculate loss and output\n",
    "            outputs = model(inputs)\n",
    "            _, preds = torch.max(outputs.data, 1)\n",
    "            loss = criterion(outputs, labels)\n",
    "            # clear gradients\n",
    "            optimizer.zero_grad()\n",
    "            # update weights\n",
    "            loss.backward()\n",
    "            optimizer.step()\n",
    "            # track losses\n",
    "            calc_loss += loss.data[0]\n",
    "            calc_correct += torch.sum(preds == labels.data)\n",
    "            calc_count += outputs.data.shape[0]\n",
    "            \n",
    "        # evaluate\n",
    "        print('----------------')\n",
    "        print('epoch:', epoch)\n",
    "        print('run loss:', (round(calc_loss/calc_count, 4), round(calc_correct/calc_count, 4)))\n",
    "        print('train loss:', score(model, evalloader))\n",
    "        print('valid loss:', score(model, validloader))\n",
    "        print('----------------')\n",
    "            \n",
    "    return model"
   ]
  },
  {
   "cell_type": "code",
   "execution_count": 8,
   "metadata": {
    "collapsed": true
   },
   "outputs": [],
   "source": [
    "def adjust_lr(optimizer, value):\n",
    "    for param_group in optimizer.param_groups:\n",
    "        param_group['lr'] = value\n",
    "    return optimizer"
   ]
  },
  {
   "cell_type": "markdown",
   "metadata": {},
   "source": [
    "### execution"
   ]
  },
  {
   "cell_type": "code",
   "execution_count": 9,
   "metadata": {
    "collapsed": true
   },
   "outputs": [],
   "source": [
    "train_loader = torch.utils.data.DataLoader(trainset, batch_size=16, shuffle=True, num_workers=4)\n",
    "eval_loader  = torch.utils.data.DataLoader(evalset, batch_size=64, shuffle=False, num_workers=4)\n",
    "valid_loader = torch.utils.data.DataLoader(validset, batch_size=64, shuffle=False, num_workers=4)"
   ]
  },
  {
   "cell_type": "code",
   "execution_count": 10,
   "metadata": {},
   "outputs": [
    {
     "name": "stdout",
     "output_type": "stream",
     "text": [
      "----------------\n",
      "epoch: 0\n",
      "run loss: (0.0487, 0.746)\n",
      "train loss: (0.0547, 0.1535)\n",
      "valid loss: (0.0399, 0.3453)\n",
      "----------------\n",
      "----------------\n",
      "epoch: 1\n",
      "run loss: (0.0191, 0.898)\n",
      "train loss: (0.0605, 0.1593)\n",
      "valid loss: (0.043, 0.3653)\n",
      "----------------\n",
      "----------------\n",
      "epoch: 2\n",
      "run loss: (0.015, 0.9185)\n",
      "train loss: (0.0613, 0.1547)\n",
      "valid loss: (0.0439, 0.368)\n",
      "----------------\n",
      "----------------\n",
      "epoch: 3\n",
      "run loss: (0.0122, 0.933)\n",
      "train loss: (0.064, 0.1713)\n",
      "valid loss: (0.0445, 0.3787)\n",
      "----------------\n",
      "----------------\n",
      "epoch: 4\n",
      "run loss: (0.0108, 0.942)\n",
      "train loss: (0.066, 0.1705)\n",
      "valid loss: (0.0458, 0.3747)\n",
      "----------------\n"
     ]
    }
   ],
   "source": [
    "model = train(train_loader, eval_loader, valid_loader, 5)"
   ]
  },
  {
   "cell_type": "code",
   "execution_count": 11,
   "metadata": {},
   "outputs": [
    {
     "name": "stdout",
     "output_type": "stream",
     "text": [
      "----------------\n",
      "epoch: 0\n",
      "run loss: (0.0075, 0.9613)\n",
      "train loss: (0.065, 0.1742)\n",
      "valid loss: (0.044, 0.4107)\n",
      "----------------\n",
      "----------------\n",
      "epoch: 1\n",
      "run loss: (0.0063, 0.9667)\n",
      "train loss: (0.0635, 0.1797)\n",
      "valid loss: (0.0432, 0.424)\n",
      "----------------\n",
      "----------------\n",
      "epoch: 2\n",
      "run loss: (0.0059, 0.9673)\n",
      "train loss: (0.0635, 0.1722)\n",
      "valid loss: (0.0418, 0.412)\n",
      "----------------\n",
      "----------------\n",
      "epoch: 3\n",
      "run loss: (0.0054, 0.97)\n",
      "train loss: (0.0641, 0.1755)\n",
      "valid loss: (0.0421, 0.4187)\n",
      "----------------\n",
      "----------------\n",
      "epoch: 4\n",
      "run loss: (0.0047, 0.9748)\n",
      "train loss: (0.0658, 0.1782)\n",
      "valid loss: (0.0437, 0.424)\n",
      "----------------\n"
     ]
    }
   ],
   "source": [
    "optimzer = adjust_lr(optimizer, 0.00005)\n",
    "model = train(train_loader, eval_loader, valid_loader, 5)"
   ]
  },
  {
   "cell_type": "code",
   "execution_count": 12,
   "metadata": {},
   "outputs": [
    {
     "name": "stdout",
     "output_type": "stream",
     "text": [
      "----------------\n",
      "epoch: 0\n",
      "run loss: (0.0035, 0.9812)\n",
      "train loss: (0.065, 0.1755)\n",
      "valid loss: (0.043, 0.4173)\n",
      "----------------\n",
      "----------------\n",
      "epoch: 1\n",
      "run loss: (0.0031, 0.9878)\n",
      "train loss: (0.0646, 0.177)\n",
      "valid loss: (0.0426, 0.42)\n",
      "----------------\n",
      "----------------\n",
      "epoch: 2\n",
      "run loss: (0.003, 0.9865)\n",
      "train loss: (0.0646, 0.1742)\n",
      "valid loss: (0.0428, 0.424)\n",
      "----------------\n",
      "----------------\n",
      "epoch: 3\n",
      "run loss: (0.0024, 0.9905)\n",
      "train loss: (0.0645, 0.179)\n",
      "valid loss: (0.0426, 0.432)\n",
      "----------------\n",
      "----------------\n",
      "epoch: 4\n",
      "run loss: (0.0026, 0.9898)\n",
      "train loss: (0.0643, 0.1782)\n",
      "valid loss: (0.0425, 0.432)\n",
      "----------------\n"
     ]
    }
   ],
   "source": [
    "optimzer = adjust_lr(optimizer, 0.00001)\n",
    "model = train(train_loader, eval_loader, valid_loader, 5)"
   ]
  },
  {
   "cell_type": "code",
   "execution_count": 9,
   "metadata": {},
   "outputs": [
    {
     "name": "stdout",
     "output_type": "stream",
     "text": [
      "\n",
      "( 0 , 0 ,.,.) = \n",
      " -0.4568 -0.3541 -0.4054  ...  -0.4054 -0.3883 -0.4054\n",
      " -0.3198 -0.2856 -0.4226  ...  -0.2513 -0.1999 -0.2856\n",
      " -0.4226 -0.3712 -0.4226  ...  -0.1999 -0.2171 -0.3027\n",
      "           ...             ⋱             ...          \n",
      " -0.9363 -0.9877 -1.0048  ...  -0.3883 -0.3883 -0.4568\n",
      " -1.0390 -1.0733 -1.1075  ...  -0.3883 -0.4226 -0.4226\n",
      " -1.0562 -1.2103 -1.1075  ...  -0.3883 -0.3712 -0.4054\n",
      "\n",
      "( 0 , 1 ,.,.) = \n",
      " -0.6527 -0.5476 -0.5826  ...  -0.5651 -0.5301 -0.4776\n",
      " -0.5126 -0.4776 -0.6001  ...  -0.4776 -0.4426 -0.4426\n",
      " -0.6001 -0.5651 -0.6001  ...  -0.4601 -0.4776 -0.5476\n",
      "           ...             ⋱             ...          \n",
      " -1.1429 -1.2129 -1.1779  ...  -0.6176 -0.5826 -0.6527\n",
      " -1.2829 -1.3354 -1.3179  ...  -0.6527 -0.6176 -0.6176\n",
      " -1.3004 -1.4755 -1.3354  ...  -0.6527 -0.5476 -0.5826\n",
      "\n",
      "( 0 , 2 ,.,.) = \n",
      " -0.8633 -0.7413 -0.7413  ...  -0.7413 -0.7064 -0.6541\n",
      " -0.7413 -0.7064 -0.8110  ...  -0.6193 -0.6018 -0.6541\n",
      " -0.7761 -0.8284 -0.8633  ...  -0.5844 -0.6018 -0.7064\n",
      "           ...             ⋱             ...          \n",
      " -1.2293 -1.2467 -1.1770  ...  -0.7413 -0.7413 -0.8284\n",
      " -1.3164 -1.2990 -1.2467  ...  -0.7761 -0.7936 -0.8110\n",
      " -1.3339 -1.4210 -1.2293  ...  -0.7936 -0.7238 -0.7587\n",
      "      ⋮  \n",
      "\n",
      "( 1 , 0 ,.,.) = \n",
      " -1.1589 -0.8507 -0.6794  ...   0.5193  0.5193  0.4337\n",
      " -0.9363 -0.3198 -0.4397  ...   0.5536  0.5364  0.5193\n",
      " -0.6281 -0.5767 -0.6109  ...   0.4851  0.4851  0.4851\n",
      "           ...             ⋱             ...          \n",
      " -1.1418 -0.9363 -0.7822  ...  -1.4843 -1.2788 -0.9705\n",
      " -0.9705 -0.8507 -0.9705  ...  -1.3815 -1.3473 -1.2959\n",
      " -1.1418 -1.0562 -0.9705  ...  -1.2617 -1.3644 -1.3815\n",
      "\n",
      "( 1 , 1 ,.,.) = \n",
      " -1.0028 -0.7752 -0.7052  ...   0.6254  0.6254  0.5728\n",
      " -0.8627 -0.2850 -0.6352  ...   0.6429  0.6078  0.5903\n",
      " -0.6877 -0.7052 -0.7227  ...   0.6078  0.5903  0.5728\n",
      "           ...             ⋱             ...          \n",
      " -1.4230 -1.2829 -1.1078  ...  -1.1078 -0.9153 -0.7927\n",
      " -1.2479 -1.0903 -1.2129  ...  -0.9853 -1.0028 -0.9853\n",
      " -1.3880 -1.3179 -1.1779  ...  -0.9328 -0.9853 -1.0728\n",
      "\n",
      "( 1 , 2 ,.,.) = \n",
      " -1.2293 -0.9678 -0.8981  ...   0.7925  0.8099  0.7576\n",
      " -0.9678 -0.3753 -0.7064  ...   0.8274  0.7925  0.7925\n",
      " -0.7238 -0.7238 -0.6890  ...   0.7925  0.7925  0.8099\n",
      "           ...             ⋱             ...          \n",
      " -1.4384 -1.3513 -1.1770  ...  -1.6650 -1.3339 -1.0201\n",
      " -1.2816 -1.1770 -1.3687  ...  -1.4907 -1.4733 -1.3687\n",
      " -1.4210 -1.4733 -1.3164  ...  -1.2816 -1.3861 -1.4907\n",
      "      ⋮  \n",
      "\n",
      "( 2 , 0 ,.,.) = \n",
      "  0.8276  0.8961  0.8447  ...   0.8961  0.7419  0.9303\n",
      "  0.7591  0.9988  0.8789  ...   0.9646  0.9132  0.9303\n",
      "  0.6734  0.7591  0.8447  ...   0.9817  0.8789  0.9474\n",
      "           ...             ⋱             ...          \n",
      " -1.0219 -1.1247 -1.3302  ...  -1.6727 -1.6213 -1.5699\n",
      " -1.2788 -1.1075 -1.3130  ...  -1.6213 -1.6213 -1.7412\n",
      " -1.0733 -1.1247 -1.3473  ...  -1.6898 -1.7754 -1.6898\n",
      "\n",
      "( 2 , 1 ,.,.) = \n",
      "  0.9405  1.0630  0.9930  ...   1.0805  0.9230  1.0980\n",
      "  0.9055  1.1681  1.0105  ...   1.1681  1.0455  1.0455\n",
      "  0.8354  0.9055  0.9930  ...   1.1506  1.0105  1.0630\n",
      "           ...             ⋱             ...          \n",
      " -1.2304 -1.3354 -1.4230  ...  -1.7206 -1.6506 -1.6331\n",
      " -1.4755 -1.3004 -1.4230  ...  -1.6681 -1.6506 -1.8606\n",
      " -1.2479 -1.2654 -1.4580  ...  -1.7381 -1.8606 -1.7381\n",
      "\n",
      "( 2 , 2 ,.,.) = \n",
      "  1.2631  1.3677  1.2805  ...   1.3677  1.2108  1.3851\n",
      "  1.1585  1.4897  1.3154  ...   1.4200  1.3154  1.3154\n",
      "  1.0714  1.2282  1.2980  ...   1.4025  1.2631  1.3328\n",
      "           ...             ⋱             ...          \n",
      " -1.1944 -1.3164 -1.3687  ...  -1.5081 -1.4210 -1.4210\n",
      " -1.4559 -1.2293 -1.2816  ...  -1.4733 -1.4384 -1.5953\n",
      " -1.2119 -1.1770 -1.2816  ...  -1.5604 -1.6476 -1.5081\n",
      "...     \n",
      "      ⋮  \n",
      "\n",
      "(61 , 0 ,.,.) = \n",
      " -0.5596 -0.9877 -1.0390  ...  -0.8849 -1.0733 -1.2445\n",
      " -0.7479 -1.0048 -1.0733  ...  -0.9020 -0.9534 -1.0048\n",
      " -0.9192 -1.0562 -1.1075  ...  -0.9192 -0.8164 -0.7993\n",
      "           ...             ⋱             ...          \n",
      " -1.2445 -1.1589 -0.8164  ...  -0.8335 -0.7308 -0.6623\n",
      " -0.9705 -1.0048 -0.7479  ...  -0.7650 -0.7308 -0.7137\n",
      " -0.6452 -0.6452 -0.6623  ...  -0.7137 -0.7308 -0.7137\n",
      "\n",
      "(61 , 1 ,.,.) = \n",
      " -0.4426 -0.9153 -0.9853  ...  -0.7752 -0.9678 -1.1604\n",
      " -0.6176 -0.9153 -1.0203  ...  -0.7752 -0.8277 -0.9153\n",
      " -0.7752 -0.9678 -1.0378  ...  -0.8102 -0.7052 -0.6877\n",
      "           ...             ⋱             ...          \n",
      " -1.3704 -1.2654 -0.8803  ...  -0.8803 -0.7752 -0.7052\n",
      " -1.1253 -1.1429 -0.8277  ...  -0.8102 -0.7752 -0.7752\n",
      " -0.7577 -0.7402 -0.7402  ...  -0.7577 -0.7752 -0.7752\n",
      "\n",
      "(61 , 2 ,.,.) = \n",
      " -0.1661 -0.6541 -0.7238  ...  -0.4624 -0.6890 -0.8807\n",
      " -0.3404 -0.6715 -0.7413  ...  -0.4624 -0.5495 -0.6367\n",
      " -0.4973 -0.7064 -0.7936  ...  -0.4798 -0.4101 -0.4450\n",
      "           ...             ⋱             ...          \n",
      " -1.2119 -1.1247 -0.7413  ...  -0.9678 -0.8284 -0.7413\n",
      " -1.0027 -1.0201 -0.7064  ...  -0.9156 -0.8284 -0.8110\n",
      " -0.6541 -0.6193 -0.6193  ...  -0.8807 -0.8633 -0.8458\n",
      "      ⋮  \n",
      "\n",
      "(62 , 0 ,.,.) = \n",
      " -0.6281 -0.6281 -0.6281  ...  -1.3302 -1.3302 -1.3473\n",
      " -0.6109 -0.6281 -0.6281  ...  -1.3302 -1.3302 -1.3473\n",
      " -0.6109 -0.6281 -0.6281  ...  -1.3302 -1.3302 -1.3473\n",
      "           ...             ⋱             ...          \n",
      " -1.2959 -1.3130 -1.3130  ...  -0.6623 -0.6623 -0.5596\n",
      " -1.2959 -1.3130 -1.3130  ...  -0.6623 -0.6623 -0.5596\n",
      " -1.3302 -1.3473 -1.3473  ...  -0.6623 -0.6623 -0.6965\n",
      "\n",
      "(62 , 1 ,.,.) = \n",
      " -0.7402 -0.7402 -0.7402  ...  -1.4230 -1.4230 -1.4405\n",
      " -0.7227 -0.7227 -0.7227  ...  -1.4405 -1.4405 -1.4405\n",
      " -0.7227 -0.7227 -0.7227  ...  -1.4405 -1.4405 -1.4405\n",
      "           ...             ⋱             ...          \n",
      " -1.2654 -1.3004 -1.3004  ...  -0.9328 -0.9328 -0.8452\n",
      " -1.2654 -1.3004 -1.3004  ...  -0.9328 -0.9328 -0.8452\n",
      " -1.3004 -1.3529 -1.3529  ...  -0.9328 -0.9328 -1.0028\n",
      "\n",
      "(62 , 2 ,.,.) = \n",
      " -0.7936 -0.7936 -0.7936  ...  -1.2293 -1.2293 -1.2467\n",
      " -0.7761 -0.7761 -0.7761  ...  -1.2641 -1.2641 -1.2641\n",
      " -0.7761 -0.7761 -0.7761  ...  -1.2641 -1.2641 -1.2641\n",
      "           ...             ⋱             ...          \n",
      " -0.9853 -1.0201 -1.0201  ...  -1.0201 -1.0201 -0.8981\n",
      " -0.9853 -1.0201 -1.0201  ...  -1.0201 -1.0201 -0.8981\n",
      " -1.0201 -1.0724 -1.0724  ...  -1.0201 -1.0201 -1.0724\n",
      "      ⋮  \n",
      "\n",
      "(63 , 0 ,.,.) = \n",
      " -0.7650 -0.7308 -0.7308  ...  -0.7993 -0.8678 -0.8335\n",
      " -0.8507 -0.8849 -0.7822  ...  -0.8164 -0.8678 -0.8164\n",
      " -0.8335 -0.7993 -0.9363  ...  -0.7650 -0.7479 -0.7822\n",
      "           ...             ⋱             ...          \n",
      " -0.6452 -0.6623 -0.7308  ...  -0.0801 -0.0972 -0.0629\n",
      " -0.6452 -0.6794 -0.7137  ...  -0.0458 -0.0629 -0.0801\n",
      " -0.6281 -0.6109 -0.7137  ...  -0.0116 -0.0287  0.0227\n",
      "\n",
      "(63 , 1 ,.,.) = \n",
      " -0.9328 -0.9328 -0.9853  ...  -1.0728 -1.0728 -1.0028\n",
      " -1.0028 -1.0553 -0.9503  ...  -1.0903 -1.0728 -1.0028\n",
      " -0.9503 -0.9153 -1.1078  ...  -0.9853 -0.9328 -1.0028\n",
      "           ...             ⋱             ...          \n",
      " -1.0553 -1.0553 -1.1429  ...  -0.0749 -0.0399 -0.0224\n",
      " -1.0728 -1.0903 -1.1429  ...  -0.1099 -0.0924 -0.0399\n",
      " -1.1078 -1.0728 -1.1779  ...  -0.1099 -0.1099  0.0301\n",
      "\n",
      "(63 , 2 ,.,.) = \n",
      " -0.8807 -0.8807 -0.9678  ...  -1.0550 -1.0550 -1.0201\n",
      " -0.9678 -1.0376 -0.9330  ...  -1.0550 -1.0550 -1.0027\n",
      " -0.8981 -0.8807 -1.0724  ...  -0.9853 -0.9504 -1.0550\n",
      "           ...             ⋱             ...          \n",
      " -1.1770 -1.1596 -1.2816  ...  -0.1312 -0.1312 -0.0790\n",
      " -1.2641 -1.2467 -1.2990  ...  -0.1312 -0.1138 -0.0615\n",
      " -1.3339 -1.2641 -1.3861  ...  -0.0790 -0.1138  0.0256\n",
      "[torch.FloatTensor of size 64x3x200x200]\n",
      "\n"
     ]
    }
   ],
   "source": [
    "for data in valid_loader:\n",
    "    print(data[0])\n",
    "    break"
   ]
  },
  {
   "cell_type": "code",
   "execution_count": null,
   "metadata": {
    "collapsed": true
   },
   "outputs": [],
   "source": []
  }
 ],
 "metadata": {
  "kernelspec": {
   "display_name": "Python 3",
   "language": "python",
   "name": "python3"
  },
  "language_info": {
   "codemirror_mode": {
    "name": "ipython",
    "version": 3
   },
   "file_extension": ".py",
   "mimetype": "text/x-python",
   "name": "python",
   "nbconvert_exporter": "python",
   "pygments_lexer": "ipython3",
   "version": "3.6.3"
  }
 },
 "nbformat": 4,
 "nbformat_minor": 2
}
